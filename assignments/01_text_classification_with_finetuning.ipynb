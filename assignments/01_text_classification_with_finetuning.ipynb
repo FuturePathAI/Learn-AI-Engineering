{
 "cells": [
  {
   "cell_type": "markdown",
   "metadata": {},
   "source": [
    "### Text-Classification with RAG Base LLM Model"
   ]
  },
  {
   "cell_type": "code",
   "execution_count": 80,
   "metadata": {},
   "outputs": [],
   "source": [
    "from qdrant_client import QdrantClient\n",
    "from sentence_transformers import SentenceTransformer\n",
    "from qdrant_client.http import models\n",
    "import pandas as pd\n",
    "from tenacity import (\n",
    "    retry,\n",
    "    stop_after_attempt,\n",
    "    wait_fixed,\n",
    ")\n",
    "from pydantic import BaseModel\n",
    "import instructor\n",
    "import openai\n",
    "from dotenv import load_dotenv\n",
    "import os\n",
    "from sklearn.model_selection import train_test_split\n",
    "import time"
   ]
  },
  {
   "cell_type": "code",
   "execution_count": 36,
   "metadata": {},
   "outputs": [
    {
     "name": "stderr",
     "output_type": "stream",
     "text": [
      "/Users/abcom/.pyenv/versions/3.11.0/envs/learn-ai/lib/python3.11/site-packages/huggingface_hub/file_download.py:1132: FutureWarning: `resume_download` is deprecated and will be removed in version 1.0.0. Downloads always resume when possible. If you want to force a new download, use `force_download=True`.\n",
      "  warnings.warn(\n",
      "Batches: 100%|██████████| 200/200 [00:06<00:00, 31.95it/s]\n"
     ]
    }
   ],
   "source": [
    "# Embedding model to embed the text data\n",
    "embedding_model = SentenceTransformer('all-MiniLM-L6-v2')\n",
    "# Spawn a Qdrant client connection in memory\n",
    "qdrant_client = QdrantClient(\":memory:\")\n",
    "qdrant_client.create_collection('text-classification',vectors_config=models.VectorParams(size=384, distance=models.Distance.COSINE))\n",
    "# Training CSV File\n",
    "data_csv = pd.read_csv('../data/text-classification/train.csv')\n",
    "# train-test split\n",
    "train_csv, test_csv = train_test_split(data_csv, test_size=0.2,random_state=42)\n",
    "# push train embeddings to qdrant\n",
    "embeddings = embedding_model.encode(train_csv['text'].tolist(), show_progress_bar=True)\n",
    "# Create and upload points to Qdrant\n",
    "points = []\n",
    "for idx, row in train_csv.iterrows():\n",
    "    point = models.PointStruct(\n",
    "        id=idx,  # Use the dataframe index as the point ID\n",
    "        vector=embeddings[train_csv.index.get_loc(idx)].tolist(),  # Convert the embedding to a list\n",
    "        payload={'label_text': row['label_text'] , \"text\":row['text']}  # Use the label_text as the payload\n",
    "    )\n",
    "    points.append(point)\n",
    "qdrant_client.upload_points(collection_name='text-classification', points=points)"
   ]
  },
  {
   "cell_type": "code",
   "execution_count": 37,
   "metadata": {},
   "outputs": [],
   "source": [
    "def qdrant_search(query_text,top_k=5):\n",
    "    query_vector = embedding_model.encode(query_text)\n",
    "    search_response = qdrant_client.search(collection_name='text-classification', query_vector=query_vector, limit=top_k)\n",
    "    return search_response"
   ]
  },
  {
   "cell_type": "code",
   "execution_count": 38,
   "metadata": {},
   "outputs": [],
   "source": [
    "# these are all the category labels in the training set\n",
    "category_labels = train_csv.label_text.unique()\n",
    "categories_list = \"- \" + \"\\n- \".join(category_labels)\n",
    "system_prompt = f\"\"\"\n",
    "You are an agent that is specialized in classification tasks.\\n\n",
    "Along with the input text, you are provided with the top 10 documents retrieved from a Retrieval-Augmented Generation (RAG) model. \n",
    "Use this information to classify the input text into one of the following categories:\n",
    "{categories_list}\n",
    "Note: The documents are included in the user's message for context.\n",
    "\"\"\""
   ]
  },
  {
   "cell_type": "code",
   "execution_count": 61,
   "metadata": {},
   "outputs": [
    {
     "data": {
      "text/plain": [
       "array(['iot', 'not toxic', 'play_music',\n",
       "       'balance_not_updated_after_cheque_or_cash_deposit',\n",
       "       'weather_query', 'weather', 'news', 'exchange_rate', 'alarm_set',\n",
       "       'takeaway_query', 'play', 'datetime', 'automatic_top_up',\n",
       "       'cancel_transfer', 'extra_charge_on_statement', 'general',\n",
       "       'why_verify_identity', 'datetime_query', 'toxic', 'news_query',\n",
       "       'alarm', 'wrong_amount_of_cash_received', 'top_up_limits',\n",
       "       'transfer_not_received_by_recipient',\n",
       "       'card_payment_not_recognised', 'audio_volume_mute', 'music_query',\n",
       "       'takeaway', 'lost_or_stolen_card', 'card_not_working',\n",
       "       'card_linking', 'pending_top_up', 'iot_coffee', 'pin_blocked',\n",
       "       'music', 'pending_cash_withdrawal', 'alarm_remove',\n",
       "       'unable_to_verify_identity', 'card_arrival',\n",
       "       'getting_virtual_card', 'exchange_via_app', 'iot_hue_lightoff',\n",
       "       'fiat_currency_support', 'supported_cards_and_currencies',\n",
       "       'edit_personal_details', 'music_likeness',\n",
       "       'card_payment_fee_charged', 'music_settings', 'age_limit',\n",
       "       'audio_volume_up', 'card_payment_wrong_exchange_rate',\n",
       "       'iot_hue_lightchange', 'iot_hue_lightdim', 'iot_cleaning',\n",
       "       'calendar', 'card_acceptance', 'card_delivery_estimate',\n",
       "       'top_up_reverted', 'audio', 'alarm_query',\n",
       "       'top_up_by_bank_transfer_charge', 'iot_hue_lighton',\n",
       "       'audio_volume_down', 'contactless_not_working', 'takeaway_order',\n",
       "       'iot_wemo_off', 'iot_hue_lightup', 'general_quirky',\n",
       "       'audio_volume_other', 'datetime_convert', 'general_greet',\n",
       "       'transport', 'iot_wemo_on', 'qa_stock', 'music_dislikeness',\n",
       "       'general_joke', 'get_physical_card', 'calendar_query',\n",
       "       'recommendation_locations', 'play_radio', 'recommendation', 'qa',\n",
       "       'transport_query', 'recommendation_movies', 'play_audiobook'],\n",
       "      dtype=object)"
      ]
     },
     "execution_count": 61,
     "metadata": {},
     "output_type": "execute_result"
    }
   ],
   "source": [
    "category_labels"
   ]
  },
  {
   "cell_type": "code",
   "execution_count": 106,
   "metadata": {},
   "outputs": [],
   "source": [
    "from typing import Literal\n",
    "class CategoryModel(BaseModel):\n",
    "    category: Literal[tuple(category_labels.tolist())]\n",
    "    def check_category(cls, value):\n",
    "        if value not in category_labels:\n",
    "            raise ValueError(f\"{value} is not a valid category\")\n",
    "        return value\n",
    "load_dotenv()\n",
    "openai_api_key = os.getenv(\"OPENAI_API_KEY\")\n",
    "openai_client = instructor.patch(openai.OpenAI(api_key=openai_api_key))\n",
    "@retry(\n",
    "    stop=stop_after_attempt(2),  # Stop after 2 attempts\n",
    "    wait=wait_fixed(60),  # Wait 60 second between retries\n",
    ") #Handle retries for the OpenAI API Rate Limit Calls\n",
    "def classify_query_text(query_text,use_rag = True,chat_model=\"gpt-3.5-turbo\") -> str:\n",
    "    if use_rag:\n",
    "        search_results = qdrant_search(query_text, top_k=10)\n",
    "        sample_documents = [{\n",
    "                \"Text\": result.payload['text'],\n",
    "                \"Label\": result.payload['label_text'],\n",
    "            } for result in search_results]\n",
    "\n",
    "        user_message = f\"\"\"\n",
    "        Reference Documents from RAG Model: {sample_documents}\\n\\n\n",
    "        Input text to classify: {query_text}\n",
    "        \"\"\"\n",
    "    else:\n",
    "        user_message = f\"\"\"\n",
    "        Input text to classify: {query_text}\n",
    "        \"\"\"\n",
    "    openai_request_body = {\n",
    "        \"messages\": [\n",
    "            {\"role\": \"system\", \"content\": system_prompt},\n",
    "            {\"role\": \"user\", \"content\": user_message},\n",
    "        ],\n",
    "        \"model\": chat_model,\n",
    "        \"response_model\": CategoryModel,\n",
    "        \"temperature\": 0.2,\n",
    "        \"max_tokens\": 1000,\n",
    "        \"seed\": 42,\n",
    "    }\n",
    "\n",
    "    try:\n",
    "        chat_completion = openai_client.chat.completions.create(**openai_request_body)\n",
    "        \n",
    "    except Exception as e:\n",
    "        raise e\n",
    "\n",
    "    return chat_completion.category"
   ]
  },
  {
   "cell_type": "code",
   "execution_count": 107,
   "metadata": {},
   "outputs": [],
   "source": [
    "from sklearn.metrics import classification_report\n",
    "from concurrent.futures import ThreadPoolExecutor\n",
    "from tqdm import tqdm\n",
    "\n",
    "# Define a function to apply classification\n",
    "def classify_text(text, use_rag, chat_model):\n",
    "    return classify_query_text(text, use_rag, chat_model)\n",
    "\n",
    "# Define a function to apply multi-threading and calculate accuracy\n",
    "def classify_and_calculate_accuracy(test_csv, use_rag=True, chat_model=\"gpt-3.5-turbo\"):\n",
    "    # Use ThreadPoolExecutor to apply multi-threading with 12 threads\n",
    "    with ThreadPoolExecutor(max_workers=12) as executor:\n",
    "        # Wrap the executor.map function with tqdm for progress bar\n",
    "        test_csv['predicted_category'] = list(tqdm(executor.map(classify_text, test_csv['text'], [use_rag]*len(test_csv), [chat_model]*len(test_csv)), total=len(test_csv), desc=\"Predicting\"))\n",
    "\n",
    "    # calculate the accuracy of the model\n",
    "    test_csv['accuracy'] = test_csv['label_text'] == test_csv['predicted_category']\n",
    "    print(f\"Accuracy: {test_csv['accuracy'].sum() / len(test_csv)}\")\n",
    "\n",
    "    # print the classification report\n",
    "    print(\"Classification Report:\")\n",
    "    c_r = classification_report(test_csv['label_text'], test_csv['predicted_category'])\n",
    "    print(c_r)\n",
    "\n",
    "    return c_r"
   ]
  },
  {
   "cell_type": "code",
   "execution_count": 73,
   "metadata": {},
   "outputs": [
    {
     "name": "stderr",
     "output_type": "stream",
     "text": [
      "Predicting: 100%|██████████| 1599/1599 [01:46<00:00, 15.06it/s]"
     ]
    },
    {
     "name": "stdout",
     "output_type": "stream",
     "text": [
      "Accuracy: 0.5128205128205128\n",
      "Classification Report:\n",
      "                                                  precision    recall  f1-score   support\n",
      "\n",
      "                                       age_limit       0.85      1.00      0.92        11\n",
      "                                           alarm       0.04      0.03      0.03        35\n",
      "                                     alarm_query       0.08      0.08      0.08        12\n",
      "                                    alarm_remove       0.50      0.75      0.60         4\n",
      "                                       alarm_set       0.24      0.35      0.29        17\n",
      "                                           audio       0.00      0.00      0.00        30\n",
      "                               audio_volume_down       0.12      0.20      0.15         5\n",
      "                               audio_volume_mute       0.35      0.60      0.44        10\n",
      "                              audio_volume_other       0.00      0.00      0.00         1\n",
      "                                 audio_volume_up       0.21      0.20      0.21        15\n",
      "                                automatic_top_up       1.00      0.92      0.96        13\n",
      "balance_not_updated_after_cheque_or_cash_deposit       0.79      1.00      0.88        19\n",
      "                                        calendar       0.00      0.00      0.00         0\n",
      "                                  calendar_query       0.00      0.00      0.00         1\n",
      "                                 cancel_transfer       0.92      0.92      0.92        13\n",
      "                                 card_acceptance       0.86      1.00      0.92         6\n",
      "                                    card_arrival       0.81      0.68      0.74        19\n",
      "                          card_delivery_estimate       0.64      0.88      0.74         8\n",
      "                                    card_linking       1.00      1.00      1.00        20\n",
      "                                card_not_working       0.80      0.80      0.80        10\n",
      "                        card_payment_fee_charged       1.00      0.93      0.96        14\n",
      "                     card_payment_not_recognised       0.95      0.95      0.95        19\n",
      "                card_payment_wrong_exchange_rate       1.00      0.85      0.92        13\n",
      "                         contactless_not_working       1.00      0.75      0.86         8\n",
      "                                        datetime       0.06      0.05      0.05        38\n",
      "                                datetime_convert       0.00      0.00      0.00         6\n",
      "                                  datetime_query       0.09      0.10      0.10        29\n",
      "                           edit_personal_details       1.00      0.93      0.96        14\n",
      "                                   exchange_rate       0.52      1.00      0.69        11\n",
      "                                exchange_via_app       1.00      0.58      0.74        12\n",
      "                       extra_charge_on_statement       0.92      1.00      0.96        12\n",
      "                           fiat_currency_support       0.85      0.85      0.85        13\n",
      "                                         general       0.04      0.25      0.06         8\n",
      "                                   general_greet       0.00      0.00      0.00         2\n",
      "                                    general_joke       0.43      0.27      0.33        11\n",
      "                                  general_quirky       0.00      0.00      0.00         5\n",
      "                            getting_virtual_card       1.00      1.00      1.00         7\n",
      "                                             iot       0.50      1.00      0.67        81\n",
      "                                    iot_cleaning       0.00      0.00      0.00        10\n",
      "                                      iot_coffee       0.00      0.00      0.00        10\n",
      "                             iot_hue_lightchange       0.00      0.00      0.00        12\n",
      "                                iot_hue_lightdim       0.00      0.00      0.00         9\n",
      "                                iot_hue_lightoff       0.00      0.00      0.00        10\n",
      "                                 iot_hue_lighton       0.00      0.00      0.00         2\n",
      "                                 iot_hue_lightup       0.00      0.00      0.00         8\n",
      "                                    iot_wemo_off       0.00      0.00      0.00         7\n",
      "                                     iot_wemo_on       0.00      0.00      0.00         7\n",
      "                             lost_or_stolen_card       0.57      0.80      0.67         5\n",
      "                                           music       0.24      0.28      0.26        36\n",
      "                               music_dislikeness       0.00      0.00      0.00         0\n",
      "                                  music_likeness       0.00      0.00      0.00        13\n",
      "                                     music_query       0.11      0.14      0.12        14\n",
      "                                  music_settings       0.00      0.00      0.00         4\n",
      "                                            news       0.11      0.20      0.14        41\n",
      "                                      news_query       0.04      0.05      0.04        41\n",
      "                                       not toxic       0.93      0.72      0.81       366\n",
      "                         pending_cash_withdrawal       1.00      1.00      1.00         9\n",
      "                                  pending_top_up       1.00      1.00      1.00        12\n",
      "                                     pin_blocked       1.00      1.00      1.00        13\n",
      "                                            play       0.00      0.00      0.00        61\n",
      "                                      play_music       0.36      0.69      0.47        55\n",
      "                                      play_radio       0.00      0.00      0.00         0\n",
      "                                              qa       0.00      0.00      0.00         2\n",
      "                                        qa_stock       0.00      0.00      0.00         1\n",
      "                                  recommendation       0.00      0.00      0.00         1\n",
      "                           recommendation_movies       0.00      0.00      0.00         0\n",
      "                  supported_cards_and_currencies       0.93      0.81      0.87        16\n",
      "                                        takeaway       0.20      0.12      0.15        32\n",
      "                                  takeaway_order       0.22      0.12      0.15        17\n",
      "                                  takeaway_query       0.20      0.60      0.30        10\n",
      "                  top_up_by_bank_transfer_charge       1.00      1.00      1.00         9\n",
      "                                   top_up_limits       0.86      1.00      0.92        12\n",
      "                                 top_up_reverted       1.00      0.89      0.94         9\n",
      "                                           toxic       0.29      0.24      0.26        25\n",
      "              transfer_not_received_by_recipient       1.00      0.79      0.88        14\n",
      "                                       transport       0.00      0.00      0.00         0\n",
      "                                 transport_query       0.00      0.00      0.00         1\n",
      "                       unable_to_verify_identity       0.88      0.88      0.88         8\n",
      "                                         weather       0.07      0.05      0.06        56\n",
      "                                   weather_query       0.16      0.20      0.18        50\n",
      "                             why_verify_identity       0.93      0.88      0.90        16\n",
      "                   wrong_amount_of_cash_received       0.96      1.00      0.98        23\n",
      "\n",
      "                                        accuracy                           0.51      1599\n",
      "                                       macro avg       0.41      0.43      0.41      1599\n",
      "                                    weighted avg       0.52      0.51      0.50      1599\n",
      "\n"
     ]
    },
    {
     "name": "stderr",
     "output_type": "stream",
     "text": [
      "\n",
      "/Users/abcom/.pyenv/versions/3.11.0/envs/learn-ai/lib/python3.11/site-packages/sklearn/metrics/_classification.py:1471: UndefinedMetricWarning: Precision and F-score are ill-defined and being set to 0.0 in labels with no predicted samples. Use `zero_division` parameter to control this behavior.\n",
      "  _warn_prf(average, modifier, msg_start, len(result))\n",
      "/Users/abcom/.pyenv/versions/3.11.0/envs/learn-ai/lib/python3.11/site-packages/sklearn/metrics/_classification.py:1471: UndefinedMetricWarning: Recall and F-score are ill-defined and being set to 0.0 in labels with no true samples. Use `zero_division` parameter to control this behavior.\n",
      "  _warn_prf(average, modifier, msg_start, len(result))\n",
      "/Users/abcom/.pyenv/versions/3.11.0/envs/learn-ai/lib/python3.11/site-packages/sklearn/metrics/_classification.py:1471: UndefinedMetricWarning: Precision and F-score are ill-defined and being set to 0.0 in labels with no predicted samples. Use `zero_division` parameter to control this behavior.\n",
      "  _warn_prf(average, modifier, msg_start, len(result))\n",
      "/Users/abcom/.pyenv/versions/3.11.0/envs/learn-ai/lib/python3.11/site-packages/sklearn/metrics/_classification.py:1471: UndefinedMetricWarning: Recall and F-score are ill-defined and being set to 0.0 in labels with no true samples. Use `zero_division` parameter to control this behavior.\n",
      "  _warn_prf(average, modifier, msg_start, len(result))\n",
      "/Users/abcom/.pyenv/versions/3.11.0/envs/learn-ai/lib/python3.11/site-packages/sklearn/metrics/_classification.py:1471: UndefinedMetricWarning: Precision and F-score are ill-defined and being set to 0.0 in labels with no predicted samples. Use `zero_division` parameter to control this behavior.\n",
      "  _warn_prf(average, modifier, msg_start, len(result))\n",
      "/Users/abcom/.pyenv/versions/3.11.0/envs/learn-ai/lib/python3.11/site-packages/sklearn/metrics/_classification.py:1471: UndefinedMetricWarning: Recall and F-score are ill-defined and being set to 0.0 in labels with no true samples. Use `zero_division` parameter to control this behavior.\n",
      "  _warn_prf(average, modifier, msg_start, len(result))\n"
     ]
    },
    {
     "data": {
      "text/plain": [
       "'                                                  precision    recall  f1-score   support\\n\\n                                       age_limit       0.85      1.00      0.92        11\\n                                           alarm       0.04      0.03      0.03        35\\n                                     alarm_query       0.08      0.08      0.08        12\\n                                    alarm_remove       0.50      0.75      0.60         4\\n                                       alarm_set       0.24      0.35      0.29        17\\n                                           audio       0.00      0.00      0.00        30\\n                               audio_volume_down       0.12      0.20      0.15         5\\n                               audio_volume_mute       0.35      0.60      0.44        10\\n                              audio_volume_other       0.00      0.00      0.00         1\\n                                 audio_volume_up       0.21      0.20      0.21        15\\n                                automatic_top_up       1.00      0.92      0.96        13\\nbalance_not_updated_after_cheque_or_cash_deposit       0.79      1.00      0.88        19\\n                                        calendar       0.00      0.00      0.00         0\\n                                  calendar_query       0.00      0.00      0.00         1\\n                                 cancel_transfer       0.92      0.92      0.92        13\\n                                 card_acceptance       0.86      1.00      0.92         6\\n                                    card_arrival       0.81      0.68      0.74        19\\n                          card_delivery_estimate       0.64      0.88      0.74         8\\n                                    card_linking       1.00      1.00      1.00        20\\n                                card_not_working       0.80      0.80      0.80        10\\n                        card_payment_fee_charged       1.00      0.93      0.96        14\\n                     card_payment_not_recognised       0.95      0.95      0.95        19\\n                card_payment_wrong_exchange_rate       1.00      0.85      0.92        13\\n                         contactless_not_working       1.00      0.75      0.86         8\\n                                        datetime       0.06      0.05      0.05        38\\n                                datetime_convert       0.00      0.00      0.00         6\\n                                  datetime_query       0.09      0.10      0.10        29\\n                           edit_personal_details       1.00      0.93      0.96        14\\n                                   exchange_rate       0.52      1.00      0.69        11\\n                                exchange_via_app       1.00      0.58      0.74        12\\n                       extra_charge_on_statement       0.92      1.00      0.96        12\\n                           fiat_currency_support       0.85      0.85      0.85        13\\n                                         general       0.04      0.25      0.06         8\\n                                   general_greet       0.00      0.00      0.00         2\\n                                    general_joke       0.43      0.27      0.33        11\\n                                  general_quirky       0.00      0.00      0.00         5\\n                            getting_virtual_card       1.00      1.00      1.00         7\\n                                             iot       0.50      1.00      0.67        81\\n                                    iot_cleaning       0.00      0.00      0.00        10\\n                                      iot_coffee       0.00      0.00      0.00        10\\n                             iot_hue_lightchange       0.00      0.00      0.00        12\\n                                iot_hue_lightdim       0.00      0.00      0.00         9\\n                                iot_hue_lightoff       0.00      0.00      0.00        10\\n                                 iot_hue_lighton       0.00      0.00      0.00         2\\n                                 iot_hue_lightup       0.00      0.00      0.00         8\\n                                    iot_wemo_off       0.00      0.00      0.00         7\\n                                     iot_wemo_on       0.00      0.00      0.00         7\\n                             lost_or_stolen_card       0.57      0.80      0.67         5\\n                                           music       0.24      0.28      0.26        36\\n                               music_dislikeness       0.00      0.00      0.00         0\\n                                  music_likeness       0.00      0.00      0.00        13\\n                                     music_query       0.11      0.14      0.12        14\\n                                  music_settings       0.00      0.00      0.00         4\\n                                            news       0.11      0.20      0.14        41\\n                                      news_query       0.04      0.05      0.04        41\\n                                       not toxic       0.93      0.72      0.81       366\\n                         pending_cash_withdrawal       1.00      1.00      1.00         9\\n                                  pending_top_up       1.00      1.00      1.00        12\\n                                     pin_blocked       1.00      1.00      1.00        13\\n                                            play       0.00      0.00      0.00        61\\n                                      play_music       0.36      0.69      0.47        55\\n                                      play_radio       0.00      0.00      0.00         0\\n                                              qa       0.00      0.00      0.00         2\\n                                        qa_stock       0.00      0.00      0.00         1\\n                                  recommendation       0.00      0.00      0.00         1\\n                           recommendation_movies       0.00      0.00      0.00         0\\n                  supported_cards_and_currencies       0.93      0.81      0.87        16\\n                                        takeaway       0.20      0.12      0.15        32\\n                                  takeaway_order       0.22      0.12      0.15        17\\n                                  takeaway_query       0.20      0.60      0.30        10\\n                  top_up_by_bank_transfer_charge       1.00      1.00      1.00         9\\n                                   top_up_limits       0.86      1.00      0.92        12\\n                                 top_up_reverted       1.00      0.89      0.94         9\\n                                           toxic       0.29      0.24      0.26        25\\n              transfer_not_received_by_recipient       1.00      0.79      0.88        14\\n                                       transport       0.00      0.00      0.00         0\\n                                 transport_query       0.00      0.00      0.00         1\\n                       unable_to_verify_identity       0.88      0.88      0.88         8\\n                                         weather       0.07      0.05      0.06        56\\n                                   weather_query       0.16      0.20      0.18        50\\n                             why_verify_identity       0.93      0.88      0.90        16\\n                   wrong_amount_of_cash_received       0.96      1.00      0.98        23\\n\\n                                        accuracy                           0.51      1599\\n                                       macro avg       0.41      0.43      0.41      1599\\n                                    weighted avg       0.52      0.51      0.50      1599\\n'"
      ]
     },
     "execution_count": 73,
     "metadata": {},
     "output_type": "execute_result"
    }
   ],
   "source": [
    "classify_and_calculate_accuracy(test_csv)"
   ]
  },
  {
   "cell_type": "markdown",
   "metadata": {},
   "source": [
    "## How to Finetune"
   ]
  },
  {
   "cell_type": "markdown",
   "metadata": {},
   "source": [
    "### Prepare Data For Finetuning"
   ]
  },
  {
   "cell_type": "code",
   "execution_count": 75,
   "metadata": {},
   "outputs": [],
   "source": [
    "# create training file for fine tuning , the data needs to be preprocessed in a specific way to finetune a model\n",
    "import json\n",
    "training_data = []\n",
    "for row in train_csv.iterrows():\n",
    "    label = row[1].label_text\n",
    "    text = row[1].text\n",
    "    training_data.append({\n",
    "        \"messages\": [\n",
    "            {\"role\": \"system\", \"content\": system_prompt},\n",
    "            {\"role\": \"user\", \"content\": text},\n",
    "            {\"role\": \"assistant\", \"content\": label}\n",
    "        ]\n",
    "    })\n",
    "training_file_name = \"../data/text-classification/new_training_data.jsonl\"\n",
    "def prepare_data(dictionary_data, final_file_name):\n",
    "    with open(final_file_name, 'w') as outfile:\n",
    "        for entry in dictionary_data:\n",
    "            json.dump(entry, outfile)\n",
    "            outfile.write('\\n')\n",
    "prepare_data(training_data, training_file_name)"
   ]
  },
  {
   "cell_type": "markdown",
   "metadata": {},
   "source": [
    "### Upload Data For Finetuning"
   ]
  },
  {
   "cell_type": "code",
   "execution_count": 76,
   "metadata": {},
   "outputs": [
    {
     "name": "stdout",
     "output_type": "stream",
     "text": [
      "Training File ID: FileObject(id='file-dl40RvUHbTR5KWh3OD7WcFZk', bytes=14200775, created_at=1717400849, filename='new_training_data.jsonl', object='file', purpose='fine-tune', status='processed', status_details=None)\n"
     ]
    }
   ],
   "source": [
    "# upload training file to openai\n",
    "training_file_id = openai_client.files.create(\n",
    "  file=open(training_file_name, \"rb\"),\n",
    "  purpose=\"fine-tune\"\n",
    ")\n",
    "print(f\"Training File ID: {training_file_id}\")"
   ]
  },
  {
   "cell_type": "markdown",
   "metadata": {},
   "source": [
    "### Create Finetuning Job"
   ]
  },
  {
   "cell_type": "markdown",
   "metadata": {},
   "source": [
    "Some Hyperparameters for fine tuning you can change are:\n",
    "\n",
    "- batch_size : Number of examples in each batch. A larger batch size means that model parameters are updated less frequently, but with lower variance.\n",
    "\n",
    "- learning_rate_multiplier: Scaling factor for the learning rate. A smaller learning rate may be useful to avoid overfitting.\n",
    "\n",
    "- n_epochs:The number of epochs to train the model for. An epoch refers to one full cycle through the training dataset."
   ]
  },
  {
   "cell_type": "code",
   "execution_count": 86,
   "metadata": {},
   "outputs": [
    {
     "name": "stdout",
     "output_type": "stream",
     "text": [
      "Fine-tunning model with jobID: ftjob-K2hZChUK3QqLbjDZxI3XUgQj.\n",
      "Training Response: FineTuningJob(id='ftjob-K2hZChUK3QqLbjDZxI3XUgQj', created_at=1717403916, error=Error(code=None, message=None, param=None), fine_tuned_model=None, finished_at=None, hyperparameters=Hyperparameters(n_epochs=1, batch_size='auto', learning_rate_multiplier='auto'), model='gpt-3.5-turbo-0125', object='fine_tuning.job', organization_id='org-bx8UmNWyClGMb1kBUdofHdpY', result_files=[], seed=1336267681, status='validating_files', trained_tokens=None, training_file='file-dl40RvUHbTR5KWh3OD7WcFZk', validation_file=None, estimated_finish=None, integrations=[], user_provided_suffix=None)\n",
      "Training Status: validating_files\n"
     ]
    }
   ],
   "source": [
    "# create fine tuning job on openai\n",
    "response = openai_client.fine_tuning.jobs.create(\n",
    "  training_file=training_file_id.id,\n",
    "  model=\"gpt-3.5-turbo\",\n",
    "  hyperparameters={\n",
    "    \"n_epochs\": 1,\n",
    "  }\n",
    ")\n",
    "job_id = response.id\n",
    "status = response.status\n",
    "print(f'Fine-tunning model with jobID: {job_id}.')\n",
    "print(f\"Training Response: {response}\")\n",
    "print(f\"Training Status: {status}\")"
   ]
  },
  {
   "cell_type": "markdown",
   "metadata": {},
   "source": [
    "Takes ~70-80 mins to finetune on 6k rows"
   ]
  },
  {
   "cell_type": "code",
   "execution_count": null,
   "metadata": {},
   "outputs": [],
   "source": [
    "def check_fine_tuning_job_status(openai_client, job_id):\n",
    "    def retrieve_job_status():\n",
    "        return openai_client.fine_tuning.jobs.retrieve(job_id).status\n",
    "\n",
    "    status = retrieve_job_status()\n",
    "    while status not in [\"succeeded\", \"failed\"]:\n",
    "        print(f\"Job not in terminal status: {status}. Waiting.\")\n",
    "        time.sleep(10)\n",
    "        status = retrieve_job_status()\n",
    "        print(f\"Status: {status}\")\n",
    "\n",
    "    print(f\"Finetune job {job_id} finished with status: {status}\")\n",
    "\n",
    "    def check_other_jobs():\n",
    "        result = openai_client.fine_tuning.jobs.list()\n",
    "        print(f\"Found {len(result.data)} finetune jobs.\")\n",
    "\n",
    "    check_other_jobs()\n",
    "\n",
    "check_fine_tuning_job_status(openai_client, job_id)\n"
   ]
  },
  {
   "cell_type": "markdown",
   "metadata": {},
   "source": [
    "### Text-Classification without RAG and Fine-Tuned LLM Model "
   ]
  },
  {
   "cell_type": "code",
   "execution_count": 98,
   "metadata": {},
   "outputs": [
    {
     "name": "stdout",
     "output_type": "stream",
     "text": [
      "ft:gpt-3.5-turbo-0125:personal::9VySD7OR\n"
     ]
    }
   ],
   "source": [
    "fine_tuned_model = openai_client.fine_tuning.jobs.retrieve(job_id).fine_tuned_model\n",
    "print(fine_tuned_model)"
   ]
  },
  {
   "cell_type": "code",
   "execution_count": 108,
   "metadata": {},
   "outputs": [
    {
     "name": "stderr",
     "output_type": "stream",
     "text": [
      "Predicting: 100%|██████████| 1599/1599 [01:31<00:00, 17.56it/s]"
     ]
    },
    {
     "name": "stdout",
     "output_type": "stream",
     "text": [
      "Accuracy: 0.6823014383989994\n",
      "Classification Report:\n",
      "                                                  precision    recall  f1-score   support\n",
      "\n",
      "                                       age_limit       1.00      1.00      1.00        11\n",
      "                                           alarm       0.50      0.03      0.05        35\n",
      "                                     alarm_query       0.45      0.83      0.59        12\n",
      "                                    alarm_remove       0.50      1.00      0.67         4\n",
      "                                       alarm_set       0.44      0.94      0.60        17\n",
      "                                           audio       0.00      0.00      0.00        30\n",
      "                               audio_volume_down       0.36      0.80      0.50         5\n",
      "                               audio_volume_mute       0.43      1.00      0.61        10\n",
      "                              audio_volume_other       1.00      1.00      1.00         1\n",
      "                                 audio_volume_up       0.58      0.93      0.72        15\n",
      "                                automatic_top_up       1.00      1.00      1.00        13\n",
      "balance_not_updated_after_cheque_or_cash_deposit       0.90      1.00      0.95        19\n",
      "                                  calendar_query       0.50      1.00      0.67         1\n",
      "                                 cancel_transfer       1.00      0.92      0.96        13\n",
      "                                 card_acceptance       1.00      1.00      1.00         6\n",
      "                                    card_arrival       0.75      0.79      0.77        19\n",
      "                          card_delivery_estimate       0.56      0.62      0.59         8\n",
      "                                    card_linking       0.95      1.00      0.98        20\n",
      "                                card_not_working       1.00      0.70      0.82        10\n",
      "                        card_payment_fee_charged       0.92      0.79      0.85        14\n",
      "                     card_payment_not_recognised       1.00      0.89      0.94        19\n",
      "                card_payment_wrong_exchange_rate       0.93      1.00      0.96        13\n",
      "                         contactless_not_working       1.00      0.75      0.86         8\n",
      "                                        datetime       0.33      0.03      0.05        38\n",
      "                                datetime_convert       0.50      0.50      0.50         6\n",
      "                                  datetime_query       0.44      1.00      0.61        29\n",
      "                           edit_personal_details       1.00      0.93      0.96        14\n",
      "                                   exchange_rate       1.00      0.91      0.95        11\n",
      "                                exchange_via_app       0.92      0.92      0.92        12\n",
      "                       extra_charge_on_statement       0.73      0.92      0.81        12\n",
      "                           fiat_currency_support       0.81      1.00      0.90        13\n",
      "                                         general       0.00      0.00      0.00         8\n",
      "                                   general_greet       0.29      1.00      0.44         2\n",
      "                                    general_joke       0.71      0.91      0.80        11\n",
      "                                  general_quirky       0.00      0.00      0.00         5\n",
      "                               get_physical_card       0.00      0.00      0.00         0\n",
      "                            getting_virtual_card       1.00      1.00      1.00         7\n",
      "                                             iot       0.53      0.65      0.59        81\n",
      "                                    iot_cleaning       1.00      0.20      0.33        10\n",
      "                                      iot_coffee       0.58      0.70      0.64        10\n",
      "                             iot_hue_lightchange       0.75      0.25      0.38        12\n",
      "                                iot_hue_lightdim       0.45      0.56      0.50         9\n",
      "                                iot_hue_lightoff       0.50      0.20      0.29        10\n",
      "                                 iot_hue_lighton       0.00      0.00      0.00         2\n",
      "                                 iot_hue_lightup       0.45      0.62      0.53         8\n",
      "                                    iot_wemo_off       0.40      0.29      0.33         7\n",
      "                                     iot_wemo_on       0.50      0.43      0.46         7\n",
      "                             lost_or_stolen_card       1.00      0.80      0.89         5\n",
      "                                           music       0.67      0.06      0.10        36\n",
      "                               music_dislikeness       0.00      0.00      0.00         0\n",
      "                                  music_likeness       0.50      0.69      0.58        13\n",
      "                                     music_query       0.34      0.86      0.49        14\n",
      "                                  music_settings       0.00      0.00      0.00         4\n",
      "                                            news       0.67      0.05      0.09        41\n",
      "                                      news_query       0.50      0.93      0.65        41\n",
      "                                       not toxic       0.88      0.99      0.93       366\n",
      "                         pending_cash_withdrawal       1.00      1.00      1.00         9\n",
      "                                  pending_top_up       0.86      1.00      0.92        12\n",
      "                                     pin_blocked       1.00      1.00      1.00        13\n",
      "                                            play       1.00      0.02      0.03        61\n",
      "                                      play_music       0.45      0.93      0.60        55\n",
      "                                              qa       0.00      0.00      0.00         2\n",
      "                                        qa_stock       0.50      1.00      0.67         1\n",
      "                                  recommendation       0.00      0.00      0.00         1\n",
      "                           recommendation_movies       0.00      0.00      0.00         0\n",
      "                  supported_cards_and_currencies       0.93      0.81      0.87        16\n",
      "                                        takeaway       0.50      0.09      0.16        32\n",
      "                                  takeaway_order       0.55      0.65      0.59        17\n",
      "                                  takeaway_query       0.26      0.90      0.41        10\n",
      "                  top_up_by_bank_transfer_charge       0.89      0.89      0.89         9\n",
      "                                   top_up_limits       1.00      1.00      1.00        12\n",
      "                                 top_up_reverted       1.00      0.78      0.88         9\n",
      "                                           toxic       0.00      0.00      0.00        25\n",
      "              transfer_not_received_by_recipient       1.00      0.93      0.96        14\n",
      "                                       transport       0.00      0.00      0.00         0\n",
      "                                 transport_query       0.00      0.00      0.00         1\n",
      "                       unable_to_verify_identity       1.00      0.88      0.93         8\n",
      "                                         weather       0.50      0.02      0.03        56\n",
      "                                   weather_query       0.45      0.90      0.60        50\n",
      "                             why_verify_identity       0.94      0.94      0.94        16\n",
      "                   wrong_amount_of_cash_received       1.00      0.96      0.98        23\n",
      "\n",
      "                                        accuracy                           0.68      1599\n",
      "                                       macro avg       0.61      0.63      0.57      1599\n",
      "                                    weighted avg       0.69      0.68      0.62      1599\n",
      "\n"
     ]
    },
    {
     "name": "stderr",
     "output_type": "stream",
     "text": [
      "\n",
      "/Users/abcom/.pyenv/versions/3.11.0/envs/learn-ai/lib/python3.11/site-packages/sklearn/metrics/_classification.py:1471: UndefinedMetricWarning: Precision and F-score are ill-defined and being set to 0.0 in labels with no predicted samples. Use `zero_division` parameter to control this behavior.\n",
      "  _warn_prf(average, modifier, msg_start, len(result))\n",
      "/Users/abcom/.pyenv/versions/3.11.0/envs/learn-ai/lib/python3.11/site-packages/sklearn/metrics/_classification.py:1471: UndefinedMetricWarning: Recall and F-score are ill-defined and being set to 0.0 in labels with no true samples. Use `zero_division` parameter to control this behavior.\n",
      "  _warn_prf(average, modifier, msg_start, len(result))\n",
      "/Users/abcom/.pyenv/versions/3.11.0/envs/learn-ai/lib/python3.11/site-packages/sklearn/metrics/_classification.py:1471: UndefinedMetricWarning: Precision and F-score are ill-defined and being set to 0.0 in labels with no predicted samples. Use `zero_division` parameter to control this behavior.\n",
      "  _warn_prf(average, modifier, msg_start, len(result))\n",
      "/Users/abcom/.pyenv/versions/3.11.0/envs/learn-ai/lib/python3.11/site-packages/sklearn/metrics/_classification.py:1471: UndefinedMetricWarning: Recall and F-score are ill-defined and being set to 0.0 in labels with no true samples. Use `zero_division` parameter to control this behavior.\n",
      "  _warn_prf(average, modifier, msg_start, len(result))\n",
      "/Users/abcom/.pyenv/versions/3.11.0/envs/learn-ai/lib/python3.11/site-packages/sklearn/metrics/_classification.py:1471: UndefinedMetricWarning: Precision and F-score are ill-defined and being set to 0.0 in labels with no predicted samples. Use `zero_division` parameter to control this behavior.\n",
      "  _warn_prf(average, modifier, msg_start, len(result))\n",
      "/Users/abcom/.pyenv/versions/3.11.0/envs/learn-ai/lib/python3.11/site-packages/sklearn/metrics/_classification.py:1471: UndefinedMetricWarning: Recall and F-score are ill-defined and being set to 0.0 in labels with no true samples. Use `zero_division` parameter to control this behavior.\n",
      "  _warn_prf(average, modifier, msg_start, len(result))\n"
     ]
    },
    {
     "data": {
      "text/plain": [
       "'                                                  precision    recall  f1-score   support\\n\\n                                       age_limit       1.00      1.00      1.00        11\\n                                           alarm       0.50      0.03      0.05        35\\n                                     alarm_query       0.45      0.83      0.59        12\\n                                    alarm_remove       0.50      1.00      0.67         4\\n                                       alarm_set       0.44      0.94      0.60        17\\n                                           audio       0.00      0.00      0.00        30\\n                               audio_volume_down       0.36      0.80      0.50         5\\n                               audio_volume_mute       0.43      1.00      0.61        10\\n                              audio_volume_other       1.00      1.00      1.00         1\\n                                 audio_volume_up       0.58      0.93      0.72        15\\n                                automatic_top_up       1.00      1.00      1.00        13\\nbalance_not_updated_after_cheque_or_cash_deposit       0.90      1.00      0.95        19\\n                                  calendar_query       0.50      1.00      0.67         1\\n                                 cancel_transfer       1.00      0.92      0.96        13\\n                                 card_acceptance       1.00      1.00      1.00         6\\n                                    card_arrival       0.75      0.79      0.77        19\\n                          card_delivery_estimate       0.56      0.62      0.59         8\\n                                    card_linking       0.95      1.00      0.98        20\\n                                card_not_working       1.00      0.70      0.82        10\\n                        card_payment_fee_charged       0.92      0.79      0.85        14\\n                     card_payment_not_recognised       1.00      0.89      0.94        19\\n                card_payment_wrong_exchange_rate       0.93      1.00      0.96        13\\n                         contactless_not_working       1.00      0.75      0.86         8\\n                                        datetime       0.33      0.03      0.05        38\\n                                datetime_convert       0.50      0.50      0.50         6\\n                                  datetime_query       0.44      1.00      0.61        29\\n                           edit_personal_details       1.00      0.93      0.96        14\\n                                   exchange_rate       1.00      0.91      0.95        11\\n                                exchange_via_app       0.92      0.92      0.92        12\\n                       extra_charge_on_statement       0.73      0.92      0.81        12\\n                           fiat_currency_support       0.81      1.00      0.90        13\\n                                         general       0.00      0.00      0.00         8\\n                                   general_greet       0.29      1.00      0.44         2\\n                                    general_joke       0.71      0.91      0.80        11\\n                                  general_quirky       0.00      0.00      0.00         5\\n                               get_physical_card       0.00      0.00      0.00         0\\n                            getting_virtual_card       1.00      1.00      1.00         7\\n                                             iot       0.53      0.65      0.59        81\\n                                    iot_cleaning       1.00      0.20      0.33        10\\n                                      iot_coffee       0.58      0.70      0.64        10\\n                             iot_hue_lightchange       0.75      0.25      0.38        12\\n                                iot_hue_lightdim       0.45      0.56      0.50         9\\n                                iot_hue_lightoff       0.50      0.20      0.29        10\\n                                 iot_hue_lighton       0.00      0.00      0.00         2\\n                                 iot_hue_lightup       0.45      0.62      0.53         8\\n                                    iot_wemo_off       0.40      0.29      0.33         7\\n                                     iot_wemo_on       0.50      0.43      0.46         7\\n                             lost_or_stolen_card       1.00      0.80      0.89         5\\n                                           music       0.67      0.06      0.10        36\\n                               music_dislikeness       0.00      0.00      0.00         0\\n                                  music_likeness       0.50      0.69      0.58        13\\n                                     music_query       0.34      0.86      0.49        14\\n                                  music_settings       0.00      0.00      0.00         4\\n                                            news       0.67      0.05      0.09        41\\n                                      news_query       0.50      0.93      0.65        41\\n                                       not toxic       0.88      0.99      0.93       366\\n                         pending_cash_withdrawal       1.00      1.00      1.00         9\\n                                  pending_top_up       0.86      1.00      0.92        12\\n                                     pin_blocked       1.00      1.00      1.00        13\\n                                            play       1.00      0.02      0.03        61\\n                                      play_music       0.45      0.93      0.60        55\\n                                              qa       0.00      0.00      0.00         2\\n                                        qa_stock       0.50      1.00      0.67         1\\n                                  recommendation       0.00      0.00      0.00         1\\n                           recommendation_movies       0.00      0.00      0.00         0\\n                  supported_cards_and_currencies       0.93      0.81      0.87        16\\n                                        takeaway       0.50      0.09      0.16        32\\n                                  takeaway_order       0.55      0.65      0.59        17\\n                                  takeaway_query       0.26      0.90      0.41        10\\n                  top_up_by_bank_transfer_charge       0.89      0.89      0.89         9\\n                                   top_up_limits       1.00      1.00      1.00        12\\n                                 top_up_reverted       1.00      0.78      0.88         9\\n                                           toxic       0.00      0.00      0.00        25\\n              transfer_not_received_by_recipient       1.00      0.93      0.96        14\\n                                       transport       0.00      0.00      0.00         0\\n                                 transport_query       0.00      0.00      0.00         1\\n                       unable_to_verify_identity       1.00      0.88      0.93         8\\n                                         weather       0.50      0.02      0.03        56\\n                                   weather_query       0.45      0.90      0.60        50\\n                             why_verify_identity       0.94      0.94      0.94        16\\n                   wrong_amount_of_cash_received       1.00      0.96      0.98        23\\n\\n                                        accuracy                           0.68      1599\\n                                       macro avg       0.61      0.63      0.57      1599\\n                                    weighted avg       0.69      0.68      0.62      1599\\n'"
      ]
     },
     "execution_count": 108,
     "metadata": {},
     "output_type": "execute_result"
    }
   ],
   "source": [
    "classify_and_calculate_accuracy(test_csv,use_rag=False,chat_model=fine_tuned_model)"
   ]
  },
  {
   "cell_type": "markdown",
   "metadata": {},
   "source": [
    "### Text Classification with RAG and Finetuned LLM Model"
   ]
  },
  {
   "cell_type": "code",
   "execution_count": 109,
   "metadata": {},
   "outputs": [
    {
     "name": "stderr",
     "output_type": "stream",
     "text": [
      "Predicting: 100%|██████████| 1599/1599 [01:39<00:00, 16.08it/s]"
     ]
    },
    {
     "name": "stdout",
     "output_type": "stream",
     "text": [
      "Accuracy: 0.5859912445278299\n",
      "Classification Report:\n",
      "                                                  precision    recall  f1-score   support\n",
      "\n",
      "                                       age_limit       1.00      1.00      1.00        11\n",
      "                                           alarm       0.07      0.03      0.04        35\n",
      "                                     alarm_query       0.43      0.75      0.55        12\n",
      "                                    alarm_remove       0.50      1.00      0.67         4\n",
      "                                       alarm_set       0.28      0.41      0.33        17\n",
      "                                           audio       0.00      0.00      0.00        30\n",
      "                               audio_volume_down       0.31      0.80      0.44         5\n",
      "                               audio_volume_mute       0.39      0.70      0.50        10\n",
      "                              audio_volume_other       0.00      0.00      0.00         1\n",
      "                                 audio_volume_up       0.50      0.87      0.63        15\n",
      "                                automatic_top_up       1.00      1.00      1.00        13\n",
      "balance_not_updated_after_cheque_or_cash_deposit       0.95      1.00      0.97        19\n",
      "                                        calendar       0.00      0.00      0.00         0\n",
      "                                  calendar_query       0.00      0.00      0.00         1\n",
      "                                 cancel_transfer       0.92      0.92      0.92        13\n",
      "                                 card_acceptance       1.00      1.00      1.00         6\n",
      "                                    card_arrival       0.84      0.84      0.84        19\n",
      "                          card_delivery_estimate       0.70      0.88      0.78         8\n",
      "                                    card_linking       0.95      1.00      0.98        20\n",
      "                                card_not_working       0.89      0.80      0.84        10\n",
      "                        card_payment_fee_charged       0.88      1.00      0.93        14\n",
      "                     card_payment_not_recognised       1.00      0.95      0.97        19\n",
      "                card_payment_wrong_exchange_rate       0.92      0.92      0.92        13\n",
      "                         contactless_not_working       1.00      0.88      0.93         8\n",
      "                                        datetime       0.00      0.00      0.00        38\n",
      "                                datetime_convert       0.00      0.00      0.00         6\n",
      "                                  datetime_query       0.23      0.31      0.26        29\n",
      "                           edit_personal_details       1.00      1.00      1.00        14\n",
      "                                   exchange_rate       0.92      1.00      0.96        11\n",
      "                                exchange_via_app       0.92      1.00      0.96        12\n",
      "                       extra_charge_on_statement       1.00      0.83      0.91        12\n",
      "                           fiat_currency_support       1.00      0.85      0.92        13\n",
      "                                         general       0.00      0.00      0.00         8\n",
      "                                   general_greet       0.00      0.00      0.00         2\n",
      "                                    general_joke       0.60      0.55      0.57        11\n",
      "                                  general_quirky       0.00      0.00      0.00         5\n",
      "                               get_physical_card       0.00      0.00      0.00         0\n",
      "                            getting_virtual_card       1.00      1.00      1.00         7\n",
      "                                             iot       0.42      0.65      0.51        81\n",
      "                                    iot_cleaning       0.25      0.10      0.14        10\n",
      "                                      iot_coffee       0.00      0.00      0.00        10\n",
      "                             iot_hue_lightchange       0.00      0.00      0.00        12\n",
      "                                iot_hue_lightdim       0.17      0.11      0.13         9\n",
      "                                iot_hue_lightoff       0.00      0.00      0.00        10\n",
      "                                 iot_hue_lighton       0.00      0.00      0.00         2\n",
      "                                 iot_hue_lightup       0.25      0.12      0.17         8\n",
      "                                    iot_wemo_off       0.00      0.00      0.00         7\n",
      "                                     iot_wemo_on       0.00      0.00      0.00         7\n",
      "                             lost_or_stolen_card       1.00      0.80      0.89         5\n",
      "                                           music       0.07      0.03      0.04        36\n",
      "                               music_dislikeness       0.00      0.00      0.00         0\n",
      "                                  music_likeness       0.31      0.31      0.31        13\n",
      "                                     music_query       0.27      0.64      0.38        14\n",
      "                                  music_settings       0.50      0.25      0.33         4\n",
      "                                            news       0.04      0.02      0.03        41\n",
      "                                      news_query       0.25      0.34      0.29        41\n",
      "                                       not toxic       0.92      0.99      0.95       366\n",
      "                         pending_cash_withdrawal       1.00      1.00      1.00         9\n",
      "                                  pending_top_up       0.92      0.92      0.92        12\n",
      "                                     pin_blocked       1.00      0.92      0.96        13\n",
      "                                            play       0.05      0.02      0.02        61\n",
      "                                      play_music       0.36      0.62      0.45        55\n",
      "                                      play_radio       0.00      0.00      0.00         0\n",
      "                                              qa       0.00      0.00      0.00         2\n",
      "                                        qa_stock       0.00      0.00      0.00         1\n",
      "                                  recommendation       0.00      0.00      0.00         1\n",
      "                           recommendation_movies       0.00      0.00      0.00         0\n",
      "                  supported_cards_and_currencies       0.94      1.00      0.97        16\n",
      "                                        takeaway       0.19      0.12      0.15        32\n",
      "                                  takeaway_order       0.17      0.12      0.14        17\n",
      "                                  takeaway_query       0.31      0.80      0.44        10\n",
      "                  top_up_by_bank_transfer_charge       1.00      1.00      1.00         9\n",
      "                                   top_up_limits       1.00      1.00      1.00        12\n",
      "                                 top_up_reverted       0.80      0.89      0.84         9\n",
      "                                           toxic       0.33      0.04      0.07        25\n",
      "              transfer_not_received_by_recipient       1.00      0.93      0.96        14\n",
      "                                       transport       0.00      0.00      0.00         0\n",
      "                                 transport_query       0.00      0.00      0.00         1\n",
      "                       unable_to_verify_identity       1.00      0.88      0.93         8\n",
      "                                         weather       0.03      0.02      0.02        56\n",
      "                                   weather_query       0.18      0.24      0.21        50\n",
      "                             why_verify_identity       0.94      1.00      0.97        16\n",
      "                   wrong_amount_of_cash_received       1.00      0.96      0.98        23\n",
      "\n",
      "                                        accuracy                           0.59      1599\n",
      "                                       macro avg       0.46      0.48      0.46      1599\n",
      "                                    weighted avg       0.54      0.59      0.55      1599\n",
      "\n"
     ]
    },
    {
     "name": "stderr",
     "output_type": "stream",
     "text": [
      "\n",
      "/Users/abcom/.pyenv/versions/3.11.0/envs/learn-ai/lib/python3.11/site-packages/sklearn/metrics/_classification.py:1471: UndefinedMetricWarning: Precision and F-score are ill-defined and being set to 0.0 in labels with no predicted samples. Use `zero_division` parameter to control this behavior.\n",
      "  _warn_prf(average, modifier, msg_start, len(result))\n",
      "/Users/abcom/.pyenv/versions/3.11.0/envs/learn-ai/lib/python3.11/site-packages/sklearn/metrics/_classification.py:1471: UndefinedMetricWarning: Recall and F-score are ill-defined and being set to 0.0 in labels with no true samples. Use `zero_division` parameter to control this behavior.\n",
      "  _warn_prf(average, modifier, msg_start, len(result))\n",
      "/Users/abcom/.pyenv/versions/3.11.0/envs/learn-ai/lib/python3.11/site-packages/sklearn/metrics/_classification.py:1471: UndefinedMetricWarning: Precision and F-score are ill-defined and being set to 0.0 in labels with no predicted samples. Use `zero_division` parameter to control this behavior.\n",
      "  _warn_prf(average, modifier, msg_start, len(result))\n",
      "/Users/abcom/.pyenv/versions/3.11.0/envs/learn-ai/lib/python3.11/site-packages/sklearn/metrics/_classification.py:1471: UndefinedMetricWarning: Recall and F-score are ill-defined and being set to 0.0 in labels with no true samples. Use `zero_division` parameter to control this behavior.\n",
      "  _warn_prf(average, modifier, msg_start, len(result))\n",
      "/Users/abcom/.pyenv/versions/3.11.0/envs/learn-ai/lib/python3.11/site-packages/sklearn/metrics/_classification.py:1471: UndefinedMetricWarning: Precision and F-score are ill-defined and being set to 0.0 in labels with no predicted samples. Use `zero_division` parameter to control this behavior.\n",
      "  _warn_prf(average, modifier, msg_start, len(result))\n",
      "/Users/abcom/.pyenv/versions/3.11.0/envs/learn-ai/lib/python3.11/site-packages/sklearn/metrics/_classification.py:1471: UndefinedMetricWarning: Recall and F-score are ill-defined and being set to 0.0 in labels with no true samples. Use `zero_division` parameter to control this behavior.\n",
      "  _warn_prf(average, modifier, msg_start, len(result))\n"
     ]
    },
    {
     "data": {
      "text/plain": [
       "'                                                  precision    recall  f1-score   support\\n\\n                                       age_limit       1.00      1.00      1.00        11\\n                                           alarm       0.07      0.03      0.04        35\\n                                     alarm_query       0.43      0.75      0.55        12\\n                                    alarm_remove       0.50      1.00      0.67         4\\n                                       alarm_set       0.28      0.41      0.33        17\\n                                           audio       0.00      0.00      0.00        30\\n                               audio_volume_down       0.31      0.80      0.44         5\\n                               audio_volume_mute       0.39      0.70      0.50        10\\n                              audio_volume_other       0.00      0.00      0.00         1\\n                                 audio_volume_up       0.50      0.87      0.63        15\\n                                automatic_top_up       1.00      1.00      1.00        13\\nbalance_not_updated_after_cheque_or_cash_deposit       0.95      1.00      0.97        19\\n                                        calendar       0.00      0.00      0.00         0\\n                                  calendar_query       0.00      0.00      0.00         1\\n                                 cancel_transfer       0.92      0.92      0.92        13\\n                                 card_acceptance       1.00      1.00      1.00         6\\n                                    card_arrival       0.84      0.84      0.84        19\\n                          card_delivery_estimate       0.70      0.88      0.78         8\\n                                    card_linking       0.95      1.00      0.98        20\\n                                card_not_working       0.89      0.80      0.84        10\\n                        card_payment_fee_charged       0.88      1.00      0.93        14\\n                     card_payment_not_recognised       1.00      0.95      0.97        19\\n                card_payment_wrong_exchange_rate       0.92      0.92      0.92        13\\n                         contactless_not_working       1.00      0.88      0.93         8\\n                                        datetime       0.00      0.00      0.00        38\\n                                datetime_convert       0.00      0.00      0.00         6\\n                                  datetime_query       0.23      0.31      0.26        29\\n                           edit_personal_details       1.00      1.00      1.00        14\\n                                   exchange_rate       0.92      1.00      0.96        11\\n                                exchange_via_app       0.92      1.00      0.96        12\\n                       extra_charge_on_statement       1.00      0.83      0.91        12\\n                           fiat_currency_support       1.00      0.85      0.92        13\\n                                         general       0.00      0.00      0.00         8\\n                                   general_greet       0.00      0.00      0.00         2\\n                                    general_joke       0.60      0.55      0.57        11\\n                                  general_quirky       0.00      0.00      0.00         5\\n                               get_physical_card       0.00      0.00      0.00         0\\n                            getting_virtual_card       1.00      1.00      1.00         7\\n                                             iot       0.42      0.65      0.51        81\\n                                    iot_cleaning       0.25      0.10      0.14        10\\n                                      iot_coffee       0.00      0.00      0.00        10\\n                             iot_hue_lightchange       0.00      0.00      0.00        12\\n                                iot_hue_lightdim       0.17      0.11      0.13         9\\n                                iot_hue_lightoff       0.00      0.00      0.00        10\\n                                 iot_hue_lighton       0.00      0.00      0.00         2\\n                                 iot_hue_lightup       0.25      0.12      0.17         8\\n                                    iot_wemo_off       0.00      0.00      0.00         7\\n                                     iot_wemo_on       0.00      0.00      0.00         7\\n                             lost_or_stolen_card       1.00      0.80      0.89         5\\n                                           music       0.07      0.03      0.04        36\\n                               music_dislikeness       0.00      0.00      0.00         0\\n                                  music_likeness       0.31      0.31      0.31        13\\n                                     music_query       0.27      0.64      0.38        14\\n                                  music_settings       0.50      0.25      0.33         4\\n                                            news       0.04      0.02      0.03        41\\n                                      news_query       0.25      0.34      0.29        41\\n                                       not toxic       0.92      0.99      0.95       366\\n                         pending_cash_withdrawal       1.00      1.00      1.00         9\\n                                  pending_top_up       0.92      0.92      0.92        12\\n                                     pin_blocked       1.00      0.92      0.96        13\\n                                            play       0.05      0.02      0.02        61\\n                                      play_music       0.36      0.62      0.45        55\\n                                      play_radio       0.00      0.00      0.00         0\\n                                              qa       0.00      0.00      0.00         2\\n                                        qa_stock       0.00      0.00      0.00         1\\n                                  recommendation       0.00      0.00      0.00         1\\n                           recommendation_movies       0.00      0.00      0.00         0\\n                  supported_cards_and_currencies       0.94      1.00      0.97        16\\n                                        takeaway       0.19      0.12      0.15        32\\n                                  takeaway_order       0.17      0.12      0.14        17\\n                                  takeaway_query       0.31      0.80      0.44        10\\n                  top_up_by_bank_transfer_charge       1.00      1.00      1.00         9\\n                                   top_up_limits       1.00      1.00      1.00        12\\n                                 top_up_reverted       0.80      0.89      0.84         9\\n                                           toxic       0.33      0.04      0.07        25\\n              transfer_not_received_by_recipient       1.00      0.93      0.96        14\\n                                       transport       0.00      0.00      0.00         0\\n                                 transport_query       0.00      0.00      0.00         1\\n                       unable_to_verify_identity       1.00      0.88      0.93         8\\n                                         weather       0.03      0.02      0.02        56\\n                                   weather_query       0.18      0.24      0.21        50\\n                             why_verify_identity       0.94      1.00      0.97        16\\n                   wrong_amount_of_cash_received       1.00      0.96      0.98        23\\n\\n                                        accuracy                           0.59      1599\\n                                       macro avg       0.46      0.48      0.46      1599\\n                                    weighted avg       0.54      0.59      0.55      1599\\n'"
      ]
     },
     "execution_count": 109,
     "metadata": {},
     "output_type": "execute_result"
    }
   ],
   "source": [
    "classify_and_calculate_accuracy(test_csv,use_rag=True,chat_model=fine_tuned_model)"
   ]
  },
  {
   "cell_type": "code",
   "execution_count": 110,
   "metadata": {},
   "outputs": [
    {
     "name": "stderr",
     "output_type": "stream",
     "text": [
      "Predicting:  40%|████      | 645/1599 [00:54<02:02,  7.77it/s]Incomplete output detected, should increase max_tokens\n",
      "Incomplete output detected, should increase max_tokens\n",
      "Predicting: 100%|██████████| 1599/1599 [02:04<00:00, 12.79it/s]"
     ]
    },
    {
     "name": "stdout",
     "output_type": "stream",
     "text": [
      "Accuracy: 0.3902439024390244\n",
      "Classification Report:\n",
      "                                                  precision    recall  f1-score   support\n",
      "\n",
      "                                       age_limit       1.00      0.27      0.43        11\n",
      "                                           alarm       0.56      0.14      0.23        35\n",
      "                                     alarm_query       0.50      0.75      0.60        12\n",
      "                                    alarm_remove       0.50      0.75      0.60         4\n",
      "                                       alarm_set       0.41      0.82      0.55        17\n",
      "                                           audio       0.00      0.00      0.00        30\n",
      "                               audio_volume_down       0.30      0.60      0.40         5\n",
      "                               audio_volume_mute       0.41      0.70      0.52        10\n",
      "                              audio_volume_other       0.20      1.00      0.33         1\n",
      "                                 audio_volume_up       0.61      0.73      0.67        15\n",
      "                                automatic_top_up       1.00      0.92      0.96        13\n",
      "balance_not_updated_after_cheque_or_cash_deposit       0.78      0.95      0.86        19\n",
      "                                  calendar_query       0.00      0.00      0.00         1\n",
      "                                 cancel_transfer       1.00      0.46      0.63        13\n",
      "                                 card_acceptance       0.86      1.00      0.92         6\n",
      "                                    card_arrival       0.33      0.21      0.26        19\n",
      "                          card_delivery_estimate       0.15      0.25      0.19         8\n",
      "                                    card_linking       1.00      0.70      0.82        20\n",
      "                                card_not_working       0.60      0.60      0.60        10\n",
      "                        card_payment_fee_charged       0.83      0.36      0.50        14\n",
      "                     card_payment_not_recognised       0.64      0.37      0.47        19\n",
      "                card_payment_wrong_exchange_rate       1.00      0.23      0.38        13\n",
      "                         contactless_not_working       1.00      0.62      0.77         8\n",
      "                                        datetime       0.22      0.05      0.09        38\n",
      "                                datetime_convert       1.00      0.33      0.50         6\n",
      "                                  datetime_query       0.38      0.93      0.54        29\n",
      "                           edit_personal_details       1.00      0.50      0.67        14\n",
      "                                   exchange_rate       0.28      1.00      0.44        11\n",
      "                                exchange_via_app       0.50      0.17      0.25        12\n",
      "                       extra_charge_on_statement       0.48      1.00      0.65        12\n",
      "                           fiat_currency_support       0.69      0.69      0.69        13\n",
      "                                         general       0.00      0.00      0.00         8\n",
      "                                   general_greet       0.00      0.00      0.00         2\n",
      "                                    general_joke       0.71      0.91      0.80        11\n",
      "                                  general_quirky       0.00      0.00      0.00         5\n",
      "                               get_physical_card       0.00      0.00      0.00         0\n",
      "                            getting_virtual_card       1.00      0.29      0.44         7\n",
      "                                             iot       0.44      0.91      0.59        81\n",
      "                                    iot_cleaning       0.00      0.00      0.00        10\n",
      "                                      iot_coffee       0.60      0.60      0.60        10\n",
      "                             iot_hue_lightchange       0.00      0.00      0.00        12\n",
      "                                iot_hue_lightdim       1.00      0.11      0.20         9\n",
      "                                iot_hue_lightoff       0.00      0.00      0.00        10\n",
      "                                 iot_hue_lighton       0.00      0.00      0.00         2\n",
      "                                 iot_hue_lightup       1.00      0.12      0.22         8\n",
      "                                    iot_wemo_off       0.00      0.00      0.00         7\n",
      "                                     iot_wemo_on       0.00      0.00      0.00         7\n",
      "                             lost_or_stolen_card       0.80      0.80      0.80         5\n",
      "                                           music       0.35      0.17      0.23        36\n",
      "                                  music_likeness       0.00      0.00      0.00        13\n",
      "                                     music_query       0.13      0.14      0.14        14\n",
      "                                  music_settings       0.00      0.00      0.00         4\n",
      "                                            news       0.11      0.46      0.18        41\n",
      "                                      news_query       0.54      0.51      0.53        41\n",
      "                                       not toxic       0.79      0.16      0.26       366\n",
      "                         pending_cash_withdrawal       1.00      0.89      0.94         9\n",
      "                                  pending_top_up       1.00      0.42      0.59        12\n",
      "                                     pin_blocked       1.00      0.85      0.92        13\n",
      "                                            play       1.00      0.03      0.06        61\n",
      "                                      play_music       0.33      0.84      0.47        55\n",
      "                                      play_radio       0.00      0.00      0.00         0\n",
      "                                              qa       0.00      0.00      0.00         2\n",
      "                                        qa_stock       0.50      1.00      0.67         1\n",
      "                                  recommendation       0.00      0.00      0.00         1\n",
      "                           recommendation_movies       0.00      0.00      0.00         0\n",
      "                  supported_cards_and_currencies       1.00      0.25      0.40        16\n",
      "                                        takeaway       0.43      0.31      0.36        32\n",
      "                                  takeaway_order       0.00      0.00      0.00        17\n",
      "                                  takeaway_query       0.22      0.80      0.34        10\n",
      "                  top_up_by_bank_transfer_charge       0.00      0.00      0.00         9\n",
      "                                   top_up_limits       0.80      1.00      0.89        12\n",
      "                                 top_up_reverted       1.00      0.56      0.71         9\n",
      "                                           toxic       0.30      0.44      0.35        25\n",
      "              transfer_not_received_by_recipient       1.00      0.71      0.83        14\n",
      "                                       transport       0.00      0.00      0.00         0\n",
      "                                 transport_query       0.00      0.00      0.00         1\n",
      "                       unable_to_verify_identity       0.00      0.00      0.00         8\n",
      "                                         weather       0.29      0.04      0.06        56\n",
      "                                   weather_query       0.44      0.80      0.57        50\n",
      "                             why_verify_identity       0.67      0.88      0.76        16\n",
      "                   wrong_amount_of_cash_received       0.80      0.70      0.74        23\n",
      "\n",
      "                                        accuracy                           0.39      1599\n",
      "                                       macro avg       0.46      0.41      0.37      1599\n",
      "                                    weighted avg       0.57      0.39      0.37      1599\n",
      "\n"
     ]
    },
    {
     "name": "stderr",
     "output_type": "stream",
     "text": [
      "\n",
      "/Users/abcom/.pyenv/versions/3.11.0/envs/learn-ai/lib/python3.11/site-packages/sklearn/metrics/_classification.py:1471: UndefinedMetricWarning: Precision and F-score are ill-defined and being set to 0.0 in labels with no predicted samples. Use `zero_division` parameter to control this behavior.\n",
      "  _warn_prf(average, modifier, msg_start, len(result))\n",
      "/Users/abcom/.pyenv/versions/3.11.0/envs/learn-ai/lib/python3.11/site-packages/sklearn/metrics/_classification.py:1471: UndefinedMetricWarning: Recall and F-score are ill-defined and being set to 0.0 in labels with no true samples. Use `zero_division` parameter to control this behavior.\n",
      "  _warn_prf(average, modifier, msg_start, len(result))\n",
      "/Users/abcom/.pyenv/versions/3.11.0/envs/learn-ai/lib/python3.11/site-packages/sklearn/metrics/_classification.py:1471: UndefinedMetricWarning: Precision and F-score are ill-defined and being set to 0.0 in labels with no predicted samples. Use `zero_division` parameter to control this behavior.\n",
      "  _warn_prf(average, modifier, msg_start, len(result))\n",
      "/Users/abcom/.pyenv/versions/3.11.0/envs/learn-ai/lib/python3.11/site-packages/sklearn/metrics/_classification.py:1471: UndefinedMetricWarning: Recall and F-score are ill-defined and being set to 0.0 in labels with no true samples. Use `zero_division` parameter to control this behavior.\n",
      "  _warn_prf(average, modifier, msg_start, len(result))\n",
      "/Users/abcom/.pyenv/versions/3.11.0/envs/learn-ai/lib/python3.11/site-packages/sklearn/metrics/_classification.py:1471: UndefinedMetricWarning: Precision and F-score are ill-defined and being set to 0.0 in labels with no predicted samples. Use `zero_division` parameter to control this behavior.\n",
      "  _warn_prf(average, modifier, msg_start, len(result))\n",
      "/Users/abcom/.pyenv/versions/3.11.0/envs/learn-ai/lib/python3.11/site-packages/sklearn/metrics/_classification.py:1471: UndefinedMetricWarning: Recall and F-score are ill-defined and being set to 0.0 in labels with no true samples. Use `zero_division` parameter to control this behavior.\n",
      "  _warn_prf(average, modifier, msg_start, len(result))\n"
     ]
    },
    {
     "data": {
      "text/plain": [
       "'                                                  precision    recall  f1-score   support\\n\\n                                       age_limit       1.00      0.27      0.43        11\\n                                           alarm       0.56      0.14      0.23        35\\n                                     alarm_query       0.50      0.75      0.60        12\\n                                    alarm_remove       0.50      0.75      0.60         4\\n                                       alarm_set       0.41      0.82      0.55        17\\n                                           audio       0.00      0.00      0.00        30\\n                               audio_volume_down       0.30      0.60      0.40         5\\n                               audio_volume_mute       0.41      0.70      0.52        10\\n                              audio_volume_other       0.20      1.00      0.33         1\\n                                 audio_volume_up       0.61      0.73      0.67        15\\n                                automatic_top_up       1.00      0.92      0.96        13\\nbalance_not_updated_after_cheque_or_cash_deposit       0.78      0.95      0.86        19\\n                                  calendar_query       0.00      0.00      0.00         1\\n                                 cancel_transfer       1.00      0.46      0.63        13\\n                                 card_acceptance       0.86      1.00      0.92         6\\n                                    card_arrival       0.33      0.21      0.26        19\\n                          card_delivery_estimate       0.15      0.25      0.19         8\\n                                    card_linking       1.00      0.70      0.82        20\\n                                card_not_working       0.60      0.60      0.60        10\\n                        card_payment_fee_charged       0.83      0.36      0.50        14\\n                     card_payment_not_recognised       0.64      0.37      0.47        19\\n                card_payment_wrong_exchange_rate       1.00      0.23      0.38        13\\n                         contactless_not_working       1.00      0.62      0.77         8\\n                                        datetime       0.22      0.05      0.09        38\\n                                datetime_convert       1.00      0.33      0.50         6\\n                                  datetime_query       0.38      0.93      0.54        29\\n                           edit_personal_details       1.00      0.50      0.67        14\\n                                   exchange_rate       0.28      1.00      0.44        11\\n                                exchange_via_app       0.50      0.17      0.25        12\\n                       extra_charge_on_statement       0.48      1.00      0.65        12\\n                           fiat_currency_support       0.69      0.69      0.69        13\\n                                         general       0.00      0.00      0.00         8\\n                                   general_greet       0.00      0.00      0.00         2\\n                                    general_joke       0.71      0.91      0.80        11\\n                                  general_quirky       0.00      0.00      0.00         5\\n                               get_physical_card       0.00      0.00      0.00         0\\n                            getting_virtual_card       1.00      0.29      0.44         7\\n                                             iot       0.44      0.91      0.59        81\\n                                    iot_cleaning       0.00      0.00      0.00        10\\n                                      iot_coffee       0.60      0.60      0.60        10\\n                             iot_hue_lightchange       0.00      0.00      0.00        12\\n                                iot_hue_lightdim       1.00      0.11      0.20         9\\n                                iot_hue_lightoff       0.00      0.00      0.00        10\\n                                 iot_hue_lighton       0.00      0.00      0.00         2\\n                                 iot_hue_lightup       1.00      0.12      0.22         8\\n                                    iot_wemo_off       0.00      0.00      0.00         7\\n                                     iot_wemo_on       0.00      0.00      0.00         7\\n                             lost_or_stolen_card       0.80      0.80      0.80         5\\n                                           music       0.35      0.17      0.23        36\\n                                  music_likeness       0.00      0.00      0.00        13\\n                                     music_query       0.13      0.14      0.14        14\\n                                  music_settings       0.00      0.00      0.00         4\\n                                            news       0.11      0.46      0.18        41\\n                                      news_query       0.54      0.51      0.53        41\\n                                       not toxic       0.79      0.16      0.26       366\\n                         pending_cash_withdrawal       1.00      0.89      0.94         9\\n                                  pending_top_up       1.00      0.42      0.59        12\\n                                     pin_blocked       1.00      0.85      0.92        13\\n                                            play       1.00      0.03      0.06        61\\n                                      play_music       0.33      0.84      0.47        55\\n                                      play_radio       0.00      0.00      0.00         0\\n                                              qa       0.00      0.00      0.00         2\\n                                        qa_stock       0.50      1.00      0.67         1\\n                                  recommendation       0.00      0.00      0.00         1\\n                           recommendation_movies       0.00      0.00      0.00         0\\n                  supported_cards_and_currencies       1.00      0.25      0.40        16\\n                                        takeaway       0.43      0.31      0.36        32\\n                                  takeaway_order       0.00      0.00      0.00        17\\n                                  takeaway_query       0.22      0.80      0.34        10\\n                  top_up_by_bank_transfer_charge       0.00      0.00      0.00         9\\n                                   top_up_limits       0.80      1.00      0.89        12\\n                                 top_up_reverted       1.00      0.56      0.71         9\\n                                           toxic       0.30      0.44      0.35        25\\n              transfer_not_received_by_recipient       1.00      0.71      0.83        14\\n                                       transport       0.00      0.00      0.00         0\\n                                 transport_query       0.00      0.00      0.00         1\\n                       unable_to_verify_identity       0.00      0.00      0.00         8\\n                                         weather       0.29      0.04      0.06        56\\n                                   weather_query       0.44      0.80      0.57        50\\n                             why_verify_identity       0.67      0.88      0.76        16\\n                   wrong_amount_of_cash_received       0.80      0.70      0.74        23\\n\\n                                        accuracy                           0.39      1599\\n                                       macro avg       0.46      0.41      0.37      1599\\n                                    weighted avg       0.57      0.39      0.37      1599\\n'"
      ]
     },
     "execution_count": 110,
     "metadata": {},
     "output_type": "execute_result"
    }
   ],
   "source": [
    "classify_and_calculate_accuracy(test_csv,use_rag=False,chat_model=\"gpt-3.5-turbo\")"
   ]
  },
  {
   "cell_type": "markdown",
   "metadata": {},
   "source": [
    "### Finetuned Model Without RAG Classification Report\n",
    "\n",
    "| Class                                          | Precision | Recall | F1-Score | Support |\n",
    "|------------------------------------------------|-----------|--------|----------|---------|\n",
    "| age_limit                                      | 1.00      | 1.00   | 1.00     | 11      |\n",
    "| alarm                                          | 0.50      | 0.03   | 0.05     | 35      |\n",
    "| alarm_query                                    | 0.45      | 0.83   | 0.59     | 12      |\n",
    "| alarm_remove                                   | 0.50      | 1.00   | 0.67     | 4       |\n",
    "| alarm_set                                      | 0.44      | 0.94   | 0.60     | 17      |\n",
    "| audio                                          | 0.00      | 0.00   | 0.00     | 30      |\n",
    "| audio_volume_down                              | 0.36      | 0.80   | 0.50     | 5       |\n",
    "| audio_volume_mute                              | 0.43      | 1.00   | 0.61     | 10      |\n",
    "| audio_volume_other                             | 1.00      | 1.00   | 1.00     | 1       |\n",
    "| audio_volume_up                                | 0.58      | 0.93   | 0.72     | 15      |\n",
    "| automatic_top_up                               | 1.00      | 1.00   | 1.00     | 13      |\n",
    "| balance_not_updated_after_cheque_or_cash_deposit | 0.90      | 1.00   | 0.95     | 19      |\n",
    "| calendar_query                                 | 0.50      | 1.00   | 0.67     | 1       |\n",
    "| cancel_transfer                                | 1.00      | 0.92   | 0.96     | 13      |\n",
    "| card_acceptance                                | 1.00      | 1.00   | 1.00     | 6       |\n",
    "| card_arrival                                   | 0.75      | 0.79   | 0.77     | 19      |\n",
    "| card_delivery_estimate                         | 0.56      | 0.62   | 0.59     | 8       |\n",
    "| card_linking                                   | 0.95      | 1.00   | 0.98     | 20      |\n",
    "| card_not_working                               | 1.00      | 0.70   | 0.82     | 10      |\n",
    "| card_payment_fee_charged                       | 0.92      | 0.79   | 0.85     | 14      |\n",
    "| card_payment_not_recognised                    | 1.00      | 0.89   | 0.94     | 19      |\n",
    "| ...                                            | ...       | ...    | ...      | ...     |\n",
    "| **accuracy**                                   |           |        | **0.68** | 1599    |\n",
    "| **macro avg**                                  | 0.61      | 0.63   | 0.57     | 1599    |\n",
    "| **weighted avg**                               | 0.69      | 0.68   | 0.62     | 1599    |"
   ]
  },
  {
   "cell_type": "markdown",
   "metadata": {},
   "source": [
    "### Finetuned Model with RAG Classification Report\n",
    "| Class                                          | Precision | Recall | F1-Score | Support |\n",
    "|------------------------------------------------|-----------|--------|----------|---------|\n",
    "| age_limit                                      | 1.00      | 1.00   | 1.00     | 11      |\n",
    "| alarm                                          | 0.07      | 0.03   | 0.04     | 35      |\n",
    "| alarm_query                                    | 0.43      | 0.75   | 0.55     | 12      |\n",
    "| alarm_remove                                   | 0.50      | 1.00   | 0.67     | 4       |\n",
    "| alarm_set                                      | 0.28      | 0.41   | 0.33     | 17      |\n",
    "| audio                                          | 0.00      | 0.00   | 0.00     | 30      |\n",
    "| audio_volume_down                              | 0.31      | 0.80   | 0.44     | 5       |\n",
    "| audio_volume_mute                              | 0.39      | 0.70   | 0.50     | 10      |\n",
    "| audio_volume_other                             | 0.00      | 0.00   | 0.00     | 1       |\n",
    "| audio_volume_up                                | 0.50      | 0.87   | 0.63     | 15      |\n",
    "| automatic_top_up                               | 1.00      | 1.00   | 1.00     | 13      |\n",
    "| balance_not_updated_after_cheque_or_cash_deposit | 0.95      | 1.00   | 0.97     | 19      |\n",
    "| calendar                                       | 0.00      | 0.00   | 0.00     | 0       |\n",
    "| calendar_query                                 | 0.00      | 0.00   | 0.00     | 1       |\n",
    "| cancel_transfer                                | 0.92      | 0.92   | 0.92     | 13      |\n",
    "| card_acceptance                                | 1.00      | 1.00   | 1.00     | 6       |\n",
    "| card_arrival                                   | 0.84      | 0.84   | 0.84     | 19      |\n",
    "| card_delivery_estimate                         | 0.70      | 0.88   | 0.78     | 8       |\n",
    "| card_linking                                   | 0.95      | 1.00   | 0.98     | 20      |\n",
    "| card_not_working                               | 0.89      | 0.80   | 0.84     | 10      |\n",
    "| card_payment_fee_charged                       | 0.88      | 1.00   | 0.93     | 14      |\n",
    "| ...                                            | ...       | ...    | ...      | ...     |\n",
    "| **accuracy**                                   |           |        | **0.59** | 1599    |\n",
    "| **macro avg**                                  | 0.46      | 0.48   | 0.46     | 1599    |\n",
    "| **weighted avg**                               | 0.54      | 0.59   | 0.55     | 1599    |"
   ]
  },
  {
   "cell_type": "markdown",
   "metadata": {},
   "source": [
    "### Base Model With RAG For Few-Shot\n",
    "| Class                                          | Precision | Recall | F1-Score | Support |\n",
    "|------------------------------------------------|-----------|--------|----------|---------|\n",
    "| age_limit                                      | 0.85      | 1.00   | 0.92     | 11      |\n",
    "| alarm                                          | 0.04      | 0.03   | 0.03     | 35      |\n",
    "| alarm_query                                    | 0.08      | 0.08   | 0.08     | 12      |\n",
    "| alarm_remove                                   | 0.50      | 0.75   | 0.60     | 4       |\n",
    "| alarm_set                                      | 0.24      | 0.35   | 0.29     | 17      |\n",
    "| audio                                          | 0.00      | 0.00   | 0.00     | 30      |\n",
    "| audio_volume_down                              | 0.12      | 0.20   | 0.15     | 5       |\n",
    "| audio_volume_mute                              | 0.35      | 0.60   | 0.44     | 10      |\n",
    "| audio_volume_other                             | 0.00      | 0.00   | 0.00     | 1       |\n",
    "| audio_volume_up                                | 0.21      | 0.20   | 0.21     | 15      |\n",
    "| automatic_top_up                               | 1.00      | 0.92   | 0.96     | 13      |\n",
    "| balance_not_updated_after_cheque_or_cash_deposit | 0.79      | 1.00   | 0.88     | 19      |\n",
    "| calendar                                       | 0.00      | 0.00   | 0.00     | 0       |\n",
    "| calendar_query                                 | 0.00      | 0.00   | 0.00     | 1       |\n",
    "| cancel_transfer                                | 0.92      | 0.92   | 0.92     | 13      |\n",
    "| card_acceptance                                | 0.86      | 1.00   | 0.92     | 6       |\n",
    "| card_arrival                                   | 0.81      | 0.68   | 0.74     | 19      |\n",
    "| card_delivery_estimate                         | 0.64      | 0.88   | 0.74     | 8       |\n",
    "| card_linking                                   | 1.00      | 1.00   | 1.00     | 20      |\n",
    "| card_not_working                               | 0.80      | 0.80   | 0.80     | 10      |\n",
    "| card_payment_fee_charged                       | 1.00      | 0.93   | 0.96     | 14      |\n",
    "| ...                                            | ...       | ...    | ...      | ...     |\n",
    "| **accuracy**                                   |           |        | **0.51** | 1599    |\n",
    "| **macro avg**                                  | 0.41      | 0.43   | 0.41     | 1599    |\n",
    "| **weighted avg**                               | 0.52      | 0.51   | 0.50     | 1599    |"
   ]
  },
  {
   "cell_type": "markdown",
   "metadata": {},
   "source": [
    "### Finetuned Model without RAG \n",
    "| Class                                          | Precision | Recall | F1-Score | Support |\n",
    "|------------------------------------------------|-----------|--------|----------|---------|\n",
    "| age_limit                                      | 1.00      | 0.27   | 0.43     | 11      |\n",
    "| alarm                                          | 0.56      | 0.14   | 0.23     | 35      |\n",
    "| alarm_query                                    | 0.50      | 0.75   | 0.60     | 12      |\n",
    "| alarm_remove                                   | 0.50      | 0.75   | 0.60     | 4       |\n",
    "| alarm_set                                      | 0.41      | 0.82   | 0.55     | 17      |\n",
    "| audio                                          | 0.00      | 0.00   | 0.00     | 30      |\n",
    "| audio_volume_down                              | 0.30      | 0.60   | 0.40     | 5       |\n",
    "| audio_volume_mute                              | 0.41      | 0.70   | 0.52     | 10      |\n",
    "| audio_volume_other                             | 0.20      | 1.00   | 0.33     | 1       |\n",
    "| audio_volume_up                                | 0.61      | 0.73   | 0.67     | 15      |\n",
    "| automatic_top_up                               | 1.00      | 0.92   | 0.96     | 13      |\n",
    "| balance_not_updated_after_cheque_or_cash_deposit | 0.78      | 0.95   | 0.86     | 19      |\n",
    "| calendar_query                                 | 0.00      | 0.00   | 0.00     | 1       |\n",
    "| cancel_transfer                                | 1.00      | 0.46   | 0.63     | 13      |\n",
    "| card_acceptance                                | 0.86      | 1.00   | 0.92     | 6       |\n",
    "| card_arrival                                   | 0.33      | 0.21   | 0.26     | 19      |\n",
    "| card_delivery_estimate                         | 0.15      | 0.25   | 0.19     | 8       |\n",
    "| card_linking                                   | 1.00      | 0.70   | 0.82     | 20      |\n",
    "| card_not_working                               | 0.60      | 0.60   | 0.60     | 10      |\n",
    "| card_payment_fee_charged                       | 0.83      | 0.36   | 0.50     | 14      |\n",
    "| card_payment_not_recognised                    | 0.64      | 0.37   | 0.47     | 19      |\n",
    "| ...                                            | ...       | ...    | ...      | ...     |\n",
    "| **accuracy**                                   |           |        | **0.39** | 1599    |\n",
    "| **macro avg**                                  | 0.46      | 0.41   | 0.37     | 1599    |\n",
    "| **weighted avg**                               | 0.57      | 0.39   | 0.37     | 1599    |"
   ]
  },
  {
   "cell_type": "markdown",
   "metadata": {},
   "source": [
    "| Technique                          | Accuracy | Macro Avg Precision | Macro Avg Recall | Macro Avg F1-Score | Weighted Avg Precision | Weighted Avg Recall | Weighted Avg F1-Score |\n",
    "|------------------------------------|----------|---------------------|------------------|--------------------|------------------------|---------------------|-----------------------|\n",
    "| Finetuned Model without RAG        | 0.68     | 0.61                | 0.63             | 0.57               | 0.69                   | 0.68                | 0.62                  |\n",
    "| Finetuned Model with RAG           | 0.59     | 0.46                | 0.48             | 0.46               | 0.54                   | 0.59                | 0.55                  |\n",
    "| Base Model with RAG    | 0.51     | 0.41                | 0.43             | 0.41               | 0.52                   | 0.51                | 0.50                  |\n",
    "| Base Model without RAG  | 0.39     | 0.46                | 0.41             | 0.37               | 0.57                   | 0.39                | 0.37                  |"
   ]
  },
  {
   "cell_type": "markdown",
   "metadata": {},
   "source": []
  }
 ],
 "metadata": {
  "kernelspec": {
   "display_name": "learn-ai",
   "language": "python",
   "name": "python3"
  },
  "language_info": {
   "codemirror_mode": {
    "name": "ipython",
    "version": 3
   },
   "file_extension": ".py",
   "mimetype": "text/x-python",
   "name": "python",
   "nbconvert_exporter": "python",
   "pygments_lexer": "ipython3",
   "version": "3.11.0"
  }
 },
 "nbformat": 4,
 "nbformat_minor": 2
}
