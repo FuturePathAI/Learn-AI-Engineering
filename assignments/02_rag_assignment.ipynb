{
 "cells": [
  {
   "cell_type": "markdown",
   "metadata": {},
   "source": [
    "### Read the Data"
   ]
  },
  {
   "cell_type": "code",
   "execution_count": 216,
   "metadata": {},
   "outputs": [],
   "source": [
    "import pandas as pd\n",
    "test_data = pd.read_csv('cohort-1-rag-challenge/test.csv')"
   ]
  },
  {
   "cell_type": "code",
   "execution_count": 217,
   "metadata": {},
   "outputs": [
    {
     "data": {
      "text/html": [
       "<div>\n",
       "<style scoped>\n",
       "    .dataframe tbody tr th:only-of-type {\n",
       "        vertical-align: middle;\n",
       "    }\n",
       "\n",
       "    .dataframe tbody tr th {\n",
       "        vertical-align: top;\n",
       "    }\n",
       "\n",
       "    .dataframe thead th {\n",
       "        text-align: right;\n",
       "    }\n",
       "</style>\n",
       "<table border=\"1\" class=\"dataframe\">\n",
       "  <thead>\n",
       "    <tr style=\"text-align: right;\">\n",
       "      <th></th>\n",
       "      <th>question</th>\n",
       "      <th>contexts</th>\n",
       "      <th>ground_truth</th>\n",
       "      <th>exact_answer</th>\n",
       "    </tr>\n",
       "  </thead>\n",
       "  <tbody>\n",
       "    <tr>\n",
       "      <th>0</th>\n",
       "      <td>What is Snord116?</td>\n",
       "      <td>['Further analysis with array-CGH identified a mosaic 847\\u2009kb deletion in 15q11-q13, including SNURF-SNRPN, the snoRNA gene clusters SNORD116 (HBII-85), SNORD115, (HBII-52), SNORD109 A and B (HBII-438A and B), SNORD64 (HBII-13), and NPAP1 (C15ORF2).', 'All three deletions included SNORD116, but only two encompassed parts of SNURF-SNRPN, implicating SNORD116 as the major contributor to the Prader-Willi phenotype. Our case adds further information about genotype-phenotype correlation and s...</td>\n",
       "      <td>['SNORD116 is a small nucleolar (sno) RNA gene cluster (HBII-85) implicated as a major contributor the Prader-Willi phenotype. \\nSNORD116 genes appears to be responsible for the major features of PWS. \\nSNORD116 is a paternally expressed box C/D snoRNA gene cluster.\\nThe mouse C/D box snoRNA MBII-85 (SNORD116) is processed into at least five shorter RNAs using processing sites near known functional elements of C/D box snoRNAs.\\nSnord116 expression in the medial hypothalamus, particularly wit...</td>\n",
       "      <td>[]</td>\n",
       "    </tr>\n",
       "    <tr>\n",
       "      <th>1</th>\n",
       "      <td>Are ultraconserved elements often transcribed?</td>\n",
       "      <td>['Starting from a genome-wide expression profiling, we demonstrate for the first time a functional link between oxygen deprivation and the modulation of long noncoding transcripts from ultraconserved regions, termed transcribed-ultraconserved regions (T-UCRs)', 'Our data gives a first glimpse of a novel functional hypoxic network comprising protein-coding transcripts and noncoding RNAs (ncRNAs) from the T-UCRs category', 'Highly conserved elements discovered in vertebrates are present in non...</td>\n",
       "      <td>['Yes.  Especially, a large fraction of non-exonic UCEs is transcribed across all developmental stages examined from only one DNA strand.']</td>\n",
       "      <td>['yes']</td>\n",
       "    </tr>\n",
       "    <tr>\n",
       "      <th>2</th>\n",
       "      <td>List metalloenzyme inhibitors.</td>\n",
       "      <td>[' Clinically approved inhibitors were selected as well as several other reported metalloprotein inhibitors in order to represent a broad range of metal binding groups (MBGs), including hydroxamic acid, carboxylate, hydroxypyridinonate, thiol, and N-hydroxyurea functional groups.', 'A total of 21 different raltegravir-chelator derivative (RCD) compounds were prepared that differed only in the nature of the MBG. ', 'At least two compounds (RCD-4, RCD-5) containing a hydroxypyrone MBG were fou...</td>\n",
       "      <td>['Foscarnet\\nVT-1129\\nVT-1161 \\nBB-3497\\nhydroxamate molecules\\nsiderophores']</td>\n",
       "      <td>['VT-1129', 'VT-1161', 'BB-3497', 'hydroxamate molecules', 'siderophores', 'Foscarnet']</td>\n",
       "    </tr>\n",
       "    <tr>\n",
       "      <th>3</th>\n",
       "      <td>Which protein phosphatase has been found to interact with the heat shock protein, HSP20?</td>\n",
       "      <td>[' Moreover, protein phosphatase-1 activity is regulated by two binding partners, inhibitor-1 and the small heat shock protein 20, Hsp20. Indeed, human genetic variants of inhibitor-1 (G147D) or Hsp20 (P20L) result in reduced binding and inhibition of protein phosphatase-1, suggesting aberrant enzymatic regulation in human carriers. ', 'Small heat shock protein 20 interacts with protein phosphatase-1 and enhances sarcoplasmic reticulum calcium cycling.', ' Hsp20 overexpression in intact anim...</td>\n",
       "      <td>['Protein phosphatase-1 activity is regulated by two binding partners, inhibitor-1 and the small heat shock protein 20, Hsp20. Cell fractionation, coimmunoprecipitation, and coimmunolocalization studies, revealed an association between Hsp20 and PP1. Small heat shock protein 20 interacts with protein phosphatase-1 and enhances sarcoplasmic reticulum calcium cycling.', 'Moreover, protein phosphatase-1 activity is regulated by two binding partners, inhibitor-1 and the small heat shock protein ...</td>\n",
       "      <td>['Protein phosphatase 1', 'PP1']</td>\n",
       "    </tr>\n",
       "    <tr>\n",
       "      <th>4</th>\n",
       "      <td>Do DNA double-strand breaks play a causal role in carcinogenesis?</td>\n",
       "      <td>['The DNA non-homologous end-joining repair gene XRCC6/Ku70 plays an important role in the repair of DNA double-strand breaks (DSBs) induced by both exogenous and endogenous DNA-damaging agents. Defects in overall DSB repair capacity can lead to genomic instability and carcinogenesis.', 'The tumor suppressor breast cancer susceptibility protein 1 (BRCA1) protects our cells from genomic instability in part by facilitating the efficient repair of DNA double-strand breaks (DSBs). BRCA1 promotes...</td>\n",
       "      <td>['Yes. It has been demonstrated that induction of DNA double-strand breaks (DSBs) and defects in overall DSBs repair capacity can lead to an accumulation of mutations, resulting in genomic instability of cells. Given that genomic instability is the hallmark of cancer, DSBs play a causal role in carcinogenesis.']</td>\n",
       "      <td>['yes']</td>\n",
       "    </tr>\n",
       "  </tbody>\n",
       "</table>\n",
       "</div>"
      ],
      "text/plain": [
       "                                                                                   question  \\\n",
       "0                                                                         What is Snord116?   \n",
       "1                                            Are ultraconserved elements often transcribed?   \n",
       "2                                                            List metalloenzyme inhibitors.   \n",
       "3  Which protein phosphatase has been found to interact with the heat shock protein, HSP20?   \n",
       "4                         Do DNA double-strand breaks play a causal role in carcinogenesis?   \n",
       "\n",
       "                                                                                                                                                                                                                                                                                                                                                                                                                                                                                                              contexts  \\\n",
       "0  ['Further analysis with array-CGH identified a mosaic 847\\u2009kb deletion in 15q11-q13, including SNURF-SNRPN, the snoRNA gene clusters SNORD116 (HBII-85), SNORD115, (HBII-52), SNORD109 A and B (HBII-438A and B), SNORD64 (HBII-13), and NPAP1 (C15ORF2).', 'All three deletions included SNORD116, but only two encompassed parts of SNURF-SNRPN, implicating SNORD116 as the major contributor to the Prader-Willi phenotype. Our case adds further information about genotype-phenotype correlation and s...   \n",
       "1  ['Starting from a genome-wide expression profiling, we demonstrate for the first time a functional link between oxygen deprivation and the modulation of long noncoding transcripts from ultraconserved regions, termed transcribed-ultraconserved regions (T-UCRs)', 'Our data gives a first glimpse of a novel functional hypoxic network comprising protein-coding transcripts and noncoding RNAs (ncRNAs) from the T-UCRs category', 'Highly conserved elements discovered in vertebrates are present in non...   \n",
       "2  [' Clinically approved inhibitors were selected as well as several other reported metalloprotein inhibitors in order to represent a broad range of metal binding groups (MBGs), including hydroxamic acid, carboxylate, hydroxypyridinonate, thiol, and N-hydroxyurea functional groups.', 'A total of 21 different raltegravir-chelator derivative (RCD) compounds were prepared that differed only in the nature of the MBG. ', 'At least two compounds (RCD-4, RCD-5) containing a hydroxypyrone MBG were fou...   \n",
       "3  [' Moreover, protein phosphatase-1 activity is regulated by two binding partners, inhibitor-1 and the small heat shock protein 20, Hsp20. Indeed, human genetic variants of inhibitor-1 (G147D) or Hsp20 (P20L) result in reduced binding and inhibition of protein phosphatase-1, suggesting aberrant enzymatic regulation in human carriers. ', 'Small heat shock protein 20 interacts with protein phosphatase-1 and enhances sarcoplasmic reticulum calcium cycling.', ' Hsp20 overexpression in intact anim...   \n",
       "4  ['The DNA non-homologous end-joining repair gene XRCC6/Ku70 plays an important role in the repair of DNA double-strand breaks (DSBs) induced by both exogenous and endogenous DNA-damaging agents. Defects in overall DSB repair capacity can lead to genomic instability and carcinogenesis.', 'The tumor suppressor breast cancer susceptibility protein 1 (BRCA1) protects our cells from genomic instability in part by facilitating the efficient repair of DNA double-strand breaks (DSBs). BRCA1 promotes...   \n",
       "\n",
       "                                                                                                                                                                                                                                                                                                                                                                                                                                                                                                          ground_truth  \\\n",
       "0  ['SNORD116 is a small nucleolar (sno) RNA gene cluster (HBII-85) implicated as a major contributor the Prader-Willi phenotype. \\nSNORD116 genes appears to be responsible for the major features of PWS. \\nSNORD116 is a paternally expressed box C/D snoRNA gene cluster.\\nThe mouse C/D box snoRNA MBII-85 (SNORD116) is processed into at least five shorter RNAs using processing sites near known functional elements of C/D box snoRNAs.\\nSnord116 expression in the medial hypothalamus, particularly wit...   \n",
       "1                                                                                                                                                                                                                                                                                                                                                                          ['Yes.  Especially, a large fraction of non-exonic UCEs is transcribed across all developmental stages examined from only one DNA strand.']   \n",
       "2                                                                                                                                                                                                                                                                                                                                                                                                                                       ['Foscarnet\\nVT-1129\\nVT-1161 \\nBB-3497\\nhydroxamate molecules\\nsiderophores']   \n",
       "3  ['Protein phosphatase-1 activity is regulated by two binding partners, inhibitor-1 and the small heat shock protein 20, Hsp20. Cell fractionation, coimmunoprecipitation, and coimmunolocalization studies, revealed an association between Hsp20 and PP1. Small heat shock protein 20 interacts with protein phosphatase-1 and enhances sarcoplasmic reticulum calcium cycling.', 'Moreover, protein phosphatase-1 activity is regulated by two binding partners, inhibitor-1 and the small heat shock protein ...   \n",
       "4                                                                                                                                                                                            ['Yes. It has been demonstrated that induction of DNA double-strand breaks (DSBs) and defects in overall DSBs repair capacity can lead to an accumulation of mutations, resulting in genomic instability of cells. Given that genomic instability is the hallmark of cancer, DSBs play a causal role in carcinogenesis.']   \n",
       "\n",
       "                                                                              exact_answer  \n",
       "0                                                                                       []  \n",
       "1                                                                                  ['yes']  \n",
       "2  ['VT-1129', 'VT-1161', 'BB-3497', 'hydroxamate molecules', 'siderophores', 'Foscarnet']  \n",
       "3                                                         ['Protein phosphatase 1', 'PP1']  \n",
       "4                                                                                  ['yes']  "
      ]
     },
     "execution_count": 217,
     "metadata": {},
     "output_type": "execute_result"
    }
   ],
   "source": [
    "train_data = pd.read_csv('cohort-1-rag-challenge/train.csv')\n",
    "train_data.head()"
   ]
  },
  {
   "cell_type": "code",
   "execution_count": 246,
   "metadata": {},
   "outputs": [
    {
     "data": {
      "text/html": [
       "<div>\n",
       "<style scoped>\n",
       "    .dataframe tbody tr th:only-of-type {\n",
       "        vertical-align: middle;\n",
       "    }\n",
       "\n",
       "    .dataframe tbody tr th {\n",
       "        vertical-align: top;\n",
       "    }\n",
       "\n",
       "    .dataframe thead th {\n",
       "        text-align: right;\n",
       "    }\n",
       "</style>\n",
       "<table border=\"1\" class=\"dataframe\">\n",
       "  <thead>\n",
       "    <tr style=\"text-align: right;\">\n",
       "      <th></th>\n",
       "      <th>question</th>\n",
       "      <th>contexts</th>\n",
       "      <th>ground_truth</th>\n",
       "    </tr>\n",
       "  </thead>\n",
       "  <tbody>\n",
       "    <tr>\n",
       "      <th>0</th>\n",
       "      <td>What is Snord116?</td>\n",
       "      <td>['Further analysis with array-CGH identified a mosaic 847\\u2009kb deletion in 15q11-q13, including SNURF-SNRPN, the snoRNA gene clusters SNORD116 (HBII-85), SNORD115, (HBII-52), SNORD109 A and B (HBII-438A and B), SNORD64 (HBII-13), and NPAP1 (C15ORF2).', 'All three deletions included SNORD116, but only two encompassed parts of SNURF-SNRPN, implicating SNORD116 as the major contributor to the Prader-Willi phenotype. Our case adds further information about genotype-phenotype correlation and s...</td>\n",
       "      <td>['SNORD116 is a small nucleolar (sno) RNA gene cluster (HBII-85) implicated as a major contributor the Prader-Willi phenotype. \\nSNORD116 genes appears to be responsible for the major features of PWS. \\nSNORD116 is a paternally expressed box C/D snoRNA gene cluster.\\nThe mouse C/D box snoRNA MBII-85 (SNORD116) is processed into at least five shorter RNAs using processing sites near known functional elements of C/D box snoRNAs.\\nSnord116 expression in the medial hypothalamus, particularly wit...</td>\n",
       "    </tr>\n",
       "    <tr>\n",
       "      <th>1</th>\n",
       "      <td>Are ultraconserved elements often transcribed?</td>\n",
       "      <td>['Starting from a genome-wide expression profiling, we demonstrate for the first time a functional link between oxygen deprivation and the modulation of long noncoding transcripts from ultraconserved regions, termed transcribed-ultraconserved regions (T-UCRs)', 'Our data gives a first glimpse of a novel functional hypoxic network comprising protein-coding transcripts and noncoding RNAs (ncRNAs) from the T-UCRs category', 'Highly conserved elements discovered in vertebrates are present in non...</td>\n",
       "      <td>['Yes.  Especially, a large fraction of non-exonic UCEs is transcribed across all developmental stages examined from only one DNA strand.']</td>\n",
       "    </tr>\n",
       "    <tr>\n",
       "      <th>2</th>\n",
       "      <td>List metalloenzyme inhibitors.</td>\n",
       "      <td>[' Clinically approved inhibitors were selected as well as several other reported metalloprotein inhibitors in order to represent a broad range of metal binding groups (MBGs), including hydroxamic acid, carboxylate, hydroxypyridinonate, thiol, and N-hydroxyurea functional groups.', 'A total of 21 different raltegravir-chelator derivative (RCD) compounds were prepared that differed only in the nature of the MBG. ', 'At least two compounds (RCD-4, RCD-5) containing a hydroxypyrone MBG were fou...</td>\n",
       "      <td>['Foscarnet\\nVT-1129\\nVT-1161 \\nBB-3497\\nhydroxamate molecules\\nsiderophores']</td>\n",
       "    </tr>\n",
       "    <tr>\n",
       "      <th>3</th>\n",
       "      <td>Which protein phosphatase has been found to interact with the heat shock protein, HSP20?</td>\n",
       "      <td>[' Moreover, protein phosphatase-1 activity is regulated by two binding partners, inhibitor-1 and the small heat shock protein 20, Hsp20. Indeed, human genetic variants of inhibitor-1 (G147D) or Hsp20 (P20L) result in reduced binding and inhibition of protein phosphatase-1, suggesting aberrant enzymatic regulation in human carriers. ', 'Small heat shock protein 20 interacts with protein phosphatase-1 and enhances sarcoplasmic reticulum calcium cycling.', ' Hsp20 overexpression in intact anim...</td>\n",
       "      <td>['Protein phosphatase-1 activity is regulated by two binding partners, inhibitor-1 and the small heat shock protein 20, Hsp20. Cell fractionation, coimmunoprecipitation, and coimmunolocalization studies, revealed an association between Hsp20 and PP1. Small heat shock protein 20 interacts with protein phosphatase-1 and enhances sarcoplasmic reticulum calcium cycling.', 'Moreover, protein phosphatase-1 activity is regulated by two binding partners, inhibitor-1 and the small heat shock protein ...</td>\n",
       "    </tr>\n",
       "    <tr>\n",
       "      <th>4</th>\n",
       "      <td>Do DNA double-strand breaks play a causal role in carcinogenesis?</td>\n",
       "      <td>['The DNA non-homologous end-joining repair gene XRCC6/Ku70 plays an important role in the repair of DNA double-strand breaks (DSBs) induced by both exogenous and endogenous DNA-damaging agents. Defects in overall DSB repair capacity can lead to genomic instability and carcinogenesis.', 'The tumor suppressor breast cancer susceptibility protein 1 (BRCA1) protects our cells from genomic instability in part by facilitating the efficient repair of DNA double-strand breaks (DSBs). BRCA1 promotes...</td>\n",
       "      <td>['Yes. It has been demonstrated that induction of DNA double-strand breaks (DSBs) and defects in overall DSBs repair capacity can lead to an accumulation of mutations, resulting in genomic instability of cells. Given that genomic instability is the hallmark of cancer, DSBs play a causal role in carcinogenesis.']</td>\n",
       "    </tr>\n",
       "    <tr>\n",
       "      <th>...</th>\n",
       "      <td>...</td>\n",
       "      <td>...</td>\n",
       "      <td>...</td>\n",
       "    </tr>\n",
       "    <tr>\n",
       "      <th>1654</th>\n",
       "      <td>Is thyroid hormone therapy indicated in patients with heart failure?</td>\n",
       "      <td>['Patients with chronic heart failure and subclinical hypothyroidism significantly improved their physical performance when normal TSH levels were reached.', 'Early and sustained physiological restoration of circulating L-T3 levels after MI halves infarct scar size and prevents the progression towards heart failure. This beneficial effect is likely due to enhanced capillary formation and mitochondrial protection.', 'These data indicate that T(3) replacement to euthyroid levels improves systo...</td>\n",
       "      <td>['There are several experimental and clinical evidences of the potential benefits of Thyroid hormone replacement therapy in heart failure. Initial clinical data showed also a good safety profile and tolerance of TH replacement therapy in patients withheart failure. \\nHowever currently there is no indication to treat patients with heart failure withTHreplacementtherapy.']</td>\n",
       "    </tr>\n",
       "    <tr>\n",
       "      <th>1655</th>\n",
       "      <td>Is protein Fbw7 a SCF type of E3 ubiquitin ligase?</td>\n",
       "      <td>['FBW7 (F-box and WD repeat domain-containing 7) is the substrate recognition component of an evolutionary conserved SCF (complex of SKP1, CUL1 and F-box protein)-type ubiquitin ligase.', 'However, very few E3 ubiquitin ligases are known to target G-CSFR for ubiquitin-proteasome pathway. Here we identified F-box and WD repeat domain-containing 7 (Fbw7), a substrate recognizing component of Skp-Cullin-F box (SCF) E3 ubiquitin Ligase physically associates with G-CSFR and promotes its ubiquitin...</td>\n",
       "      <td>['Fbxw7 (also known as Fbw7, SEL-10, hCdc4, or hAgo) is the F-box protein subunit of an Skp1-Cul1-F-box protein (SCF)-type ubiquitin ligase complex that plays a central role in the degradation of Notch family members.The F-box protein Fbw7 (also known as Fbxw7, hCdc4 and Sel-10) functions as a substrate recognition component of a SCF-type E3 ubiquitin ligase. SCF(Fbw7) facilitates polyubiquitination and subsequent degradation of various proteins such as Notch, cyclin E, c-Myc and c-Jun.', 'T...</td>\n",
       "    </tr>\n",
       "    <tr>\n",
       "      <th>1656</th>\n",
       "      <td>Is Annexin V an apoptotic marker?</td>\n",
       "      <td>['The apoptosis of the MSCs was induced by subjecting the cells to OGD conditions for 4 h and was detected by Annexin V/PI and Hoechst 33258 staining. ', 'In addition to the antimicrobial activity, we found that treatment of the cancer cell lines, Jurkat T-cells, Granta cells, and melanoma cells, with the Pseudomonas sp. In5 crude extract increased staining with the apoptotic marker Annexin V while no staining of healthy normal cells, i.e., naïve or activated CD4 T-cells, was observed.', 'At...</td>\n",
       "      <td>['Yes, annexin V is an early apoptotic marker.', 'Yes, Annexin V is an apoptotic marker.']</td>\n",
       "    </tr>\n",
       "    <tr>\n",
       "      <th>1657</th>\n",
       "      <td>Which are the clinical characteristics of Tuberous Sclerosis?</td>\n",
       "      <td>['Prevalence and long-term outcome of epilepsy in tuberous sclerosis complex (TSC) is reported to be variable', 'Subependymal giant cell astrocytomas (SEGAs) are benign tumors, most commonly associated with tuberous sclerosis complex (TSC).', 'Lymphangioleiomyomatosis (LAM) is a rare, progressive, frequently lethal cystic lung disease that almost exclusively affects women.', 'Rhabdomyoma is the most common type of cardiac tumor in fetuses and is often associated with tuberous sclerosis compl...</td>\n",
       "      <td>['The clinical characteristics of Tuberous Sclerosis include epilepsy, subependymal giant cell astrocytomas, lymphangioleiomyomatosis, rhabdomyoma, renal angiomyolipomas, cortical tubers, neurofibromas, angiofibromas, mental retardation, and behavioral disorders.']</td>\n",
       "    </tr>\n",
       "    <tr>\n",
       "      <th>1658</th>\n",
       "      <td>Is irritable bowel syndrome more common in women with endometriosis?</td>\n",
       "      <td>['CONCLUSIONS: Comorbid pain syndromes, mood conditions and asthma are common in adolescents and young women with endometriosis.', 'There are many etiologies of pelvic pain that present with symptoms resembling those of endometriosis-associated pelvic pain that are not diagnosable with laparoscopy, such as interstitial cystitis and irritable bowel syndrome.', 'Often, such patients are labelled with irritable bowel syndrome. ', 'Irritable bowel syndrome (IBS) is also common in this setting, a...</td>\n",
       "      <td>['Yes, irritable bowel syndrome (IBS) is more common in women with endometriosis. It has been shown that 15% of the patients with endometriosis also had IBS. Women with endometriosis are more likely to have received a diagnosis of IBS. Endometriosis may coexist with or be misdiagnosed as IBS.']</td>\n",
       "    </tr>\n",
       "  </tbody>\n",
       "</table>\n",
       "<p>1659 rows × 3 columns</p>\n",
       "</div>"
      ],
      "text/plain": [
       "                                                                                      question  \\\n",
       "0                                                                            What is Snord116?   \n",
       "1                                               Are ultraconserved elements often transcribed?   \n",
       "2                                                               List metalloenzyme inhibitors.   \n",
       "3     Which protein phosphatase has been found to interact with the heat shock protein, HSP20?   \n",
       "4                            Do DNA double-strand breaks play a causal role in carcinogenesis?   \n",
       "...                                                                                        ...   \n",
       "1654                      Is thyroid hormone therapy indicated in patients with heart failure?   \n",
       "1655                                        Is protein Fbw7 a SCF type of E3 ubiquitin ligase?   \n",
       "1656                                                         Is Annexin V an apoptotic marker?   \n",
       "1657                             Which are the clinical characteristics of Tuberous Sclerosis?   \n",
       "1658                      Is irritable bowel syndrome more common in women with endometriosis?   \n",
       "\n",
       "                                                                                                                                                                                                                                                                                                                                                                                                                                                                                                                 contexts  \\\n",
       "0     ['Further analysis with array-CGH identified a mosaic 847\\u2009kb deletion in 15q11-q13, including SNURF-SNRPN, the snoRNA gene clusters SNORD116 (HBII-85), SNORD115, (HBII-52), SNORD109 A and B (HBII-438A and B), SNORD64 (HBII-13), and NPAP1 (C15ORF2).', 'All three deletions included SNORD116, but only two encompassed parts of SNURF-SNRPN, implicating SNORD116 as the major contributor to the Prader-Willi phenotype. Our case adds further information about genotype-phenotype correlation and s...   \n",
       "1     ['Starting from a genome-wide expression profiling, we demonstrate for the first time a functional link between oxygen deprivation and the modulation of long noncoding transcripts from ultraconserved regions, termed transcribed-ultraconserved regions (T-UCRs)', 'Our data gives a first glimpse of a novel functional hypoxic network comprising protein-coding transcripts and noncoding RNAs (ncRNAs) from the T-UCRs category', 'Highly conserved elements discovered in vertebrates are present in non...   \n",
       "2     [' Clinically approved inhibitors were selected as well as several other reported metalloprotein inhibitors in order to represent a broad range of metal binding groups (MBGs), including hydroxamic acid, carboxylate, hydroxypyridinonate, thiol, and N-hydroxyurea functional groups.', 'A total of 21 different raltegravir-chelator derivative (RCD) compounds were prepared that differed only in the nature of the MBG. ', 'At least two compounds (RCD-4, RCD-5) containing a hydroxypyrone MBG were fou...   \n",
       "3     [' Moreover, protein phosphatase-1 activity is regulated by two binding partners, inhibitor-1 and the small heat shock protein 20, Hsp20. Indeed, human genetic variants of inhibitor-1 (G147D) or Hsp20 (P20L) result in reduced binding and inhibition of protein phosphatase-1, suggesting aberrant enzymatic regulation in human carriers. ', 'Small heat shock protein 20 interacts with protein phosphatase-1 and enhances sarcoplasmic reticulum calcium cycling.', ' Hsp20 overexpression in intact anim...   \n",
       "4     ['The DNA non-homologous end-joining repair gene XRCC6/Ku70 plays an important role in the repair of DNA double-strand breaks (DSBs) induced by both exogenous and endogenous DNA-damaging agents. Defects in overall DSB repair capacity can lead to genomic instability and carcinogenesis.', 'The tumor suppressor breast cancer susceptibility protein 1 (BRCA1) protects our cells from genomic instability in part by facilitating the efficient repair of DNA double-strand breaks (DSBs). BRCA1 promotes...   \n",
       "...                                                                                                                                                                                                                                                                                                                                                                                                                                                                                                                   ...   \n",
       "1654  ['Patients with chronic heart failure and subclinical hypothyroidism significantly improved their physical performance when normal TSH levels were reached.', 'Early and sustained physiological restoration of circulating L-T3 levels after MI halves infarct scar size and prevents the progression towards heart failure. This beneficial effect is likely due to enhanced capillary formation and mitochondrial protection.', 'These data indicate that T(3) replacement to euthyroid levels improves systo...   \n",
       "1655  ['FBW7 (F-box and WD repeat domain-containing 7) is the substrate recognition component of an evolutionary conserved SCF (complex of SKP1, CUL1 and F-box protein)-type ubiquitin ligase.', 'However, very few E3 ubiquitin ligases are known to target G-CSFR for ubiquitin-proteasome pathway. Here we identified F-box and WD repeat domain-containing 7 (Fbw7), a substrate recognizing component of Skp-Cullin-F box (SCF) E3 ubiquitin Ligase physically associates with G-CSFR and promotes its ubiquitin...   \n",
       "1656  ['The apoptosis of the MSCs was induced by subjecting the cells to OGD conditions for 4 h and was detected by Annexin V/PI and Hoechst 33258 staining. ', 'In addition to the antimicrobial activity, we found that treatment of the cancer cell lines, Jurkat T-cells, Granta cells, and melanoma cells, with the Pseudomonas sp. In5 crude extract increased staining with the apoptotic marker Annexin V while no staining of healthy normal cells, i.e., naïve or activated CD4 T-cells, was observed.', 'At...   \n",
       "1657  ['Prevalence and long-term outcome of epilepsy in tuberous sclerosis complex (TSC) is reported to be variable', 'Subependymal giant cell astrocytomas (SEGAs) are benign tumors, most commonly associated with tuberous sclerosis complex (TSC).', 'Lymphangioleiomyomatosis (LAM) is a rare, progressive, frequently lethal cystic lung disease that almost exclusively affects women.', 'Rhabdomyoma is the most common type of cardiac tumor in fetuses and is often associated with tuberous sclerosis compl...   \n",
       "1658  ['CONCLUSIONS: Comorbid pain syndromes, mood conditions and asthma are common in adolescents and young women with endometriosis.', 'There are many etiologies of pelvic pain that present with symptoms resembling those of endometriosis-associated pelvic pain that are not diagnosable with laparoscopy, such as interstitial cystitis and irritable bowel syndrome.', 'Often, such patients are labelled with irritable bowel syndrome. ', 'Irritable bowel syndrome (IBS) is also common in this setting, a...   \n",
       "\n",
       "                                                                                                                                                                                                                                                                                                                                                                                                                                                                                                             ground_truth  \n",
       "0     ['SNORD116 is a small nucleolar (sno) RNA gene cluster (HBII-85) implicated as a major contributor the Prader-Willi phenotype. \\nSNORD116 genes appears to be responsible for the major features of PWS. \\nSNORD116 is a paternally expressed box C/D snoRNA gene cluster.\\nThe mouse C/D box snoRNA MBII-85 (SNORD116) is processed into at least five shorter RNAs using processing sites near known functional elements of C/D box snoRNAs.\\nSnord116 expression in the medial hypothalamus, particularly wit...  \n",
       "1                                                                                                                                                                                                                                                                                                                                                                             ['Yes.  Especially, a large fraction of non-exonic UCEs is transcribed across all developmental stages examined from only one DNA strand.']  \n",
       "2                                                                                                                                                                                                                                                                                                                                                                                                                                          ['Foscarnet\\nVT-1129\\nVT-1161 \\nBB-3497\\nhydroxamate molecules\\nsiderophores']  \n",
       "3     ['Protein phosphatase-1 activity is regulated by two binding partners, inhibitor-1 and the small heat shock protein 20, Hsp20. Cell fractionation, coimmunoprecipitation, and coimmunolocalization studies, revealed an association between Hsp20 and PP1. Small heat shock protein 20 interacts with protein phosphatase-1 and enhances sarcoplasmic reticulum calcium cycling.', 'Moreover, protein phosphatase-1 activity is regulated by two binding partners, inhibitor-1 and the small heat shock protein ...  \n",
       "4                                                                                                                                                                                               ['Yes. It has been demonstrated that induction of DNA double-strand breaks (DSBs) and defects in overall DSBs repair capacity can lead to an accumulation of mutations, resulting in genomic instability of cells. Given that genomic instability is the hallmark of cancer, DSBs play a causal role in carcinogenesis.']  \n",
       "...                                                                                                                                                                                                                                                                                                                                                                                                                                                                                                                   ...  \n",
       "1654                                                                                                                                ['There are several experimental and clinical evidences of the potential benefits of Thyroid hormone replacement therapy in heart failure. Initial clinical data showed also a good safety profile and tolerance of TH replacement therapy in patients withheart failure. \\nHowever currently there is no indication to treat patients with heart failure withTHreplacementtherapy.']  \n",
       "1655  ['Fbxw7 (also known as Fbw7, SEL-10, hCdc4, or hAgo) is the F-box protein subunit of an Skp1-Cul1-F-box protein (SCF)-type ubiquitin ligase complex that plays a central role in the degradation of Notch family members.The F-box protein Fbw7 (also known as Fbxw7, hCdc4 and Sel-10) functions as a substrate recognition component of a SCF-type E3 ubiquitin ligase. SCF(Fbw7) facilitates polyubiquitination and subsequent degradation of various proteins such as Notch, cyclin E, c-Myc and c-Jun.', 'T...  \n",
       "1656                                                                                                                                                                                                                                                                                                                                                                                                                           ['Yes, annexin V is an early apoptotic marker.', 'Yes, Annexin V is an apoptotic marker.']  \n",
       "1657                                                                                                                                                                                                                                            ['The clinical characteristics of Tuberous Sclerosis include epilepsy, subependymal giant cell astrocytomas, lymphangioleiomyomatosis, rhabdomyoma, renal angiomyolipomas, cortical tubers, neurofibromas, angiofibromas, mental retardation, and behavioral disorders.']  \n",
       "1658                                                                                                                                                                                                              ['Yes, irritable bowel syndrome (IBS) is more common in women with endometriosis. It has been shown that 15% of the patients with endometriosis also had IBS. Women with endometriosis are more likely to have received a diagnosis of IBS. Endometriosis may coexist with or be misdiagnosed as IBS.']  \n",
       "\n",
       "[1659 rows x 3 columns]"
      ]
     },
     "execution_count": 246,
     "metadata": {},
     "output_type": "execute_result"
    }
   ],
   "source": [
    "# pd.set_option('display.max_rows', 500)\n",
    "pd.set_option('display.max_colwidth', 500)\n",
    "train_data[['question', 'contexts', 'ground_truth']]"
   ]
  },
  {
   "cell_type": "code",
   "execution_count": 219,
   "metadata": {},
   "outputs": [
    {
     "data": {
      "text/html": [
       "<div>\n",
       "<style scoped>\n",
       "    .dataframe tbody tr th:only-of-type {\n",
       "        vertical-align: middle;\n",
       "    }\n",
       "\n",
       "    .dataframe tbody tr th {\n",
       "        vertical-align: top;\n",
       "    }\n",
       "\n",
       "    .dataframe thead th {\n",
       "        text-align: right;\n",
       "    }\n",
       "</style>\n",
       "<table border=\"1\" class=\"dataframe\">\n",
       "  <thead>\n",
       "    <tr style=\"text-align: right;\">\n",
       "      <th></th>\n",
       "      <th>id</th>\n",
       "      <th>question</th>\n",
       "    </tr>\n",
       "  </thead>\n",
       "  <tbody>\n",
       "    <tr>\n",
       "      <th>0</th>\n",
       "      <td>1</td>\n",
       "      <td>Which are the Proprotein Convertase Subtilisin Kexin 9 (PCSK9) inhibitors that are FDA approved?</td>\n",
       "    </tr>\n",
       "    <tr>\n",
       "      <th>1</th>\n",
       "      <td>2</td>\n",
       "      <td>What is the relationship between nucleosomes and exons?</td>\n",
       "    </tr>\n",
       "    <tr>\n",
       "      <th>2</th>\n",
       "      <td>3</td>\n",
       "      <td>What is the name for anorexia in gymnasts?</td>\n",
       "    </tr>\n",
       "    <tr>\n",
       "      <th>3</th>\n",
       "      <td>4</td>\n",
       "      <td>How is Lambert-Eaton myasthenic syndrome (LEMS) associated with small cell lung cancer?</td>\n",
       "    </tr>\n",
       "    <tr>\n",
       "      <th>4</th>\n",
       "      <td>5</td>\n",
       "      <td>Is Fibroblast Growth Factor 23 a phosphaturic hormone?</td>\n",
       "    </tr>\n",
       "    <tr>\n",
       "      <th>...</th>\n",
       "      <td>...</td>\n",
       "      <td>...</td>\n",
       "    </tr>\n",
       "    <tr>\n",
       "      <th>706</th>\n",
       "      <td>707</td>\n",
       "      <td>Is alternative splicing of apoptotic genes playing a role in the response to DNA or mitochondrial damage?</td>\n",
       "    </tr>\n",
       "    <tr>\n",
       "      <th>707</th>\n",
       "      <td>708</td>\n",
       "      <td>Which NADPH oxidase family member requires interaction with NOXO1 for function?</td>\n",
       "    </tr>\n",
       "    <tr>\n",
       "      <th>708</th>\n",
       "      <td>709</td>\n",
       "      <td>List genes that have been found mutated in CMT1A (Charcot-Marie-Tooth disease type 1 A).</td>\n",
       "    </tr>\n",
       "    <tr>\n",
       "      <th>709</th>\n",
       "      <td>710</td>\n",
       "      <td>What is BioASQ?</td>\n",
       "    </tr>\n",
       "    <tr>\n",
       "      <th>710</th>\n",
       "      <td>711</td>\n",
       "      <td>What is Snord116?</td>\n",
       "    </tr>\n",
       "  </tbody>\n",
       "</table>\n",
       "<p>711 rows × 2 columns</p>\n",
       "</div>"
      ],
      "text/plain": [
       "      id  \\\n",
       "0      1   \n",
       "1      2   \n",
       "2      3   \n",
       "3      4   \n",
       "4      5   \n",
       "..   ...   \n",
       "706  707   \n",
       "707  708   \n",
       "708  709   \n",
       "709  710   \n",
       "710  711   \n",
       "\n",
       "                                                                                                      question  \n",
       "0             Which are the Proprotein Convertase Subtilisin Kexin 9 (PCSK9) inhibitors that are FDA approved?  \n",
       "1                                                      What is the relationship between nucleosomes and exons?  \n",
       "2                                                                   What is the name for anorexia in gymnasts?  \n",
       "3                      How is Lambert-Eaton myasthenic syndrome (LEMS) associated with small cell lung cancer?  \n",
       "4                                                       Is Fibroblast Growth Factor 23 a phosphaturic hormone?  \n",
       "..                                                                                                         ...  \n",
       "706  Is alternative splicing of apoptotic genes playing a role in the response to DNA or mitochondrial damage?  \n",
       "707                            Which NADPH oxidase family member requires interaction with NOXO1 for function?  \n",
       "708                   List genes that have been found mutated in CMT1A (Charcot-Marie-Tooth disease type 1 A).  \n",
       "709                                                                                            What is BioASQ?  \n",
       "710                                                                                          What is Snord116?  \n",
       "\n",
       "[711 rows x 2 columns]"
      ]
     },
     "execution_count": 219,
     "metadata": {},
     "output_type": "execute_result"
    }
   ],
   "source": [
    "test_data"
   ]
  },
  {
   "cell_type": "code",
   "execution_count": 220,
   "metadata": {},
   "outputs": [
    {
     "data": {
      "text/plain": [
       "711"
      ]
     },
     "execution_count": 220,
     "metadata": {},
     "output_type": "execute_result"
    }
   ],
   "source": [
    "test_data['id'].nunique()"
   ]
  },
  {
   "cell_type": "code",
   "execution_count": 221,
   "metadata": {},
   "outputs": [],
   "source": [
    "contexts = pd.read_csv('cohort-1-rag-challenge/contexts.csv')"
   ]
  },
  {
   "cell_type": "code",
   "execution_count": 222,
   "metadata": {},
   "outputs": [
    {
     "data": {
      "text/html": [
       "<div>\n",
       "<style scoped>\n",
       "    .dataframe tbody tr th:only-of-type {\n",
       "        vertical-align: middle;\n",
       "    }\n",
       "\n",
       "    .dataframe tbody tr th {\n",
       "        vertical-align: top;\n",
       "    }\n",
       "\n",
       "    .dataframe thead th {\n",
       "        text-align: right;\n",
       "    }\n",
       "</style>\n",
       "<table border=\"1\" class=\"dataframe\">\n",
       "  <thead>\n",
       "    <tr style=\"text-align: right;\">\n",
       "      <th></th>\n",
       "      <th>text</th>\n",
       "    </tr>\n",
       "  </thead>\n",
       "  <tbody>\n",
       "    <tr>\n",
       "      <th>0</th>\n",
       "      <td>Both 7SL genes and Alu elements are transcribed by RNA polymerase III, and we show here that the internal 7SL promoter lies within the Alu-like part of the 7SL gene</td>\n",
       "    </tr>\n",
       "    <tr>\n",
       "      <th>1</th>\n",
       "      <td>We performed a comparative analysis in vitro and in vivo of the antitumor effects of three different antibodies targeting different epitopes of ErbB2: Herceptin (trastuzumab), 2C4 (pertuzumab) and Erb-hcAb (human anti-ErbB2-compact antibody), a novel fully human compact antibody produced in our laboratory. Herein, we demonstrate that the growth of both androgen-dependent and independent prostate cancer cells was efficiently inhibited by Erb-hcAb. The antitumor effects induced by Erb-hcAb on ...</td>\n",
       "    </tr>\n",
       "    <tr>\n",
       "      <th>2</th>\n",
       "      <td>The weight-reducing property of molindone, a recently introduced antipsychotic drug, was tested in 9 hospitalized chronic schizophrenic patients. There was an average weight loss of 7.6 kg after 3 months on molindone; most of the loss occurred during the first month.</td>\n",
       "    </tr>\n",
       "    <tr>\n",
       "      <th>3</th>\n",
       "      <td>Our study identifies a unique heterochromatin state marked by the presence of both H3.3 and H3K9me3, and establishes an important role for H3.3 in control of ERV retrotransposition in embryonic stem cells.</td>\n",
       "    </tr>\n",
       "    <tr>\n",
       "      <th>4</th>\n",
       "      <td>Polyneuropathy, organomegaly, endocrinopathy, monoclonal gammopathy, and skin changes (POEMS) syndrome is an uncommon condition related to a paraneoplastic syndrome secondary to an underlying plasma cell disorder.</td>\n",
       "    </tr>\n",
       "  </tbody>\n",
       "</table>\n",
       "</div>"
      ],
      "text/plain": [
       "                                                                                                                                                                                                                                                                                                                                                                                                                                                                                                                  text\n",
       "0                                                                                                                                                                                                                                                                                                                                                 Both 7SL genes and Alu elements are transcribed by RNA polymerase III, and we show here that the internal 7SL promoter lies within the Alu-like part of the 7SL gene\n",
       "1  We performed a comparative analysis in vitro and in vivo of the antitumor effects of three different antibodies targeting different epitopes of ErbB2: Herceptin (trastuzumab), 2C4 (pertuzumab) and Erb-hcAb (human anti-ErbB2-compact antibody), a novel fully human compact antibody produced in our laboratory. Herein, we demonstrate that the growth of both androgen-dependent and independent prostate cancer cells was efficiently inhibited by Erb-hcAb. The antitumor effects induced by Erb-hcAb on ...\n",
       "2                                                                                                                                                                                                                                          The weight-reducing property of molindone, a recently introduced antipsychotic drug, was tested in 9 hospitalized chronic schizophrenic patients. There was an average weight loss of 7.6 kg after 3 months on molindone; most of the loss occurred during the first month.\n",
       "3                                                                                                                                                                                                                                                                                                        Our study identifies a unique heterochromatin state marked by the presence of both H3.3 and H3K9me3, and establishes an important role for H3.3 in control of ERV retrotransposition in embryonic stem cells.\n",
       "4                                                                                                                                                                                                                                                                                                Polyneuropathy, organomegaly, endocrinopathy, monoclonal gammopathy, and skin changes (POEMS) syndrome is an uncommon condition related to a paraneoplastic syndrome secondary to an underlying plasma cell disorder."
      ]
     },
     "execution_count": 222,
     "metadata": {},
     "output_type": "execute_result"
    }
   ],
   "source": [
    "contexts.head()"
   ]
  },
  {
   "cell_type": "code",
   "execution_count": 223,
   "metadata": {},
   "outputs": [
    {
     "name": "stdout",
     "output_type": "stream",
     "text": [
      "Average context length (words) in contexts dataframe: 29.027869267798327\n",
      "Max context length (words) in contexts dataframe: 401\n",
      "Min context length (words) in contexts dataframe: 1\n",
      "90% quantile context length (words) in contexts dataframe: 49.0\n",
      "Average question length (words) in test_data dataframe: 9.39803094233474\n",
      "Max question length (words) in test_data dataframe: 24\n",
      "Min question length (words) in test_data dataframe: 3\n",
      "90% quantile question length (words) in test_data dataframe: 14.0\n"
     ]
    }
   ],
   "source": [
    "# average length (word based) of the contexts in contexts dataframe\n",
    "average_context_length = contexts['text'].str.split().str.len().mean()\n",
    "print(f\"Average context length (words) in contexts dataframe: {average_context_length}\")\n",
    "max_context_length = contexts['text'].str.split().str.len().max()\n",
    "print(f\"Max context length (words) in contexts dataframe: {max_context_length}\")\n",
    "min_context_length = contexts['text'].str.split().str.len().min()\n",
    "print(f\"Min context length (words) in contexts dataframe: {min_context_length}\")\n",
    "# 90% quantile of the length of the contexts\n",
    "quantile_90 = contexts['text'].str.split().str.len().quantile(0.9)\n",
    "print(f\"90% quantile context length (words) in contexts dataframe: {quantile_90}\")\n",
    "\n",
    "# average length (word based) of the questions in test_data dataframe\n",
    "average_question_length = test_data['question'].str.split().str.len().mean()\n",
    "print(f\"Average question length (words) in test_data dataframe: {average_question_length}\")\n",
    "max_question_length = test_data['question'].str.split().str.len().max()\n",
    "print(f\"Max question length (words) in test_data dataframe: {max_question_length}\")\n",
    "min_question_length = test_data['question'].str.split().str.len().min()\n",
    "print(f\"Min question length (words) in test_data dataframe: {min_question_length}\")\n",
    "# 90% quantile of the length of the questions\n",
    "quantile_90_test = test_data['question'].str.split().str.len().quantile(0.9)\n",
    "print(f\"90% quantile question length (words) in test_data dataframe: {quantile_90_test}\")"
   ]
  },
  {
   "cell_type": "code",
   "execution_count": 253,
   "metadata": {},
   "outputs": [
    {
     "name": "stdout",
     "output_type": "stream",
     "text": [
      "Average Answer length (words) in train_data dataframe : 59.611580217129074\n"
     ]
    }
   ],
   "source": [
    "# Convert the 'ground_truth' column from list to string\n",
    "train_data['ground_truth_string'] = train_data['ground_truth'].apply(lambda x: x[0] if isinstance(x, list) and len(x) > 0 else x)\n",
    "\n",
    "print(f\"Average Answer length (words) in train_data dataframe : {train_data['ground_truth_string'].str.split().str.len().mean()}\")"
   ]
  },
  {
   "cell_type": "code",
   "execution_count": 255,
   "metadata": {},
   "outputs": [
    {
     "name": "stdout",
     "output_type": "stream",
     "text": [
      "90% quantile Answer length (words) in train_data dataframe : 136.0\n"
     ]
    }
   ],
   "source": [
    "print(f\"90% quantile Answer length (words) in train_data dataframe : {train_data['ground_truth_string'].str.split().str.len().quantile(0.9)}\")"
   ]
  },
  {
   "cell_type": "code",
   "execution_count": 256,
   "metadata": {},
   "outputs": [
    {
     "name": "stdout",
     "output_type": "stream",
     "text": [
      "Median Answer length (words) in train_data dataframe : 35.0\n"
     ]
    }
   ],
   "source": [
    "print(f\"Median Answer length (words) in train_data dataframe : {train_data['ground_truth_string'].str.split().str.len().median()}\")"
   ]
  },
  {
   "cell_type": "markdown",
   "metadata": {},
   "source": [
    "Why we wanted the median answer length of the answers , probably because the lenght and depth of the answer would also define the evaluation technique which would have been used. \n",
    "Since we are using openai which uses tiktoken `num_of_tokens` can be specified as `Median Answer length (words) in train_data dataframe * 4` (Apprximately). Note that this is just an approximation to limit the model from being too verbose. Find out whether the data has long-tail outliers , if yes ,than median is not a good estimate of the distribution.<br><br>\n",
    "\n",
    "<p>One thing to also notice here is the importance of training set , by providing few shot examples to the prompt , you would be effectively giving an idea of how the answer should be formatted and responsed in a particular manner.</p>\n",
    "\n",
    "> **Note:** All of the above techniques have not been implemented in the notebook and is encouraged for learners to try on their own."
   ]
  },
  {
   "cell_type": "markdown",
   "metadata": {},
   "source": [
    "### Choose the Embedding Model for RAG PIPELINE "
   ]
  },
  {
   "cell_type": "markdown",
   "metadata": {},
   "source": [
    "A good idea below would be to use a specific embedding-model that is fine-tuned on the<br> domain specific task , which here seems to be of medical"
   ]
  },
  {
   "cell_type": "code",
   "execution_count": 224,
   "metadata": {},
   "outputs": [
    {
     "data": {
      "application/vnd.jupyter.widget-view+json": {
       "model_id": "9c5dfd2ec6584e968cee709f2e488f4d",
       "version_major": 2,
       "version_minor": 0
      },
      "text/plain": [
       "Fetching 8 files:   0%|          | 0/8 [00:00<?, ?it/s]"
      ]
     },
     "metadata": {},
     "output_type": "display_data"
    }
   ],
   "source": [
    "# %pip install fastembed\n",
    "from fastembed import TextEmbedding\n",
    "embedding_model = TextEmbedding(\"BAAI/bge-base-en-v1.5\")"
   ]
  },
  {
   "cell_type": "code",
   "execution_count": 225,
   "metadata": {},
   "outputs": [
    {
     "data": {
      "text/plain": [
       "768"
      ]
     },
     "execution_count": 225,
     "metadata": {},
     "output_type": "execute_result"
    }
   ],
   "source": [
    "len(list(embedding_model.embed([\"sample_text\"]))[0])"
   ]
  },
  {
   "cell_type": "markdown",
   "metadata": {},
   "source": [
    "### Build a Query Model Engine"
   ]
  },
  {
   "cell_type": "markdown",
   "metadata": {},
   "source": [
    "Using Orchestration Tools for RAG Retrieval is encouraged here as it offers a wide range of possible features for you RAG Pipeline \n",
    "- Hybrid Retrieval. [Reference](https://docs.llamaindex.ai/en/stable/module_guides/querying/retriever/retrievers/)\n",
    "- Reranking Modules (Sentance Transformer Reranker , Cohere Reranker).[Reference](https://docs.llamaindex.ai/en/stable/module_guides/querying/node_postprocessors/node_postprocessors/#coherererank)"
   ]
  },
  {
   "cell_type": "code",
   "execution_count": 226,
   "metadata": {},
   "outputs": [],
   "source": [
    "from qdrant_client import QdrantClient\n",
    "from sentence_transformers import SentenceTransformer\n",
    "from qdrant_client.http import models \n",
    "qdrant_client = QdrantClient(\":memory:\") # spin up a local instance if you require more advanced features\n",
    "# qdrant_client = QdrantClient(\"http://localhost:6333\") # connect to a running instance of qdrant on your local\n",
    "qdrant_client.recreate_collection('rag_contexts',vectors_config=models.VectorParams(size=768, distance=models.Distance.COSINE))"
   ]
  },
  {
   "cell_type": "code",
   "execution_count": 119,
   "metadata": {},
   "outputs": [
    {
     "name": "stderr",
     "output_type": "stream",
     "text": [
      "  0%|          | 0/35523 [00:00<?, ?it/s]"
     ]
    },
    {
     "name": "stderr",
     "output_type": "stream",
     "text": [
      "100%|██████████| 35523/35523 [32:14<00:00, 18.37it/s]  \n"
     ]
    }
   ],
   "source": [
    "# Create and upload points to Qdrant\n",
    "from tqdm import tqdm\n",
    "points = []\n",
    "# contexts_sample = contexts.sample(100)\n",
    "for idx, row in tqdm(contexts.iterrows(),total=contexts.shape[0]):\n",
    "    point = models.PointStruct(\n",
    "        id=idx,  # Use the dataframe index as the point ID\n",
    "        vector=list(embedding_model.embed(row['text']))[0],  # Convert the embedding to a list\n",
    "        payload={'id': idx , \"text\":row['text']}  # Use the label_text as the payload\n",
    "    )\n",
    "    points.append(point)\n",
    "qdrant_client.upload_points(collection_name='rag_contexts', points=points)"
   ]
  },
  {
   "cell_type": "code",
   "execution_count": 227,
   "metadata": {},
   "outputs": [],
   "source": [
    "def qdrant_search(query_text,top_k=5):\n",
    "    query_vector = list(embedding_model.embed(query_text))[0]\n",
    "    search_response = qdrant_client.search(collection_name='rag_contexts', query_vector=query_vector, limit=top_k)\n",
    "    return search_response"
   ]
  },
  {
   "cell_type": "code",
   "execution_count": 257,
   "metadata": {},
   "outputs": [
    {
     "name": "stdout",
     "output_type": "stream",
     "text": [
      "Which are the Proprotein Convertase Subtilisin Kexin 9 (PCSK9) inhibitors that are FDA approved?\n"
     ]
    },
    {
     "data": {
      "text/plain": [
       "[ScoredPoint(id=24513, version=383, score=0.88274753, payload={'id': 24513, 'text': 'Two proprotein convertase subtilisin/kexin type 9 (PCSK9) inhibitors, evolocumab and alirocumab, have recently been approved by both the Food and Drug Administration (FDA) and the European Medicines Agency (EMA) for the treatment of hypercholesterolemia.'}, vector=None, shard_key=None),\n",
       " ScoredPoint(id=22130, version=345, score=0.8337612, payload={'id': 22130, 'text': 'Food and Drug Administration approved the first two proprotein convertase subtilisin/kexin type 9 (PCSK9) inhibitors, alirocumab (Praluent®; Sanofi/ Regeneron) and evolocumab (Repatha®; Amgen), for use in patients with heterozygous and homozygous familial hypercholesterolemia and for patients intolerant of statins or those with a major risk of cardiovascular disease (CVD) but unable to lower their LDL cholesterol (LDL-C) to optimal levels with statins and ezetimibe.'}, vector=None, shard_key=None),\n",
       " ScoredPoint(id=15736, version=245, score=0.83184874, payload={'id': 15736, 'text': 'In 2015 the U.S. Food and Drug Administration approved the first two proprotein convertase subtilisin/kexin type 9 (PCSK9) inhibitors, alirocumab (Praluent®; Sanofi/ Regeneron) and evolocumab (Repatha®; Amgen), for use in patients with heterozygous and homozygous familial hypercholesterolemia and for patients intolerant of statins or those with a major risk of cardiovascular disease (CVD) but unable to lower their LDL cholesterol (LDL-C) to optimal levels with statins and ezetimibe.'}, vector=None, shard_key=None),\n",
       " ScoredPoint(id=8584, version=134, score=0.8256771, payload={'id': 8584, 'text': 'Proprotein convertase subtilisin kexin type 9 (PCSK9) is gaining attention as a key regulator of serum LDL-cholesterol (LDLC).'}, vector=None, shard_key=None),\n",
       " ScoredPoint(id=27276, version=426, score=0.82535595, payload={'id': 27276, 'text': 'We report here the development of sdAbs targeting human PCSK9 (proprotein convertase subtilisin/kexin type 9) as an alternative to anti-PCSK9 mAbs.'}, vector=None, shard_key=None)]"
      ]
     },
     "execution_count": 257,
     "metadata": {},
     "output_type": "execute_result"
    }
   ],
   "source": [
    "sample_text = test_data['question'].iloc[0]\n",
    "print(sample_text)\n",
    "qdrant_search(sample_text)"
   ]
  },
  {
   "cell_type": "markdown",
   "metadata": {},
   "source": [
    "### LM - Language Modelling"
   ]
  },
  {
   "cell_type": "code",
   "execution_count": 229,
   "metadata": {},
   "outputs": [],
   "source": [
    "from pydantic import BaseModel\n",
    "import openai\n",
    "import instructor\n",
    "from dotenv import load_dotenv\n",
    "# Create a Response Model for the classification task \n",
    "class ResponseModel(BaseModel):\n",
    "    \"\"\"Response from the AI model based on the given **USER QUESTION**\"\"\"\n",
    "    response: str\n",
    "\n",
    "# Specify the OpenAI API Key\n",
    "load_dotenv()\n",
    "openai_api_key = os.getenv(\"OPENAI_API_KEY\")\n",
    "# Patch the OpenAI client for instructor\n",
    "openai_client = instructor.patch(openai.OpenAI(api_key=openai_api_key))"
   ]
  },
  {
   "cell_type": "code",
   "execution_count": 232,
   "metadata": {},
   "outputs": [],
   "source": [
    "# Prepare the OpenAI Request Body\n",
    "\n",
    "# Get a sample Question\n",
    "question = test_data['question'].iloc[0]\n",
    "\n",
    "# Retrieve Contexts\n",
    "contexts = [record.payload['text'] for record in qdrant_search(sample_text,top_k=10)]\n",
    "contexts = \"\\n\\n\".join(contexts)\n",
    "\n",
    "# Define System Prompt\n",
    "system_prompt = \"\"\"You are an agent that is specialized in answering medical questions.\\n\n",
    "Along with the input text, you are provided with the top 10 documents retrieved from a Retrieval-Augmented Generation (RAG) model. \n",
    "Use this information to answer the following **USER QUESTION**\n",
    "Note: The documents are included in the user's message for context.\n",
    "\"\"\"\n",
    "\n",
    "# Define User Message\n",
    "user_message = f\"\"\"\n",
    "Using the below Contexts: \\n\\n\n",
    "{contexts}\\n\\n\n",
    "**Please Answer the following Question.**\\n\n",
    "{question}\n",
    "\"\"\"\n",
    "openai_request_body = {\n",
    "    \"messages\": [\n",
    "        {\"role\": \"system\", \"content\": system_prompt},\n",
    "        {\"role\": \"user\", \"content\": user_message},\n",
    "    ],\n",
    "    # Response Model is the CategoryModel\n",
    "    \"response_model\": ResponseModel,\n",
    "    \"model\": \"gpt-3.5-turbo\",\n",
    "    \"temperature\": 0.2, # Adjust the temperature for more creative responses\n",
    "    \"max_tokens\": 1000, # Adjust for your use case (Remember the above discussed)\n",
    "    \"seed\": 42,\n",
    "}\n",
    "try:\n",
    "    chat_completion = openai_client.chat.completions.create(**openai_request_body)\n",
    "except Exception as e:\n",
    "    raise e"
   ]
  },
  {
   "cell_type": "markdown",
   "metadata": {},
   "source": [
    "The Above is a very naive approach to building the `user_message` prompt , there are couple<br> of other steps that should be present here , some of which includes but not limited to <br><br>\n",
    "\n",
    "- Using Training Data as few shot examples[Reference](https://github.com/FuturePathAI/Learn-AI-Engineering/blob/main/learn_ai/notebooks/chapter-05-Intro-to-Prompting.ipynb) <br>\n",
    "\n",
    "- Increasing the number of examples (context) fetched from the RAG and reranking them. [Reference](https://docs.cohere.com/docs/reranking)<br>\n",
    "\n",
    "- Using Different Prompting techniques to come up with a best one (COT etc) [Reference](https://github.com/FuturePathAI/Learn-AI-Engineering/blob/main/learn_ai/notebooks/chapter-09-Chain%20of%20Thought.ipynb) <br>\n",
    "\n",
    "- One good way to look at building optimal prompts is using [DSPY](https://dspy-docs.vercel.app/docs/intro) where you can use the train set to optimize the prompt for inferencing.<br>"
   ]
  },
  {
   "cell_type": "code",
   "execution_count": 233,
   "metadata": {},
   "outputs": [
    {
     "name": "stdout",
     "output_type": "stream",
     "text": [
      "\n",
      "Using the below Contexts: \n",
      "\n",
      "\n",
      "Two proprotein convertase subtilisin/kexin type 9 (PCSK9) inhibitors, evolocumab and alirocumab, have recently been approved by both the Food and Drug Administration (FDA) and the European Medicines Agency (EMA) for the treatment of hypercholesterolemia.\n",
      "\n",
      "Food and Drug Administration approved the first two proprotein convertase subtilisin/kexin type 9 (PCSK9) inhibitors, alirocumab (Praluent®; Sanofi/ Regeneron) and evolocumab (Repatha®; Amgen), for use in patients with heterozygous and homozygous familial hypercholesterolemia and for patients intolerant of statins or those with a major risk of cardiovascular disease (CVD) but unable to lower their LDL cholesterol (LDL-C) to optimal levels with statins and ezetimibe.\n",
      "\n",
      "In 2015 the U.S. Food and Drug Administration approved the first two proprotein convertase subtilisin/kexin type 9 (PCSK9) inhibitors, alirocumab (Praluent®; Sanofi/ Regeneron) and evolocumab (Repatha®; Amgen), for use in patients with heterozygous and homozygous familial hypercholesterolemia and for patients intolerant of statins or those with a major risk of cardiovascular disease (CVD) but unable to lower their LDL cholesterol (LDL-C) to optimal levels with statins and ezetimibe.\n",
      "\n",
      "Proprotein convertase subtilisin kexin type 9 (PCSK9) is gaining attention as a key regulator of serum LDL-cholesterol (LDLC).\n",
      "\n",
      "We report here the development of sdAbs targeting human PCSK9 (proprotein convertase subtilisin/kexin type 9) as an alternative to anti-PCSK9 mAbs.\n",
      "\n",
      "Proprotein convertase subtilisin/kexin type 9 (PCSK9) is a regulator of LDL-cholesterol receptor homeostasis and emerges as a therapeutic target in the prevention of cardiovascular (CV) disease.\n",
      "\n",
      "Very recent clinical trials have proven overwhelmingly the effectiveness and safety of PCSK9 inhibitors for lowering LDL-C. Both alirocumab and evolocumab have now been approved by the US FDA and there are some initial favorable outcomes data.\n",
      "\n",
      "The 2 or 4‑week subcutaneous therapy with the recently approved antibodies alirocumab and evolocumab for inhibition of proprotein convertase subtilisin-kexin type 9 (PCSK9) reduces low-density lipoprotein cholesterol (LDL-C) in addition to statins and ezetimibe by 50-60 %.\n",
      "\n",
      "Monoclonal antibodies that inhibit proprotein convertase subtilisin/ kexin type 9 (PCSK9), which degrades the LDL receptor, like alirocumab and evolocumab, are in phase 3 trials.\n",
      "\n",
      "Proprotein convertase subtilisin/kexin type 9 (PCSK9), which binds the low-density lipoprotein receptor and targets it for degradation, has emerged as an important regulator of serum cholesterol levels and cardiovascular disease risk\n",
      "\n",
      "\n",
      "**Please Answer the following Question.**\n",
      "\n",
      "Which are the Proprotein Convertase Subtilisin Kexin 9 (PCSK9) inhibitors that are FDA approved?\n",
      "\n"
     ]
    }
   ],
   "source": [
    "print(user_message)"
   ]
  },
  {
   "cell_type": "code",
   "execution_count": 234,
   "metadata": {},
   "outputs": [
    {
     "data": {
      "text/plain": [
       "'Which are the Proprotein Convertase Subtilisin Kexin 9 (PCSK9) inhibitors that are FDA approved?'"
      ]
     },
     "execution_count": 234,
     "metadata": {},
     "output_type": "execute_result"
    }
   ],
   "source": [
    "question"
   ]
  },
  {
   "cell_type": "code",
   "execution_count": 235,
   "metadata": {},
   "outputs": [
    {
     "name": "stdout",
     "output_type": "stream",
     "text": [
      "The FDA-approved Proprotein Convertase Subtilisin Kexin 9 (PCSK9) inhibitors are alirocumab (Praluent®; Sanofi/ Regeneron) and evolocumab (Repatha®; Amgen).\n"
     ]
    }
   ],
   "source": [
    "# Print the chat completion response in a paragraph format\n",
    "print(chat_completion.response)"
   ]
  },
  {
   "cell_type": "code",
   "execution_count": 236,
   "metadata": {},
   "outputs": [],
   "source": [
    "from tenacity import (\n",
    "    retry,\n",
    "    stop_after_attempt,\n",
    "    wait_fixed,\n",
    ")\n",
    "## Construct a  PROMPT \n",
    "system_prompt = \"\"\"You are an agent that is specialized in answering medical questions.\\n\n",
    "Along with the input text, you are provided with the top 10 documents retrieved from a Retrieval-Augmented Generation (RAG) model. \n",
    "Use this information to answer the following **USER QUESTION**\n",
    "Note: The documents are included in the user's message for context.\n",
    "\"\"\"\n",
    "@retry(\n",
    "    stop=stop_after_attempt(2),  # Stop after 2 attempts\n",
    "    wait=wait_fixed(60),  # Wait 60 second between retries\n",
    ") #Handle retries for the OpenAI API Rate Limit Calls\n",
    "def generate_answer(query_text) -> str:\n",
    "    # Prepare the OpenAI Request Body\n",
    "    question = query_text\n",
    "    contexts = [record.payload['text'] for record in qdrant_search(sample_text,top_k=10)]\n",
    "    contexts = \"\\n\\n\".join(contexts)\n",
    "    user_message = f\"\"\"\n",
    "    Using the below Contexts: \\n\\n\n",
    "    {contexts}\\n\\n\n",
    "    **Please Answer the following Question.**\\n\n",
    "    {question}\n",
    "    \"\"\"\n",
    "    # Prepare the OpenAI Request Body\n",
    "    openai_request_body = {\n",
    "        \"messages\": [\n",
    "            {\"role\": \"system\", \"content\": system_prompt},\n",
    "            {\"role\": \"user\", \"content\": user_message},\n",
    "        ],\n",
    "        # Response Model is the CategoryModel\n",
    "        \"response_model\": ResponseModel,\n",
    "        \"model\": \"gpt-3.5-turbo\",\n",
    "        \"temperature\": 0.2, # Adjust the temperature for more creative responses\n",
    "        \"max_tokens\": 1000, # Limit the tokens as we are only classifying the text\n",
    "        \"seed\": 42,\n",
    "    }\n",
    "    try:\n",
    "        chat_completion = openai_client.chat.completions.create(**openai_request_body)\n",
    "    except Exception as e:\n",
    "        raise e\n",
    "    # Assuming the chat_completion returns the category directly\n",
    "    return chat_completion.response"
   ]
  },
  {
   "cell_type": "code",
   "execution_count": 237,
   "metadata": {},
   "outputs": [
    {
     "data": {
      "text/plain": [
       "'No, optogenetics tools are not typically used in the study and treatment of epilepsy. Optogenetics is a technique that involves the use of light to control neurons that have been genetically sensitized to light. In the context provided, the focus is on PCSK9 inhibitors for the treatment of hypercholesterolemia, not on optogenetics in epilepsy research or treatment.'"
      ]
     },
     "execution_count": 237,
     "metadata": {},
     "output_type": "execute_result"
    }
   ],
   "source": [
    "generate_answer(\"Are optogenetics tools used in the study and treatment of epilepsy?\")"
   ]
  },
  {
   "cell_type": "code",
   "execution_count": 238,
   "metadata": {},
   "outputs": [
    {
     "data": {
      "application/vnd.jupyter.widget-view+json": {
       "model_id": "790b885a7df04af88776e476fc2277da",
       "version_major": 2,
       "version_minor": 0
      },
      "text/plain": [
       "Batching questions:   0%|          | 0/8 [00:00<?, ?it/s]"
      ]
     },
     "metadata": {},
     "output_type": "display_data"
    },
    {
     "data": {
      "application/vnd.jupyter.widget-view+json": {
       "model_id": "128c4c04a7ba4806ada4c64f7b0c9cdd",
       "version_major": 2,
       "version_minor": 0
      },
      "text/plain": [
       "Generating answers:   0%|          | 0/711 [00:00<?, ?it/s]"
      ]
     },
     "metadata": {},
     "output_type": "display_data"
    }
   ],
   "source": [
    "from concurrent.futures import ThreadPoolExecutor, as_completed\n",
    "from tqdm.auto import tqdm\n",
    "\n",
    "# Function to generate answers for a single question\n",
    "def generate_answer_with_id(question_id, question_text):\n",
    "    try:\n",
    "        answer = generate_answer(question_text)\n",
    "        return question_id, answer\n",
    "    except Exception as e:\n",
    "        print(f\"Error generating answer for question ID {question_id}: {e}\")\n",
    "        return question_id, None\n",
    "\n",
    "# Batch processing of questions\n",
    "number_of_batches = 8  \n",
    "\n",
    "questions_per_batch = len(test_data) // number_of_batches\n",
    "\n",
    "# Create a ThreadPoolExecutor for parallel processing\n",
    "with ThreadPoolExecutor(max_workers=number_of_batches) as executor:\n",
    "    # Create a list to hold the futures\n",
    "    futures = []\n",
    "    for batch_index in tqdm(range(number_of_batches), desc=\"Batching questions\"):\n",
    "        start_index = batch_index * questions_per_batch\n",
    "        end_index = (start_index + questions_per_batch) if batch_index < number_of_batches - 1 else len(test_data)\n",
    "        # Submit each question in the batch to the executor\n",
    "        batch_data = test_data.iloc[start_index:end_index]\n",
    "        for question_id, question_text in zip(batch_data['id'], batch_data['question']):\n",
    "            futures.append(executor.submit(generate_answer_with_id, question_id, question_text))\n",
    "\n",
    "    # Collect the results as they complete\n",
    "    answers = {}\n",
    "    for future in tqdm(as_completed(futures), total=len(futures), desc=\"Generating answers\"):\n",
    "        question_id, answer = future.result()\n",
    "        if answer is not None:\n",
    "            answers[question_id] = answer\n",
    "\n",
    "# Convert the answers to a DataFrame\n",
    "answers_df = pd.DataFrame.from_dict(answers, orient='index', columns=['answer'])"
   ]
  },
  {
   "cell_type": "code",
   "execution_count": 239,
   "metadata": {},
   "outputs": [
    {
     "data": {
      "text/html": [
       "<div>\n",
       "<style scoped>\n",
       "    .dataframe tbody tr th:only-of-type {\n",
       "        vertical-align: middle;\n",
       "    }\n",
       "\n",
       "    .dataframe tbody tr th {\n",
       "        vertical-align: top;\n",
       "    }\n",
       "\n",
       "    .dataframe thead th {\n",
       "        text-align: right;\n",
       "    }\n",
       "</style>\n",
       "<table border=\"1\" class=\"dataframe\">\n",
       "  <thead>\n",
       "    <tr style=\"text-align: right;\">\n",
       "      <th></th>\n",
       "      <th>id</th>\n",
       "      <th>answer</th>\n",
       "    </tr>\n",
       "  </thead>\n",
       "  <tbody>\n",
       "    <tr>\n",
       "      <th>0</th>\n",
       "      <td>5</td>\n",
       "      <td>Yes, Fibroblast Growth Factor 23 is a phosphaturic hormone.</td>\n",
       "    </tr>\n",
       "    <tr>\n",
       "      <th>1</th>\n",
       "      <td>3</td>\n",
       "      <td>The name for anorexia in gymnasts is often referred to as 'anorexia athletica' or 'anorexia athletica nervosa'.</td>\n",
       "    </tr>\n",
       "    <tr>\n",
       "      <th>2</th>\n",
       "      <td>6</td>\n",
       "      <td>The viral vectors commonly used in gene therapy include adenoviruses, adeno-associated viruses, lentiviruses, and retroviruses.</td>\n",
       "    </tr>\n",
       "    <tr>\n",
       "      <th>3</th>\n",
       "      <td>7</td>\n",
       "      <td>Bedaquiline is an antibiotic used to treat tuberculosis. It works by inhibiting mycobacterial ATP synthase, which is essential for the generation of energy in Mycobacterium tuberculosis, the bacteria that causes tuberculosis.</td>\n",
       "    </tr>\n",
       "    <tr>\n",
       "      <th>4</th>\n",
       "      <td>8</td>\n",
       "      <td>I'm sorry, but the information provided does not directly relate to the most common CFTR mutation in Caucasians. If you have any other medical questions or need information on PCSK9 inhibitors, I'd be happy to help.</td>\n",
       "    </tr>\n",
       "  </tbody>\n",
       "</table>\n",
       "</div>"
      ],
      "text/plain": [
       "   id  \\\n",
       "0   5   \n",
       "1   3   \n",
       "2   6   \n",
       "3   7   \n",
       "4   8   \n",
       "\n",
       "                                                                                                                                                                                                                              answer  \n",
       "0                                                                                                                                                                        Yes, Fibroblast Growth Factor 23 is a phosphaturic hormone.  \n",
       "1                                                                                                                    The name for anorexia in gymnasts is often referred to as 'anorexia athletica' or 'anorexia athletica nervosa'.  \n",
       "2                                                                                                    The viral vectors commonly used in gene therapy include adenoviruses, adeno-associated viruses, lentiviruses, and retroviruses.  \n",
       "3  Bedaquiline is an antibiotic used to treat tuberculosis. It works by inhibiting mycobacterial ATP synthase, which is essential for the generation of energy in Mycobacterium tuberculosis, the bacteria that causes tuberculosis.  \n",
       "4            I'm sorry, but the information provided does not directly relate to the most common CFTR mutation in Caucasians. If you have any other medical questions or need information on PCSK9 inhibitors, I'd be happy to help.  "
      ]
     },
     "execution_count": 239,
     "metadata": {},
     "output_type": "execute_result"
    }
   ],
   "source": [
    "answers_df.reset_index(inplace=True)\n",
    "answers_df.rename(columns={'index': 'id'}, inplace=True)\n",
    "answers_df.head()"
   ]
  },
  {
   "cell_type": "code",
   "execution_count": 242,
   "metadata": {},
   "outputs": [],
   "source": [
    "def create_embedding(text):\n",
    "    return openai_client.embeddings.create(input = [text], model=\"text-embedding-3-small\",dimensions=1536).data[0].embedding"
   ]
  },
  {
   "cell_type": "code",
   "execution_count": 243,
   "metadata": {},
   "outputs": [
    {
     "data": {
      "application/vnd.jupyter.widget-view+json": {
       "model_id": "8971b52b654c4e0b96534f5a82664d21",
       "version_major": 2,
       "version_minor": 0
      },
      "text/plain": [
       "Generating embeddings:   0%|          | 0/711 [00:00<?, ?it/s]"
      ]
     },
     "metadata": {},
     "output_type": "display_data"
    }
   ],
   "source": [
    "from concurrent.futures import ThreadPoolExecutor\n",
    "import os\n",
    "# Function to process embeddings in parallel\n",
    "def process_embeddings(answer):\n",
    "    return create_embedding(answer)\n",
    "\n",
    "# Number of workers based on the number of available CPUs\n",
    "num_workers = os.cpu_count()\n",
    "\n",
    "# Create a ThreadPoolExecutor for parallel processing\n",
    "with ThreadPoolExecutor(max_workers=num_workers) as executor:\n",
    "    # Use list comprehension to process embeddings in parallel using executor.map\n",
    "    embeddings = list(tqdm(executor.map(process_embeddings, answers_df['answer']), total=len(answers_df), desc=\"Generating embeddings\"))\n",
    "\n",
    "# Assign the embeddings to the DataFrame\n",
    "answers_df['embedding'] = embeddings"
   ]
  },
  {
   "cell_type": "code",
   "execution_count": 244,
   "metadata": {},
   "outputs": [
    {
     "data": {
      "text/html": [
       "<div>\n",
       "<style scoped>\n",
       "    .dataframe tbody tr th:only-of-type {\n",
       "        vertical-align: middle;\n",
       "    }\n",
       "\n",
       "    .dataframe tbody tr th {\n",
       "        vertical-align: top;\n",
       "    }\n",
       "\n",
       "    .dataframe thead th {\n",
       "        text-align: right;\n",
       "    }\n",
       "</style>\n",
       "<table border=\"1\" class=\"dataframe\">\n",
       "  <thead>\n",
       "    <tr style=\"text-align: right;\">\n",
       "      <th></th>\n",
       "      <th>id</th>\n",
       "      <th>answer</th>\n",
       "      <th>embedding</th>\n",
       "    </tr>\n",
       "  </thead>\n",
       "  <tbody>\n",
       "    <tr>\n",
       "      <th>0</th>\n",
       "      <td>5</td>\n",
       "      <td>Yes, Fibroblast Growth Factor 23 is a phosphaturic hormone.</td>\n",
       "      <td>[-0.008644528687000275, 0.008139693178236485, -0.025553399696946144, 0.028071345761418343, 0.02597721293568611, 0.011929075233638287, -0.007497741840779781, 0.0017949705943465233, -0.007198580075055361, -0.02672511711716652, -0.0051885866560041904, -0.0017310871044173837, -0.0038641728460788727, -0.010776055976748466, 0.011879215016961098, 0.0051948195323348045, 0.027722323313355446, -0.02121555432677269, -0.04679388552904129, 0.04380226880311966, 0.052502889186143875, -0.020467650145292282,...</td>\n",
       "    </tr>\n",
       "    <tr>\n",
       "      <th>1</th>\n",
       "      <td>3</td>\n",
       "      <td>The name for anorexia in gymnasts is often referred to as 'anorexia athletica' or 'anorexia athletica nervosa'.</td>\n",
       "      <td>[0.003968697972595692, 0.018068484961986542, -0.017903368920087814, -0.0013651612680405378, 0.009004756808280945, 0.07118888944387436, 0.005139257293194532, -0.010319793596863747, 0.02795189805328846, -0.02748013660311699, -0.024767505005002022, -0.028352895751595497, -0.006716711446642876, -0.018351541832089424, 0.04743567109107971, 0.03804760426282883, 0.035901088267564774, -0.02240869589149952, -0.03252799063920975, -0.008456333540380001, 0.06170646846294403, 0.05330910533666611, 0.017419...</td>\n",
       "    </tr>\n",
       "    <tr>\n",
       "      <th>2</th>\n",
       "      <td>6</td>\n",
       "      <td>The viral vectors commonly used in gene therapy include adenoviruses, adeno-associated viruses, lentiviruses, and retroviruses.</td>\n",
       "      <td>[-0.008217710070312023, 0.005240667145699263, -0.004717673175036907, 0.010057575069367886, -0.0014630419900640845, 0.011972538195550442, -0.01331354770809412, 0.010481334291398525, -0.00988056231290102, 0.008442998863756657, -0.011167931370437145, -0.03557431325316429, 0.03355743736028671, 0.004613074474036694, -0.045272499322891235, -0.06599915027618408, 0.0429123230278492, -0.029759695753455162, 0.0014590189093723893, -0.009902018122375011, 0.06286655366420746, 0.03576742112636566, 0.00372...</td>\n",
       "    </tr>\n",
       "    <tr>\n",
       "      <th>3</th>\n",
       "      <td>7</td>\n",
       "      <td>Bedaquiline is an antibiotic used to treat tuberculosis. It works by inhibiting mycobacterial ATP synthase, which is essential for the generation of energy in Mycobacterium tuberculosis, the bacteria that causes tuberculosis.</td>\n",
       "      <td>[0.017254505306482315, -0.08291658014059067, 0.006782023701816797, 0.06250037252902985, -0.04400492087006569, 0.04661629721522331, -0.031962376087903976, 0.023351311683654785, -0.013866189867258072, -0.05615537241101265, 0.0009428469929844141, -0.024473555386066437, -0.01008401159197092, -0.022682281211018562, 0.024430392310023308, 0.0019072756404057145, 0.006636348087340593, -0.03422844782471657, -0.01802065223455429, 0.0597379207611084, 0.04545088857412338, 0.025293657556176186, -0.0095228...</td>\n",
       "    </tr>\n",
       "    <tr>\n",
       "      <th>4</th>\n",
       "      <td>8</td>\n",
       "      <td>I'm sorry, but the information provided does not directly relate to the most common CFTR mutation in Caucasians. If you have any other medical questions or need information on PCSK9 inhibitors, I'd be happy to help.</td>\n",
       "      <td>[0.016180062666535378, 0.008636108599603176, -0.008737233467400074, 0.07038327306509018, -0.009512527845799923, -0.006711354944854975, 0.009222635067999363, -0.006502362433820963, -0.022247586399316788, -0.02724992111325264, -0.03155112266540527, -0.02836904302239418, 0.048459287732839584, 0.028422975912690163, -0.012708090245723724, -0.042391762137413025, 0.07334961742162704, 0.009195668622851372, -0.04595137760043144, 0.06703939288854599, 0.02114194817841053, -0.020346427336335182, 0.00538...</td>\n",
       "    </tr>\n",
       "  </tbody>\n",
       "</table>\n",
       "</div>"
      ],
      "text/plain": [
       "   id  \\\n",
       "0   5   \n",
       "1   3   \n",
       "2   6   \n",
       "3   7   \n",
       "4   8   \n",
       "\n",
       "                                                                                                                                                                                                                              answer  \\\n",
       "0                                                                                                                                                                        Yes, Fibroblast Growth Factor 23 is a phosphaturic hormone.   \n",
       "1                                                                                                                    The name for anorexia in gymnasts is often referred to as 'anorexia athletica' or 'anorexia athletica nervosa'.   \n",
       "2                                                                                                    The viral vectors commonly used in gene therapy include adenoviruses, adeno-associated viruses, lentiviruses, and retroviruses.   \n",
       "3  Bedaquiline is an antibiotic used to treat tuberculosis. It works by inhibiting mycobacterial ATP synthase, which is essential for the generation of energy in Mycobacterium tuberculosis, the bacteria that causes tuberculosis.   \n",
       "4            I'm sorry, but the information provided does not directly relate to the most common CFTR mutation in Caucasians. If you have any other medical questions or need information on PCSK9 inhibitors, I'd be happy to help.   \n",
       "\n",
       "                                                                                                                                                                                                                                                                                                                                                                                                                                                                                                             embedding  \n",
       "0  [-0.008644528687000275, 0.008139693178236485, -0.025553399696946144, 0.028071345761418343, 0.02597721293568611, 0.011929075233638287, -0.007497741840779781, 0.0017949705943465233, -0.007198580075055361, -0.02672511711716652, -0.0051885866560041904, -0.0017310871044173837, -0.0038641728460788727, -0.010776055976748466, 0.011879215016961098, 0.0051948195323348045, 0.027722323313355446, -0.02121555432677269, -0.04679388552904129, 0.04380226880311966, 0.052502889186143875, -0.020467650145292282,...  \n",
       "1  [0.003968697972595692, 0.018068484961986542, -0.017903368920087814, -0.0013651612680405378, 0.009004756808280945, 0.07118888944387436, 0.005139257293194532, -0.010319793596863747, 0.02795189805328846, -0.02748013660311699, -0.024767505005002022, -0.028352895751595497, -0.006716711446642876, -0.018351541832089424, 0.04743567109107971, 0.03804760426282883, 0.035901088267564774, -0.02240869589149952, -0.03252799063920975, -0.008456333540380001, 0.06170646846294403, 0.05330910533666611, 0.017419...  \n",
       "2  [-0.008217710070312023, 0.005240667145699263, -0.004717673175036907, 0.010057575069367886, -0.0014630419900640845, 0.011972538195550442, -0.01331354770809412, 0.010481334291398525, -0.00988056231290102, 0.008442998863756657, -0.011167931370437145, -0.03557431325316429, 0.03355743736028671, 0.004613074474036694, -0.045272499322891235, -0.06599915027618408, 0.0429123230278492, -0.029759695753455162, 0.0014590189093723893, -0.009902018122375011, 0.06286655366420746, 0.03576742112636566, 0.00372...  \n",
       "3  [0.017254505306482315, -0.08291658014059067, 0.006782023701816797, 0.06250037252902985, -0.04400492087006569, 0.04661629721522331, -0.031962376087903976, 0.023351311683654785, -0.013866189867258072, -0.05615537241101265, 0.0009428469929844141, -0.024473555386066437, -0.01008401159197092, -0.022682281211018562, 0.024430392310023308, 0.0019072756404057145, 0.006636348087340593, -0.03422844782471657, -0.01802065223455429, 0.0597379207611084, 0.04545088857412338, 0.025293657556176186, -0.0095228...  \n",
       "4  [0.016180062666535378, 0.008636108599603176, -0.008737233467400074, 0.07038327306509018, -0.009512527845799923, -0.006711354944854975, 0.009222635067999363, -0.006502362433820963, -0.022247586399316788, -0.02724992111325264, -0.03155112266540527, -0.02836904302239418, 0.048459287732839584, 0.028422975912690163, -0.012708090245723724, -0.042391762137413025, 0.07334961742162704, 0.009195668622851372, -0.04595137760043144, 0.06703939288854599, 0.02114194817841053, -0.020346427336335182, 0.00538...  "
      ]
     },
     "execution_count": 244,
     "metadata": {},
     "output_type": "execute_result"
    }
   ],
   "source": [
    "answers_df.head()"
   ]
  },
  {
   "cell_type": "code",
   "execution_count": 245,
   "metadata": {},
   "outputs": [],
   "source": [
    "#sort by id and save the dataframe\n",
    "answers_df = answers_df.sort_values(by='id')\n",
    "answers_df[['id','embedding']].to_csv('submission_4.csv',index=False)"
   ]
  },
  {
   "cell_type": "code",
   "execution_count": 247,
   "metadata": {},
   "outputs": [
    {
     "data": {
      "text/html": [
       "<div>\n",
       "<style scoped>\n",
       "    .dataframe tbody tr th:only-of-type {\n",
       "        vertical-align: middle;\n",
       "    }\n",
       "\n",
       "    .dataframe tbody tr th {\n",
       "        vertical-align: top;\n",
       "    }\n",
       "\n",
       "    .dataframe thead th {\n",
       "        text-align: right;\n",
       "    }\n",
       "</style>\n",
       "<table border=\"1\" class=\"dataframe\">\n",
       "  <thead>\n",
       "    <tr style=\"text-align: right;\">\n",
       "      <th></th>\n",
       "      <th>id</th>\n",
       "      <th>answer</th>\n",
       "      <th>embedding</th>\n",
       "    </tr>\n",
       "  </thead>\n",
       "  <tbody>\n",
       "    <tr>\n",
       "      <th>5</th>\n",
       "      <td>1</td>\n",
       "      <td>The Proprotein Convertase Subtilisin Kexin 9 (PCSK9) inhibitors that are FDA approved are alirocumab (Praluent®; Sanofi/ Regeneron) and evolocumab (Repatha®; Amgen).</td>\n",
       "      <td>[-0.006362265441566706, -0.033106300979852676, 0.02128262259066105, 0.044502075761556625, 0.03970504179596901, 0.033083781599998474, -0.03670971095561981, 0.04945676028728485, 0.04276793822646141, -0.06360013782978058, 0.046664122492074966, -0.0577896423637867, -0.02691294625401497, 0.05067291110754013, 0.02219473570585251, -0.022611379623413086, 0.04851086810231209, 0.015573474578559399, -0.013828074559569359, 0.057429298758506775, 0.0031163841485977173, -0.008265314623713493, 0.01593381538...</td>\n",
       "    </tr>\n",
       "    <tr>\n",
       "      <th>8</th>\n",
       "      <td>2</td>\n",
       "      <td>The relationship between nucleosomes and exons is that nucleosomes are structures made up of DNA wrapped around histone proteins, and they play a role in regulating gene expression by controlling access to DNA. Exons are the coding regions of genes that are transcribed into mRNA. Nucleosomes can influence the accessibility of exons for transcription by either facilitating or inhibiting the binding of transcription factors and RNA polymerase to the DNA sequence containing the exons.</td>\n",
       "      <td>[0.01780969463288784, 0.016452664509415627, 0.04212050512433052, 0.01096143014729023, 0.04817980155348778, 0.03585081920027733, 0.05562768131494522, -0.05907811224460602, 0.004786421079188585, -0.04138413444161415, 0.03961683809757233, 0.018293596804142, 0.0006890342338010669, 0.01697864569723606, -0.06433791667222977, -0.014611734077334404, -0.012770802713930607, 0.022511959075927734, 0.042709603905677795, -0.0047311931848526, 0.04851642623543739, -0.03191648796200752, 0.009010042995214462,...</td>\n",
       "    </tr>\n",
       "    <tr>\n",
       "      <th>1</th>\n",
       "      <td>3</td>\n",
       "      <td>The name for anorexia in gymnasts is often referred to as 'anorexia athletica' or 'anorexia athletica nervosa'.</td>\n",
       "      <td>[0.003968697972595692, 0.018068484961986542, -0.017903368920087814, -0.0013651612680405378, 0.009004756808280945, 0.07118888944387436, 0.005139257293194532, -0.010319793596863747, 0.02795189805328846, -0.02748013660311699, -0.024767505005002022, -0.028352895751595497, -0.006716711446642876, -0.018351541832089424, 0.04743567109107971, 0.03804760426282883, 0.035901088267564774, -0.02240869589149952, -0.03252799063920975, -0.008456333540380001, 0.06170646846294403, 0.05330910533666611, 0.017419...</td>\n",
       "    </tr>\n",
       "    <tr>\n",
       "      <th>10</th>\n",
       "      <td>4</td>\n",
       "      <td>Lambert-Eaton myasthenic syndrome (LEMS) is associated with small cell lung cancer through a paraneoplastic syndrome. In LEMS, the immune system mistakenly attacks the neuromuscular junctions, leading to muscle weakness and other symptoms. Small cell lung cancer can trigger this autoimmune response, causing the characteristic symptoms of LEMS to manifest. It is important for individuals with LEMS to undergo screening for underlying small cell lung cancer due to this association.</td>\n",
       "      <td>[-0.0033624370116740465, -0.04150952398777008, 0.011632374487817287, 0.007908831350505352, -0.054225217550992966, 0.034926723688840866, -0.012407866306602955, 0.007624681107699871, -0.025597143918275833, 0.0067011951468884945, -0.03289031609892845, -0.03606332093477249, -0.0009915637783706188, -0.01495337300002575, -0.038241803646087646, -0.01772383227944374, 0.05640369653701782, -0.012940647080540657, -0.021761124953627586, 0.03277192264795303, 0.03783925622701645, 0.043877437710762024, 0.0...</td>\n",
       "    </tr>\n",
       "    <tr>\n",
       "      <th>0</th>\n",
       "      <td>5</td>\n",
       "      <td>Yes, Fibroblast Growth Factor 23 is a phosphaturic hormone.</td>\n",
       "      <td>[-0.008644528687000275, 0.008139693178236485, -0.025553399696946144, 0.028071345761418343, 0.02597721293568611, 0.011929075233638287, -0.007497741840779781, 0.0017949705943465233, -0.007198580075055361, -0.02672511711716652, -0.0051885866560041904, -0.0017310871044173837, -0.0038641728460788727, -0.010776055976748466, 0.011879215016961098, 0.0051948195323348045, 0.027722323313355446, -0.02121555432677269, -0.04679388552904129, 0.04380226880311966, 0.052502889186143875, -0.020467650145292282,...</td>\n",
       "    </tr>\n",
       "    <tr>\n",
       "      <th>...</th>\n",
       "      <td>...</td>\n",
       "      <td>...</td>\n",
       "      <td>...</td>\n",
       "    </tr>\n",
       "    <tr>\n",
       "      <th>710</th>\n",
       "      <td>707</td>\n",
       "      <td>Proprotein convertase subtilisin/kexin type 9 (PCSK9) inhibitors, such as evolocumab and alirocumab, have been approved for the treatment of hypercholesterolemia by the FDA and EMA. However, the information provided does not directly address the question about alternative splicing of apoptotic genes in response to DNA or mitochondrial damage.</td>\n",
       "      <td>[0.0012890517245978117, 0.006619375664740801, 0.007356812711805105, 0.059041790664196014, 0.0075265406630933285, 0.03661433607339859, 0.004023714456707239, 0.02486216463148594, 0.04735985025763512, -0.03844037279486656, 0.03923633694648743, -0.058058541268110275, -0.028420591726899147, 0.05791807547211647, 0.01795600727200508, -0.015064786188304424, 0.06180425360798836, 0.016399197280406952, -0.002396670635789633, 0.0535636842250824, -0.008281535468995571, 0.008802424184978008, 0.00178213964...</td>\n",
       "    </tr>\n",
       "    <tr>\n",
       "      <th>704</th>\n",
       "      <td>708</td>\n",
       "      <td>NOXO1 is required for the function of NADPH oxidase family member NOX1.</td>\n",
       "      <td>[0.014740037731826305, 0.041458338499069214, -0.034051284193992615, 0.02457025647163391, 0.037500858306884766, -0.029056815430521965, 0.02289837785065174, -0.012814203277230263, -0.027554241940379143, -0.018030885607004166, 0.008280028589069843, 0.0561666339635849, -0.0032009053975343704, -0.0031585795804858208, 0.03269685432314873, -0.04418836906552315, 0.004224666394293308, -0.023110007867217064, -0.009115966968238354, 0.060568537563085556, 0.03502478450536728, -0.02113126777112484, -0.011...</td>\n",
       "    </tr>\n",
       "    <tr>\n",
       "      <th>706</th>\n",
       "      <td>709</td>\n",
       "      <td>The genes that have been found mutated in CMT1A (Charcot-Marie-Tooth disease type 1 A) include PMP22, MPZ, and GJB1.</td>\n",
       "      <td>[0.057902511209249496, 0.02686448022723198, 0.023174183443188667, 0.015112643130123615, -0.03773767501115799, -0.014244983904063702, 0.03015938773751259, -0.014871016144752502, -0.019714530557394028, -0.07587073743343353, 0.05799037590622902, -0.02207588031888008, 0.021515747532248497, 0.050653714686632156, -0.027984749525785446, -0.028314240276813507, 0.043317053467035294, -0.025897974148392677, -0.0035118223167955875, 0.015771623700857162, 0.015079693868756294, 0.006836933083832264, -0.017...</td>\n",
       "    </tr>\n",
       "    <tr>\n",
       "      <th>708</th>\n",
       "      <td>710</td>\n",
       "      <td>BioASQ is a challenge that aims to push the boundaries of biomedical semantic indexing, question answering, and information retrieval. It focuses on advancing the state of the art in biomedical literature search and question answering systems.</td>\n",
       "      <td>[-0.008844846859574318, 0.0023986303713172674, 0.05650179833173752, 0.03448503836989403, -0.05237201228737831, -0.01803164929151535, -0.01917589083313942, -0.00984441302716732, -0.012178925797343254, -0.022990023717284203, 0.014217515476047993, -0.04853157326579094, -0.019491542130708694, 0.011784360744059086, 0.032406989485025406, 0.020096542313694954, 0.01069930475205183, -0.015388060361146927, 0.014033384621143341, -0.0047347876243293285, 0.020977739244699478, -0.06092093512415886, 0.0040...</td>\n",
       "    </tr>\n",
       "    <tr>\n",
       "      <th>709</th>\n",
       "      <td>711</td>\n",
       "      <td>Snord116 is a type of small nucleolar RNA that has been associated with Prader-Willi syndrome, a genetic disorder that affects various parts of the body.</td>\n",
       "      <td>[0.0049336873926222324, 0.023212125524878502, -0.007602002937346697, 0.012456370517611504, -0.022222215309739113, 0.014658286236226559, 0.022361818701028824, -0.042261552065610886, -0.05462273955345154, -0.062085140496492386, -0.028910454362630844, -0.005381050519645214, 0.01432831585407257, 0.0030458776745945215, 0.012856141664087772, 0.032489363104104996, 0.008109649643301964, -0.02627069503068924, -0.013871434144675732, 0.06320196390151978, 0.06452184170484543, 0.0073418342508375645, -0.0...</td>\n",
       "    </tr>\n",
       "  </tbody>\n",
       "</table>\n",
       "<p>711 rows × 3 columns</p>\n",
       "</div>"
      ],
      "text/plain": [
       "      id  \\\n",
       "5      1   \n",
       "8      2   \n",
       "1      3   \n",
       "10     4   \n",
       "0      5   \n",
       "..   ...   \n",
       "710  707   \n",
       "704  708   \n",
       "706  709   \n",
       "708  710   \n",
       "709  711   \n",
       "\n",
       "                                                                                                                                                                                                                                                                                                                                                                                                                                                                                                     answer  \\\n",
       "5                                                                                                                                                                                                                                                                                                                                     The Proprotein Convertase Subtilisin Kexin 9 (PCSK9) inhibitors that are FDA approved are alirocumab (Praluent®; Sanofi/ Regeneron) and evolocumab (Repatha®; Amgen).   \n",
       "8    The relationship between nucleosomes and exons is that nucleosomes are structures made up of DNA wrapped around histone proteins, and they play a role in regulating gene expression by controlling access to DNA. Exons are the coding regions of genes that are transcribed into mRNA. Nucleosomes can influence the accessibility of exons for transcription by either facilitating or inhibiting the binding of transcription factors and RNA polymerase to the DNA sequence containing the exons.   \n",
       "1                                                                                                                                                                                                                                                                                                                                                                                           The name for anorexia in gymnasts is often referred to as 'anorexia athletica' or 'anorexia athletica nervosa'.   \n",
       "10      Lambert-Eaton myasthenic syndrome (LEMS) is associated with small cell lung cancer through a paraneoplastic syndrome. In LEMS, the immune system mistakenly attacks the neuromuscular junctions, leading to muscle weakness and other symptoms. Small cell lung cancer can trigger this autoimmune response, causing the characteristic symptoms of LEMS to manifest. It is important for individuals with LEMS to undergo screening for underlying small cell lung cancer due to this association.   \n",
       "0                                                                                                                                                                                                                                                                                                                                                                                                                                               Yes, Fibroblast Growth Factor 23 is a phosphaturic hormone.   \n",
       "..                                                                                                                                                                                                                                                                                                                                                                                                                                                                                                      ...   \n",
       "710                                                                                                                                                Proprotein convertase subtilisin/kexin type 9 (PCSK9) inhibitors, such as evolocumab and alirocumab, have been approved for the treatment of hypercholesterolemia by the FDA and EMA. However, the information provided does not directly address the question about alternative splicing of apoptotic genes in response to DNA or mitochondrial damage.   \n",
       "704                                                                                                                                                                                                                                                                                                                                                                                                                                 NOXO1 is required for the function of NADPH oxidase family member NOX1.   \n",
       "706                                                                                                                                                                                                                                                                                                                                                                                    The genes that have been found mutated in CMT1A (Charcot-Marie-Tooth disease type 1 A) include PMP22, MPZ, and GJB1.   \n",
       "708                                                                                                                                                                                                                                                     BioASQ is a challenge that aims to push the boundaries of biomedical semantic indexing, question answering, and information retrieval. It focuses on advancing the state of the art in biomedical literature search and question answering systems.   \n",
       "709                                                                                                                                                                                                                                                                                                                                               Snord116 is a type of small nucleolar RNA that has been associated with Prader-Willi syndrome, a genetic disorder that affects various parts of the body.   \n",
       "\n",
       "                                                                                                                                                                                                                                                                                                                                                                                                                                                                                                               embedding  \n",
       "5    [-0.006362265441566706, -0.033106300979852676, 0.02128262259066105, 0.044502075761556625, 0.03970504179596901, 0.033083781599998474, -0.03670971095561981, 0.04945676028728485, 0.04276793822646141, -0.06360013782978058, 0.046664122492074966, -0.0577896423637867, -0.02691294625401497, 0.05067291110754013, 0.02219473570585251, -0.022611379623413086, 0.04851086810231209, 0.015573474578559399, -0.013828074559569359, 0.057429298758506775, 0.0031163841485977173, -0.008265314623713493, 0.01593381538...  \n",
       "8    [0.01780969463288784, 0.016452664509415627, 0.04212050512433052, 0.01096143014729023, 0.04817980155348778, 0.03585081920027733, 0.05562768131494522, -0.05907811224460602, 0.004786421079188585, -0.04138413444161415, 0.03961683809757233, 0.018293596804142, 0.0006890342338010669, 0.01697864569723606, -0.06433791667222977, -0.014611734077334404, -0.012770802713930607, 0.022511959075927734, 0.042709603905677795, -0.0047311931848526, 0.04851642623543739, -0.03191648796200752, 0.009010042995214462,...  \n",
       "1    [0.003968697972595692, 0.018068484961986542, -0.017903368920087814, -0.0013651612680405378, 0.009004756808280945, 0.07118888944387436, 0.005139257293194532, -0.010319793596863747, 0.02795189805328846, -0.02748013660311699, -0.024767505005002022, -0.028352895751595497, -0.006716711446642876, -0.018351541832089424, 0.04743567109107971, 0.03804760426282883, 0.035901088267564774, -0.02240869589149952, -0.03252799063920975, -0.008456333540380001, 0.06170646846294403, 0.05330910533666611, 0.017419...  \n",
       "10   [-0.0033624370116740465, -0.04150952398777008, 0.011632374487817287, 0.007908831350505352, -0.054225217550992966, 0.034926723688840866, -0.012407866306602955, 0.007624681107699871, -0.025597143918275833, 0.0067011951468884945, -0.03289031609892845, -0.03606332093477249, -0.0009915637783706188, -0.01495337300002575, -0.038241803646087646, -0.01772383227944374, 0.05640369653701782, -0.012940647080540657, -0.021761124953627586, 0.03277192264795303, 0.03783925622701645, 0.043877437710762024, 0.0...  \n",
       "0    [-0.008644528687000275, 0.008139693178236485, -0.025553399696946144, 0.028071345761418343, 0.02597721293568611, 0.011929075233638287, -0.007497741840779781, 0.0017949705943465233, -0.007198580075055361, -0.02672511711716652, -0.0051885866560041904, -0.0017310871044173837, -0.0038641728460788727, -0.010776055976748466, 0.011879215016961098, 0.0051948195323348045, 0.027722323313355446, -0.02121555432677269, -0.04679388552904129, 0.04380226880311966, 0.052502889186143875, -0.020467650145292282,...  \n",
       "..                                                                                                                                                                                                                                                                                                                                                                                                                                                                                                                   ...  \n",
       "710  [0.0012890517245978117, 0.006619375664740801, 0.007356812711805105, 0.059041790664196014, 0.0075265406630933285, 0.03661433607339859, 0.004023714456707239, 0.02486216463148594, 0.04735985025763512, -0.03844037279486656, 0.03923633694648743, -0.058058541268110275, -0.028420591726899147, 0.05791807547211647, 0.01795600727200508, -0.015064786188304424, 0.06180425360798836, 0.016399197280406952, -0.002396670635789633, 0.0535636842250824, -0.008281535468995571, 0.008802424184978008, 0.00178213964...  \n",
       "704  [0.014740037731826305, 0.041458338499069214, -0.034051284193992615, 0.02457025647163391, 0.037500858306884766, -0.029056815430521965, 0.02289837785065174, -0.012814203277230263, -0.027554241940379143, -0.018030885607004166, 0.008280028589069843, 0.0561666339635849, -0.0032009053975343704, -0.0031585795804858208, 0.03269685432314873, -0.04418836906552315, 0.004224666394293308, -0.023110007867217064, -0.009115966968238354, 0.060568537563085556, 0.03502478450536728, -0.02113126777112484, -0.011...  \n",
       "706  [0.057902511209249496, 0.02686448022723198, 0.023174183443188667, 0.015112643130123615, -0.03773767501115799, -0.014244983904063702, 0.03015938773751259, -0.014871016144752502, -0.019714530557394028, -0.07587073743343353, 0.05799037590622902, -0.02207588031888008, 0.021515747532248497, 0.050653714686632156, -0.027984749525785446, -0.028314240276813507, 0.043317053467035294, -0.025897974148392677, -0.0035118223167955875, 0.015771623700857162, 0.015079693868756294, 0.006836933083832264, -0.017...  \n",
       "708  [-0.008844846859574318, 0.0023986303713172674, 0.05650179833173752, 0.03448503836989403, -0.05237201228737831, -0.01803164929151535, -0.01917589083313942, -0.00984441302716732, -0.012178925797343254, -0.022990023717284203, 0.014217515476047993, -0.04853157326579094, -0.019491542130708694, 0.011784360744059086, 0.032406989485025406, 0.020096542313694954, 0.01069930475205183, -0.015388060361146927, 0.014033384621143341, -0.0047347876243293285, 0.020977739244699478, -0.06092093512415886, 0.0040...  \n",
       "709  [0.0049336873926222324, 0.023212125524878502, -0.007602002937346697, 0.012456370517611504, -0.022222215309739113, 0.014658286236226559, 0.022361818701028824, -0.042261552065610886, -0.05462273955345154, -0.062085140496492386, -0.028910454362630844, -0.005381050519645214, 0.01432831585407257, 0.0030458776745945215, 0.012856141664087772, 0.032489363104104996, 0.008109649643301964, -0.02627069503068924, -0.013871434144675732, 0.06320196390151978, 0.06452184170484543, 0.0073418342508375645, -0.0...  \n",
       "\n",
       "[711 rows x 3 columns]"
      ]
     },
     "execution_count": 247,
     "metadata": {},
     "output_type": "execute_result"
    }
   ],
   "source": [
    "answers_df"
   ]
  }
 ],
 "metadata": {
  "kernelspec": {
   "display_name": "qdrant_client",
   "language": "python",
   "name": "python3"
  },
  "language_info": {
   "codemirror_mode": {
    "name": "ipython",
    "version": 3
   },
   "file_extension": ".py",
   "mimetype": "text/x-python",
   "name": "python",
   "nbconvert_exporter": "python",
   "pygments_lexer": "ipython3",
   "version": "3.9.17"
  }
 },
 "nbformat": 4,
 "nbformat_minor": 2
}
