{
 "cells": [
  {
   "cell_type": "markdown",
   "metadata": {},
   "source": [
    "## DSPy\n",
    "\n",
    "DSPy is a framework for algorithmically optimizing LM prompts. In order to do algorithmic optimization, we'd need the following components:\n",
    "\n",
    "1. Datasets (and corresponding loaders) - Training and Evaluation/Validation sets\n",
    "2. Prompt \"programs\" -- this is basically a template for the prompt that can be filled in with different values\n",
    "3. Metrics: Both for scoring during training and for evaluation\n",
    "4. Evaluation: A way to evaluate the model on the evaluation/validation set\n",
    "5. Optimizer: The algorithm that will optimize the prompt\n",
    "\n",
    "We will introduce all the components in the following sections. That said, I don't think we can do justice to Optimizer in this notebook. So, we will just introduce the concept here and recommend that you check out [DSPy Optimizer docs](https://dspy-docs.vercel.app/docs/building-blocks/optimizers) for more. "
   ]
  },
  {
   "cell_type": "markdown",
   "metadata": {},
   "source": []
  }
 ],
 "metadata": {
  "language_info": {
   "name": "python"
  }
 },
 "nbformat": 4,
 "nbformat_minor": 2
}
