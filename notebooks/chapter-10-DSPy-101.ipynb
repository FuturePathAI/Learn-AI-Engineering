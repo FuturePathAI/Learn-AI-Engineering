{
 "cells": [
  {
   "cell_type": "markdown",
   "id": "ae81be8a-5114-4663-86a7-3b36fef4301c",
   "metadata": {},
   "source": [
    "## DSPy 101\n",
    "\n",
    "DSPy is a framework for algorithmically optimizing LM prompts. In order to do algorithmic optimization, we'd need the following components:\n",
    "\n",
    "1. Datasets (and corresponding loaders) - Training and Evaluation/Validation sets\n",
    "2. Prompt \"programs\" -- this is basically a template for the prompt that can be filled in with different values\n",
    "3. Metrics: Both for scoring during training and for evaluation\n",
    "4. Evaluation: A way to evaluate the model on the evaluation/validation set\n",
    "5. Optimizer: The algorithm that will optimize the prompt\n",
    "\n",
    "We will introduce all the components in the following sections. That said, I don't think we can do justice to Optimizer in this notebook. So, we will just introduce the concept here and recommend that you check out [DSPy Optimizer docs](https://dspy-docs.vercel.app/docs/building-blocks/optimizers) for more.\n",
    "\n",
    "This notebook is based on [IndicXNLI](https://github.com/saifulhaq95/DSPy-Indic/blob/main/indicxlni.ipynb)\n",
    "\n",
    "# Bootstrap few-shot CoT demonstations for IndicXLNI.\n",
    "\n",
    "IndicXNLI, is an NLI dataset for 11 Indian languages. It has been created by high-quality machine translation of the original English XNLI dataset.\n",
    "\n",
    "This notebook starts with a very simple Chain-of-Thought-based module for IndicXNLI.\n",
    "\n",
    "We found that bootstrapping demonstrations with DSPy improved performance by 15.9%. This is a single compilation step using dspy.BootstrapFewShotWithRandomSearch."
   ]
  },
  {
   "cell_type": "markdown",
   "id": "12e1fb68-0713-41d1-95be-50cadb4a6408",
   "metadata": {},
   "source": [
    "## Set-up"
   ]
  },
  {
   "cell_type": "code",
   "execution_count": 19,
   "id": "b62756e2",
   "metadata": {},
   "outputs": [],
   "source": [
    "!pip install dspy-ai -q"
   ]
  },
  {
   "cell_type": "code",
   "execution_count": 20,
   "id": "b3e43260-7813-4822-8d52-ebbb3614abac",
   "metadata": {},
   "outputs": [
    {
     "data": {
      "text/plain": [
       "True"
      ]
     },
     "execution_count": 20,
     "metadata": {},
     "output_type": "execute_result"
    }
   ],
   "source": [
    "import os\n",
    "import random\n",
    "\n",
    "import dspy\n",
    "import pandas as pd\n",
    "from dspy.evaluate import Evaluate\n",
    "from dspy.teleprompt import BootstrapFewShotWithRandomSearch\n",
    "\n",
    "from dotenv import load_dotenv\n",
    "load_dotenv()"
   ]
  },
  {
   "cell_type": "code",
   "execution_count": 21,
   "id": "778cfcf7-50d6-494b-a2b6-5bfe8de4e908",
   "metadata": {},
   "outputs": [],
   "source": [
    "os.environ[\"DSP_NOTEBOOK_CACHEDIR\"] = os.path.join(\".\", \"cache\")"
   ]
  },
  {
   "cell_type": "code",
   "execution_count": 22,
   "id": "c16e43a3-6a9a-4356-a039-ef2f22d765a8",
   "metadata": {},
   "outputs": [],
   "source": [
    "# We'll rely on turbo for everything:\n",
    "turbo = dspy.OpenAI(model=\"gpt-3.5-turbo\", model_type=\"chat\")\n",
    "# rm = dspy.Retriever(model=\"tfidf\", model_type=\"retriever\")\n",
    "dspy.settings.configure(lm=turbo)"
   ]
  },
  {
   "cell_type": "code",
   "execution_count": 23,
   "id": "20670d29-6145-4847-87e7-4816a7c1a2a1",
   "metadata": {},
   "outputs": [],
   "source": [
    "# Toggling this to true will redo the bootstrapping process. When\n",
    "# it is set to False, the existing demonstrations will be used but\n",
    "# turbo will still be used to evaluate the zero-shot and full programs.\n",
    "RUN_FROM_SCRATCH = True"
   ]
  },
  {
   "cell_type": "markdown",
   "id": "40964a65-68be-433f-83c0-7a9f37064486",
   "metadata": {},
   "source": [
    "## IndicXLNI"
   ]
  },
  {
   "cell_type": "code",
   "execution_count": 24,
   "id": "6e30e0c6-1ff6-494b-bc8b-a3193a8f1f49",
   "metadata": {},
   "outputs": [],
   "source": [
    "from datasets import load_dataset\n",
    "\n",
    "dataset = load_dataset(\"Divyanshu/indicxnli\", \"hi\")"
   ]
  },
  {
   "cell_type": "code",
   "execution_count": 25,
   "id": "48c77798",
   "metadata": {},
   "outputs": [
    {
     "data": {
      "text/plain": [
       "{'premise': ['और उसने कहा, \"माँ, मैं घर पर हूँ।\"',\n",
       "  'और उसने कहा, \"माँ, मैं घर पर हूँ।\"',\n",
       "  'और उसने कहा, \"माँ, मैं घर पर हूँ।\"',\n",
       "  'मुझे नहीं पता था कि मैं क्या करने जा रहा था या कुछ भी, इसलिए वाशिंगटन में एक निर्धारित स्थान पर रिपोर्ट करना था।',\n",
       "  'मुझे नहीं पता था कि मैं क्या करने जा रहा था या कुछ भी, इसलिए वाशिंगटन में एक निर्धारित स्थान पर रिपोर्ट करना था।'],\n",
       " 'hypothesis': ['उसने अपनी माँ को बुलाया जैसे ही स्कूल बस ने उसे छोड़ दिया।',\n",
       "  'उसने एक शब्द भी नहीं बोला।',\n",
       "  'उसने अपनी मां को बताया कि वह घर आ गई है।',\n",
       "  'मैं कभी वाशिंगटन नहीं गया हूं, इसलिए जब मुझे वहां भेजा गया तो मैं जगह खोजने की कोशिश में खो गया।',\n",
       "  'मुझे पता था कि मुझे वॉशिंगटन जाने के लिए क्या करना है।'],\n",
       " 'label': [1, 2, 0, 1, 2]}"
      ]
     },
     "execution_count": 25,
     "metadata": {},
     "output_type": "execute_result"
    }
   ],
   "source": [
    "dataset[\"validation\"][:5]"
   ]
  },
  {
   "cell_type": "markdown",
   "id": "726b4cb0-c393-47aa-8597-90b645ad637d",
   "metadata": {},
   "source": [
    "## Data loader"
   ]
  },
  {
   "cell_type": "code",
   "execution_count": 26,
   "id": "5d13cadd-32bc-4f74-ad2c-b997616385f3",
   "metadata": {},
   "outputs": [],
   "source": [
    "def load_indicxlni(dataset, split=\"validation\"):\n",
    "    data_df = pd.DataFrame(dataset[split])\n",
    "    label_map = {0: \"Yes\", 1: \"Neutral\", 2: \"No\"}\n",
    "\n",
    "    def as_example(row):\n",
    "        return dspy.Example(\n",
    "            {\n",
    "                \"premise\": row[\"premise\"],\n",
    "                \"hypothesis\": row[\"hypothesis\"],\n",
    "                \"answer\": label_map[row[\"label\"]],\n",
    "            }\n",
    "        ).with_inputs(\"premise\", \"hypothesis\")\n",
    "\n",
    "    return list(data_df.apply(as_example, axis=1).values)"
   ]
  },
  {
   "cell_type": "markdown",
   "id": "556e6820-67ed-478f-95b8-09018553a193",
   "metadata": {},
   "source": [
    "## Train and dev samples"
   ]
  },
  {
   "cell_type": "code",
   "execution_count": 27,
   "id": "17a00189-7fe1-4efc-9f07-b3dfda35a5fb",
   "metadata": {},
   "outputs": [
    {
     "data": {
      "text/plain": [
       "(200, 50)"
      ]
     },
     "execution_count": 27,
     "metadata": {},
     "output_type": "execute_result"
    }
   ],
   "source": [
    "all_train = load_indicxlni(dataset, \"train\")\n",
    "all_dev = load_indicxlni(dataset, \"validation\")\n",
    "\n",
    "random.seed(1)\n",
    "random.shuffle(all_train)\n",
    "random.shuffle(all_dev)\n",
    "\n",
    "# 200 random train, 50 random dev:\n",
    "train, dev = all_train[:200], all_dev[200:250]\n",
    "\n",
    "len(train), len(dev)"
   ]
  },
  {
   "cell_type": "markdown",
   "id": "f7672840-8af4-4273-aa21-e7c6f59b745b",
   "metadata": {},
   "source": [
    "## Test"
   ]
  },
  {
   "cell_type": "code",
   "execution_count": 28,
   "id": "f6c9dcb5-2c6b-47e4-bf8a-c805cc8d88f1",
   "metadata": {},
   "outputs": [
    {
     "data": {
      "text/plain": [
       "100"
      ]
     },
     "execution_count": 28,
     "metadata": {},
     "output_type": "execute_result"
    }
   ],
   "source": [
    "random.seed(1)\n",
    "\n",
    "test = load_indicxlni(dataset, \"test\")\n",
    "\n",
    "# 100 random test:\n",
    "test = test[:100]\n",
    "len(test)"
   ]
  },
  {
   "cell_type": "markdown",
   "id": "250f4dc8-7046-4713-bb41-6df1669669d7",
   "metadata": {},
   "source": [
    "## Evaluation tools"
   ]
  },
  {
   "cell_type": "code",
   "execution_count": 29,
   "id": "ebf44ce7-0a41-4e79-96ee-18634cdd3b32",
   "metadata": {},
   "outputs": [],
   "source": [
    "indicxlni_accuracy = dspy.evaluate.metrics.answer_exact_match\n",
    "\n",
    "# def exact_match(pred, answer, trace=False):\n",
    "#     return pred == answer"
   ]
  },
  {
   "cell_type": "code",
   "execution_count": 30,
   "id": "e00ebac4-74bd-45f3-979a-43a2f8e12aa4",
   "metadata": {},
   "outputs": [],
   "source": [
    "evaluator = Evaluate(devset=test, num_threads=4, display_progress=True, display_table=0)"
   ]
  },
  {
   "cell_type": "markdown",
   "id": "b4cc2235-ba32-4662-a9e0-f2df2c36d507",
   "metadata": {},
   "source": [
    "## Zero-shot CoT"
   ]
  },
  {
   "cell_type": "code",
   "execution_count": 31,
   "id": "e5571419-cb3d-4d63-9f17-f21e7b8de0f8",
   "metadata": {},
   "outputs": [],
   "source": [
    "class IndicXLNISignature(dspy.Signature):\n",
    "    \"\"\"You are given a premise and a hypothesis.\n",
    "You must indicate with Yes/No/Neutral answer whether we can logically\n",
    "conclude the hypothesis from the premise.\"\"\"\n",
    "    premise = dspy.InputField()\n",
    "    hypothesis = dspy.InputField()\n",
    "    answer = dspy.OutputField(desc=\"Yes or No or Neutral\")\n",
    "\n",
    "    # question = dspy.InputField(desc=\"The question to ask the model.\")\n",
    "    # context = dspy.InputField(desc=\"Context used to answer the question\")\n",
    "    # answer = dspy.OutputField(desc=\"Concise answer to the question.\")"
   ]
  },
  {
   "cell_type": "code",
   "execution_count": 32,
   "id": "3b4797ca-f711-454b-a9d0-86f4d93ead5f",
   "metadata": {},
   "outputs": [],
   "source": [
    "class IndicXLNICoT(dspy.Module):\n",
    "    def __init__(self):\n",
    "        super().__init__()\n",
    "        self.generate_answer = dspy.ChainOfThought(IndicXLNISignature)\n",
    "\n",
    "    def forward(self, premise, hypothesis):\n",
    "        return self.generate_answer(premise=premise, hypothesis=hypothesis)"
   ]
  },
  {
   "cell_type": "code",
   "execution_count": 33,
   "id": "28a06786-4c83-4e96-add7-55860598c4c9",
   "metadata": {
    "tags": []
   },
   "outputs": [],
   "source": [
    "cot_zeroshot = IndicXLNICoT()"
   ]
  },
  {
   "cell_type": "code",
   "execution_count": 34,
   "id": "7b8faec8-462b-4cec-8bc2-5d4e7639775d",
   "metadata": {
    "tags": []
   },
   "outputs": [
    {
     "name": "stderr",
     "output_type": "stream",
     "text": [
      "Average Metric: 43 / 100  (43.0): 100%|██████████| 100/100 [00:34<00:00,  2.87it/s]\n"
     ]
    },
    {
     "data": {
      "text/plain": [
       "43.0"
      ]
     },
     "execution_count": 34,
     "metadata": {},
     "output_type": "execute_result"
    }
   ],
   "source": [
    "evaluator(cot_zeroshot, metric=indicxlni_accuracy)"
   ]
  },
  {
   "cell_type": "code",
   "execution_count": 35,
   "id": "b360f816",
   "metadata": {},
   "outputs": [
    {
     "name": "stdout",
     "output_type": "stream",
     "text": [
      "\n",
      "\n",
      "\n",
      "You are given a premise and a hypothesis.\n",
      "You must indicate with Yes/No/Neutral answer whether we can logically\n",
      "conclude the hypothesis from the premise.\n",
      "\n",
      "---\n",
      "\n",
      "Follow the following format.\n",
      "\n",
      "Premise: ${premise}\n",
      "\n",
      "Hypothesis: ${hypothesis}\n",
      "\n",
      "Reasoning: Let's think step by step in order to ${produce the answer}. We ...\n",
      "\n",
      "Answer: Yes or No or Neutral\n",
      "\n",
      "---\n",
      "\n",
      "Premise: उन्होंने कहा, \"हम आपके रहने के लिए एक जगह का भुगतान कर रहे हैं।\"\n",
      "\n",
      "Hypothesis: वे किसी भी चीज के लिए भुगतान नहीं करेंगे।\n",
      "\n",
      "Reasoning: Let's think step by step in order to\u001b[32m produce the answer. We know that the person said they are paying for a place to stay. This does not necessarily mean they will not pay for anything else. \n",
      "\n",
      "Answer: No\u001b[0m\n",
      "\n",
      "\n",
      "\n"
     ]
    },
    {
     "data": {
      "text/plain": [
       "'\\n\\n\\nYou are given a premise and a hypothesis.\\nYou must indicate with Yes/No/Neutral answer whether we can logically\\nconclude the hypothesis from the premise.\\n\\n---\\n\\nFollow the following format.\\n\\nPremise: ${premise}\\n\\nHypothesis: ${hypothesis}\\n\\nReasoning: Let\\'s think step by step in order to ${produce the answer}. We ...\\n\\nAnswer: Yes or No or Neutral\\n\\n---\\n\\nPremise: उन्होंने कहा, \"हम आपके रहने के लिए एक जगह का भुगतान कर रहे हैं।\"\\n\\nHypothesis: वे किसी भी चीज के लिए भुगतान नहीं करेंगे।\\n\\nReasoning: Let\\'s think step by step in order to\\x1b[32m produce the answer. We know that the person said they are paying for a place to stay. This does not necessarily mean they will not pay for anything else. \\n\\nAnswer: No\\x1b[0m\\n\\n\\n'"
      ]
     },
     "execution_count": 35,
     "metadata": {},
     "output_type": "execute_result"
    }
   ],
   "source": [
    "turbo.inspect_history(n=1)"
   ]
  },
  {
   "cell_type": "markdown",
   "id": "f81c5859-5933-47a1-a283-a1a992c7c889",
   "metadata": {},
   "source": [
    "## Optimized few-shot with bootstrapped demonstrations"
   ]
  },
  {
   "cell_type": "code",
   "execution_count": 36,
   "id": "12714de6-9002-468d-95ac-67107330ccca",
   "metadata": {},
   "outputs": [],
   "source": [
    "bootstrap_optimizer = BootstrapFewShotWithRandomSearch(\n",
    "    max_bootstrapped_demos=8,\n",
    "    max_labeled_demos=8,\n",
    "    num_candidate_programs=10,\n",
    "    num_threads=8,\n",
    "    metric=indicxlni_accuracy,\n",
    ")"
   ]
  },
  {
   "cell_type": "code",
   "execution_count": 37,
   "id": "bb52d4ca-d25d-4f0c-a69b-0079ba322e7c",
   "metadata": {},
   "outputs": [
    {
     "name": "stderr",
     "output_type": "stream",
     "text": [
      "Average Metric: 12 / 50  (24.0): 100%|██████████| 50/50 [00:09<00:00,  5.28it/s]\n",
      "Average Metric: 11 / 50  (22.0): 100%|██████████| 50/50 [00:09<00:00,  5.10it/s]\n",
      "  6%|▌         | 11/200 [00:13<03:49,  1.21s/it]\n",
      "Average Metric: 11 / 50  (22.0): 100%|██████████| 50/50 [00:08<00:00,  5.68it/s]\n",
      "  7%|▋         | 14/200 [00:18<04:01,  1.30s/it]\n",
      "Average Metric: 16 / 50  (32.0): 100%|██████████| 50/50 [00:09<00:00,  5.20it/s]\n",
      "  3%|▎         | 6/200 [00:09<05:05,  1.57s/it]\n",
      "Average Metric: 17 / 50  (34.0): 100%|██████████| 50/50 [00:08<00:00,  6.08it/s]\n",
      "  1%|          | 2/200 [00:02<04:31,  1.37s/it]\n",
      "Average Metric: 12 / 50  (24.0): 100%|██████████| 50/50 [00:08<00:00,  6.24it/s]\n",
      "  3%|▎         | 6/200 [00:08<04:33,  1.41s/it]\n",
      "Average Metric: 18 / 50  (36.0): 100%|██████████| 50/50 [00:09<00:00,  5.22it/s]\n",
      "  6%|▋         | 13/200 [00:17<04:04,  1.31s/it]\n",
      "Average Metric: 10 / 50  (20.0): 100%|██████████| 50/50 [00:08<00:00,  5.81it/s]\n",
      "  6%|▋         | 13/200 [00:17<04:06,  1.32s/it]\n",
      "Average Metric: 17 / 50  (34.0): 100%|██████████| 50/50 [00:08<00:00,  5.83it/s]\n",
      "  1%|          | 2/200 [00:02<04:13,  1.28s/it]\n",
      "Average Metric: 9 / 50  (18.0): 100%|██████████| 50/50 [00:07<00:00,  6.52it/s]\n",
      "  7%|▋         | 14/200 [00:22<04:52,  1.57s/it]\n",
      "Average Metric: 18 / 50  (36.0): 100%|██████████| 50/50 [00:09<00:00,  5.33it/s]\n",
      "  6%|▌         | 11/200 [00:13<03:50,  1.22s/it]\n",
      "Average Metric: 15 / 50  (30.0): 100%|██████████| 50/50 [00:09<00:00,  5.10it/s]\n",
      "  8%|▊         | 16/200 [00:24<04:41,  1.53s/it]\n",
      "Average Metric: 15 / 50  (30.0): 100%|██████████| 50/50 [00:10<00:00,  4.97it/s]\n"
     ]
    }
   ],
   "source": [
    "if RUN_FROM_SCRATCH:\n",
    "    cot_fewshot = bootstrap_optimizer.compile(cot_zeroshot, trainset=train, valset=dev)\n",
    "else:\n",
    "    cot_fewshot = IndicXLNICoT()\n",
    "    cot_fewshot.load(\"indicxlni-cot_fewshot-turbo-gpt3.5-demos.json\")"
   ]
  },
  {
   "cell_type": "code",
   "execution_count": 38,
   "id": "a1b918ad-fe37-4cf5-b549-f44b31e58990",
   "metadata": {},
   "outputs": [
    {
     "name": "stderr",
     "output_type": "stream",
     "text": [
      "Average Metric: 62 / 100  (62.0): 100%|██████████| 100/100 [00:35<00:00,  2.79it/s]\n"
     ]
    },
    {
     "data": {
      "text/plain": [
       "62.0"
      ]
     },
     "execution_count": 38,
     "metadata": {},
     "output_type": "execute_result"
    }
   ],
   "source": [
    "evaluator(cot_fewshot, metric=indicxlni_accuracy)"
   ]
  },
  {
   "cell_type": "code",
   "execution_count": 41,
   "id": "3ff6c6fd",
   "metadata": {},
   "outputs": [
    {
     "name": "stdout",
     "output_type": "stream",
     "text": [
      "\n",
      "\n",
      "\n",
      "You are given a premise and a hypothesis.\n",
      "You must indicate with Yes/No/Neutral answer whether we can logically\n",
      "conclude the hypothesis from the premise.\n",
      "\n",
      "---\n",
      "\n",
      "Follow the following format.\n",
      "\n",
      "Premise: ${premise}\n",
      "\n",
      "Hypothesis: ${hypothesis}\n",
      "\n",
      "Reasoning: Let's think step by step in order to ${produce the answer}. We ...\n",
      "\n",
      "Answer: Yes or No or Neutral\n",
      "\n",
      "---\n",
      "\n",
      "Premise: भूरा हाँ है कि यह भयानक है और यह समय लगता है और और बच्चों वे आप अपने बगीचे पानी के लिए है और वे बाहर जाना चाहते हैं और इसमें दौड़ने और सभी कीचड़ प्राप्त करना चाहते हैं और आप जानते हैं तो आप जा रहे हैं मैं एक गंदगी चाहते हैं एक हरे लॉन या घर में एक कीचड़ भरा पैर\n",
      "\n",
      "Hypothesis: मैं नहीं चाहता कि बच्चे मेरे घर में कीचड़ से भरे पैर लाएं।\n",
      "\n",
      "Reasoning: Let's think step by step in order to produce the answer. The premise describes a situation where children are playing outside and getting dirty. The hypothesis states that the speaker does not want the children to bring dirt-filled feet into their home. Since the premise clearly describes the children playing outside and getting dirty, it logically follows that the speaker would not want them to bring that dirt inside.\n",
      "\n",
      "Answer: Yes\n",
      "\n",
      "---\n",
      "\n",
      "Premise: उसने एड्रिन के पांच ब्रील में से तीन को जन्म दिया था और यदि इस अवरोध ने उसे नहीं मारा तो वह अगले कारवां उत्तर में बाजार के लिए तैयार हो जाएगी।\n",
      "\n",
      "Hypothesis: एड्रिन के पास कोई ब्रील नहीं था।\n",
      "\n",
      "Reasoning: Let's think step by step in order to produce the answer. The premise clearly states that the person gave birth to three out of five Brill. Therefore, it logically follows that if the obstacle did not kill her, she would be ready for the next caravan. This implies that she did have Brill.\n",
      "\n",
      "Answer: No\n",
      "\n",
      "---\n",
      "\n",
      "Premise: निश्चित रूप से, हमारी स्थिति अलग और अधिक खतरनाक है... राष्ट्रपति के लिए निःसंदेह अधिक और अधिक जटिल खतरे हैं, जैसा कि हम कल्पना कर सकते हैं।\n",
      "\n",
      "Hypothesis: राष्ट्रपति के लिए कई जटिल खतरे हैं।\n",
      "\n",
      "Reasoning: Let's think step by step in order to produce the answer. The premise clearly states that the situation is different and more dangerous for the President, as compared to what we can imagine. This implies that there are indeed multiple complex dangers for the President.\n",
      "\n",
      "Answer: Yes\n",
      "\n",
      "---\n",
      "\n",
      "Premise: एचएचएस (HHS) अनुरोध कर रहा है कि ओएमबी (OMB) 180 दिनों की अवधि के लिए 1 जून 1997 तक ओएमबी (OMB) की मंजूरी के साथ 30 दिनों की टिप्पणी अवधि प्रदान करे।\n",
      "\n",
      "Hypothesis: ओएमबी को कोई टिप्पणी अवधि देने की आवश्यकता नहीं है।\n",
      "\n",
      "Reasoning: Let's think step by step in order to produce the answer. The premise clearly states that HHS is requesting OMB to provide a 30-day comment period along with OMB's approval for a 180-day period until June 1, 1997. This does not imply that OMB does not need to provide a comment period.\n",
      "\n",
      "Answer: No\n",
      "\n",
      "---\n",
      "\n",
      "Premise: यद्यपि अनुप्रमाणन व्यस्तताओं पर लागू नहीं है, लेखा परीक्षा मानकों पर AICPA बयान GAGAS के अनुसार अनुप्रमाणन व्यस्तताओं का प्रदर्शन करने वाले लेखापरीक्षकों के लिए धोखाधड़ी से संबंधित उपयोगी मार्गदर्शन प्रदान कर सकते हैं।\n",
      "Hypothesis: लेखापरीक्षा मानकों के संबंध में एआईसीपीए के बयान अनुप्रमाणन व्यस्तताओं पर लागू होते हैं।\n",
      "Answer: No\n",
      "\n",
      "---\n",
      "\n",
      "Premise: अदालत प्रणाली बहुत कम अपवादों को छोड़कर, पर्यवेक्षकों के लिए खुली है, और इस तरह के अवसर को नहीं गंवाया जाना चाहिए।\n",
      "Hypothesis: न्यायालय प्रणाली केवल पर्यवेक्षकों के लिए वर्ष में तीन दिन खुली रहती है।\n",
      "Answer: No\n",
      "\n",
      "---\n",
      "\n",
      "Premise: शीर्ष नेतृत्व की प्रतिबद्धता में प्रोत्साहन प्रदान करने और जवाबदेही स्थापित करने में समय, ऊर्जा और दृढ़ता शामिल है।\n",
      "Hypothesis: शीर्ष नेतृत्व के पदों पर बैठे सभी सफल लोगों में जवाबदेही की स्पष्ट भावना होती है।\n",
      "Answer: Neutral\n",
      "\n",
      "---\n",
      "\n",
      "Premise: क्लिंटन के आलोचक कोसोवो में युद्ध के प्रति अविवेकपूर्ण प्रतिबद्धता के विरुद्ध चेतावनी देकर वियतनाम की भूचाल का आह्वान करते हैं।\n",
      "Hypothesis: उन्होंने इस प्रतिबद्धता को आगे बढ़ाने के क्लिंटन के निर्णय का विरोध किया।\n",
      "Answer: Neutral\n",
      "\n",
      "---\n",
      "\n",
      "Premise: उन्होंने कहा, \"हम आपके रहने के लिए एक जगह का भुगतान कर रहे हैं।\"\n",
      "\n",
      "Hypothesis: वे किसी भी चीज के लिए भुगतान नहीं करेंगे।\n",
      "\n",
      "Reasoning: Let's think step by step in order to\u001b[32m produce the answer. The premise clearly states that they are paying for a place for the person to stay. This implies that they are willing to make payments for certain things.\n",
      "\n",
      "Answer: No\u001b[0m\n",
      "\n",
      "\n",
      "\n"
     ]
    },
    {
     "data": {
      "text/plain": [
       "'\\n\\n\\nYou are given a premise and a hypothesis.\\nYou must indicate with Yes/No/Neutral answer whether we can logically\\nconclude the hypothesis from the premise.\\n\\n---\\n\\nFollow the following format.\\n\\nPremise: ${premise}\\n\\nHypothesis: ${hypothesis}\\n\\nReasoning: Let\\'s think step by step in order to ${produce the answer}. We ...\\n\\nAnswer: Yes or No or Neutral\\n\\n---\\n\\nPremise: भूरा हाँ है कि यह भयानक है और यह समय लगता है और और बच्चों वे आप अपने बगीचे पानी के लिए है और वे बाहर जाना चाहते हैं और इसमें दौड़ने और सभी कीचड़ प्राप्त करना चाहते हैं और आप जानते हैं तो आप जा रहे हैं मैं एक गंदगी चाहते हैं एक हरे लॉन या घर में एक कीचड़ भरा पैर\\n\\nHypothesis: मैं नहीं चाहता कि बच्चे मेरे घर में कीचड़ से भरे पैर लाएं।\\n\\nReasoning: Let\\'s think step by step in order to produce the answer. The premise describes a situation where children are playing outside and getting dirty. The hypothesis states that the speaker does not want the children to bring dirt-filled feet into their home. Since the premise clearly describes the children playing outside and getting dirty, it logically follows that the speaker would not want them to bring that dirt inside.\\n\\nAnswer: Yes\\n\\n---\\n\\nPremise: उसने एड्रिन के पांच ब्रील में से तीन को जन्म दिया था और यदि इस अवरोध ने उसे नहीं मारा तो वह अगले कारवां उत्तर में बाजार के लिए तैयार हो जाएगी।\\n\\nHypothesis: एड्रिन के पास कोई ब्रील नहीं था।\\n\\nReasoning: Let\\'s think step by step in order to produce the answer. The premise clearly states that the person gave birth to three out of five Brill. Therefore, it logically follows that if the obstacle did not kill her, she would be ready for the next caravan. This implies that she did have Brill.\\n\\nAnswer: No\\n\\n---\\n\\nPremise: निश्चित रूप से, हमारी स्थिति अलग और अधिक खतरनाक है... राष्ट्रपति के लिए निःसंदेह अधिक और अधिक जटिल खतरे हैं, जैसा कि हम कल्पना कर सकते हैं।\\n\\nHypothesis: राष्ट्रपति के लिए कई जटिल खतरे हैं।\\n\\nReasoning: Let\\'s think step by step in order to produce the answer. The premise clearly states that the situation is different and more dangerous for the President, as compared to what we can imagine. This implies that there are indeed multiple complex dangers for the President.\\n\\nAnswer: Yes\\n\\n---\\n\\nPremise: एचएचएस (HHS) अनुरोध कर रहा है कि ओएमबी (OMB) 180 दिनों की अवधि के लिए 1 जून 1997 तक ओएमबी (OMB) की मंजूरी के साथ 30 दिनों की टिप्पणी अवधि प्रदान करे।\\n\\nHypothesis: ओएमबी को कोई टिप्पणी अवधि देने की आवश्यकता नहीं है।\\n\\nReasoning: Let\\'s think step by step in order to produce the answer. The premise clearly states that HHS is requesting OMB to provide a 30-day comment period along with OMB\\'s approval for a 180-day period until June 1, 1997. This does not imply that OMB does not need to provide a comment period.\\n\\nAnswer: No\\n\\n---\\n\\nPremise: यद्यपि अनुप्रमाणन व्यस्तताओं पर लागू नहीं है, लेखा परीक्षा मानकों पर AICPA बयान GAGAS के अनुसार अनुप्रमाणन व्यस्तताओं का प्रदर्शन करने वाले लेखापरीक्षकों के लिए धोखाधड़ी से संबंधित उपयोगी मार्गदर्शन प्रदान कर सकते हैं।\\nHypothesis: लेखापरीक्षा मानकों के संबंध में एआईसीपीए के बयान अनुप्रमाणन व्यस्तताओं पर लागू होते हैं।\\nAnswer: No\\n\\n---\\n\\nPremise: अदालत प्रणाली बहुत कम अपवादों को छोड़कर, पर्यवेक्षकों के लिए खुली है, और इस तरह के अवसर को नहीं गंवाया जाना चाहिए।\\nHypothesis: न्यायालय प्रणाली केवल पर्यवेक्षकों के लिए वर्ष में तीन दिन खुली रहती है।\\nAnswer: No\\n\\n---\\n\\nPremise: शीर्ष नेतृत्व की प्रतिबद्धता में प्रोत्साहन प्रदान करने और जवाबदेही स्थापित करने में समय, ऊर्जा और दृढ़ता शामिल है।\\nHypothesis: शीर्ष नेतृत्व के पदों पर बैठे सभी सफल लोगों में जवाबदेही की स्पष्ट भावना होती है।\\nAnswer: Neutral\\n\\n---\\n\\nPremise: क्लिंटन के आलोचक कोसोवो में युद्ध के प्रति अविवेकपूर्ण प्रतिबद्धता के विरुद्ध चेतावनी देकर वियतनाम की भूचाल का आह्वान करते हैं।\\nHypothesis: उन्होंने इस प्रतिबद्धता को आगे बढ़ाने के क्लिंटन के निर्णय का विरोध किया।\\nAnswer: Neutral\\n\\n---\\n\\nPremise: उन्होंने कहा, \"हम आपके रहने के लिए एक जगह का भुगतान कर रहे हैं।\"\\n\\nHypothesis: वे किसी भी चीज के लिए भुगतान नहीं करेंगे।\\n\\nReasoning: Let\\'s think step by step in order to\\x1b[32m produce the answer. The premise clearly states that they are paying for a place for the person to stay. This implies that they are willing to make payments for certain things.\\n\\nAnswer: No\\x1b[0m\\n\\n\\n'"
      ]
     },
     "execution_count": 41,
     "metadata": {},
     "output_type": "execute_result"
    }
   ],
   "source": [
    "turbo.inspect_history(n=1)"
   ]
  },
  {
   "cell_type": "code",
   "execution_count": 39,
   "id": "5abf432e-4a37-4dd6-9154-b2a561e2d75b",
   "metadata": {},
   "outputs": [],
   "source": [
    "cot_fewshot.save(\"indicxlni-cot_fewshot-turbo-gpt3.5-demos.json\")"
   ]
  },
  {
   "cell_type": "markdown",
   "id": "9b49ad56-7968-4aa3-8277-af3a9c98ded0",
   "metadata": {},
   "source": [
    "## Example prompt with prediction"
   ]
  },
  {
   "cell_type": "code",
   "execution_count": 40,
   "id": "af416bae-a6cf-4488-9386-c31d74710873",
   "metadata": {
    "tags": []
   },
   "outputs": [
    {
     "name": "stdout",
     "output_type": "stream",
     "text": [
      "\n",
      "\n",
      "\n",
      "You are given a premise and a hypothesis.\n",
      "You must indicate with Yes/No/Neutral answer whether we can logically\n",
      "conclude the hypothesis from the premise.\n",
      "\n",
      "---\n",
      "\n",
      "Follow the following format.\n",
      "\n",
      "Premise: ${premise}\n",
      "\n",
      "Hypothesis: ${hypothesis}\n",
      "\n",
      "Reasoning: Let's think step by step in order to ${produce the answer}. We ...\n",
      "\n",
      "Answer: Yes or No or Neutral\n",
      "\n",
      "---\n",
      "\n",
      "Premise: भूरा हाँ है कि यह भयानक है और यह समय लगता है और और बच्चों वे आप अपने बगीचे पानी के लिए है और वे बाहर जाना चाहते हैं और इसमें दौड़ने और सभी कीचड़ प्राप्त करना चाहते हैं और आप जानते हैं तो आप जा रहे हैं मैं एक गंदगी चाहते हैं एक हरे लॉन या घर में एक कीचड़ भरा पैर\n",
      "\n",
      "Hypothesis: मैं नहीं चाहता कि बच्चे मेरे घर में कीचड़ से भरे पैर लाएं।\n",
      "\n",
      "Reasoning: Let's think step by step in order to produce the answer. The premise describes a situation where children are playing outside and getting dirty. The hypothesis states that the speaker does not want the children to bring dirt-filled feet into their home. Since the premise clearly describes the children playing outside and getting dirty, it logically follows that the speaker would not want them to bring that dirt inside.\n",
      "\n",
      "Answer: Yes\n",
      "\n",
      "---\n",
      "\n",
      "Premise: उसने एड्रिन के पांच ब्रील में से तीन को जन्म दिया था और यदि इस अवरोध ने उसे नहीं मारा तो वह अगले कारवां उत्तर में बाजार के लिए तैयार हो जाएगी।\n",
      "\n",
      "Hypothesis: एड्रिन के पास कोई ब्रील नहीं था।\n",
      "\n",
      "Reasoning: Let's think step by step in order to produce the answer. The premise clearly states that the person gave birth to three out of five Brill. Therefore, it logically follows that if the obstacle did not kill her, she would be ready for the next caravan. This implies that she did have Brill.\n",
      "\n",
      "Answer: No\n",
      "\n",
      "---\n",
      "\n",
      "Premise: निश्चित रूप से, हमारी स्थिति अलग और अधिक खतरनाक है... राष्ट्रपति के लिए निःसंदेह अधिक और अधिक जटिल खतरे हैं, जैसा कि हम कल्पना कर सकते हैं।\n",
      "\n",
      "Hypothesis: राष्ट्रपति के लिए कई जटिल खतरे हैं।\n",
      "\n",
      "Reasoning: Let's think step by step in order to produce the answer. The premise clearly states that the situation is different and more dangerous for the President, as compared to what we can imagine. This implies that there are indeed multiple complex dangers for the President.\n",
      "\n",
      "Answer: Yes\n",
      "\n",
      "---\n",
      "\n",
      "Premise: एचएचएस (HHS) अनुरोध कर रहा है कि ओएमबी (OMB) 180 दिनों की अवधि के लिए 1 जून 1997 तक ओएमबी (OMB) की मंजूरी के साथ 30 दिनों की टिप्पणी अवधि प्रदान करे।\n",
      "\n",
      "Hypothesis: ओएमबी को कोई टिप्पणी अवधि देने की आवश्यकता नहीं है।\n",
      "\n",
      "Reasoning: Let's think step by step in order to produce the answer. The premise clearly states that HHS is requesting OMB to provide a 30-day comment period along with OMB's approval for a 180-day period until June 1, 1997. This does not imply that OMB does not need to provide a comment period.\n",
      "\n",
      "Answer: No\n",
      "\n",
      "---\n",
      "\n",
      "Premise: यद्यपि अनुप्रमाणन व्यस्तताओं पर लागू नहीं है, लेखा परीक्षा मानकों पर AICPA बयान GAGAS के अनुसार अनुप्रमाणन व्यस्तताओं का प्रदर्शन करने वाले लेखापरीक्षकों के लिए धोखाधड़ी से संबंधित उपयोगी मार्गदर्शन प्रदान कर सकते हैं।\n",
      "Hypothesis: लेखापरीक्षा मानकों के संबंध में एआईसीपीए के बयान अनुप्रमाणन व्यस्तताओं पर लागू होते हैं।\n",
      "Answer: No\n",
      "\n",
      "---\n",
      "\n",
      "Premise: अदालत प्रणाली बहुत कम अपवादों को छोड़कर, पर्यवेक्षकों के लिए खुली है, और इस तरह के अवसर को नहीं गंवाया जाना चाहिए।\n",
      "Hypothesis: न्यायालय प्रणाली केवल पर्यवेक्षकों के लिए वर्ष में तीन दिन खुली रहती है।\n",
      "Answer: No\n",
      "\n",
      "---\n",
      "\n",
      "Premise: शीर्ष नेतृत्व की प्रतिबद्धता में प्रोत्साहन प्रदान करने और जवाबदेही स्थापित करने में समय, ऊर्जा और दृढ़ता शामिल है।\n",
      "Hypothesis: शीर्ष नेतृत्व के पदों पर बैठे सभी सफल लोगों में जवाबदेही की स्पष्ट भावना होती है।\n",
      "Answer: Neutral\n",
      "\n",
      "---\n",
      "\n",
      "Premise: क्लिंटन के आलोचक कोसोवो में युद्ध के प्रति अविवेकपूर्ण प्रतिबद्धता के विरुद्ध चेतावनी देकर वियतनाम की भूचाल का आह्वान करते हैं।\n",
      "Hypothesis: उन्होंने इस प्रतिबद्धता को आगे बढ़ाने के क्लिंटन के निर्णय का विरोध किया।\n",
      "Answer: Neutral\n",
      "\n",
      "---\n",
      "\n",
      "Premise: उन्होंने कहा, \"हम आपके रहने के लिए एक जगह का भुगतान कर रहे हैं।\"\n",
      "\n",
      "Hypothesis: वे किसी भी चीज के लिए भुगतान नहीं करेंगे।\n",
      "\n",
      "Reasoning: Let's think step by step in order to\u001b[32m produce the answer. The premise clearly states that they are paying for a place for the person to stay. This implies that they are willing to make payments for certain things.\n",
      "\n",
      "Answer: No\u001b[0m\n",
      "\n",
      "\n",
      "\n"
     ]
    },
    {
     "data": {
      "text/plain": [
       "'\\n\\n\\nYou are given a premise and a hypothesis.\\nYou must indicate with Yes/No/Neutral answer whether we can logically\\nconclude the hypothesis from the premise.\\n\\n---\\n\\nFollow the following format.\\n\\nPremise: ${premise}\\n\\nHypothesis: ${hypothesis}\\n\\nReasoning: Let\\'s think step by step in order to ${produce the answer}. We ...\\n\\nAnswer: Yes or No or Neutral\\n\\n---\\n\\nPremise: भूरा हाँ है कि यह भयानक है और यह समय लगता है और और बच्चों वे आप अपने बगीचे पानी के लिए है और वे बाहर जाना चाहते हैं और इसमें दौड़ने और सभी कीचड़ प्राप्त करना चाहते हैं और आप जानते हैं तो आप जा रहे हैं मैं एक गंदगी चाहते हैं एक हरे लॉन या घर में एक कीचड़ भरा पैर\\n\\nHypothesis: मैं नहीं चाहता कि बच्चे मेरे घर में कीचड़ से भरे पैर लाएं।\\n\\nReasoning: Let\\'s think step by step in order to produce the answer. The premise describes a situation where children are playing outside and getting dirty. The hypothesis states that the speaker does not want the children to bring dirt-filled feet into their home. Since the premise clearly describes the children playing outside and getting dirty, it logically follows that the speaker would not want them to bring that dirt inside.\\n\\nAnswer: Yes\\n\\n---\\n\\nPremise: उसने एड्रिन के पांच ब्रील में से तीन को जन्म दिया था और यदि इस अवरोध ने उसे नहीं मारा तो वह अगले कारवां उत्तर में बाजार के लिए तैयार हो जाएगी।\\n\\nHypothesis: एड्रिन के पास कोई ब्रील नहीं था।\\n\\nReasoning: Let\\'s think step by step in order to produce the answer. The premise clearly states that the person gave birth to three out of five Brill. Therefore, it logically follows that if the obstacle did not kill her, she would be ready for the next caravan. This implies that she did have Brill.\\n\\nAnswer: No\\n\\n---\\n\\nPremise: निश्चित रूप से, हमारी स्थिति अलग और अधिक खतरनाक है... राष्ट्रपति के लिए निःसंदेह अधिक और अधिक जटिल खतरे हैं, जैसा कि हम कल्पना कर सकते हैं।\\n\\nHypothesis: राष्ट्रपति के लिए कई जटिल खतरे हैं।\\n\\nReasoning: Let\\'s think step by step in order to produce the answer. The premise clearly states that the situation is different and more dangerous for the President, as compared to what we can imagine. This implies that there are indeed multiple complex dangers for the President.\\n\\nAnswer: Yes\\n\\n---\\n\\nPremise: एचएचएस (HHS) अनुरोध कर रहा है कि ओएमबी (OMB) 180 दिनों की अवधि के लिए 1 जून 1997 तक ओएमबी (OMB) की मंजूरी के साथ 30 दिनों की टिप्पणी अवधि प्रदान करे।\\n\\nHypothesis: ओएमबी को कोई टिप्पणी अवधि देने की आवश्यकता नहीं है।\\n\\nReasoning: Let\\'s think step by step in order to produce the answer. The premise clearly states that HHS is requesting OMB to provide a 30-day comment period along with OMB\\'s approval for a 180-day period until June 1, 1997. This does not imply that OMB does not need to provide a comment period.\\n\\nAnswer: No\\n\\n---\\n\\nPremise: यद्यपि अनुप्रमाणन व्यस्तताओं पर लागू नहीं है, लेखा परीक्षा मानकों पर AICPA बयान GAGAS के अनुसार अनुप्रमाणन व्यस्तताओं का प्रदर्शन करने वाले लेखापरीक्षकों के लिए धोखाधड़ी से संबंधित उपयोगी मार्गदर्शन प्रदान कर सकते हैं।\\nHypothesis: लेखापरीक्षा मानकों के संबंध में एआईसीपीए के बयान अनुप्रमाणन व्यस्तताओं पर लागू होते हैं।\\nAnswer: No\\n\\n---\\n\\nPremise: अदालत प्रणाली बहुत कम अपवादों को छोड़कर, पर्यवेक्षकों के लिए खुली है, और इस तरह के अवसर को नहीं गंवाया जाना चाहिए।\\nHypothesis: न्यायालय प्रणाली केवल पर्यवेक्षकों के लिए वर्ष में तीन दिन खुली रहती है।\\nAnswer: No\\n\\n---\\n\\nPremise: शीर्ष नेतृत्व की प्रतिबद्धता में प्रोत्साहन प्रदान करने और जवाबदेही स्थापित करने में समय, ऊर्जा और दृढ़ता शामिल है।\\nHypothesis: शीर्ष नेतृत्व के पदों पर बैठे सभी सफल लोगों में जवाबदेही की स्पष्ट भावना होती है।\\nAnswer: Neutral\\n\\n---\\n\\nPremise: क्लिंटन के आलोचक कोसोवो में युद्ध के प्रति अविवेकपूर्ण प्रतिबद्धता के विरुद्ध चेतावनी देकर वियतनाम की भूचाल का आह्वान करते हैं।\\nHypothesis: उन्होंने इस प्रतिबद्धता को आगे बढ़ाने के क्लिंटन के निर्णय का विरोध किया।\\nAnswer: Neutral\\n\\n---\\n\\nPremise: उन्होंने कहा, \"हम आपके रहने के लिए एक जगह का भुगतान कर रहे हैं।\"\\n\\nHypothesis: वे किसी भी चीज के लिए भुगतान नहीं करेंगे।\\n\\nReasoning: Let\\'s think step by step in order to\\x1b[32m produce the answer. The premise clearly states that they are paying for a place for the person to stay. This implies that they are willing to make payments for certain things.\\n\\nAnswer: No\\x1b[0m\\n\\n\\n'"
      ]
     },
     "execution_count": 40,
     "metadata": {},
     "output_type": "execute_result"
    }
   ],
   "source": [
    "turbo.inspect_history(n=1)"
   ]
  }
 ],
 "metadata": {
  "kernelspec": {
   "display_name": "Python 3 (ipykernel)",
   "language": "python",
   "name": "python3"
  },
  "language_info": {
   "codemirror_mode": {
    "name": "ipython",
    "version": 3
   },
   "file_extension": ".py",
   "mimetype": "text/x-python",
   "name": "python",
   "nbconvert_exporter": "python",
   "pygments_lexer": "ipython3",
   "version": "3.10.13"
  }
 },
 "nbformat": 4,
 "nbformat_minor": 5
}
