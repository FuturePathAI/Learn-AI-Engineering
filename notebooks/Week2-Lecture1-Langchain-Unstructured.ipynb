{
 "cells": [
  {
   "cell_type": "markdown",
   "metadata": {},
   "source": [
    "# What is Langchain?\n",
    "\n",
    "Langchain is a Python framework for building and working with LLM APIs and related tools. It is designed to be easy to use and flexible. It introduces two new abstractions: chains and agents. Chains are \"invoked\", while agents are \"executed\". \n",
    "\n",
    "The framework has some bells and whistles: Langchain Expression Language (LCEL), used to describe the chains and inputs to it. And a paid service for request tracing called Langsmith."
   ]
  },
  {
   "cell_type": "markdown",
   "metadata": {},
   "source": [
    "This notebook is based on [Langchain Quickstart](https://python.langchain.com/docs/use_cases/question_answering/quickstart/)\n",
    "\n",
    "Langchain is secretly not a single Python package, but shipped as a collection of packages:\n",
    "\n",
    "1. Core: Parsers, Runnables\n",
    "2. Community: Vector Stores, Document Loaders\n",
    "3. Text Splitters, LLM APIs, and more\n",
    "\n",
    "The framework is designed to be powerful at the cost of being complex. It has happy paths for beginners, but primarily built with a lot of advanced features to enable experimentation. It is not a \"plug and play\" framework, but a \"plug and experiment\" one."
   ]
  },
  {
   "cell_type": "code",
   "execution_count": 13,
   "metadata": {},
   "outputs": [],
   "source": [
    "import getpass\n",
    "import os\n",
    "\n",
    "import bs4\n",
    "from langchain import hub\n",
    "\n",
    "## Langchain imports\n",
    "from langchain_community.document_loaders import WebBaseLoader\n",
    "from langchain_community.vectorstores import Qdrant\n",
    "from langchain_core.output_parsers import StrOutputParser\n",
    "from langchain_core.runnables import RunnablePassthrough\n",
    "from langchain_openai import ChatOpenAI, OpenAIEmbeddings\n",
    "from langchain_text_splitters import RecursiveCharacterTextSplitter\n",
    "from langchain_community.document_loaders import DirectoryLoader\n",
    "from tqdm import tqdm"
   ]
  },
  {
   "cell_type": "code",
   "execution_count": 2,
   "metadata": {},
   "outputs": [],
   "source": [
    "os.environ[\"OPENAI_API_KEY\"] = getpass.getpass()"
   ]
  },
  {
   "cell_type": "code",
   "execution_count": 3,
   "metadata": {},
   "outputs": [],
   "source": [
    "llm = ChatOpenAI(model=\"gpt-4-turbo\")"
   ]
  },
  {
   "cell_type": "markdown",
   "metadata": {},
   "source": [
    "## Getting the data\n",
    "\n",
    "We've used data from [mdn-docs](https://github.com/mdn/content/tree/main/files/en-us/web/css) for our use case. \n",
    "\n",
    "We are going to use Directory Loader for reading the markdown files from the directory.\n",
    "\n"
   ]
  },
  {
   "cell_type": "code",
   "execution_count": 4,
   "metadata": {},
   "outputs": [
    {
     "name": "stderr",
     "output_type": "stream",
     "text": [
      "[nltk_data] Downloading package punkt to /Users/abcom/nltk_data...\n",
      "[nltk_data]   Unzipping tokenizers/punkt.zip.\n",
      "[nltk_data] Downloading package averaged_perceptron_tagger to\n",
      "[nltk_data]     /Users/abcom/nltk_data...\n",
      "[nltk_data]   Unzipping taggers/averaged_perceptron_tagger.zip.\n"
     ]
    }
   ],
   "source": [
    "# Load the data\n",
    "loader = DirectoryLoader(\n",
    "    \"../data/css_docs\",\n",
    "    glob=\"**/*.md\"\n",
    ")\n",
    "docs = loader.load()\n"
   ]
  },
  {
   "cell_type": "code",
   "execution_count": 7,
   "metadata": {},
   "outputs": [
    {
     "data": {
      "text/plain": [
       "1057"
      ]
     },
     "execution_count": 7,
     "metadata": {},
     "output_type": "execute_result"
    }
   ],
   "source": [
    "len(docs)"
   ]
  },
  {
   "cell_type": "code",
   "execution_count": 5,
   "metadata": {},
   "outputs": [
    {
     "data": {
      "text/plain": [
       "{'source': '../data/css_docs/index.md'}"
      ]
     },
     "execution_count": 5,
     "metadata": {},
     "output_type": "execute_result"
    }
   ],
   "source": [
    "docs[0].metadata"
   ]
  },
  {
   "cell_type": "code",
   "execution_count": 31,
   "metadata": {},
   "outputs": [
    {
     "name": "stdout",
     "output_type": "stream",
     "text": [
      "Approximate number of tokens: 4101.75\n"
     ]
    }
   ],
   "source": [
    "chars = len(docs[0].page_content)\n",
    "approx_tokens = chars*3/4\n",
    "print(f\"Approximate number of tokens: {approx_tokens}\")"
   ]
  },
  {
   "cell_type": "code",
   "execution_count": 30,
   "metadata": {},
   "outputs": [
    {
     "name": "stdout",
     "output_type": "stream",
     "text": [
      "Total number of tokens: 3091506.0\n"
     ]
    }
   ],
   "source": [
    "# count total number of tokens for all docs\n",
    "total_approx_tokens = sum([len(doc.page_content)*(3/4) for doc in docs])\n",
    "total_approx_tokens\n",
    "print(f\"Total number of tokens: {total_approx_tokens}\")\n"
   ]
  },
  {
   "cell_type": "markdown",
   "metadata": {},
   "source": [
    "> 💡 Reader Exercise: Find the exact number of tokens for GPT4 model instead of approximate tokens. Post your code snippet on Discourse!"
   ]
  },
  {
   "cell_type": "markdown",
   "metadata": {},
   "source": [
    "### Chunking\n",
    "Chunking involves dividing a text into smaller, manageable pieces. Chunk overlap refers to the portion of text that is repeated across consecutive chunks to maintain context continuity.\n"
   ]
  },
  {
   "cell_type": "code",
   "execution_count": 10,
   "metadata": {},
   "outputs": [],
   "source": [
    "text_splitter = RecursiveCharacterTextSplitter(chunk_size=1000, chunk_overlap=100)\n",
    "splits = text_splitter.split_documents(docs)"
   ]
  },
  {
   "cell_type": "code",
   "execution_count": 11,
   "metadata": {},
   "outputs": [
    {
     "data": {
      "text/plain": [
       "[Document(page_content='title: \"CSS: Cascading Style Sheets\"\\nslug: Web/CSS\\npage-type: landing-page\\n\\n{{CSSRef}}\\n\\nCascading Style Sheets (CSS) is a stylesheet language used to describe the presentation of a document written in HTML or XML (including XML dialects such as SVG, MathML or {{Glossary(\"XHTML\")}}). CSS describes how elements should be rendered on screen, on paper, in speech, or on other media.\\n\\nCSS is among the core languages of the open web and is standardized across Web browsers according to W3C specifications. Previously, the development of various parts of CSS specification was done synchronously, which allowed the versioning of the latest recommendations. You might have heard about CSS1, CSS2.1, or even CSS3. There will never be a CSS3 or a CSS4; rather, everything is now CSS without a version number.', metadata={'source': '../data/css_docs/index.md'}),\n",
       " Document(page_content=\"After CSS 2.1, the scope of the specification increased significantly and the progress on different CSS modules started to differ so much, that it became more effective to develop and release recommendations separately per module. Instead of versioning the CSS specification, W3C now periodically takes a snapshot of the latest stable state of the CSS specification and individual modules progress. CSS modules now have version numbers, or levels, such as CSS Color Module Level 5.\\n\\nKey resources\\n\\nCSS Introduction\\n\\n: If you're new to web development, be sure to read our CSS basics article to learn what CSS is and how to use it.\\n\\nCSS Tutorials\\n\\n: Our CSS learning area contains a wealth of tutorials to take you from beginner level to proficiency, covering all the fundamentals.\\n\\nCSS Reference\\n\\n: Our exhaustive CSS reference for seasoned Web developers describes every property and concept of CSS.\\n\\nTutorials\", metadata={'source': '../data/css_docs/index.md'}),\n",
       " Document(page_content='Tutorials\\n\\nOur CSS Learning Area features multiple modules that teach CSS from the ground up — no previous knowledge required.\\n\\nCSS first steps\\n\\n: CSS (Cascading Style Sheets) is used to style and layout web pages — for example, to alter the font, color, size, and spacing of your content, split it into multiple columns, or add animations and other decorative features. This module provides a gentle beginning to your path towards CSS mastery with the basics of how it works, what the syntax looks like, and how you can start using it to add styling to HTML.\\n\\nCSS building blocks', metadata={'source': '../data/css_docs/index.md'}),\n",
       " Document(page_content=\"CSS building blocks\\n\\n: This module carries on where CSS first steps left off — now you've gained familiarity with the language and its syntax, and got some basic experience with using it, it's time to dive a bit deeper. This module looks at the cascade and inheritance, all the selector types we have available, units, sizing, styling backgrounds and borders, debugging, and lots more.\\nThe aim here is to provide you with a toolkit for writing competent CSS and help you understand all the essential theory, before moving on to more specific disciplines like text styling and CSS layout.\\n\\nCSS styling text\", metadata={'source': '../data/css_docs/index.md'}),\n",
       " Document(page_content=\"CSS styling text\\n\\n: With the basics of the CSS language covered, the next CSS topic for you to concentrate on is styling text — one of the most common things you'll do with CSS. Here we look at text styling fundamentals, including setting font, boldness, italics, line and letter spacing, drop shadows, and other text features. We round off the module by looking at applying custom fonts to your page, and styling lists and links.\\n\\nCSS layout\\n\\n: At this point we've already looked at CSS fundamentals, how to style text, and how to style and manipulate the boxes that your content sits inside. Now it's time to look at how to place your boxes in the right place in relation to the viewport, and to each other. We have covered the necessary prerequisites so we can now dive deep into CSS layout, looking at different display settings, modern layout tools like flexbox, CSS grid, and positioning, and some of the legacy techniques you might still want to know about.\\n\\nUse CSS to solve common problems\", metadata={'source': '../data/css_docs/index.md'})]"
      ]
     },
     "execution_count": 11,
     "metadata": {},
     "output_type": "execute_result"
    }
   ],
   "source": [
    "splits[:5]"
   ]
  },
  {
   "cell_type": "code",
   "execution_count": 14,
   "metadata": {},
   "outputs": [
    {
     "name": "stderr",
     "output_type": "stream",
     "text": [
      "Processing documents: 100%|██████████| 5220/5220 [00:00<00:00, 183898.90it/s]\n"
     ]
    }
   ],
   "source": [
    "vectorstore = Qdrant.from_documents(\n",
    "    documents=tqdm(splits, desc=\"Processing documents\"),\n",
    "    embedding=OpenAIEmbeddings(),\n",
    "    output_parser=StrOutputParser(),\n",
    "    collection_name=\"css_docs\",\n",
    "    location=\":memory:\"\n",
    ")"
   ]
  },
  {
   "cell_type": "code",
   "execution_count": 29,
   "metadata": {},
   "outputs": [
    {
     "name": "stdout",
     "output_type": "stream",
     "text": [
      "* Syntax\n",
      "\n",
      "css\n",
      ":autofill {\n",
      "  /* ... */\n",
      "}\n",
      "\n",
      "Examples\n",
      "\n",
      "The following example demonstrates the use of the :autofill pseudo-class to change the border of a text field that has been autocompleted by the browser. For the best browser compatibility use both :-webkit-autofill and :autofill.\n",
      "\n",
      "```css\n",
      "input {\n",
      "  border: 3px solid grey;\n",
      "  border-radius: 3px;\n",
      "}\n",
      "\n",
      "input:-webkit-autofill {\n",
      "  border: 3px solid blue;\n",
      "}\n",
      "input:autofill {\n",
      "  border: 3px solid blue;\n",
      "}\n",
      "```\n",
      "\n",
      "```html\n",
      "\n",
      "```\n",
      "\n",
      "{{EmbedLiveSample('Examples')}}\n",
      "\n",
      "Specifications\n",
      "\n",
      "{{Specifications}}\n",
      "\n",
      "Browser compatibility\n",
      "\n",
      "{{Compat}}\n",
      "\n",
      "See also\n",
      "\n",
      "Chromium issue 46543: Auto-filled input text box yellow background highlight cannot be turned off\n",
      "\n",
      "WebKit bug 66032: Allow site authors to override autofilled fields' colors.\n",
      "\n",
      "Mozilla bug 740979: implement :-moz-autofill pseudo-class on input elements with an autofilled value\n",
      "\n",
      "User Interface Module Level 4: more selectors [{'source': '../data/css_docs/_colon_autofill/index.md', '_id': '2028eaf94edc46169ba06a4a16bae622', '_collection_name': 'css_docs'}]\n",
      "* This example allows you to choose a color. Once a choice is made, the {{cssxref(\"border-color\")}} is set to that color, and the value is displayed.\n",
      "\n",
      "```html\n",
      "\n",
      "```\n",
      "\n",
      "The HTML creates a box containing a color picker control (with a label created using the {{HTMLElement(\"label\")}} element) and an empty {{HTMLElement(\"output\")}} element into which we'll output the color's value using JavaScript. The color input's value is always a hexadecimal string.\n",
      "\n",
      "{{EmbedLiveSample(\"HTML color input type\", 525, 120)}}\n",
      "\n",
      "```css hidden\n",
      "\n",
      "box {\n",
      "\n",
      "width: 500px;\n",
      "  height: 100px;\n",
      "  border: 5px solid rgb(245 220 225);\n",
      "  padding: 4px 6px;\n",
      "  font:\n",
      "    16px \"Lucida Grande\",\n",
      "    \"Helvetica\",\n",
      "    \"Arial\",\n",
      "    \"sans-serif\";\n",
      "}\n",
      "```\n",
      "\n",
      "The following JavaScript updates the border's color to match the color picker's initial value, then adds two event handlers to the <input type=\"color\"> element to respond to changes made to its value. [{'source': '../data/css_docs/css_colors/color_values/index.md', '_id': 'e7307829d7cd4ece9def1e66648a22d0', '_collection_name': 'css_docs'}]\n",
      "* The <textarea> will grow in the inline direction until the edge of the {{cssxref(\"min-width\")}} constraint (set in the CSS code below) is reached, then start to add new lines in the block direction to contain subsequent characters.\n",
      "\n",
      "The email input has a placeholder set. This causes the field to render big enough to show the entire placeholder. Once the field is focused and the user starts typing, the field changes size to the min-width value. The text field, which doesn't have a placeholder, renders initially at min-width.\n",
      "\n",
      "CSS\n",
      "\n",
      "In the CSS, we set field-sizing: content on the three form fields, along with a {{cssxref(\"min-width\")}} and {{cssxref(\"max-width\")}} to constrain the input size. It is worth reiterating that, if no minimum width was set on the fields, they would be rendered only as wide as the text cursor.\n",
      "\n",
      "We also give the <label>s some rudimentary styling so that they sit neatly next to the fields.\n",
      "\n",
      "```css hidden\n",
      "body {\n",
      "  box-sizing: border-box;\n",
      "  padding: 20px;\n",
      "} [{'source': '../data/css_docs/field-sizing/index.md', '_id': '5c7cf0f0c61a4b6da9fef4a4ddae4216', '_collection_name': 'css_docs'}]\n"
     ]
    }
   ],
   "source": [
    "# Let's check how the retrieval process wotks , we will perform a semantic search and see what documents are retrieved\n",
    "results = vectorstore.similarity_search(\"change the border of a text field that has been autocompleted by the browser\", k=3)\n",
    "for res in results:\n",
    "    print(f\"* {res.page_content} [{res.metadata}]\")"
   ]
  },
  {
   "cell_type": "code",
   "execution_count": 15,
   "metadata": {},
   "outputs": [],
   "source": [
    "retriever = vectorstore.as_retriever()"
   ]
  },
  {
   "cell_type": "code",
   "execution_count": 16,
   "metadata": {},
   "outputs": [],
   "source": [
    "prompt = hub.pull(\"rlm/rag-prompt\")"
   ]
  },
  {
   "cell_type": "code",
   "execution_count": 17,
   "metadata": {},
   "outputs": [],
   "source": [
    "def format_docs(docs):\n",
    "    return \"\\n\\n\".join(doc.page_content for doc in docs)"
   ]
  },
  {
   "cell_type": "code",
   "execution_count": 18,
   "metadata": {},
   "outputs": [],
   "source": [
    "rag_chain = (\n",
    "    {\"context\": retriever | format_docs, \"question\": RunnablePassthrough()}\n",
    "    | prompt\n",
    "    | llm\n",
    "    | StrOutputParser()\n",
    ")"
   ]
  },
  {
   "cell_type": "code",
   "execution_count": 22,
   "metadata": {},
   "outputs": [
    {
     "name": "stdout",
     "output_type": "stream",
     "text": [
      "To change the border of a text field that has been autocompleted by the browser, you can use the CSS pseudo-classes `:-webkit-autofill` and `:autofill`. Here is an example of how to set the border color to blue when the input field has been autofilled:\n",
      "\n",
      "```css\n",
      "input:-webkit-autofill,\n",
      "input:autofill {\n",
      "  border: 3px solid blue;\n",
      "}\n",
      "```\n"
     ]
    }
   ],
   "source": [
    "result = rag_chain.invoke(\"change the border of a text field that has been autocompleted by the browser\")\n",
    "print(result)"
   ]
  }
 ],
 "metadata": {
  "kernelspec": {
   "display_name": "learnai",
   "language": "python",
   "name": "python3"
  },
  "language_info": {
   "codemirror_mode": {
    "name": "ipython",
    "version": 3
   },
   "file_extension": ".py",
   "mimetype": "text/x-python",
   "name": "python",
   "nbconvert_exporter": "python",
   "pygments_lexer": "ipython3",
   "version": "3.11.0"
  }
 },
 "nbformat": 4,
 "nbformat_minor": 2
}
