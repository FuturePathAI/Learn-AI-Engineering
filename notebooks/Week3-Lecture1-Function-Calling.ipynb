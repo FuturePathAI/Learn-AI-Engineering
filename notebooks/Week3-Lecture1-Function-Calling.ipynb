{
 "cells": [
  {
   "attachments": {},
   "cell_type": "markdown",
   "id": "3e67f200",
   "metadata": {},
   "source": [
    "# Function Calling -- Format JSON\n",
    "\n",
    "Function calling is my favourite, open secret about modern LLMs: They can be used to communicate with other systems. \n",
    "\n",
    "How do we do that? By parsing your information into a JSON, which can then be used to interact with your APIs. There are more straight forward use cases for JSON output as well e.g. parsing a text into structured data.\n",
    "\n",
    "The remainder of this notebook is directly from the [OpenAI Cookbook](https://github.com/openai/openai-cookbook/blob/main/examples/How_to_call_functions_with_chat_models.ipynb)"
   ]
  },
  {
   "cell_type": "markdown",
   "id": "e3e677e2",
   "metadata": {},
   "source": [
    "## How do we structure language? \n",
    "\n",
    "1. Parse it into a structured format of our choice and design\n",
    "2. JSON or XML or YML or toml\n",
    "3. JSON is the most common format for APIs -- OpenAI\n",
    "\n",
    "\n",
    "## Example Problem Statement\n",
    "\n",
    "1. We want to decide whether we can use a function, and call it. Python function for instance. Tool.\n",
    "2. Tool: What inputs or parameters are required? What are the outputs?\n",
    "\n",
    "These 2 questions are the essential OpenAI JSON Schema. "
   ]
  },
  {
   "cell_type": "markdown",
   "id": "b6748ab2",
   "metadata": {},
   "source": [
    "\n",
    "This notebook covers how to use the Chat Completions API in combination with external functions to extend the capabilities of GPT models.\n",
    "\n",
    "`tools` is an optional parameter in the Chat Completion API which can be used to provide function specifications. The purpose of this is to enable models to generate function arguments which adhere to the provided specifications. Note that the API will not actually execute any function calls. It is up to developers to execute function calls using model outputs.\n",
    "\n",
    "Within the `tools` parameter, if the `functions` parameter is provided then by default the model will decide when it is appropriate to use one of the functions. The API can be forced to use a specific function by setting the `tool_choice` parameter to `{\"name\": \"<insert-function-name>\"}`. The API can also be forced to not use any function by setting the `tool_choice` parameter to `\"none\"`. If a function is used, the output will contain `\"finish_reason\": \"function_call\"` in the response, as well as a `tool_choice` object that has the name of the function and the generated function arguments.\n",
    "\n",
    "### Overview\n",
    "\n",
    "This notebook contains the following 2 sections:\n",
    "\n",
    "- **How to generate function arguments:** Specify a set of functions and use the API to generate function arguments.\n",
    "- **How to call functions with model generated arguments:** Close the loop by actually executing functions with model generated arguments."
   ]
  },
  {
   "attachments": {},
   "cell_type": "markdown",
   "id": "64c85e26",
   "metadata": {},
   "source": [
    "## How to generate function arguments"
   ]
  },
  {
   "cell_type": "code",
   "execution_count": 1,
   "id": "dab872c5",
   "metadata": {},
   "outputs": [],
   "source": [
    "import instructor\n",
    "import marvin\n",
    "from dotenv import load_dotenv\n",
    "from openai import OpenAI\n",
    "from tenacity import retry, stop_after_attempt, wait_random_exponential\n",
    "from termcolor import colored\n",
    "\n",
    "load_dotenv()\n",
    "GPT_MODEL = \"gpt-3.5-turbo-0613\"\n",
    "client = OpenAI()"
   ]
  },
  {
   "attachments": {},
   "cell_type": "markdown",
   "id": "69ee6a93",
   "metadata": {},
   "source": [
    "### Utilities\n",
    "\n",
    "First let's define a few utilities for making calls to the Chat Completions API and for maintaining and keeping track of the conversation state."
   ]
  },
  {
   "cell_type": "code",
   "execution_count": 2,
   "id": "745ceec5",
   "metadata": {},
   "outputs": [],
   "source": [
    "@retry(wait=wait_random_exponential(multiplier=1, max=40), stop=stop_after_attempt(3))\n",
    "def chat_completion_request(messages, tools=None, tool_choice=None, model=GPT_MODEL):\n",
    "    try:\n",
    "        response = client.chat.completions.create(\n",
    "            model=model,\n",
    "            messages=messages,\n",
    "            tools=tools,\n",
    "            tool_choice=tool_choice,\n",
    "        )\n",
    "        return response\n",
    "    except Exception as e:\n",
    "        print(\"Unable to generate ChatCompletion response\")\n",
    "        print(f\"Exception: {e}\")\n",
    "        return e"
   ]
  },
  {
   "cell_type": "code",
   "execution_count": 3,
   "id": "c4d1c99f",
   "metadata": {},
   "outputs": [],
   "source": [
    "def pretty_print_conversation(messages):\n",
    "    role_to_color = {\n",
    "        \"system\": \"red\",\n",
    "        \"user\": \"green\",\n",
    "        \"assistant\": \"blue\",\n",
    "        \"function\": \"magenta\",\n",
    "    }\n",
    "\n",
    "    for message in messages:\n",
    "        if message[\"role\"] == \"system\":\n",
    "            print(\n",
    "                colored(\n",
    "                    f\"system: {message['content']}\\n\", role_to_color[message[\"role\"]]\n",
    "                )\n",
    "            )\n",
    "        elif message[\"role\"] == \"user\":\n",
    "            print(\n",
    "                colored(f\"user: {message['content']}\\n\", role_to_color[message[\"role\"]])\n",
    "            )\n",
    "        elif message[\"role\"] == \"assistant\" and message.get(\"function_call\"):\n",
    "            print(\n",
    "                colored(\n",
    "                    f\"assistant: {message['function_call']}\\n\",\n",
    "                    role_to_color[message[\"role\"]],\n",
    "                )\n",
    "            )\n",
    "        elif message[\"role\"] == \"assistant\" and not message.get(\"function_call\"):\n",
    "            print(\n",
    "                colored(\n",
    "                    f\"assistant: {message['content']}\\n\", role_to_color[message[\"role\"]]\n",
    "                )\n",
    "            )\n",
    "        elif message[\"role\"] == \"function\":\n",
    "            print(\n",
    "                colored(\n",
    "                    f\"function ({message['name']}): {message['content']}\\n\",\n",
    "                    role_to_color[message[\"role\"]],\n",
    "                )\n",
    "            )"
   ]
  },
  {
   "attachments": {},
   "cell_type": "markdown",
   "id": "29d4e02b",
   "metadata": {},
   "source": [
    "### Basic concepts\n",
    "\n",
    "Let's create some function specifications to interface with a hypothetical weather API. We'll pass these function specification to the Chat Completions API in order to generate function arguments that adhere to the specification."
   ]
  },
  {
   "cell_type": "code",
   "execution_count": 14,
   "id": "d2e25069",
   "metadata": {},
   "outputs": [],
   "source": [
    "tools = [\n",
    "    {\n",
    "        \"type\": \"function\",\n",
    "        \"function\": {\n",
    "            \"name\": \"get_current_weather\",\n",
    "            \"description\": \"Get the current weather\",\n",
    "            \"parameters\": {\n",
    "                \"type\": \"object\",\n",
    "                \"properties\": {\n",
    "                    \"location\": {\n",
    "                        \"type\": \"string\",\n",
    "                        \"description\": \"The city and state, e.g. San Francisco, CA\",\n",
    "                    },\n",
    "                    \"format\": {\n",
    "                        \"type\": \"string\",\n",
    "                        \"enum\": [\"celsius\", \"fahrenheit\"],\n",
    "                        \"description\": \"The temperature unit to use. Infer this from the users location.\",\n",
    "                    },\n",
    "                },\n",
    "                \"required\": [\"location\", \"format\"],\n",
    "            },\n",
    "        },\n",
    "    },\n",
    "    {\n",
    "        \"type\": \"function\",\n",
    "        \"function\": {\n",
    "            \"name\": \"get_n_day_weather_forecast\",\n",
    "            \"description\": \"Get an N-day weather forecast\",\n",
    "            \"parameters\": {\n",
    "                \"type\": \"object\",\n",
    "                \"properties\": {\n",
    "                    \"location\": {\n",
    "                        \"type\": \"string\",\n",
    "                        \"description\": \"The city and state, e.g. San Francisco, CA\",\n",
    "                    },\n",
    "                    \"format\": {\n",
    "                        \"type\": \"string\",\n",
    "                        \"enum\": [\"celsius\", \"fahrenheit\"],\n",
    "                        \"description\": \"The temperature unit to use. Infer this from the users location.\",\n",
    "                    },\n",
    "                    \"num_days\": {\n",
    "                        \"type\": \"integer\",\n",
    "                        \"description\": \"The number of days to forecast\",\n",
    "                    },\n",
    "                },\n",
    "                \"required\": [\"location\", \"format\", \"num_days\"],\n",
    "            },\n",
    "        },\n",
    "    },\n",
    "    {\n",
    "        \"type\": \"function\",\n",
    "        \"function\": {\n",
    "            \"name\": \"get_local_language\",\n",
    "            \"description\": \"Get the most common languages spoken based on user's location\",\n",
    "            \"parameters\": {\n",
    "                \"type\": \"object\",\n",
    "                \"properties\": {\n",
    "                    \"location\": {\n",
    "                        \"type\": \"string\",\n",
    "                        \"description\": \"The city and state, e.g. San Francisco, CA\",\n",
    "                    },\n",
    "                },\n",
    "                \"required\": [\"location\"],\n",
    "            },\n",
    "        },\n",
    "    },\n",
    "]"
   ]
  },
  {
   "cell_type": "code",
   "execution_count": 17,
   "id": "d2f5ca65",
   "metadata": {},
   "outputs": [
    {
     "data": {
      "text/plain": [
       "{'type': 'function',\n",
       " 'function': {'name': 'get_local_language',\n",
       "  'description': \"Get the most common languages spoken based on user's location\",\n",
       "  'parameters': {'type': 'object',\n",
       "   'properties': {'location': {'type': 'string',\n",
       "     'description': 'The city and state, e.g. San Francisco, CA'}},\n",
       "   'required': ['location']}}}"
      ]
     },
     "execution_count": 17,
     "metadata": {},
     "output_type": "execute_result"
    }
   ],
   "source": [
    "len(tools)\n",
    "tools[-1]"
   ]
  },
  {
   "attachments": {},
   "cell_type": "markdown",
   "id": "bfc39899",
   "metadata": {},
   "source": [
    "If we prompt the model about the current weather, it will respond with some clarifying questions."
   ]
  },
  {
   "cell_type": "code",
   "execution_count": 5,
   "id": "518d6827",
   "metadata": {},
   "outputs": [
    {
     "data": {
      "text/plain": [
       "ChatCompletionMessage(content='Sure, I can help you with that. Could you please provide me with the location?', role='assistant', function_call=None, tool_calls=None)"
      ]
     },
     "execution_count": 5,
     "metadata": {},
     "output_type": "execute_result"
    }
   ],
   "source": [
    "messages = []\n",
    "messages.append(\n",
    "    {\n",
    "        \"role\": \"system\",\n",
    "        \"content\": \"Don't make assumptions about what values to plug into functions. Ask for clarification if a user request is ambiguous.\",\n",
    "    }\n",
    ")\n",
    "messages.append({\"role\": \"user\", \"content\": \"What's the weather like today\"})\n",
    "chat_response = chat_completion_request(messages, tools=tools)\n",
    "assistant_message = chat_response.choices[0].message\n",
    "messages.append(assistant_message)\n",
    "assistant_message"
   ]
  },
  {
   "attachments": {},
   "cell_type": "markdown",
   "id": "4c999375",
   "metadata": {},
   "source": [
    "Once we provide the missing information, it will generate the appropriate function arguments for us."
   ]
  },
  {
   "cell_type": "code",
   "execution_count": 6,
   "id": "23c42a6e",
   "metadata": {},
   "outputs": [
    {
     "data": {
      "text/plain": [
       "ChatCompletionMessage(content=None, role='assistant', function_call=None, tool_calls=[ChatCompletionMessageToolCall(id='call_SI8ipOfdnzh43oNn96SiDuGb', function=Function(arguments='{\\n  \"location\": \"Glasgow, Scotland\",\\n  \"format\": \"celsius\"\\n}', name='get_current_weather'), type='function')])"
      ]
     },
     "execution_count": 6,
     "metadata": {},
     "output_type": "execute_result"
    }
   ],
   "source": [
    "messages.append({\"role\": \"user\", \"content\": \"I'm in Glasgow, Scotland.\"})\n",
    "chat_response = chat_completion_request(messages, tools=tools)\n",
    "assistant_message = chat_response.choices[0].message\n",
    "messages.append(assistant_message)\n",
    "assistant_message"
   ]
  },
  {
   "attachments": {},
   "cell_type": "markdown",
   "id": "c14d4762",
   "metadata": {},
   "source": [
    "By prompting it differently, we can get it to target the other function we've told it about."
   ]
  },
  {
   "cell_type": "code",
   "execution_count": 7,
   "id": "fa232e54",
   "metadata": {},
   "outputs": [
    {
     "data": {
      "text/plain": [
       "ChatCompletionMessage(content=None, role='assistant', function_call=None, tool_calls=[ChatCompletionMessageToolCall(id='call_rYzwZHqkrF1NV4q1ZNNCBC2k', function=Function(arguments='{\\n\"location\": \"Glasgow, Scotland\",\\n\"format\": \"celsius\",\\n\"num_days\": 5\\n}', name='get_n_day_weather_forecast'), type='function')])"
      ]
     },
     "execution_count": 7,
     "metadata": {},
     "output_type": "execute_result"
    }
   ],
   "source": [
    "messages = []\n",
    "messages.append(\n",
    "    {\n",
    "        \"role\": \"system\",\n",
    "        \"content\": \"Don't make assumptions about what values to plug into functions. Ask for clarification if a user request is ambiguous.\",\n",
    "    }\n",
    ")\n",
    "messages.append(\n",
    "    {\n",
    "        \"role\": \"user\",\n",
    "        \"content\": \"what is the weather going to be like in Glasgow, Scotland over the next 5 days\",\n",
    "    }\n",
    ")\n",
    "chat_response = chat_completion_request(messages, tools=tools)\n",
    "assistant_message = chat_response.choices[0].message\n",
    "messages.append(assistant_message)\n",
    "assistant_message"
   ]
  },
  {
   "attachments": {},
   "cell_type": "markdown",
   "id": "6172ddac",
   "metadata": {},
   "source": [
    "Once again, the model is asking us for clarification because it doesn't have enough information yet. In this case it already knows the location for the forecast, but it needs to know how many days are required in the forecast."
   ]
  },
  {
   "cell_type": "code",
   "execution_count": 9,
   "id": "c7d8a543",
   "metadata": {},
   "outputs": [
    {
     "name": "stdout",
     "output_type": "stream",
     "text": [
      "Unable to generate ChatCompletion response\n",
      "Exception: Error code: 400 - {'error': {'message': \"An assistant message with 'tool_calls' must be followed by tool messages responding to each 'tool_call_id'. The following tool_call_ids did not have response messages: call_rYzwZHqkrF1NV4q1ZNNCBC2k\", 'type': 'invalid_request_error', 'param': 'messages.[3].role', 'code': None}}\n"
     ]
    },
    {
     "data": {
      "text/plain": [
       "openai.BadRequestError('Error code: 400 - {\\'error\\': {\\'message\\': \"An assistant message with \\'tool_calls\\' must be followed by tool messages responding to each \\'tool_call_id\\'. The following tool_call_ids did not have response messages: call_rYzwZHqkrF1NV4q1ZNNCBC2k\", \\'type\\': \\'invalid_request_error\\', \\'param\\': \\'messages.[3].role\\', \\'code\\': None}}')"
      ]
     },
     "execution_count": 9,
     "metadata": {},
     "output_type": "execute_result"
    }
   ],
   "source": [
    "messages.append({\"role\": \"user\", \"content\": \"5 days\"})\n",
    "chat_response = chat_completion_request(messages, tools=tools)\n",
    "chat_response"
   ]
  },
  {
   "attachments": {},
   "cell_type": "markdown",
   "id": "4b758a0a",
   "metadata": {},
   "source": [
    "#### Forcing the use of specific functions or no function"
   ]
  },
  {
   "attachments": {},
   "cell_type": "markdown",
   "id": "412f79ba",
   "metadata": {},
   "source": [
    "We can force the model to use a specific function, for example get_n_day_weather_forecast by using the function_call argument. By doing so, we force the model to make assumptions about how to use it."
   ]
  },
  {
   "cell_type": "code",
   "execution_count": 10,
   "id": "559371b7",
   "metadata": {},
   "outputs": [
    {
     "data": {
      "text/plain": [
       "ChatCompletionMessage(content=None, role='assistant', function_call=None, tool_calls=[ChatCompletionMessageToolCall(id='call_AP5wn56f9eu7bcUThM80wcbJ', function=Function(arguments='{\\n  \"location\": \"Toronto, Canada\",\\n  \"format\": \"celsius\",\\n  \"num_days\": 1\\n}', name='get_n_day_weather_forecast'), type='function')])"
      ]
     },
     "execution_count": 10,
     "metadata": {},
     "output_type": "execute_result"
    }
   ],
   "source": [
    "# in this cell we force the model to use get_n_day_weather_forecast\n",
    "messages = []\n",
    "messages.append(\n",
    "    {\n",
    "        \"role\": \"system\",\n",
    "        \"content\": \"Don't make assumptions about what values to plug into functions. Ask for clarification if a user request is ambiguous.\",\n",
    "    }\n",
    ")\n",
    "messages.append(\n",
    "    {\"role\": \"user\", \"content\": \"Give me a weather report for Toronto, Canada.\"}\n",
    ")\n",
    "chat_response = chat_completion_request(\n",
    "    messages,\n",
    "    tools=tools,\n",
    "    tool_choice={\n",
    "        \"type\": \"function\",\n",
    "        \"function\": {\"name\": \"get_n_day_weather_forecast\"},\n",
    "    },\n",
    ")\n",
    "chat_response.choices[0].message"
   ]
  },
  {
   "cell_type": "code",
   "execution_count": 11,
   "id": "a7ab0f58",
   "metadata": {},
   "outputs": [
    {
     "data": {
      "text/plain": [
       "ChatCompletionMessage(content=None, role='assistant', function_call=None, tool_calls=[ChatCompletionMessageToolCall(id='call_5T05g46ssbkcLBLWmvEEEyku', function=Function(arguments='{\\n  \"location\": \"Toronto, Canada\",\\n  \"format\": \"celsius\"\\n}', name='get_current_weather'), type='function')])"
      ]
     },
     "execution_count": 11,
     "metadata": {},
     "output_type": "execute_result"
    }
   ],
   "source": [
    "# if we don't force the model to use get_n_day_weather_forecast it may not\n",
    "messages = []\n",
    "messages.append(\n",
    "    {\n",
    "        \"role\": \"system\",\n",
    "        \"content\": \"Don't make assumptions about what values to plug into functions. Ask for clarification if a user request is ambiguous.\",\n",
    "    }\n",
    ")\n",
    "messages.append(\n",
    "    {\"role\": \"user\", \"content\": \"Give me a weather report for Toronto, Canada.\"}\n",
    ")\n",
    "chat_response = chat_completion_request(messages, tools=tools)\n",
    "chat_response.choices[0].message"
   ]
  },
  {
   "attachments": {},
   "cell_type": "markdown",
   "id": "3bd70e48",
   "metadata": {},
   "source": [
    "We can also force the model to not use a function at all. By doing so we prevent it from producing a proper function call."
   ]
  },
  {
   "cell_type": "code",
   "execution_count": 12,
   "id": "acfe54e6",
   "metadata": {},
   "outputs": [
    {
     "data": {
      "text/plain": [
       "ChatCompletionMessage(content='{\\n  \"location\": \"Toronto, Canada\",\\n  \"format\": \"celsius\"\\n}', role='assistant', function_call=None, tool_calls=None)"
      ]
     },
     "execution_count": 12,
     "metadata": {},
     "output_type": "execute_result"
    }
   ],
   "source": [
    "messages = []\n",
    "messages.append(\n",
    "    {\n",
    "        \"role\": \"system\",\n",
    "        \"content\": \"Don't make assumptions about what values to plug into functions. Ask for clarification if a user request is ambiguous.\",\n",
    "    }\n",
    ")\n",
    "messages.append(\n",
    "    {\n",
    "        \"role\": \"user\",\n",
    "        \"content\": \"Give me the current weather (use Celcius) for Toronto, Canada.\",\n",
    "    }\n",
    ")\n",
    "chat_response = chat_completion_request(messages, tools=tools, tool_choice=\"none\")\n",
    "chat_response.choices[0].message"
   ]
  },
  {
   "cell_type": "markdown",
   "id": "b616353b",
   "metadata": {},
   "source": [
    "### Parallel Function Calling\n",
    "\n",
    "Newer models like gpt-4-1106-preview or gpt-3.5-turbo-1106 can call multiple functions in one turn."
   ]
  },
  {
   "cell_type": "code",
   "execution_count": 18,
   "id": "380eeb68",
   "metadata": {},
   "outputs": [
    {
     "data": {
      "text/plain": [
       "[ChatCompletionMessageToolCall(id='call_sUCvibDgovA0JtI4YE6TmGmN', function=Function(arguments='{\"location\":\"Toronto, Canada\"}', name='get_local_language'), type='function')]"
      ]
     },
     "execution_count": 18,
     "metadata": {},
     "output_type": "execute_result"
    }
   ],
   "source": [
    "messages = []\n",
    "messages.append(\n",
    "    {\n",
    "        \"role\": \"system\",\n",
    "        \"content\": \"Don't make assumptions about what values to plug into functions. Ask for clarification if a user request is ambiguous.\",\n",
    "    }\n",
    ")\n",
    "messages.append(\n",
    "    {\n",
    "        \"role\": \"user\",\n",
    "        \"content\": \"What languages are spoken in Toronto, Canada?\",\n",
    "    }\n",
    ")\n",
    "chat_response = chat_completion_request(\n",
    "    messages, tools=tools, model=\"gpt-3.5-turbo-1106\"\n",
    ")\n",
    "\n",
    "assistant_message = chat_response.choices[0].message.tool_calls\n",
    "assistant_message"
   ]
  },
  {
   "cell_type": "code",
   "execution_count": 26,
   "id": "9e4afb5a",
   "metadata": {},
   "outputs": [],
   "source": [
    "import json\n",
    "\n",
    "params = json.loads(assistant_message[0].function.arguments)"
   ]
  },
  {
   "cell_type": "code",
   "execution_count": 30,
   "id": "72143e02",
   "metadata": {},
   "outputs": [],
   "source": [
    "# for message in assistant_message:\n",
    "#     params = json.loads(message.function.arguments)\n",
    "#     print(f\"function: {message.function.name}\")"
   ]
  },
  {
   "cell_type": "code",
   "execution_count": 27,
   "id": "099fcbd9",
   "metadata": {},
   "outputs": [
    {
     "data": {
      "text/plain": [
       "'English, French'"
      ]
     },
     "execution_count": 27,
     "metadata": {},
     "output_type": "execute_result"
    }
   ],
   "source": [
    "def get_local_language(location: str):\n",
    "    ...\n",
    "    # Wikipedia search for languages spoken in location\n",
    "\n",
    "\n",
    "get_local_language(**params)"
   ]
  },
  {
   "attachments": {},
   "cell_type": "markdown",
   "id": "2d89073c",
   "metadata": {},
   "source": [
    "## Next Steps\n",
    "\n",
    "Checkout other [notebook](https://github.com/openai/openai-cookbook/blob/main/examples/How_to_call_functions_for_knowledge_retrieval.ipynb) that demonstrates how to use the Chat Completions API and functions for knowledge retrieval to interact conversationally with a knowledge base."
   ]
  },
  {
   "cell_type": "markdown",
   "id": "4bfebf7e",
   "metadata": {},
   "source": [
    "# Using Function Calling with Pydantic\n",
    "\n",
    "Pydantic is a data validation and settings management using Python type annotations. It is a library that allows you to validate data and settings using Python type annotations. It is a great library to use with FastAPI, but it can be used with any Python project. We use instructor (https://jxnl.github.io/instructor) to demonstrate how to use Pydantic with Function Calling.\n",
    "\n",
    "As an illustration, we will use a complex task: Graph Construction -- but a simple example, so that you can self verify the errors with the model outputs. \n",
    "\n",
    "## Graph Construction\n",
    "\n",
    "In this guide, we demonstrate how to extract and resolve entities from a sample legal contract. Then, we visualize these entities and their dependencies as an entity graph"
   ]
  },
  {
   "cell_type": "code",
   "execution_count": 36,
   "id": "b40c3998",
   "metadata": {},
   "outputs": [],
   "source": [
    "from typing import List\n",
    "\n",
    "from pydantic import BaseModel, Field\n",
    "\n",
    "\n",
    "class Property(BaseModel):\n",
    "    key: str\n",
    "    value: str\n",
    "    resolved_absolute_value: str\n",
    "\n",
    "\n",
    "class Entity(BaseModel):\n",
    "    id: int = Field(\n",
    "        ...,\n",
    "        description=\"Unique identifier for the entity, used for deduplication, design a scheme allows multiple entities\",\n",
    "    )\n",
    "    subquote_string: List[str] = Field(\n",
    "        ...,\n",
    "        description=\"Correctly resolved value of the entity, if the entity is a reference to another entity, this should be the id of the referenced entity, include a few more words before and after the value to allow for some context to be used in the resolution\",\n",
    "    )\n",
    "    entity_title: str\n",
    "    properties: List[Property] = Field(\n",
    "        ..., description=\"List of properties of the entity\"\n",
    "    )\n",
    "    dependencies: List[int] = Field(\n",
    "        ...,\n",
    "        description=\"List of entity ids that this entity depends or relies on to resolve it\",\n",
    "    )\n",
    "\n",
    "\n",
    "class DocumentExtraction(BaseModel):\n",
    "    entities: List[Entity] = Field(\n",
    "        ...,\n",
    "        description=\"Body of the answer, each fact should be a separate object with a body and a list of sources\",\n",
    "    )"
   ]
  },
  {
   "cell_type": "code",
   "execution_count": 35,
   "id": "d383ef2f",
   "metadata": {},
   "outputs": [
    {
     "name": "stdout",
     "output_type": "stream",
     "text": [
      "{\"entities\":[{\"id\":1,\"subquote_string\":[\"Toronto is a city in Canada\"],\"entity_title\":\"Toronto\",\"properties\":[{\"key\":\"location\",\"value\":\"Toronto\",\"resolved_absolute_value\":\"Toronto, Canada\"}],\"dependencies\":[2]}]}\n"
     ]
    }
   ],
   "source": [
    "d = DocumentExtraction(\n",
    "    entities=[\n",
    "        Entity(\n",
    "            id=1,\n",
    "            subquote_string=[\"Toronto is a city in Canada\"],\n",
    "            entity_title=\"Toronto\",\n",
    "            properties=[\n",
    "                Property(\n",
    "                    key=\"location\",\n",
    "                    value=\"Toronto\",\n",
    "                    resolved_absolute_value=\"Toronto, Canada\",\n",
    "                )\n",
    "            ],\n",
    "            dependencies=[2],\n",
    "        )\n",
    "    ]\n",
    ")\n",
    "print(d.json())"
   ]
  },
  {
   "cell_type": "code",
   "execution_count": 32,
   "id": "153efd67",
   "metadata": {},
   "outputs": [
    {
     "data": {
      "text/plain": [
       "True"
      ]
     },
     "execution_count": 32,
     "metadata": {},
     "output_type": "execute_result"
    }
   ],
   "source": [
    "import instructor\n",
    "from dotenv import load_dotenv\n",
    "from openai import OpenAI\n",
    "\n",
    "load_dotenv()"
   ]
  },
  {
   "cell_type": "code",
   "execution_count": 37,
   "id": "3d3cc9ba",
   "metadata": {},
   "outputs": [],
   "source": [
    "# Apply the patch to the OpenAI client\n",
    "# enables response_model keyword\n",
    "client = instructor.patch(OpenAI())\n",
    "\n",
    "\n",
    "def ask_ai(content: str) -> DocumentExtraction:\n",
    "    return client.chat.completions.create(\n",
    "        model=\"gpt-4\",\n",
    "        response_model=DocumentExtraction,\n",
    "        messages=[\n",
    "            {\n",
    "                \"role\": \"system\",\n",
    "                \"content\": \"Extract and resolve a list of entities from the following document:\",\n",
    "            },\n",
    "            {\n",
    "                \"role\": \"user\",\n",
    "                \"content\": content,\n",
    "            },\n",
    "        ],\n",
    "    )  # type: ignore"
   ]
  },
  {
   "cell_type": "code",
   "execution_count": 38,
   "id": "50de41b6",
   "metadata": {},
   "outputs": [],
   "source": [
    "from graphviz import Digraph\n",
    "\n",
    "\n",
    "def generate_html_label(entity: Entity) -> str:\n",
    "    rows = [\n",
    "        f\"<tr><td>{prop.key}</td><td>{prop.resolved_absolute_value}</td></tr>\"\n",
    "        for prop in entity.properties\n",
    "    ]\n",
    "    table_rows = \"\".join(rows)\n",
    "    return f\"<<table border='0' cellborder='1' cellspacing='0'><tr><td colspan='2'><b>{entity.entity_title}</b></td></tr>{table_rows}</table>>\"\n",
    "\n",
    "\n",
    "def generate_graph(data: DocumentExtraction):\n",
    "    dot = Digraph(comment=\"Entity Graph\", node_attr={\"shape\": \"plaintext\"})\n",
    "\n",
    "    for entity in data.entities:\n",
    "        label = generate_html_label(entity)\n",
    "        dot.node(str(entity.id), label)\n",
    "\n",
    "    for entity in data.entities:\n",
    "        for dep_id in entity.dependencies:\n",
    "            dot.edge(str(entity.id), str(dep_id))\n",
    "\n",
    "    dot.render(\"entity.gv\", view=True)"
   ]
  },
  {
   "cell_type": "code",
   "execution_count": 39,
   "id": "406a30de",
   "metadata": {},
   "outputs": [],
   "source": [
    "content = \"\"\"\n",
    "My name is Nirant Kasliwal. I am an AI Engineer and I'm teaching some amazing, perseverant engineers learning about AI\n",
    "\"\"\""
   ]
  },
  {
   "cell_type": "code",
   "execution_count": 41,
   "id": "fcca1ebe",
   "metadata": {},
   "outputs": [
    {
     "data": {
      "text/plain": [
       "'{\"entities\":[{\"id\":1,\"subquote_string\":[\"My name is Nirant Kasliwal.\"],\"entity_title\":\"Nirant Kasliwal\",\"properties\":[{\"key\":\"name\",\"value\":\"Nirant Kasliwal\",\"resolved_absolute_value\":\"Nirant Kasliwal\"},{\"key\":\"profession\",\"value\":\"AI Engineer\",\"resolved_absolute_value\":\"AI Engineer\"}],\"dependencies\":[]},{\"id\":2,\"subquote_string\":[\"I am an AI Engineer and I\\'m teaching some amazing, perseverant engineers learning about AI\"],\"entity_title\":\"Engineers learning about AI\",\"properties\":[{\"key\":\"profession\",\"value\":\"Engineer in AI\",\"resolved_absolute_value\":\"Engineer in AI\"},{\"key\":\"description\",\"value\":\"amazing, perseverant\",\"resolved_absolute_value\":\"amazing, perseverant\"}],\"dependencies\":[1]}]}'"
      ]
     },
     "execution_count": 41,
     "metadata": {},
     "output_type": "execute_result"
    }
   ],
   "source": [
    "d = ask_ai(content)"
   ]
  },
  {
   "cell_type": "code",
   "execution_count": 50,
   "id": "82706d0a",
   "metadata": {},
   "outputs": [],
   "source": [
    "generate_graph(d)"
   ]
  },
  {
   "cell_type": "code",
   "execution_count": 51,
   "id": "a9794f5b",
   "metadata": {},
   "outputs": [],
   "source": [
    "content = \"\"\"\n",
    "Sample Legal Contract\n",
    "Agreement Contract\n",
    "\n",
    "This Agreement is made and entered into on 2020-01-01 by and between Company A (\"the Client\") and Company B (\"the Service Provider\").\n",
    "\n",
    "Article 1: Scope of Work\n",
    "\n",
    "The Service Provider will deliver the software product to the Client 30 days after the agreement date.\n",
    "\n",
    "Article 2: Payment Terms\n",
    "\n",
    "The total payment for the service is $50,000.\n",
    "An initial payment of $10,000 will be made within 7 days of the the signed date.\n",
    "The final payment will be due 45 days after [SignDate].\n",
    "\n",
    "Article 3: Confidentiality\n",
    "\n",
    "The parties agree not to disclose any confidential information received from the other party for 3 months after the final payment date.\n",
    "\n",
    "Article 4: Termination\n",
    "\n",
    "The contract can be terminated with a 30-day notice, unless there are outstanding obligations that must be fulfilled after the [DeliveryDate].\n",
    "\"\"\"  # Your legal contract here\n",
    "model = ask_ai(content)"
   ]
  },
  {
   "cell_type": "code",
   "execution_count": 52,
   "id": "89efa10b",
   "metadata": {},
   "outputs": [],
   "source": [
    "generate_graph(model)"
   ]
  },
  {
   "cell_type": "code",
   "execution_count": 12,
   "id": "1d2af4f0",
   "metadata": {},
   "outputs": [],
   "source": [
    "example_content = \"\"\"\n",
    "# Technical Document: User Profile Service with Horizontal Scaling\n",
    "\n",
    "## Overview\n",
    "\n",
    "The User Profile Service is a microservice designed to manage user profiles in a large-scale web application. It provides functionalities such as creating, updating, retrieving, and deleting user profile information. Given the dynamic nature of user interactions and the potential for high traffic, this service is designed with horizontal scaling capabilities to ensure high availability, resilience, and consistent performance under varying loads.\n",
    "\n",
    "## Service Description\n",
    "\n",
    "### Functional Requirements\n",
    "\n",
    "1. **Create Profile**: Allows creating a new user profile with details like name, email, and preferences.\n",
    "2. **Update Profile**: Permits modifications to existing profiles.\n",
    "3. **Retrieve Profile**: Enables fetching profile details for a given user ID.\n",
    "4. **Delete Profile**: Supports removal of a user profile from the system.\n",
    "\n",
    "### Non-Functional Requirements\n",
    "\n",
    "1. **Scalability**: The service must scale horizontally to handle spikes in traffic.\n",
    "2. **Performance**: Response times should remain consistent under load.\n",
    "3. **Availability**: Designed for 99.99% uptime.\n",
    "4. **Security**: Ensure data protection and secure access.\n",
    "\n",
    "## System Architecture\n",
    "\n",
    "### Components\n",
    "\n",
    "1. **API Gateway**: Serves as the entry point for all client requests, routing them to the appropriate service instance.\n",
    "2. **Service Instances**: Multiple instances of the User Profile Service, each capable of handling requests independently.\n",
    "3. **Load Balancer**: Distributes incoming requests evenly across service instances to ensure load distribution and high availability.\n",
    "4. **Database Cluster**: A horizontally scalable database that stores user profile information. It ensures data consistency and high availability through replication and sharding techniques.\n",
    "5. **Cache Layer**: An in-memory cache (e.g., Redis) to reduce database load and improve response times for frequently accessed data.\n",
    "\n",
    "### Data Flow\n",
    "\n",
    "1. A client request hits the API Gateway.\n",
    "2. The request is forwarded to the Load Balancer.\n",
    "3. The Load Balancer selects a Service Instance based on load distribution algorithms.\n",
    "4. The Service Instance processes the request. It may interact with the Cache Layer or the Database Cluster as needed.\n",
    "5. The response is sent back to the client following the reverse path.\n",
    "\n",
    "## Horizontal Scaling Strategy\n",
    "\n",
    "### Service Instances\n",
    "\n",
    "- **Auto-Scaling**: Service instances are scaled horizontally based on CPU and memory usage metrics. When thresholds are exceeded, new instances are automatically spawned across multiple servers or cloud infrastructure.\n",
    "\n",
    "### Database Cluster\n",
    "\n",
    "- **Sharding**: The database is partitioned into shards, each holding a subset of the data. This distributes the load and enables the database to grow horizontally.\n",
    "- **Replication**: Each shard is replicated across multiple nodes to ensure data availability and fault tolerance.\n",
    "\n",
    "### Cache Layer\n",
    "\n",
    "- The cache layer is designed to scale out by adding more nodes, which allows for distributing cache data and handling more concurrent connections.\n",
    "\n",
    "## Technologies Used\n",
    "\n",
    "- **API Gateway**: NGINX, Amazon API Gateway\n",
    "- **Service Implementation**: Node.js, Express.js\n",
    "- **Load Balancer**: HAProxy, AWS Elastic Load Balancing\n",
    "- **Database**: MongoDB with sharding, Cassandra\n",
    "- **Cache**: Redis Cluster\n",
    "- **Containerization**: Docker\n",
    "- **Orchestration**: Kubernetes for managing containerized service instances\n",
    "- **Monitoring and Logging**: Prometheus, Grafana, ELK Stack\n",
    "\n",
    "## Deployment and Operations\n",
    "\n",
    "- The service is deployed on a Kubernetes cluster, leveraging its auto-scaling capabilities for service instances.\n",
    "- Continuous Integration and Continuous Deployment (CI/CD) pipelines are used for automated testing and deployment.\n",
    "- Comprehensive monitoring and logging mechanisms are in place for real-time performance tracking and anomaly detection.\n",
    "\n",
    "## Security Considerations\n",
    "\n",
    "- All data in transit and at rest are encrypted using industry-standard encryption algorithms.\n",
    "- Access to the service is secured using OAuth 2.0 for authentication and authorization.\n",
    "- Regular security audits and vulnerability assessments are conducted.\n",
    "\n",
    "## Conclusion\n",
    "\n",
    "The User Profile Service is designed to be a robust, scalable, and secure microservice that can handle high loads and ensure consistent performance. By leveraging horizontal scaling strategies, modern technologies, and best practices in system design, this service can adapt to the growing demands of a large-scale web application.\n",
    "\"\"\""
   ]
  },
  {
   "cell_type": "code",
   "execution_count": 13,
   "id": "aeeeff9d",
   "metadata": {},
   "outputs": [],
   "source": [
    "technical_model = ask_ai(example_content)"
   ]
  },
  {
   "cell_type": "code",
   "execution_count": 14,
   "id": "0761cfa1",
   "metadata": {},
   "outputs": [],
   "source": [
    "generate_graph(technical_model)"
   ]
  },
  {
   "cell_type": "markdown",
   "id": "52d4506f",
   "metadata": {},
   "source": [
    "## Marvin's AI Functions"
   ]
  },
  {
   "cell_type": "code",
   "execution_count": 70,
   "id": "cbf5a154",
   "metadata": {},
   "outputs": [],
   "source": [
    "load_dotenv()\n",
    "\n",
    "\n",
    "class ReviewAspects(BaseModel):\n",
    "    product_name: str = Field(\n",
    "        ...,\n",
    "        description=\"Name or type of the product\",\n",
    "    )\n",
    "    product_sentiment: float = Field(\n",
    "        ...,\n",
    "        description=\"Sentiment for the product\",\n",
    "    )\n",
    "    service: float = Field(\n",
    "        ...,\n",
    "        description=\"Sentiment for the service\",\n",
    "    )"
   ]
  },
  {
   "cell_type": "code",
   "execution_count": 56,
   "id": "0f180131",
   "metadata": {},
   "outputs": [],
   "source": [
    "import os\n",
    "marvin.settings.openai.api_key = os.getenv(\"OPENAI_API_KEY\")"
   ]
  },
  {
   "cell_type": "code",
   "execution_count": 71,
   "id": "e0f7ae97",
   "metadata": {},
   "outputs": [
    {
     "data": {
      "text/plain": [
       "ReviewAspects(product_name='microwave', product_sentiment=0.8, service=0.2)"
      ]
     },
     "execution_count": 71,
     "metadata": {},
     "output_type": "execute_result"
    }
   ],
   "source": [
    "@marvin.fn(model_kwargs={\"model\": \"gpt-3.5-turbo\", \"temperature\": 0})\n",
    "def find_review_aspects(text: str) -> ReviewAspects:\n",
    "    ...\n",
    "    \n",
    "\n",
    "find_review_aspects(\"I love this new microwave, but the service quality is quite poor!\")"
   ]
  },
  {
   "cell_type": "markdown",
   "id": "22fa8927",
   "metadata": {},
   "source": [
    "## Next steps\n",
    "\n",
    "The entity model for the technical diagram can be made richer, with a focus on tools, function calls/data flow, storage and other components. This can be used to generate a technical diagram from a textual description. We encourage you to attempt this task as a challenge."
   ]
  },
  {
   "cell_type": "markdown",
   "id": "1a1bd907",
   "metadata": {},
   "source": [
    "## Domain Specific Language (DSL)\n",
    "\n",
    "This is a higher-level approach that operates at the prompt and LLM level and allows the user to specify the desired output format. Some popular examples of this approach are:\n",
    "\n",
    "- Microsoft's Guidance (https://github.com/guidance-ai/guidance)\n",
    "- Outlines (https://github.com/outlines-dev/outlines)"
   ]
  },
  {
   "cell_type": "markdown",
   "id": "19cb5301",
   "metadata": {},
   "source": [
    "## Model Finetuning\n",
    "\n",
    "1. Task-Specific Adaptation: Fine-tuning allows the model to adapt to specific tasks or domains, enhancing its performance on targeted applications.\n",
    "\n",
    "2. Efficiency in Learning: Since the model is already pre-trained on a large dataset, fine-tuning requires less data and time to specialize the model for a new task.\n",
    "\n",
    "3. Improved Accuracy: Fine-tuned models often show improved accuracy and understanding in generating responses tailored to specific schemas or functions\n",
    "\n",
    "### Limitations\n",
    "\n",
    "1. Resource Intensive: Fine-tuning requires additional computational resources and data, which can be a limitation for smaller organizations or individual developers.\n",
    "\n",
    "2. Limited Flexibility: Adapting the model to new input or output schemas can necessitate retraining, making it less flexible to rapid changes or diverse requirements.\n",
    "\n",
    "3. Provider Specific: Fine-tuned models are often specific to the provider's ecosystem, reducing portability and limiting their application across different platforms or LLMs."
   ]
  },
  {
   "cell_type": "markdown",
   "id": "22113841",
   "metadata": {},
   "source": []
  }
 ],
 "metadata": {
  "kernelspec": {
   "display_name": "Python 3 (ipykernel)",
   "language": "python",
   "name": "python3"
  },
  "language_info": {
   "codemirror_mode": {
    "name": "ipython",
    "version": 3
   },
   "file_extension": ".py",
   "mimetype": "text/x-python",
   "name": "python",
   "nbconvert_exporter": "python",
   "pygments_lexer": "ipython3",
   "version": "3.10.13"
  }
 },
 "nbformat": 4,
 "nbformat_minor": 5
}
