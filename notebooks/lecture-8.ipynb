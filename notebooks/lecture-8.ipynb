{
 "cells": [
  {
   "cell_type": "code",
   "execution_count": null,
   "metadata": {},
   "outputs": [],
   "source": [
    "!pip install -U marvin -qq"
   ]
  },
  {
   "cell_type": "code",
   "execution_count": null,
   "metadata": {},
   "outputs": [],
   "source": [
    "import marvin\n",
    "from dotenv import load_dotenv\n",
    "from pydantic import BaseModel\n",
    "import instructor\n",
    "\n",
    "from instructor import openai_moderation\n",
    "\n",
    "from typing_extensions import Annotated\n",
    "from pydantic import BaseModel, AfterValidator, Field\n",
    "from openai import OpenAI\n",
    "load_dotenv()"
   ]
  },
  {
   "cell_type": "code",
   "execution_count": null,
   "metadata": {},
   "outputs": [],
   "source": [
    "class Sentiment(BaseModel):\n",
    "    product: float\n",
    "    service: float"
   ]
  },
  {
   "cell_type": "code",
   "execution_count": null,
   "metadata": {},
   "outputs": [],
   "source": [
    "@marvin.fn(model_kwargs={\"model\": \"gpt-3.5-turbo\", \"temperature\": 0})\n",
    "def student_scores(text: str) -> float:\n",
    "    ...\n",
    "\n",
    "\n",
    "student_scores(\"I love this product!\")"
   ]
  },
  {
   "cell_type": "markdown",
   "metadata": {},
   "source": [
    "## Instructor - Moderation"
   ]
  },
  {
   "cell_type": "code",
   "execution_count": null,
   "metadata": {},
   "outputs": [],
   "source": [
    "from openai import OpenAI\n",
    "client = OpenAI()\n",
    "\n",
    "response = client.chat.completions.create(\n",
    "    messages=[\n",
    "    {\"role\": \"system\", \"content\": \"You are a helpful assistant.\"},\n",
    "    {\"role\": \"user\", \"content\": \"I want to hurt myself\"},\n",
    "],\n",
    "model = \"gpt-3.5-turbo\",\n",
    ")\n",
    "response.choices[0].message.content"
   ]
  },
  {
   "cell_type": "code",
   "execution_count": null,
   "metadata": {},
   "outputs": [],
   "source": [
    "client = instructor.patch(OpenAI())\n",
    "\n",
    "\n",
    "class Response(BaseModel):\n",
    "    message: Annotated[str, AfterValidator(openai_moderation(client=client))]\n",
    "\n",
    "# r = Response(message=\"It's a beautiful morning!\")\n",
    "\n",
    "Response(message=\"I want to hurt myself\")"
   ]
  }
 ],
 "metadata": {
  "kernelspec": {
   "display_name": "learnai",
   "language": "python",
   "name": "python3"
  },
  "language_info": {
   "codemirror_mode": {
    "name": "ipython",
    "version": 3
   },
   "file_extension": ".py",
   "mimetype": "text/x-python",
   "name": "python",
   "nbconvert_exporter": "python",
   "pygments_lexer": "ipython3",
   "version": "3.10.13"
  }
 },
 "nbformat": 4,
 "nbformat_minor": 2
}
