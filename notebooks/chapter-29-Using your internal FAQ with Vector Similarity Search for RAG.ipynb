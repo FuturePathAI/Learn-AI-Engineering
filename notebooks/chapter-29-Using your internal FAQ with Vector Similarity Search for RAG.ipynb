{
 "cells": [
  {
   "cell_type": "markdown",
   "id": "186f663d-4e8c-47bd-84ca-a91b89663ec9",
   "metadata": {},
   "source": [
    "# Leveraging Internal FAQ with Vector Similarity Search for RAG"
   ]
  },
  {
   "cell_type": "markdown",
   "id": "cf8ec92f-b36e-452f-be7e-be82a1e64c5f",
   "metadata": {},
   "source": [
    "- leverage pre-existing knowledge to enhance the performance and relevance of generated answers \n",
    "- utilize an internal Frequently Asked Questions (FAQ) database in conjunction with Vector Similarity Search for RAG\n",
    "- not only improves the efficiency of answering queries but also ensures the reliability and consistency of the information provided"
   ]
  },
  {
   "cell_type": "markdown",
   "id": "aef1e5a1-b6b2-432d-a250-aaaf5c33acee",
   "metadata": {},
   "source": [
    "### How to do this?"
   ]
  },
  {
   "cell_type": "markdown",
   "id": "7c5b1f6c-ca67-4474-8328-054685899cc1",
   "metadata": {},
   "source": [
    "1. Preprocessing: The FAQ database is preprocessed to standardize the format and remove any irrelevant information. Each Q&A pair is then encoded into a vector representation.\n",
    "\n",
    "2. Indexing: The vectors are indexed to facilitate efficient similarity search. Tools like Elasticsearch or FAISS (Facebook AI Similarity Search) can be used for this purpose.\n",
    "\n",
    "3. Query Processing: Incoming queries are encoded into vectors using the same model that was used for the FAQ documents.\n",
    "\n",
    "4. Similarity Search: Vector similarity search is conducted to find the top N most similar FAQ documents to the query vector.\n",
    "\n",
    "5. Answer Generation: The retrieved documents serve as context for the RAG model, which generates the final answer by synthesizing information from the context.\n",
    "\n",
    "6. Post-processing: The generated answer may undergo post-processing for refinement, such as grammar correction or style adjustment, before being presented to the user."
   ]
  },
  {
   "cell_type": "markdown",
   "id": "5e3df230-60cb-40ab-98f0-0ccbbe9b4c70",
   "metadata": {},
   "source": [
    "### Enhancing FAQ Integration with RAG through Dynamic Question Ingestion and Admin Approval"
   ]
  },
  {
   "cell_type": "markdown",
   "id": "ae2d273c-1de4-43da-a34c-110a7712a7e9",
   "metadata": {},
   "source": [
    "Workflow for Dynamic Question Ingestion and Approval:\n",
    "\n",
    "- Question Detection: When a new query is received, the system first checks if it can be adequately answered using the existing FAQ database through vector similarity search. If no satisfactory answer is found, the query is flagged as new.\n",
    "\n",
    "- Admin Review Queue: New or flagged queries are sent to an admin review queue. Here, subject matter experts review the query to determine its relevance, accuracy, and the need for inclusion in the FAQ database.\n",
    "\n",
    "- Answer Formulation and Approval: For each new query, the admin formulates a precise and comprehensive answer. This answer then undergoes a review process to ensure it meets the organization's standards for accuracy and clarity.\n",
    "\n",
    "- Encoding and Indexing: Once approved, the new Q&A pair is encoded into vectors using the same model as the rest of the FAQ database. The new vectors are then indexed to be searchable alongside existing entries.\n",
    "\n",
    "- Database Update: The FAQ database is dynamically updated with the new Q&A pairs. This ensures that the system continuously evolves and adapts to new user queries and information trends.\n",
    "\n",
    "- Continuous Learning: The system periodically reviews its performance and the relevance of its answers. Based on feedback and new information, it may prompt for reevaluation of certain Q&A pairs or the inclusion of additional information."
   ]
  },
  {
   "cell_type": "code",
   "execution_count": null,
   "id": "44557bc9-6901-49c7-8c88-f3df4c06787d",
   "metadata": {},
   "outputs": [],
   "source": []
  }
 ],
 "metadata": {
  "kernelspec": {
   "display_name": "Python 3 (ipykernel)",
   "language": "python",
   "name": "python3"
  },
  "language_info": {
   "codemirror_mode": {
    "name": "ipython",
    "version": 3
   },
   "file_extension": ".py",
   "mimetype": "text/x-python",
   "name": "python",
   "nbconvert_exporter": "python",
   "pygments_lexer": "ipython3",
   "version": "3.10.10"
  }
 },
 "nbformat": 4,
 "nbformat_minor": 5
}
