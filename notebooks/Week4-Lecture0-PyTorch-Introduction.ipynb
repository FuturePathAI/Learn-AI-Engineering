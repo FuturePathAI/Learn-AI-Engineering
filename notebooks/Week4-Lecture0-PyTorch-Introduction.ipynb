{
 "cells": [
  {
   "cell_type": "markdown",
   "metadata": {},
   "source": [
    "# ## Install necessary libraries"
   ]
  },
  {
   "cell_type": "code",
   "execution_count": 1,
   "metadata": {},
   "outputs": [
    {
     "name": "stdout",
     "output_type": "stream",
     "text": [
      "Requirement already satisfied: torch in /Users/sangeethreddy/.virtualenvs/servc_dsk/lib/python3.12/site-packages (2.2.0)\n",
      "Requirement already satisfied: transformers in /Users/sangeethreddy/.virtualenvs/servc_dsk/lib/python3.12/site-packages (4.41.0)\n",
      "Requirement already satisfied: datasets in /Users/sangeethreddy/.virtualenvs/servc_dsk/lib/python3.12/site-packages (2.14.7)\n",
      "Requirement already satisfied: wandb in /Users/sangeethreddy/.virtualenvs/servc_dsk/lib/python3.12/site-packages (0.17.0)\n",
      "Requirement already satisfied: filelock in /Users/sangeethreddy/.virtualenvs/servc_dsk/lib/python3.12/site-packages (from torch) (3.13.4)\n",
      "Requirement already satisfied: typing-extensions>=4.8.0 in /Users/sangeethreddy/.virtualenvs/servc_dsk/lib/python3.12/site-packages (from torch) (4.11.0)\n",
      "Requirement already satisfied: sympy in /Users/sangeethreddy/.virtualenvs/servc_dsk/lib/python3.12/site-packages (from torch) (1.12)\n",
      "Requirement already satisfied: networkx in /Users/sangeethreddy/.virtualenvs/servc_dsk/lib/python3.12/site-packages (from torch) (3.3)\n",
      "Requirement already satisfied: jinja2 in /Users/sangeethreddy/.virtualenvs/servc_dsk/lib/python3.12/site-packages (from torch) (3.1.3)\n",
      "Requirement already satisfied: fsspec in /Users/sangeethreddy/.virtualenvs/servc_dsk/lib/python3.12/site-packages (from torch) (2023.10.0)\n",
      "Requirement already satisfied: huggingface-hub<1.0,>=0.23.0 in /Users/sangeethreddy/.virtualenvs/servc_dsk/lib/python3.12/site-packages (from transformers) (0.23.0)\n",
      "Requirement already satisfied: numpy>=1.17 in /Users/sangeethreddy/.virtualenvs/servc_dsk/lib/python3.12/site-packages (from transformers) (1.26.4)\n",
      "Requirement already satisfied: packaging>=20.0 in /Users/sangeethreddy/.virtualenvs/servc_dsk/lib/python3.12/site-packages (from transformers) (23.2)\n",
      "Requirement already satisfied: pyyaml>=5.1 in /Users/sangeethreddy/.virtualenvs/servc_dsk/lib/python3.12/site-packages (from transformers) (6.0.1)\n",
      "Requirement already satisfied: regex!=2019.12.17 in /Users/sangeethreddy/.virtualenvs/servc_dsk/lib/python3.12/site-packages (from transformers) (2023.12.25)\n",
      "Requirement already satisfied: requests in /Users/sangeethreddy/.virtualenvs/servc_dsk/lib/python3.12/site-packages (from transformers) (2.31.0)\n",
      "Requirement already satisfied: tokenizers<0.20,>=0.19 in /Users/sangeethreddy/.virtualenvs/servc_dsk/lib/python3.12/site-packages (from transformers) (0.19.1)\n",
      "Requirement already satisfied: safetensors>=0.4.1 in /Users/sangeethreddy/.virtualenvs/servc_dsk/lib/python3.12/site-packages (from transformers) (0.4.3)\n",
      "Requirement already satisfied: tqdm>=4.27 in /Users/sangeethreddy/.virtualenvs/servc_dsk/lib/python3.12/site-packages (from transformers) (4.66.2)\n",
      "Requirement already satisfied: pyarrow>=8.0.0 in /Users/sangeethreddy/.virtualenvs/servc_dsk/lib/python3.12/site-packages (from datasets) (16.0.0)\n",
      "Requirement already satisfied: pyarrow-hotfix in /Users/sangeethreddy/.virtualenvs/servc_dsk/lib/python3.12/site-packages (from datasets) (0.6)\n",
      "Requirement already satisfied: dill<0.3.8,>=0.3.0 in /Users/sangeethreddy/.virtualenvs/servc_dsk/lib/python3.12/site-packages (from datasets) (0.3.7)\n",
      "Requirement already satisfied: pandas in /Users/sangeethreddy/.virtualenvs/servc_dsk/lib/python3.12/site-packages (from datasets) (2.2.1)\n",
      "Requirement already satisfied: xxhash in /Users/sangeethreddy/.virtualenvs/servc_dsk/lib/python3.12/site-packages (from datasets) (3.4.1)\n",
      "Requirement already satisfied: multiprocess in /Users/sangeethreddy/.virtualenvs/servc_dsk/lib/python3.12/site-packages (from datasets) (0.70.15)\n",
      "Requirement already satisfied: aiohttp in /Users/sangeethreddy/.virtualenvs/servc_dsk/lib/python3.12/site-packages (from datasets) (3.9.4)\n",
      "Requirement already satisfied: click!=8.0.0,>=7.1 in /Users/sangeethreddy/.virtualenvs/servc_dsk/lib/python3.12/site-packages (from wandb) (8.1.7)\n",
      "Requirement already satisfied: docker-pycreds>=0.4.0 in /Users/sangeethreddy/.virtualenvs/servc_dsk/lib/python3.12/site-packages (from wandb) (0.4.0)\n",
      "Requirement already satisfied: gitpython!=3.1.29,>=1.0.0 in /Users/sangeethreddy/.virtualenvs/servc_dsk/lib/python3.12/site-packages (from wandb) (3.1.43)\n",
      "Requirement already satisfied: platformdirs in /Users/sangeethreddy/.virtualenvs/servc_dsk/lib/python3.12/site-packages (from wandb) (4.2.0)\n",
      "Requirement already satisfied: protobuf!=4.21.0,<5,>=3.19.0 in /Users/sangeethreddy/.virtualenvs/servc_dsk/lib/python3.12/site-packages (from wandb) (4.25.3)\n",
      "Requirement already satisfied: psutil>=5.0.0 in /Users/sangeethreddy/.virtualenvs/servc_dsk/lib/python3.12/site-packages (from wandb) (5.9.8)\n",
      "Requirement already satisfied: sentry-sdk>=1.0.0 in /Users/sangeethreddy/.virtualenvs/servc_dsk/lib/python3.12/site-packages (from wandb) (2.2.0)\n",
      "Requirement already satisfied: setproctitle in /Users/sangeethreddy/.virtualenvs/servc_dsk/lib/python3.12/site-packages (from wandb) (1.3.3)\n",
      "Requirement already satisfied: setuptools in /Users/sangeethreddy/.virtualenvs/servc_dsk/lib/python3.12/site-packages (from wandb) (69.2.0)\n",
      "Requirement already satisfied: six>=1.4.0 in /Users/sangeethreddy/.virtualenvs/servc_dsk/lib/python3.12/site-packages (from docker-pycreds>=0.4.0->wandb) (1.16.0)\n",
      "Requirement already satisfied: aiosignal>=1.1.2 in /Users/sangeethreddy/.virtualenvs/servc_dsk/lib/python3.12/site-packages (from aiohttp->datasets) (1.3.1)\n",
      "Requirement already satisfied: attrs>=17.3.0 in /Users/sangeethreddy/.virtualenvs/servc_dsk/lib/python3.12/site-packages (from aiohttp->datasets) (23.2.0)\n",
      "Requirement already satisfied: frozenlist>=1.1.1 in /Users/sangeethreddy/.virtualenvs/servc_dsk/lib/python3.12/site-packages (from aiohttp->datasets) (1.4.1)\n",
      "Requirement already satisfied: multidict<7.0,>=4.5 in /Users/sangeethreddy/.virtualenvs/servc_dsk/lib/python3.12/site-packages (from aiohttp->datasets) (6.0.5)\n",
      "Requirement already satisfied: yarl<2.0,>=1.0 in /Users/sangeethreddy/.virtualenvs/servc_dsk/lib/python3.12/site-packages (from aiohttp->datasets) (1.9.4)\n",
      "Requirement already satisfied: gitdb<5,>=4.0.1 in /Users/sangeethreddy/.virtualenvs/servc_dsk/lib/python3.12/site-packages (from gitpython!=3.1.29,>=1.0.0->wandb) (4.0.11)\n",
      "Requirement already satisfied: charset-normalizer<4,>=2 in /Users/sangeethreddy/.virtualenvs/servc_dsk/lib/python3.12/site-packages (from requests->transformers) (3.3.2)\n",
      "Requirement already satisfied: idna<4,>=2.5 in /Users/sangeethreddy/.virtualenvs/servc_dsk/lib/python3.12/site-packages (from requests->transformers) (3.7)\n",
      "Requirement already satisfied: urllib3<3,>=1.21.1 in /Users/sangeethreddy/.virtualenvs/servc_dsk/lib/python3.12/site-packages (from requests->transformers) (2.2.1)\n",
      "Requirement already satisfied: certifi>=2017.4.17 in /Users/sangeethreddy/.virtualenvs/servc_dsk/lib/python3.12/site-packages (from requests->transformers) (2024.2.2)\n",
      "Requirement already satisfied: MarkupSafe>=2.0 in /Users/sangeethreddy/.virtualenvs/servc_dsk/lib/python3.12/site-packages (from jinja2->torch) (2.1.5)\n",
      "Requirement already satisfied: python-dateutil>=2.8.2 in /Users/sangeethreddy/.virtualenvs/servc_dsk/lib/python3.12/site-packages (from pandas->datasets) (2.9.0.post0)\n",
      "Requirement already satisfied: pytz>=2020.1 in /Users/sangeethreddy/.virtualenvs/servc_dsk/lib/python3.12/site-packages (from pandas->datasets) (2024.1)\n",
      "Requirement already satisfied: tzdata>=2022.7 in /Users/sangeethreddy/.virtualenvs/servc_dsk/lib/python3.12/site-packages (from pandas->datasets) (2024.1)\n",
      "Requirement already satisfied: mpmath>=0.19 in /Users/sangeethreddy/.virtualenvs/servc_dsk/lib/python3.12/site-packages (from sympy->torch) (1.3.0)\n",
      "Requirement already satisfied: smmap<6,>=3.0.1 in /Users/sangeethreddy/.virtualenvs/servc_dsk/lib/python3.12/site-packages (from gitdb<5,>=4.0.1->gitpython!=3.1.29,>=1.0.0->wandb) (5.0.1)\n"
     ]
    }
   ],
   "source": [
    "\n",
    "# First, we need to install the required libraries. Run the following cell to install them.\n",
    "!pip install torch transformers datasets wandb\n"
   ]
  },
  {
   "cell_type": "markdown",
   "metadata": {},
   "source": [
    "# ## Import libraries"
   ]
  },
  {
   "cell_type": "code",
   "execution_count": 2,
   "metadata": {},
   "outputs": [],
   "source": [
    "# Now, let's import the necessary libraries.\n",
    "import torch\n",
    "from torch.utils.data import DataLoader, Dataset, Subset\n",
    "from transformers import GPT2Tokenizer, GPT2LMHeadModel, AdamW, get_linear_schedule_with_warmup\n",
    "import wandb\n",
    "import numpy as np\n",
    "import matplotlib.pyplot as plt\n",
    "from datasets import load_dataset\n",
    "import random"
   ]
  },
  {
   "cell_type": "markdown",
   "metadata": {},
   "source": [
    "# ## Set up Weights and Biases"
   ]
  },
  {
   "cell_type": "code",
   "execution_count": 4,
   "metadata": {},
   "outputs": [
    {
     "data": {
      "text/html": [
       "Finishing last run (ID:zuh0qzpu) before initializing another..."
      ],
      "text/plain": [
       "<IPython.core.display.HTML object>"
      ]
     },
     "metadata": {},
     "output_type": "display_data"
    },
    {
     "data": {
      "application/vnd.jupyter.widget-view+json": {
       "model_id": "d07dfa1e8f1c43f591371c9513976afd",
       "version_major": 2,
       "version_minor": 0
      },
      "text/plain": [
       "VBox(children=(Label(value='0.001 MB of 0.001 MB uploaded\\r'), FloatProgress(value=1.0, max=1.0)))"
      ]
     },
     "metadata": {},
     "output_type": "display_data"
    },
    {
     "data": {
      "text/html": [
       " View run <strong style=\"color:#cdcd00\">classic-haze-5</strong> at: <a href='https://wandb.ai/futurepath/gpt2-next-word-prediction/runs/zuh0qzpu' target=\"_blank\">https://wandb.ai/futurepath/gpt2-next-word-prediction/runs/zuh0qzpu</a><br/> View project at: <a href='https://wandb.ai/futurepath/gpt2-next-word-prediction' target=\"_blank\">https://wandb.ai/futurepath/gpt2-next-word-prediction</a><br/>Synced 5 W&B file(s), 0 media file(s), 0 artifact file(s) and 0 other file(s)"
      ],
      "text/plain": [
       "<IPython.core.display.HTML object>"
      ]
     },
     "metadata": {},
     "output_type": "display_data"
    },
    {
     "data": {
      "text/html": [
       "Find logs at: <code>./wandb/run-20240522_161355-zuh0qzpu/logs</code>"
      ],
      "text/plain": [
       "<IPython.core.display.HTML object>"
      ]
     },
     "metadata": {},
     "output_type": "display_data"
    },
    {
     "data": {
      "text/html": [
       "Successfully finished last run (ID:zuh0qzpu). Initializing new run:<br/>"
      ],
      "text/plain": [
       "<IPython.core.display.HTML object>"
      ]
     },
     "metadata": {},
     "output_type": "display_data"
    },
    {
     "data": {
      "application/vnd.jupyter.widget-view+json": {
       "model_id": "96719cfbdc374cb89523a8ef4031a653",
       "version_major": 2,
       "version_minor": 0
      },
      "text/plain": [
       "VBox(children=(Label(value='Waiting for wandb.init()...\\r'), FloatProgress(value=0.011155417588694642, max=1.0…"
      ]
     },
     "metadata": {},
     "output_type": "display_data"
    },
    {
     "data": {
      "text/html": [
       "Tracking run with wandb version 0.17.0"
      ],
      "text/plain": [
       "<IPython.core.display.HTML object>"
      ]
     },
     "metadata": {},
     "output_type": "display_data"
    },
    {
     "data": {
      "text/html": [
       "Run data is saved locally in <code>/Users/sangeethreddy/Documents/Learn-AI-Engineering/notebooks/wandb/run-20240522_161536-q7emdq61</code>"
      ],
      "text/plain": [
       "<IPython.core.display.HTML object>"
      ]
     },
     "metadata": {},
     "output_type": "display_data"
    },
    {
     "data": {
      "text/html": [
       "Syncing run <strong><a href='https://wandb.ai/futurepath/gpt2-next-word-prediction/runs/q7emdq61' target=\"_blank\">Week4-Lecture0-PyTorch-Introduction.ipynb</a></strong> to <a href='https://wandb.ai/futurepath/gpt2-next-word-prediction' target=\"_blank\">Weights & Biases</a> (<a href='https://wandb.me/run' target=\"_blank\">docs</a>)<br/>"
      ],
      "text/plain": [
       "<IPython.core.display.HTML object>"
      ]
     },
     "metadata": {},
     "output_type": "display_data"
    },
    {
     "data": {
      "text/html": [
       " View project at <a href='https://wandb.ai/futurepath/gpt2-next-word-prediction' target=\"_blank\">https://wandb.ai/futurepath/gpt2-next-word-prediction</a>"
      ],
      "text/plain": [
       "<IPython.core.display.HTML object>"
      ]
     },
     "metadata": {},
     "output_type": "display_data"
    },
    {
     "data": {
      "text/html": [
       " View run at <a href='https://wandb.ai/futurepath/gpt2-next-word-prediction/runs/q7emdq61' target=\"_blank\">https://wandb.ai/futurepath/gpt2-next-word-prediction/runs/q7emdq61</a>"
      ],
      "text/plain": [
       "<IPython.core.display.HTML object>"
      ]
     },
     "metadata": {},
     "output_type": "display_data"
    },
    {
     "name": "stderr",
     "output_type": "stream",
     "text": [
      "\u001b[34m\u001b[1mwandb\u001b[0m: \u001b[33mWARNING\u001b[0m Calling wandb.login() after wandb.init() has no effect.\n"
     ]
    },
    {
     "data": {
      "text/plain": [
       "True"
      ]
     },
     "execution_count": 4,
     "metadata": {},
     "output_type": "execute_result"
    }
   ],
   "source": [
    "# Weights and Biases (W&B) is a tool for experiment tracking. We will use it to log our training metrics.\n",
    "\n",
    "#wandb: Logging into wandb.ai. (Learn how to deploy a W&B server locally: https://wandb.me/wandb-server)\n",
    "#wandb: You can find your API key in your browser here: https://wandb.ai/authorize\n",
    "\n",
    "wandb.init(project=\"gpt2-next-word-prediction\", name=\"Week4-Lecture0-PyTorch-Introduction.ipynb\")\n",
    "wandb.login(key=\"3c6858d067cbb8f93980d6f94daa5ea96d42548a\")\n",
    "\n"
   ]
  },
  {
   "cell_type": "markdown",
   "metadata": {},
   "source": [
    "# # Data Preparation\n",
    "# ## Load and preprocess dataset"
   ]
  },
  {
   "cell_type": "code",
   "execution_count": 5,
   "metadata": {},
   "outputs": [],
   "source": [
    "# We will use the Wikitext-2 dataset for this tutorial. It is a popular dataset for language modeling tasks.\n",
    "dataset = load_dataset(\"wikitext\", \"wikitext-2-raw-v1\")"
   ]
  },
  {
   "cell_type": "code",
   "execution_count": 6,
   "metadata": {},
   "outputs": [
    {
     "name": "stdout",
     "output_type": "stream",
     "text": [
      " It met with positive sales in Japan , and was praised by both Japanese and western critics . After release , it received downloadable content , along with an expanded edition in November of that year . It was also adapted into manga and an original video animation series . Due to low sales of Valkyria Chronicles II , Valkyria Chronicles III was not localized , but a fan translation compatible with the game 's expanded edition was released in 2014 . Media.Vision would return to the franchise with the development of Valkyria : Azure Revolution for the PlayStation 4 . \n",
      "\n"
     ]
    }
   ],
   "source": [
    "# Let's take a look at a few examples from the dataset.\n",
    "print(dataset['train'][5]['text'])"
   ]
  },
  {
   "cell_type": "code",
   "execution_count": 7,
   "metadata": {},
   "outputs": [],
   "source": [
    "# We need to tokenize the text data. We will use the GPT-2 tokenizer from HuggingFace's Transformers library.\n",
    "tokenizer = GPT2Tokenizer.from_pretrained('gpt2')"
   ]
  },
  {
   "cell_type": "code",
   "execution_count": 8,
   "metadata": {},
   "outputs": [
    {
     "data": {
      "text/plain": [
       "1"
      ]
     },
     "execution_count": 8,
     "metadata": {},
     "output_type": "execute_result"
    }
   ],
   "source": [
    "# Add a padding token to the tokenizer.\n",
    "tokenizer.add_special_tokens({'pad_token': '[PAD]'})"
   ]
  },
  {
   "cell_type": "code",
   "execution_count": 9,
   "metadata": {},
   "outputs": [],
   "source": [
    "# We define a function to tokenize the dataset.\n",
    "def tokenize_function(examples):\n",
    "    return tokenizer(examples[\"text\"], truncation=True, padding=True, max_length=128)\n"
   ]
  },
  {
   "cell_type": "code",
   "execution_count": 10,
   "metadata": {},
   "outputs": [
    {
     "data": {
      "application/vnd.jupyter.widget-view+json": {
       "model_id": "f525bfce6e7f4889909480e7b51866d0",
       "version_major": 2,
       "version_minor": 0
      },
      "text/plain": [
       "Map:   0%|          | 0/36718 [00:00<?, ? examples/s]"
      ]
     },
     "metadata": {},
     "output_type": "display_data"
    },
    {
     "data": {
      "application/vnd.jupyter.widget-view+json": {
       "model_id": "f6b3684f26e343a8864d32584f8f25b6",
       "version_major": 2,
       "version_minor": 0
      },
      "text/plain": [
       "Map:   0%|          | 0/3760 [00:00<?, ? examples/s]"
      ]
     },
     "metadata": {},
     "output_type": "display_data"
    }
   ],
   "source": [
    "# Apply the tokenizer to the dataset.\n",
    "tokenized_datasets = dataset.map(tokenize_function, batched=True)\n"
   ]
  },
  {
   "cell_type": "code",
   "execution_count": 11,
   "metadata": {},
   "outputs": [
    {
     "name": "stdout",
     "output_type": "stream",
     "text": [
      "{'text': '', 'input_ids': [50257, 50257, 50257, 50257, 50257, 50257, 50257, 50257, 50257, 50257, 50257, 50257, 50257, 50257, 50257, 50257, 50257, 50257, 50257, 50257, 50257, 50257, 50257, 50257, 50257, 50257, 50257, 50257, 50257, 50257, 50257, 50257, 50257, 50257, 50257, 50257, 50257, 50257, 50257, 50257, 50257, 50257, 50257, 50257, 50257, 50257, 50257, 50257, 50257, 50257, 50257, 50257, 50257, 50257, 50257, 50257, 50257, 50257, 50257, 50257, 50257, 50257, 50257, 50257, 50257, 50257, 50257, 50257, 50257, 50257, 50257, 50257, 50257, 50257, 50257, 50257, 50257, 50257, 50257, 50257, 50257, 50257, 50257, 50257, 50257, 50257, 50257, 50257, 50257, 50257, 50257, 50257, 50257, 50257, 50257, 50257, 50257, 50257, 50257, 50257, 50257, 50257, 50257, 50257, 50257, 50257, 50257, 50257, 50257, 50257, 50257, 50257, 50257, 50257, 50257, 50257, 50257, 50257, 50257, 50257, 50257, 50257, 50257, 50257, 50257, 50257, 50257, 50257], 'attention_mask': [0, 0, 0, 0, 0, 0, 0, 0, 0, 0, 0, 0, 0, 0, 0, 0, 0, 0, 0, 0, 0, 0, 0, 0, 0, 0, 0, 0, 0, 0, 0, 0, 0, 0, 0, 0, 0, 0, 0, 0, 0, 0, 0, 0, 0, 0, 0, 0, 0, 0, 0, 0, 0, 0, 0, 0, 0, 0, 0, 0, 0, 0, 0, 0, 0, 0, 0, 0, 0, 0, 0, 0, 0, 0, 0, 0, 0, 0, 0, 0, 0, 0, 0, 0, 0, 0, 0, 0, 0, 0, 0, 0, 0, 0, 0, 0, 0, 0, 0, 0, 0, 0, 0, 0, 0, 0, 0, 0, 0, 0, 0, 0, 0, 0, 0, 0, 0, 0, 0, 0, 0, 0, 0, 0, 0, 0, 0, 0]}\n"
     ]
    }
   ],
   "source": [
    "# Let's check the tokenized data.\n",
    "print(tokenized_datasets['train'][0])"
   ]
  },
  {
   "cell_type": "code",
   "execution_count": 12,
   "metadata": {},
   "outputs": [],
   "source": [
    "# For demo purposes, let's take a small subset of the dataset.\n",
    "def get_subset(dataset, num_samples):\n",
    "    indices = random.sample(range(len(dataset)), num_samples)\n",
    "    return Subset(dataset, indices)"
   ]
  },
  {
   "cell_type": "code",
   "execution_count": 13,
   "metadata": {},
   "outputs": [],
   "source": [
    "# Split the data into training and evaluation sets.\n",
    "# train_dataset = tokenized_datasets['train']\n",
    "# eval_dataset = tokenized_datasets['validation']\n",
    "\n",
    "train_dataset = get_subset(tokenized_datasets['train'], 500)  # 500 samples from training set\n",
    "eval_dataset = get_subset(tokenized_datasets['validation'], 100)  # 100 samples from validation set"
   ]
  },
  {
   "cell_type": "markdown",
   "metadata": {},
   "source": [
    "# ## Define DataLoader"
   ]
  },
  {
   "cell_type": "code",
   "execution_count": 14,
   "metadata": {},
   "outputs": [],
   "source": [
    "# We need to create DataLoaders to feed the data into our model during training and evaluation.\n",
    "def data_collator(data):\n",
    "    input_ids = torch.tensor([f[\"input_ids\"] for f in data])\n",
    "    attention_mask = torch.tensor([f[\"attention_mask\"] for f in data])\n",
    "    return {\"input_ids\": input_ids, \"attention_mask\": attention_mask, \"labels\": input_ids}\n"
   ]
  },
  {
   "cell_type": "code",
   "execution_count": 15,
   "metadata": {},
   "outputs": [],
   "source": [
    "train_dataloader = DataLoader(train_dataset, batch_size=8, shuffle=True, collate_fn=data_collator)\n",
    "eval_dataloader = DataLoader(eval_dataset, batch_size=8, collate_fn=data_collator)\n"
   ]
  },
  {
   "cell_type": "markdown",
   "metadata": {},
   "source": [
    "# # Model Definition\n",
    "# ## Define GPT-2 model"
   ]
  },
  {
   "cell_type": "code",
   "execution_count": 24,
   "metadata": {},
   "outputs": [
    {
     "data": {
      "text/plain": [
       "Embedding(50258, 768)"
      ]
     },
     "execution_count": 24,
     "metadata": {},
     "output_type": "execute_result"
    }
   ],
   "source": [
    "# We will use the GPT-2 model from HuggingFace's Transformers library. We need to resize the token embeddings to match the size of our tokenizer.\n",
    "model = GPT2LMHeadModel.from_pretrained('gpt2')\n",
    "model.resize_token_embeddings(len(tokenizer))"
   ]
  },
  {
   "cell_type": "markdown",
   "metadata": {},
   "source": [
    "# ## Calculate perplexity"
   ]
  },
  {
   "cell_type": "code",
   "execution_count": 25,
   "metadata": {},
   "outputs": [],
   "source": [
    "# Perplexity is a common metric for evaluating language models. It is the exponential of the average negative log-likelihood of a sequence.\n",
    "def calculate_perplexity(loss):\n",
    "    return torch.exp(torch.tensor(loss))"
   ]
  },
  {
   "cell_type": "code",
   "execution_count": 26,
   "metadata": {},
   "outputs": [
    {
     "name": "stdout",
     "output_type": "stream",
     "text": [
      "Evaluation Loss: 41.99241799574632\n",
      "Perplexity: 1.726134849317634e+18\n"
     ]
    }
   ],
   "source": [
    "# Let's evaluate the pretrained model on the validation set. We will calculate the average loss and perplexity.\n",
    "eval_loss_values = []\n",
    "\n",
    "model.eval()\n",
    "eval_loss = 0\n",
    "for batch in eval_dataloader:\n",
    "    with torch.no_grad():\n",
    "        outputs = model(**batch)\n",
    "        loss = outputs.loss\n",
    "        eval_loss += loss.item()\n",
    "        eval_loss_values.append(loss.item())\n",
    "\n",
    "avg_eval_loss = eval_loss / len(eval_dataloader)\n",
    "perplexity = calculate_perplexity(avg_eval_loss)\n",
    "print(f\"Evaluation Loss: {avg_eval_loss}\")\n",
    "print(f\"Perplexity: {perplexity}\")"
   ]
  },
  {
   "cell_type": "code",
   "execution_count": 27,
   "metadata": {},
   "outputs": [
    {
     "data": {
      "text/plain": [
       "[]"
      ]
     },
     "execution_count": 27,
     "metadata": {},
     "output_type": "execute_result"
    }
   ],
   "source": [
    "# ## Log model with Weights and Biases\n",
    "wandb.watch(model, log=\"all\")"
   ]
  },
  {
   "cell_type": "markdown",
   "metadata": {},
   "source": [
    "# # Training Loop\n",
    "# ## Define training parameters"
   ]
  },
  {
   "cell_type": "code",
   "execution_count": 28,
   "metadata": {},
   "outputs": [
    {
     "name": "stderr",
     "output_type": "stream",
     "text": [
      "/Users/sangeethreddy/.virtualenvs/servc_dsk/lib/python3.12/site-packages/transformers/optimization.py:588: FutureWarning: This implementation of AdamW is deprecated and will be removed in a future version. Use the PyTorch implementation torch.optim.AdamW instead, or set `no_deprecation_warning=True` to disable this warning\n",
      "  warnings.warn(\n"
     ]
    }
   ],
   "source": [
    "# Let's set up our training parameters. We will train for 3 epochs, use the AdamW optimizer, and set up a learning rate scheduler.\n",
    "epochs = 20\n",
    "optimizer = AdamW(model.parameters(), lr=5e-5)\n",
    "total_steps = len(train_dataloader) * epochs\n",
    "scheduler = get_linear_schedule_with_warmup(optimizer, num_warmup_steps=0, num_training_steps=total_steps)\n"
   ]
  },
  {
   "cell_type": "markdown",
   "metadata": {},
   "source": [
    "# ## Training loop"
   ]
  },
  {
   "cell_type": "code",
   "execution_count": 29,
   "metadata": {},
   "outputs": [
    {
     "name": "stdout",
     "output_type": "stream",
     "text": [
      "Epoch 1/20, Training Loss: 4.096096795939264\n",
      "Epoch 2/20, Training Loss: 1.7236736653343079\n",
      "Epoch 3/20, Training Loss: 1.5637030137909784\n",
      "Epoch 4/20, Training Loss: 1.5084220670045367\n",
      "Epoch 5/20, Training Loss: 1.6360897705668496\n",
      "Epoch 6/20, Training Loss: 1.4499379580929166\n",
      "Epoch 7/20, Training Loss: 1.400705458389388\n",
      "Epoch 8/20, Training Loss: 2.8705456025070615\n",
      "Epoch 9/20, Training Loss: 3.8904162560190474\n",
      "Epoch 10/20, Training Loss: 3.1468176619401054\n",
      "Epoch 11/20, Training Loss: 2.978838837809033\n",
      "Epoch 12/20, Training Loss: 2.9443939186277843\n",
      "Epoch 13/20, Training Loss: 2.9242367053788807\n",
      "Epoch 14/20, Training Loss: 2.800061833290827\n",
      "Epoch 15/20, Training Loss: 2.8066132756925763\n",
      "Epoch 16/20, Training Loss: 2.766707059882936\n",
      "Epoch 17/20, Training Loss: 2.753734940810809\n",
      "Epoch 18/20, Training Loss: 2.70892648020434\n",
      "Epoch 19/20, Training Loss: 2.7275393132179504\n",
      "Epoch 20/20, Training Loss: 2.716942758787246\n"
     ]
    }
   ],
   "source": [
    "# Now, we will define the training loop. We will iterate over the training data, perform forward and backward passes, and update the model parameters.\n",
    "training_loss_values = []\n",
    "\n",
    "model.train()\n",
    "for epoch in range(epochs):\n",
    "    total_loss = 0\n",
    "    for batch in train_dataloader:\n",
    "        optimizer.zero_grad()\n",
    "        outputs = model(**batch)\n",
    "        loss = outputs.loss\n",
    "        total_loss += loss.item()\n",
    "        loss.backward()\n",
    "        optimizer.step()\n",
    "        scheduler.step()\n",
    "        wandb.log({\"loss\": loss.item()})\n",
    "\n",
    "    avg_train_loss = total_loss / len(train_dataloader)\n",
    "    print(f\"Epoch {epoch+1}/{epochs}, Training Loss: {avg_train_loss}\")\n"
   ]
  },
  {
   "cell_type": "code",
   "execution_count": 20,
   "metadata": {},
   "outputs": [],
   "source": [
    "# ## Save training loss values\n",
    "with open(\"training_loss_values.txt\", \"w\") as f:\n",
    "    for value in training_loss_values:\n",
    "        f.write(f\"{value}\\n\")"
   ]
  },
  {
   "cell_type": "markdown",
   "metadata": {},
   "source": [
    "# # Evaluation"
   ]
  },
  {
   "cell_type": "code",
   "execution_count": 23,
   "metadata": {},
   "outputs": [
    {
     "name": "stdout",
     "output_type": "stream",
     "text": [
      "Evaluation Loss: 2.307636160116929\n",
      "Perplexity: 10.050639152526855\n"
     ]
    }
   ],
   "source": [
    "# Let's evaluate the model on the validation set. We will calculate the average loss and perplexity.\n",
    "eval_loss_values = []\n",
    "\n",
    "model.eval()\n",
    "eval_loss = 0\n",
    "for batch in eval_dataloader:\n",
    "    with torch.no_grad():\n",
    "        outputs = model(**batch)\n",
    "        loss = outputs.loss\n",
    "        eval_loss += loss.item()\n",
    "        eval_loss_values.append(loss.item())\n",
    "\n",
    "avg_eval_loss = eval_loss / len(eval_dataloader)\n",
    "perplexity = calculate_perplexity(avg_eval_loss)\n",
    "print(f\"Evaluation Loss: {avg_eval_loss}\")\n",
    "print(f\"Perplexity: {perplexity}\")"
   ]
  },
  {
   "cell_type": "code",
   "execution_count": 38,
   "metadata": {},
   "outputs": [],
   "source": [
    "# ## Save evaluation loss values\n",
    "with open(\"eval_loss_values.txt\", \"w\") as f:\n",
    "    for value in eval_loss_values:\n",
    "        f.write(f\"{value}\\n\")"
   ]
  },
  {
   "cell_type": "markdown",
   "metadata": {},
   "source": [
    "# ## Plot loss curves"
   ]
  },
  {
   "cell_type": "code",
   "execution_count": 39,
   "metadata": {},
   "outputs": [
    {
     "data": {
      "image/png": "[encoded data removed]",
      "text/plain": [
       "<Figure size 640x480 with 1 Axes>"
      ]
     },
     "metadata": {},
     "output_type": "display_data"
    }
   ],
   "source": [
    "# Let's plot the training loss curve to visualize the model's performance over time.\n",
    "\n",
    "plt.plot(training_loss_values, label=\"Training Loss\")\n",
    "plt.xlabel(\"Steps\")\n",
    "plt.ylabel(\"Loss\")\n",
    "plt.title(\"Training Loss Curve\")\n",
    "plt.legend()\n",
    "plt.show()"
   ]
  },
  {
   "cell_type": "markdown",
   "metadata": {},
   "source": [
    "# # References"
   ]
  },
  {
   "cell_type": "markdown",
   "metadata": {},
   "source": [
    "# - PyTorch tutorials: https://pytorch.org/tutorials/\n",
    "# - HuggingFace Transformers: https://huggingface.co/transformers/\n",
    "# - Weights and Biases: https://wandb.ai/"
   ]
  },
  {
   "cell_type": "code",
   "execution_count": null,
   "metadata": {},
   "outputs": [],
   "source": []
  },
  {
   "cell_type": "code",
   "execution_count": null,
   "metadata": {},
   "outputs": [],
   "source": []
  }
 ],
 "metadata": {
  "kernelspec": {
   "display_name": "servc_dsk",
   "language": "python",
   "name": "python3"
  },
  "language_info": {
   "codemirror_mode": {
    "name": "ipython",
    "version": 3
   },
   "file_extension": ".py",
   "mimetype": "text/x-python",
   "name": "python",
   "nbconvert_exporter": "python",
   "pygments_lexer": "ipython3",
   "version": "3.12.2"
  }
 },
 "nbformat": 4,
 "nbformat_minor": 2
}
