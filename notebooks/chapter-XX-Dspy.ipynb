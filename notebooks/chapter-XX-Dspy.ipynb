{
 "cells": [
  {
   "cell_type": "markdown",
   "metadata": {},
   "source": [
    "# DSPY\n",
    "DSPy is a framework for algorithmically optimizing LM prompts and weights. DSPy can help you define your your tasks more accurately and can help you optimize your prompt for your sutaible use case.\n",
    "\n",
    "Read More about it [here](https://dspy-docs.vercel.app/docs/intro)\n",
    "\n",
    "\n",
    "Let's explore different components of DSPY with the help of the below examples."
   ]
  },
  {
   "cell_type": "markdown",
   "metadata": {},
   "source": [
    "## DSPY Components \n",
    "\n",
    "### Signatures \n",
    "\n",
    "They are the definition of input and output to your application/pipeline. They contain the definition of the task you want to solve along with inputs and outputs of your task. They can be defined in two ways. \n",
    "\n",
    "- Inline Signature \n",
    "- Class Based Signature \n",
    "    \n",
    "[Reference](https://dspy-docs.vercel.app/docs/building-blocks/signatures)\n",
    "\n",
    "### LM and RM Pipeline \n",
    "\n",
    "LM modules/Clients are the Language Models on which you want to base your pipeline on.(for eg. `gpt-3.5` ,`gpt-4` or any open source LLM). \n",
    "\n",
    "[Reference](https://dspy-docs.vercel.app/docs/building-blocks/language_models)\n",
    "\n",
    "RM modules are optional and consist of a retrieval module that can provide necessary context to your LM for answer generation. \n",
    "\n",
    "[Reference](https://dspy-docs.vercel.app/docs/category/retrieval-model-clients)\n",
    "\n",
    "\n",
    "\n",
    "### Metrics \n",
    "\n",
    "Metrics are the evaluation criteria for your pipeline. They can be used to evaluate the performance of your pipeline and optimize the pipeline based on your defined set of metrics.\n",
    "\n",
    "[Reference](https://dspy-docs.vercel.app/docs/building-blocks/metrics)\n",
    "\n",
    "### Optimizer/Teleprompter\n",
    "\n",
    "It is an algorithm desgined to tune the prompts and signature of your LM models such that it can perform better on your defined metrics. \n",
    "\n",
    "[Reference](https://dspy-docs.vercel.app/docs/building-blocks/optimizers)\n"
   ]
  },
  {
   "cell_type": "markdown",
   "metadata": {},
   "source": [
    "Let's understand how we can leverage DSPY to optimize our Prompts and generate better answers"
   ]
  },
  {
   "cell_type": "code",
   "execution_count": 16,
   "metadata": {},
   "outputs": [],
   "source": [
    "import pandas as pd\n",
    "import dspy\n",
    "from fastembed import TextEmbedding\n",
    "from qdrant_client import QdrantClient\n",
    "from qdrant_client.http import models \n",
    "from tqdm import tqdm\n",
    "import json\n",
    "from typing import Optional,List,Union\n",
    "from pydantic import BaseModel\n",
    "from fastembed import TextEmbedding\n",
    "from dsp.utils import dotdict\n",
    "import os\n",
    "from dotenv import load_dotenv\n",
    "from qdrant_client import QdrantClient\n",
    "import random"
   ]
  },
  {
   "cell_type": "code",
   "execution_count": null,
   "metadata": {},
   "outputs": [],
   "source": [
    "load_dotenv()\n",
    "openai_api_key = os.getenv(\"OPENAI_API_KEY\")"
   ]
  },
  {
   "cell_type": "markdown",
   "metadata": {},
   "source": [
    "### Load the Training and Testing Data"
   ]
  },
  {
   "cell_type": "code",
   "execution_count": 17,
   "metadata": {},
   "outputs": [
    {
     "data": {
      "text/html": [
       "<div>\n",
       "<style scoped>\n",
       "    .dataframe tbody tr th:only-of-type {\n",
       "        vertical-align: middle;\n",
       "    }\n",
       "\n",
       "    .dataframe tbody tr th {\n",
       "        vertical-align: top;\n",
       "    }\n",
       "\n",
       "    .dataframe thead th {\n",
       "        text-align: right;\n",
       "    }\n",
       "</style>\n",
       "<table border=\"1\" class=\"dataframe\">\n",
       "  <thead>\n",
       "    <tr style=\"text-align: right;\">\n",
       "      <th></th>\n",
       "      <th>question</th>\n",
       "      <th>contexts</th>\n",
       "      <th>ground_truth</th>\n",
       "      <th>exact_answer</th>\n",
       "    </tr>\n",
       "  </thead>\n",
       "  <tbody>\n",
       "    <tr>\n",
       "      <th>0</th>\n",
       "      <td>What is Snord116?</td>\n",
       "      <td>['Further analysis with array-CGH identified a mosaic 847\\u2009kb deletion in 15q11-q13, including SNURF-SNRPN, the snoRNA gene clusters SNORD116 (HBII-85), SNORD115, (HBII-52), SNORD109 A and B (HBII-438A and B), SNORD64 (HBII-13), and NPAP1 (C15ORF2).', 'All three deletions included SNORD116, but only two encompassed parts of SNURF-SNRPN, implicating SNORD116 as the major contributor to the Prader-Willi phenotype. Our case adds further information about genotype-phenotype correlation and s...</td>\n",
       "      <td>['SNORD116 is a small nucleolar (sno) RNA gene cluster (HBII-85) implicated as a major contributor the Prader-Willi phenotype. \\nSNORD116 genes appears to be responsible for the major features of PWS. \\nSNORD116 is a paternally expressed box C/D snoRNA gene cluster.\\nThe mouse C/D box snoRNA MBII-85 (SNORD116) is processed into at least five shorter RNAs using processing sites near known functional elements of C/D box snoRNAs.\\nSnord116 expression in the medial hypothalamus, particularly wit...</td>\n",
       "      <td>[]</td>\n",
       "    </tr>\n",
       "    <tr>\n",
       "      <th>1</th>\n",
       "      <td>Are ultraconserved elements often transcribed?</td>\n",
       "      <td>['Starting from a genome-wide expression profiling, we demonstrate for the first time a functional link between oxygen deprivation and the modulation of long noncoding transcripts from ultraconserved regions, termed transcribed-ultraconserved regions (T-UCRs)', 'Our data gives a first glimpse of a novel functional hypoxic network comprising protein-coding transcripts and noncoding RNAs (ncRNAs) from the T-UCRs category', 'Highly conserved elements discovered in vertebrates are present in non...</td>\n",
       "      <td>['Yes.  Especially, a large fraction of non-exonic UCEs is transcribed across all developmental stages examined from only one DNA strand.']</td>\n",
       "      <td>['yes']</td>\n",
       "    </tr>\n",
       "    <tr>\n",
       "      <th>2</th>\n",
       "      <td>List metalloenzyme inhibitors.</td>\n",
       "      <td>[' Clinically approved inhibitors were selected as well as several other reported metalloprotein inhibitors in order to represent a broad range of metal binding groups (MBGs), including hydroxamic acid, carboxylate, hydroxypyridinonate, thiol, and N-hydroxyurea functional groups.', 'A total of 21 different raltegravir-chelator derivative (RCD) compounds were prepared that differed only in the nature of the MBG. ', 'At least two compounds (RCD-4, RCD-5) containing a hydroxypyrone MBG were fou...</td>\n",
       "      <td>['Foscarnet\\nVT-1129\\nVT-1161 \\nBB-3497\\nhydroxamate molecules\\nsiderophores']</td>\n",
       "      <td>['VT-1129', 'VT-1161', 'BB-3497', 'hydroxamate molecules', 'siderophores', 'Foscarnet']</td>\n",
       "    </tr>\n",
       "    <tr>\n",
       "      <th>3</th>\n",
       "      <td>Which protein phosphatase has been found to interact with the heat shock protein, HSP20?</td>\n",
       "      <td>[' Moreover, protein phosphatase-1 activity is regulated by two binding partners, inhibitor-1 and the small heat shock protein 20, Hsp20. Indeed, human genetic variants of inhibitor-1 (G147D) or Hsp20 (P20L) result in reduced binding and inhibition of protein phosphatase-1, suggesting aberrant enzymatic regulation in human carriers. ', 'Small heat shock protein 20 interacts with protein phosphatase-1 and enhances sarcoplasmic reticulum calcium cycling.', ' Hsp20 overexpression in intact anim...</td>\n",
       "      <td>['Protein phosphatase-1 activity is regulated by two binding partners, inhibitor-1 and the small heat shock protein 20, Hsp20. Cell fractionation, coimmunoprecipitation, and coimmunolocalization studies, revealed an association between Hsp20 and PP1. Small heat shock protein 20 interacts with protein phosphatase-1 and enhances sarcoplasmic reticulum calcium cycling.', 'Moreover, protein phosphatase-1 activity is regulated by two binding partners, inhibitor-1 and the small heat shock protein ...</td>\n",
       "      <td>['Protein phosphatase 1', 'PP1']</td>\n",
       "    </tr>\n",
       "    <tr>\n",
       "      <th>4</th>\n",
       "      <td>Do DNA double-strand breaks play a causal role in carcinogenesis?</td>\n",
       "      <td>['The DNA non-homologous end-joining repair gene XRCC6/Ku70 plays an important role in the repair of DNA double-strand breaks (DSBs) induced by both exogenous and endogenous DNA-damaging agents. Defects in overall DSB repair capacity can lead to genomic instability and carcinogenesis.', 'The tumor suppressor breast cancer susceptibility protein 1 (BRCA1) protects our cells from genomic instability in part by facilitating the efficient repair of DNA double-strand breaks (DSBs). BRCA1 promotes...</td>\n",
       "      <td>['Yes. It has been demonstrated that induction of DNA double-strand breaks (DSBs) and defects in overall DSBs repair capacity can lead to an accumulation of mutations, resulting in genomic instability of cells. Given that genomic instability is the hallmark of cancer, DSBs play a causal role in carcinogenesis.']</td>\n",
       "      <td>['yes']</td>\n",
       "    </tr>\n",
       "  </tbody>\n",
       "</table>\n",
       "</div>"
      ],
      "text/plain": [
       "                                                                                   question  \\\n",
       "0                                                                         What is Snord116?   \n",
       "1                                            Are ultraconserved elements often transcribed?   \n",
       "2                                                            List metalloenzyme inhibitors.   \n",
       "3  Which protein phosphatase has been found to interact with the heat shock protein, HSP20?   \n",
       "4                         Do DNA double-strand breaks play a causal role in carcinogenesis?   \n",
       "\n",
       "                                                                                                                                                                                                                                                                                                                                                                                                                                                                                                              contexts  \\\n",
       "0  ['Further analysis with array-CGH identified a mosaic 847\\u2009kb deletion in 15q11-q13, including SNURF-SNRPN, the snoRNA gene clusters SNORD116 (HBII-85), SNORD115, (HBII-52), SNORD109 A and B (HBII-438A and B), SNORD64 (HBII-13), and NPAP1 (C15ORF2).', 'All three deletions included SNORD116, but only two encompassed parts of SNURF-SNRPN, implicating SNORD116 as the major contributor to the Prader-Willi phenotype. Our case adds further information about genotype-phenotype correlation and s...   \n",
       "1  ['Starting from a genome-wide expression profiling, we demonstrate for the first time a functional link between oxygen deprivation and the modulation of long noncoding transcripts from ultraconserved regions, termed transcribed-ultraconserved regions (T-UCRs)', 'Our data gives a first glimpse of a novel functional hypoxic network comprising protein-coding transcripts and noncoding RNAs (ncRNAs) from the T-UCRs category', 'Highly conserved elements discovered in vertebrates are present in non...   \n",
       "2  [' Clinically approved inhibitors were selected as well as several other reported metalloprotein inhibitors in order to represent a broad range of metal binding groups (MBGs), including hydroxamic acid, carboxylate, hydroxypyridinonate, thiol, and N-hydroxyurea functional groups.', 'A total of 21 different raltegravir-chelator derivative (RCD) compounds were prepared that differed only in the nature of the MBG. ', 'At least two compounds (RCD-4, RCD-5) containing a hydroxypyrone MBG were fou...   \n",
       "3  [' Moreover, protein phosphatase-1 activity is regulated by two binding partners, inhibitor-1 and the small heat shock protein 20, Hsp20. Indeed, human genetic variants of inhibitor-1 (G147D) or Hsp20 (P20L) result in reduced binding and inhibition of protein phosphatase-1, suggesting aberrant enzymatic regulation in human carriers. ', 'Small heat shock protein 20 interacts with protein phosphatase-1 and enhances sarcoplasmic reticulum calcium cycling.', ' Hsp20 overexpression in intact anim...   \n",
       "4  ['The DNA non-homologous end-joining repair gene XRCC6/Ku70 plays an important role in the repair of DNA double-strand breaks (DSBs) induced by both exogenous and endogenous DNA-damaging agents. Defects in overall DSB repair capacity can lead to genomic instability and carcinogenesis.', 'The tumor suppressor breast cancer susceptibility protein 1 (BRCA1) protects our cells from genomic instability in part by facilitating the efficient repair of DNA double-strand breaks (DSBs). BRCA1 promotes...   \n",
       "\n",
       "                                                                                                                                                                                                                                                                                                                                                                                                                                                                                                          ground_truth  \\\n",
       "0  ['SNORD116 is a small nucleolar (sno) RNA gene cluster (HBII-85) implicated as a major contributor the Prader-Willi phenotype. \\nSNORD116 genes appears to be responsible for the major features of PWS. \\nSNORD116 is a paternally expressed box C/D snoRNA gene cluster.\\nThe mouse C/D box snoRNA MBII-85 (SNORD116) is processed into at least five shorter RNAs using processing sites near known functional elements of C/D box snoRNAs.\\nSnord116 expression in the medial hypothalamus, particularly wit...   \n",
       "1                                                                                                                                                                                                                                                                                                                                                                          ['Yes.  Especially, a large fraction of non-exonic UCEs is transcribed across all developmental stages examined from only one DNA strand.']   \n",
       "2                                                                                                                                                                                                                                                                                                                                                                                                                                       ['Foscarnet\\nVT-1129\\nVT-1161 \\nBB-3497\\nhydroxamate molecules\\nsiderophores']   \n",
       "3  ['Protein phosphatase-1 activity is regulated by two binding partners, inhibitor-1 and the small heat shock protein 20, Hsp20. Cell fractionation, coimmunoprecipitation, and coimmunolocalization studies, revealed an association between Hsp20 and PP1. Small heat shock protein 20 interacts with protein phosphatase-1 and enhances sarcoplasmic reticulum calcium cycling.', 'Moreover, protein phosphatase-1 activity is regulated by two binding partners, inhibitor-1 and the small heat shock protein ...   \n",
       "4                                                                                                                                                                                            ['Yes. It has been demonstrated that induction of DNA double-strand breaks (DSBs) and defects in overall DSBs repair capacity can lead to an accumulation of mutations, resulting in genomic instability of cells. Given that genomic instability is the hallmark of cancer, DSBs play a causal role in carcinogenesis.']   \n",
       "\n",
       "                                                                              exact_answer  \n",
       "0                                                                                       []  \n",
       "1                                                                                  ['yes']  \n",
       "2  ['VT-1129', 'VT-1161', 'BB-3497', 'hydroxamate molecules', 'siderophores', 'Foscarnet']  \n",
       "3                                                         ['Protein phosphatase 1', 'PP1']  \n",
       "4                                                                                  ['yes']  "
      ]
     },
     "execution_count": 17,
     "metadata": {},
     "output_type": "execute_result"
    }
   ],
   "source": [
    "test_data = pd.read_csv('../data/QA/test.csv')\n",
    "train_data = pd.read_csv('../data/QA/train.csv')\n",
    "train_data.head()"
   ]
  },
  {
   "cell_type": "markdown",
   "metadata": {},
   "source": [
    "Each Question in the training data is assosiated with ground_truth label , we will use this to train our model and optimize the prompts. "
   ]
  },
  {
   "cell_type": "code",
   "execution_count": 18,
   "metadata": {},
   "outputs": [
    {
     "data": {
      "text/html": [
       "<div>\n",
       "<style scoped>\n",
       "    .dataframe tbody tr th:only-of-type {\n",
       "        vertical-align: middle;\n",
       "    }\n",
       "\n",
       "    .dataframe tbody tr th {\n",
       "        vertical-align: top;\n",
       "    }\n",
       "\n",
       "    .dataframe thead th {\n",
       "        text-align: right;\n",
       "    }\n",
       "</style>\n",
       "<table border=\"1\" class=\"dataframe\">\n",
       "  <thead>\n",
       "    <tr style=\"text-align: right;\">\n",
       "      <th></th>\n",
       "      <th>question</th>\n",
       "      <th>contexts</th>\n",
       "      <th>ground_truth</th>\n",
       "    </tr>\n",
       "  </thead>\n",
       "  <tbody>\n",
       "    <tr>\n",
       "      <th>0</th>\n",
       "      <td>What is Snord116?</td>\n",
       "      <td>['Further analysis with array-CGH identified a mosaic 847\\u2009kb deletion in 15q11-q13, including SNURF-SNRPN, the snoRNA gene clusters SNORD116 (HBII-85), SNORD115, (HBII-52), SNORD109 A and B (HBII-438A and B), SNORD64 (HBII-13), and NPAP1 (C15ORF2).', 'All three deletions included SNORD116, but only two encompassed parts of SNURF-SNRPN, implicating SNORD116 as the major contributor to the Prader-Willi phenotype. Our case adds further information about genotype-phenotype correlation and s...</td>\n",
       "      <td>['SNORD116 is a small nucleolar (sno) RNA gene cluster (HBII-85) implicated as a major contributor the Prader-Willi phenotype. \\nSNORD116 genes appears to be responsible for the major features of PWS. \\nSNORD116 is a paternally expressed box C/D snoRNA gene cluster.\\nThe mouse C/D box snoRNA MBII-85 (SNORD116) is processed into at least five shorter RNAs using processing sites near known functional elements of C/D box snoRNAs.\\nSnord116 expression in the medial hypothalamus, particularly wit...</td>\n",
       "    </tr>\n",
       "    <tr>\n",
       "      <th>1</th>\n",
       "      <td>Are ultraconserved elements often transcribed?</td>\n",
       "      <td>['Starting from a genome-wide expression profiling, we demonstrate for the first time a functional link between oxygen deprivation and the modulation of long noncoding transcripts from ultraconserved regions, termed transcribed-ultraconserved regions (T-UCRs)', 'Our data gives a first glimpse of a novel functional hypoxic network comprising protein-coding transcripts and noncoding RNAs (ncRNAs) from the T-UCRs category', 'Highly conserved elements discovered in vertebrates are present in non...</td>\n",
       "      <td>['Yes.  Especially, a large fraction of non-exonic UCEs is transcribed across all developmental stages examined from only one DNA strand.']</td>\n",
       "    </tr>\n",
       "    <tr>\n",
       "      <th>2</th>\n",
       "      <td>List metalloenzyme inhibitors.</td>\n",
       "      <td>[' Clinically approved inhibitors were selected as well as several other reported metalloprotein inhibitors in order to represent a broad range of metal binding groups (MBGs), including hydroxamic acid, carboxylate, hydroxypyridinonate, thiol, and N-hydroxyurea functional groups.', 'A total of 21 different raltegravir-chelator derivative (RCD) compounds were prepared that differed only in the nature of the MBG. ', 'At least two compounds (RCD-4, RCD-5) containing a hydroxypyrone MBG were fou...</td>\n",
       "      <td>['Foscarnet\\nVT-1129\\nVT-1161 \\nBB-3497\\nhydroxamate molecules\\nsiderophores']</td>\n",
       "    </tr>\n",
       "    <tr>\n",
       "      <th>3</th>\n",
       "      <td>Which protein phosphatase has been found to interact with the heat shock protein, HSP20?</td>\n",
       "      <td>[' Moreover, protein phosphatase-1 activity is regulated by two binding partners, inhibitor-1 and the small heat shock protein 20, Hsp20. Indeed, human genetic variants of inhibitor-1 (G147D) or Hsp20 (P20L) result in reduced binding and inhibition of protein phosphatase-1, suggesting aberrant enzymatic regulation in human carriers. ', 'Small heat shock protein 20 interacts with protein phosphatase-1 and enhances sarcoplasmic reticulum calcium cycling.', ' Hsp20 overexpression in intact anim...</td>\n",
       "      <td>['Protein phosphatase-1 activity is regulated by two binding partners, inhibitor-1 and the small heat shock protein 20, Hsp20. Cell fractionation, coimmunoprecipitation, and coimmunolocalization studies, revealed an association between Hsp20 and PP1. Small heat shock protein 20 interacts with protein phosphatase-1 and enhances sarcoplasmic reticulum calcium cycling.', 'Moreover, protein phosphatase-1 activity is regulated by two binding partners, inhibitor-1 and the small heat shock protein ...</td>\n",
       "    </tr>\n",
       "    <tr>\n",
       "      <th>4</th>\n",
       "      <td>Do DNA double-strand breaks play a causal role in carcinogenesis?</td>\n",
       "      <td>['The DNA non-homologous end-joining repair gene XRCC6/Ku70 plays an important role in the repair of DNA double-strand breaks (DSBs) induced by both exogenous and endogenous DNA-damaging agents. Defects in overall DSB repair capacity can lead to genomic instability and carcinogenesis.', 'The tumor suppressor breast cancer susceptibility protein 1 (BRCA1) protects our cells from genomic instability in part by facilitating the efficient repair of DNA double-strand breaks (DSBs). BRCA1 promotes...</td>\n",
       "      <td>['Yes. It has been demonstrated that induction of DNA double-strand breaks (DSBs) and defects in overall DSBs repair capacity can lead to an accumulation of mutations, resulting in genomic instability of cells. Given that genomic instability is the hallmark of cancer, DSBs play a causal role in carcinogenesis.']</td>\n",
       "    </tr>\n",
       "    <tr>\n",
       "      <th>...</th>\n",
       "      <td>...</td>\n",
       "      <td>...</td>\n",
       "      <td>...</td>\n",
       "    </tr>\n",
       "    <tr>\n",
       "      <th>1654</th>\n",
       "      <td>Is thyroid hormone therapy indicated in patients with heart failure?</td>\n",
       "      <td>['Patients with chronic heart failure and subclinical hypothyroidism significantly improved their physical performance when normal TSH levels were reached.', 'Early and sustained physiological restoration of circulating L-T3 levels after MI halves infarct scar size and prevents the progression towards heart failure. This beneficial effect is likely due to enhanced capillary formation and mitochondrial protection.', 'These data indicate that T(3) replacement to euthyroid levels improves systo...</td>\n",
       "      <td>['There are several experimental and clinical evidences of the potential benefits of Thyroid hormone replacement therapy in heart failure. Initial clinical data showed also a good safety profile and tolerance of TH replacement therapy in patients withheart failure. \\nHowever currently there is no indication to treat patients with heart failure withTHreplacementtherapy.']</td>\n",
       "    </tr>\n",
       "    <tr>\n",
       "      <th>1655</th>\n",
       "      <td>Is protein Fbw7 a SCF type of E3 ubiquitin ligase?</td>\n",
       "      <td>['FBW7 (F-box and WD repeat domain-containing 7) is the substrate recognition component of an evolutionary conserved SCF (complex of SKP1, CUL1 and F-box protein)-type ubiquitin ligase.', 'However, very few E3 ubiquitin ligases are known to target G-CSFR for ubiquitin-proteasome pathway. Here we identified F-box and WD repeat domain-containing 7 (Fbw7), a substrate recognizing component of Skp-Cullin-F box (SCF) E3 ubiquitin Ligase physically associates with G-CSFR and promotes its ubiquitin...</td>\n",
       "      <td>['Fbxw7 (also known as Fbw7, SEL-10, hCdc4, or hAgo) is the F-box protein subunit of an Skp1-Cul1-F-box protein (SCF)-type ubiquitin ligase complex that plays a central role in the degradation of Notch family members.The F-box protein Fbw7 (also known as Fbxw7, hCdc4 and Sel-10) functions as a substrate recognition component of a SCF-type E3 ubiquitin ligase. SCF(Fbw7) facilitates polyubiquitination and subsequent degradation of various proteins such as Notch, cyclin E, c-Myc and c-Jun.', 'T...</td>\n",
       "    </tr>\n",
       "    <tr>\n",
       "      <th>1656</th>\n",
       "      <td>Is Annexin V an apoptotic marker?</td>\n",
       "      <td>['The apoptosis of the MSCs was induced by subjecting the cells to OGD conditions for 4 h and was detected by Annexin V/PI and Hoechst 33258 staining. ', 'In addition to the antimicrobial activity, we found that treatment of the cancer cell lines, Jurkat T-cells, Granta cells, and melanoma cells, with the Pseudomonas sp. In5 crude extract increased staining with the apoptotic marker Annexin V while no staining of healthy normal cells, i.e., naïve or activated CD4 T-cells, was observed.', 'At...</td>\n",
       "      <td>['Yes, annexin V is an early apoptotic marker.', 'Yes, Annexin V is an apoptotic marker.']</td>\n",
       "    </tr>\n",
       "    <tr>\n",
       "      <th>1657</th>\n",
       "      <td>Which are the clinical characteristics of Tuberous Sclerosis?</td>\n",
       "      <td>['Prevalence and long-term outcome of epilepsy in tuberous sclerosis complex (TSC) is reported to be variable', 'Subependymal giant cell astrocytomas (SEGAs) are benign tumors, most commonly associated with tuberous sclerosis complex (TSC).', 'Lymphangioleiomyomatosis (LAM) is a rare, progressive, frequently lethal cystic lung disease that almost exclusively affects women.', 'Rhabdomyoma is the most common type of cardiac tumor in fetuses and is often associated with tuberous sclerosis compl...</td>\n",
       "      <td>['The clinical characteristics of Tuberous Sclerosis include epilepsy, subependymal giant cell astrocytomas, lymphangioleiomyomatosis, rhabdomyoma, renal angiomyolipomas, cortical tubers, neurofibromas, angiofibromas, mental retardation, and behavioral disorders.']</td>\n",
       "    </tr>\n",
       "    <tr>\n",
       "      <th>1658</th>\n",
       "      <td>Is irritable bowel syndrome more common in women with endometriosis?</td>\n",
       "      <td>['CONCLUSIONS: Comorbid pain syndromes, mood conditions and asthma are common in adolescents and young women with endometriosis.', 'There are many etiologies of pelvic pain that present with symptoms resembling those of endometriosis-associated pelvic pain that are not diagnosable with laparoscopy, such as interstitial cystitis and irritable bowel syndrome.', 'Often, such patients are labelled with irritable bowel syndrome. ', 'Irritable bowel syndrome (IBS) is also common in this setting, a...</td>\n",
       "      <td>['Yes, irritable bowel syndrome (IBS) is more common in women with endometriosis. It has been shown that 15% of the patients with endometriosis also had IBS. Women with endometriosis are more likely to have received a diagnosis of IBS. Endometriosis may coexist with or be misdiagnosed as IBS.']</td>\n",
       "    </tr>\n",
       "  </tbody>\n",
       "</table>\n",
       "<p>1659 rows × 3 columns</p>\n",
       "</div>"
      ],
      "text/plain": [
       "                                                                                      question  \\\n",
       "0                                                                            What is Snord116?   \n",
       "1                                               Are ultraconserved elements often transcribed?   \n",
       "2                                                               List metalloenzyme inhibitors.   \n",
       "3     Which protein phosphatase has been found to interact with the heat shock protein, HSP20?   \n",
       "4                            Do DNA double-strand breaks play a causal role in carcinogenesis?   \n",
       "...                                                                                        ...   \n",
       "1654                      Is thyroid hormone therapy indicated in patients with heart failure?   \n",
       "1655                                        Is protein Fbw7 a SCF type of E3 ubiquitin ligase?   \n",
       "1656                                                         Is Annexin V an apoptotic marker?   \n",
       "1657                             Which are the clinical characteristics of Tuberous Sclerosis?   \n",
       "1658                      Is irritable bowel syndrome more common in women with endometriosis?   \n",
       "\n",
       "                                                                                                                                                                                                                                                                                                                                                                                                                                                                                                                 contexts  \\\n",
       "0     ['Further analysis with array-CGH identified a mosaic 847\\u2009kb deletion in 15q11-q13, including SNURF-SNRPN, the snoRNA gene clusters SNORD116 (HBII-85), SNORD115, (HBII-52), SNORD109 A and B (HBII-438A and B), SNORD64 (HBII-13), and NPAP1 (C15ORF2).', 'All three deletions included SNORD116, but only two encompassed parts of SNURF-SNRPN, implicating SNORD116 as the major contributor to the Prader-Willi phenotype. Our case adds further information about genotype-phenotype correlation and s...   \n",
       "1     ['Starting from a genome-wide expression profiling, we demonstrate for the first time a functional link between oxygen deprivation and the modulation of long noncoding transcripts from ultraconserved regions, termed transcribed-ultraconserved regions (T-UCRs)', 'Our data gives a first glimpse of a novel functional hypoxic network comprising protein-coding transcripts and noncoding RNAs (ncRNAs) from the T-UCRs category', 'Highly conserved elements discovered in vertebrates are present in non...   \n",
       "2     [' Clinically approved inhibitors were selected as well as several other reported metalloprotein inhibitors in order to represent a broad range of metal binding groups (MBGs), including hydroxamic acid, carboxylate, hydroxypyridinonate, thiol, and N-hydroxyurea functional groups.', 'A total of 21 different raltegravir-chelator derivative (RCD) compounds were prepared that differed only in the nature of the MBG. ', 'At least two compounds (RCD-4, RCD-5) containing a hydroxypyrone MBG were fou...   \n",
       "3     [' Moreover, protein phosphatase-1 activity is regulated by two binding partners, inhibitor-1 and the small heat shock protein 20, Hsp20. Indeed, human genetic variants of inhibitor-1 (G147D) or Hsp20 (P20L) result in reduced binding and inhibition of protein phosphatase-1, suggesting aberrant enzymatic regulation in human carriers. ', 'Small heat shock protein 20 interacts with protein phosphatase-1 and enhances sarcoplasmic reticulum calcium cycling.', ' Hsp20 overexpression in intact anim...   \n",
       "4     ['The DNA non-homologous end-joining repair gene XRCC6/Ku70 plays an important role in the repair of DNA double-strand breaks (DSBs) induced by both exogenous and endogenous DNA-damaging agents. Defects in overall DSB repair capacity can lead to genomic instability and carcinogenesis.', 'The tumor suppressor breast cancer susceptibility protein 1 (BRCA1) protects our cells from genomic instability in part by facilitating the efficient repair of DNA double-strand breaks (DSBs). BRCA1 promotes...   \n",
       "...                                                                                                                                                                                                                                                                                                                                                                                                                                                                                                                   ...   \n",
       "1654  ['Patients with chronic heart failure and subclinical hypothyroidism significantly improved their physical performance when normal TSH levels were reached.', 'Early and sustained physiological restoration of circulating L-T3 levels after MI halves infarct scar size and prevents the progression towards heart failure. This beneficial effect is likely due to enhanced capillary formation and mitochondrial protection.', 'These data indicate that T(3) replacement to euthyroid levels improves systo...   \n",
       "1655  ['FBW7 (F-box and WD repeat domain-containing 7) is the substrate recognition component of an evolutionary conserved SCF (complex of SKP1, CUL1 and F-box protein)-type ubiquitin ligase.', 'However, very few E3 ubiquitin ligases are known to target G-CSFR for ubiquitin-proteasome pathway. Here we identified F-box and WD repeat domain-containing 7 (Fbw7), a substrate recognizing component of Skp-Cullin-F box (SCF) E3 ubiquitin Ligase physically associates with G-CSFR and promotes its ubiquitin...   \n",
       "1656  ['The apoptosis of the MSCs was induced by subjecting the cells to OGD conditions for 4 h and was detected by Annexin V/PI and Hoechst 33258 staining. ', 'In addition to the antimicrobial activity, we found that treatment of the cancer cell lines, Jurkat T-cells, Granta cells, and melanoma cells, with the Pseudomonas sp. In5 crude extract increased staining with the apoptotic marker Annexin V while no staining of healthy normal cells, i.e., naïve or activated CD4 T-cells, was observed.', 'At...   \n",
       "1657  ['Prevalence and long-term outcome of epilepsy in tuberous sclerosis complex (TSC) is reported to be variable', 'Subependymal giant cell astrocytomas (SEGAs) are benign tumors, most commonly associated with tuberous sclerosis complex (TSC).', 'Lymphangioleiomyomatosis (LAM) is a rare, progressive, frequently lethal cystic lung disease that almost exclusively affects women.', 'Rhabdomyoma is the most common type of cardiac tumor in fetuses and is often associated with tuberous sclerosis compl...   \n",
       "1658  ['CONCLUSIONS: Comorbid pain syndromes, mood conditions and asthma are common in adolescents and young women with endometriosis.', 'There are many etiologies of pelvic pain that present with symptoms resembling those of endometriosis-associated pelvic pain that are not diagnosable with laparoscopy, such as interstitial cystitis and irritable bowel syndrome.', 'Often, such patients are labelled with irritable bowel syndrome. ', 'Irritable bowel syndrome (IBS) is also common in this setting, a...   \n",
       "\n",
       "                                                                                                                                                                                                                                                                                                                                                                                                                                                                                                             ground_truth  \n",
       "0     ['SNORD116 is a small nucleolar (sno) RNA gene cluster (HBII-85) implicated as a major contributor the Prader-Willi phenotype. \\nSNORD116 genes appears to be responsible for the major features of PWS. \\nSNORD116 is a paternally expressed box C/D snoRNA gene cluster.\\nThe mouse C/D box snoRNA MBII-85 (SNORD116) is processed into at least five shorter RNAs using processing sites near known functional elements of C/D box snoRNAs.\\nSnord116 expression in the medial hypothalamus, particularly wit...  \n",
       "1                                                                                                                                                                                                                                                                                                                                                                             ['Yes.  Especially, a large fraction of non-exonic UCEs is transcribed across all developmental stages examined from only one DNA strand.']  \n",
       "2                                                                                                                                                                                                                                                                                                                                                                                                                                          ['Foscarnet\\nVT-1129\\nVT-1161 \\nBB-3497\\nhydroxamate molecules\\nsiderophores']  \n",
       "3     ['Protein phosphatase-1 activity is regulated by two binding partners, inhibitor-1 and the small heat shock protein 20, Hsp20. Cell fractionation, coimmunoprecipitation, and coimmunolocalization studies, revealed an association between Hsp20 and PP1. Small heat shock protein 20 interacts with protein phosphatase-1 and enhances sarcoplasmic reticulum calcium cycling.', 'Moreover, protein phosphatase-1 activity is regulated by two binding partners, inhibitor-1 and the small heat shock protein ...  \n",
       "4                                                                                                                                                                                               ['Yes. It has been demonstrated that induction of DNA double-strand breaks (DSBs) and defects in overall DSBs repair capacity can lead to an accumulation of mutations, resulting in genomic instability of cells. Given that genomic instability is the hallmark of cancer, DSBs play a causal role in carcinogenesis.']  \n",
       "...                                                                                                                                                                                                                                                                                                                                                                                                                                                                                                                   ...  \n",
       "1654                                                                                                                                ['There are several experimental and clinical evidences of the potential benefits of Thyroid hormone replacement therapy in heart failure. Initial clinical data showed also a good safety profile and tolerance of TH replacement therapy in patients withheart failure. \\nHowever currently there is no indication to treat patients with heart failure withTHreplacementtherapy.']  \n",
       "1655  ['Fbxw7 (also known as Fbw7, SEL-10, hCdc4, or hAgo) is the F-box protein subunit of an Skp1-Cul1-F-box protein (SCF)-type ubiquitin ligase complex that plays a central role in the degradation of Notch family members.The F-box protein Fbw7 (also known as Fbxw7, hCdc4 and Sel-10) functions as a substrate recognition component of a SCF-type E3 ubiquitin ligase. SCF(Fbw7) facilitates polyubiquitination and subsequent degradation of various proteins such as Notch, cyclin E, c-Myc and c-Jun.', 'T...  \n",
       "1656                                                                                                                                                                                                                                                                                                                                                                                                                           ['Yes, annexin V is an early apoptotic marker.', 'Yes, Annexin V is an apoptotic marker.']  \n",
       "1657                                                                                                                                                                                                                                            ['The clinical characteristics of Tuberous Sclerosis include epilepsy, subependymal giant cell astrocytomas, lymphangioleiomyomatosis, rhabdomyoma, renal angiomyolipomas, cortical tubers, neurofibromas, angiofibromas, mental retardation, and behavioral disorders.']  \n",
       "1658                                                                                                                                                                                                              ['Yes, irritable bowel syndrome (IBS) is more common in women with endometriosis. It has been shown that 15% of the patients with endometriosis also had IBS. Women with endometriosis are more likely to have received a diagnosis of IBS. Endometriosis may coexist with or be misdiagnosed as IBS.']  \n",
       "\n",
       "[1659 rows x 3 columns]"
      ]
     },
     "execution_count": 18,
     "metadata": {},
     "output_type": "execute_result"
    }
   ],
   "source": [
    "pd.set_option('display.max_colwidth', 500)\n",
    "train_data[['question', 'contexts', 'ground_truth']]"
   ]
  },
  {
   "cell_type": "code",
   "execution_count": 19,
   "metadata": {},
   "outputs": [
    {
     "data": {
      "text/html": [
       "<div>\n",
       "<style scoped>\n",
       "    .dataframe tbody tr th:only-of-type {\n",
       "        vertical-align: middle;\n",
       "    }\n",
       "\n",
       "    .dataframe tbody tr th {\n",
       "        vertical-align: top;\n",
       "    }\n",
       "\n",
       "    .dataframe thead th {\n",
       "        text-align: right;\n",
       "    }\n",
       "</style>\n",
       "<table border=\"1\" class=\"dataframe\">\n",
       "  <thead>\n",
       "    <tr style=\"text-align: right;\">\n",
       "      <th></th>\n",
       "      <th>id</th>\n",
       "      <th>question</th>\n",
       "    </tr>\n",
       "  </thead>\n",
       "  <tbody>\n",
       "    <tr>\n",
       "      <th>0</th>\n",
       "      <td>1</td>\n",
       "      <td>Which are the Proprotein Convertase Subtilisin Kexin 9 (PCSK9) inhibitors that are FDA approved?</td>\n",
       "    </tr>\n",
       "    <tr>\n",
       "      <th>1</th>\n",
       "      <td>2</td>\n",
       "      <td>What is the relationship between nucleosomes and exons?</td>\n",
       "    </tr>\n",
       "    <tr>\n",
       "      <th>2</th>\n",
       "      <td>3</td>\n",
       "      <td>What is the name for anorexia in gymnasts?</td>\n",
       "    </tr>\n",
       "    <tr>\n",
       "      <th>3</th>\n",
       "      <td>4</td>\n",
       "      <td>How is Lambert-Eaton myasthenic syndrome (LEMS) associated with small cell lung cancer?</td>\n",
       "    </tr>\n",
       "    <tr>\n",
       "      <th>4</th>\n",
       "      <td>5</td>\n",
       "      <td>Is Fibroblast Growth Factor 23 a phosphaturic hormone?</td>\n",
       "    </tr>\n",
       "    <tr>\n",
       "      <th>...</th>\n",
       "      <td>...</td>\n",
       "      <td>...</td>\n",
       "    </tr>\n",
       "    <tr>\n",
       "      <th>706</th>\n",
       "      <td>707</td>\n",
       "      <td>Is alternative splicing of apoptotic genes playing a role in the response to DNA or mitochondrial damage?</td>\n",
       "    </tr>\n",
       "    <tr>\n",
       "      <th>707</th>\n",
       "      <td>708</td>\n",
       "      <td>Which NADPH oxidase family member requires interaction with NOXO1 for function?</td>\n",
       "    </tr>\n",
       "    <tr>\n",
       "      <th>708</th>\n",
       "      <td>709</td>\n",
       "      <td>List genes that have been found mutated in CMT1A (Charcot-Marie-Tooth disease type 1 A).</td>\n",
       "    </tr>\n",
       "    <tr>\n",
       "      <th>709</th>\n",
       "      <td>710</td>\n",
       "      <td>What is BioASQ?</td>\n",
       "    </tr>\n",
       "    <tr>\n",
       "      <th>710</th>\n",
       "      <td>711</td>\n",
       "      <td>What is Snord116?</td>\n",
       "    </tr>\n",
       "  </tbody>\n",
       "</table>\n",
       "<p>711 rows × 2 columns</p>\n",
       "</div>"
      ],
      "text/plain": [
       "      id  \\\n",
       "0      1   \n",
       "1      2   \n",
       "2      3   \n",
       "3      4   \n",
       "4      5   \n",
       "..   ...   \n",
       "706  707   \n",
       "707  708   \n",
       "708  709   \n",
       "709  710   \n",
       "710  711   \n",
       "\n",
       "                                                                                                      question  \n",
       "0             Which are the Proprotein Convertase Subtilisin Kexin 9 (PCSK9) inhibitors that are FDA approved?  \n",
       "1                                                      What is the relationship between nucleosomes and exons?  \n",
       "2                                                                   What is the name for anorexia in gymnasts?  \n",
       "3                      How is Lambert-Eaton myasthenic syndrome (LEMS) associated with small cell lung cancer?  \n",
       "4                                                       Is Fibroblast Growth Factor 23 a phosphaturic hormone?  \n",
       "..                                                                                                         ...  \n",
       "706  Is alternative splicing of apoptotic genes playing a role in the response to DNA or mitochondrial damage?  \n",
       "707                            Which NADPH oxidase family member requires interaction with NOXO1 for function?  \n",
       "708                   List genes that have been found mutated in CMT1A (Charcot-Marie-Tooth disease type 1 A).  \n",
       "709                                                                                            What is BioASQ?  \n",
       "710                                                                                          What is Snord116?  \n",
       "\n",
       "[711 rows x 2 columns]"
      ]
     },
     "execution_count": 19,
     "metadata": {},
     "output_type": "execute_result"
    }
   ],
   "source": [
    "test_data"
   ]
  },
  {
   "cell_type": "markdown",
   "metadata": {},
   "source": [
    "### Upload Contexts to Qdrant Vector Store"
   ]
  },
  {
   "cell_type": "code",
   "execution_count": 30,
   "metadata": {},
   "outputs": [
    {
     "data": {
      "text/html": [
       "<div>\n",
       "<style scoped>\n",
       "    .dataframe tbody tr th:only-of-type {\n",
       "        vertical-align: middle;\n",
       "    }\n",
       "\n",
       "    .dataframe tbody tr th {\n",
       "        vertical-align: top;\n",
       "    }\n",
       "\n",
       "    .dataframe thead th {\n",
       "        text-align: right;\n",
       "    }\n",
       "</style>\n",
       "<table border=\"1\" class=\"dataframe\">\n",
       "  <thead>\n",
       "    <tr style=\"text-align: right;\">\n",
       "      <th></th>\n",
       "      <th>text</th>\n",
       "    </tr>\n",
       "  </thead>\n",
       "  <tbody>\n",
       "    <tr>\n",
       "      <th>0</th>\n",
       "      <td>Both 7SL genes and Alu elements are transcribed by RNA polymerase III, and we show here that the internal 7SL promoter lies within the Alu-like part of the 7SL gene</td>\n",
       "    </tr>\n",
       "    <tr>\n",
       "      <th>1</th>\n",
       "      <td>We performed a comparative analysis in vitro and in vivo of the antitumor effects of three different antibodies targeting different epitopes of ErbB2: Herceptin (trastuzumab), 2C4 (pertuzumab) and Erb-hcAb (human anti-ErbB2-compact antibody), a novel fully human compact antibody produced in our laboratory. Herein, we demonstrate that the growth of both androgen-dependent and independent prostate cancer cells was efficiently inhibited by Erb-hcAb. The antitumor effects induced by Erb-hcAb on ...</td>\n",
       "    </tr>\n",
       "    <tr>\n",
       "      <th>2</th>\n",
       "      <td>The weight-reducing property of molindone, a recently introduced antipsychotic drug, was tested in 9 hospitalized chronic schizophrenic patients. There was an average weight loss of 7.6 kg after 3 months on molindone; most of the loss occurred during the first month.</td>\n",
       "    </tr>\n",
       "    <tr>\n",
       "      <th>3</th>\n",
       "      <td>Our study identifies a unique heterochromatin state marked by the presence of both H3.3 and H3K9me3, and establishes an important role for H3.3 in control of ERV retrotransposition in embryonic stem cells.</td>\n",
       "    </tr>\n",
       "    <tr>\n",
       "      <th>4</th>\n",
       "      <td>Polyneuropathy, organomegaly, endocrinopathy, monoclonal gammopathy, and skin changes (POEMS) syndrome is an uncommon condition related to a paraneoplastic syndrome secondary to an underlying plasma cell disorder.</td>\n",
       "    </tr>\n",
       "  </tbody>\n",
       "</table>\n",
       "</div>"
      ],
      "text/plain": [
       "                                                                                                                                                                                                                                                                                                                                                                                                                                                                                                                  text\n",
       "0                                                                                                                                                                                                                                                                                                                                                 Both 7SL genes and Alu elements are transcribed by RNA polymerase III, and we show here that the internal 7SL promoter lies within the Alu-like part of the 7SL gene\n",
       "1  We performed a comparative analysis in vitro and in vivo of the antitumor effects of three different antibodies targeting different epitopes of ErbB2: Herceptin (trastuzumab), 2C4 (pertuzumab) and Erb-hcAb (human anti-ErbB2-compact antibody), a novel fully human compact antibody produced in our laboratory. Herein, we demonstrate that the growth of both androgen-dependent and independent prostate cancer cells was efficiently inhibited by Erb-hcAb. The antitumor effects induced by Erb-hcAb on ...\n",
       "2                                                                                                                                                                                                                                          The weight-reducing property of molindone, a recently introduced antipsychotic drug, was tested in 9 hospitalized chronic schizophrenic patients. There was an average weight loss of 7.6 kg after 3 months on molindone; most of the loss occurred during the first month.\n",
       "3                                                                                                                                                                                                                                                                                                        Our study identifies a unique heterochromatin state marked by the presence of both H3.3 and H3K9me3, and establishes an important role for H3.3 in control of ERV retrotransposition in embryonic stem cells.\n",
       "4                                                                                                                                                                                                                                                                                                Polyneuropathy, organomegaly, endocrinopathy, monoclonal gammopathy, and skin changes (POEMS) syndrome is an uncommon condition related to a paraneoplastic syndrome secondary to an underlying plasma cell disorder."
      ]
     },
     "execution_count": 30,
     "metadata": {},
     "output_type": "execute_result"
    }
   ],
   "source": [
    "contexts = pd.read_csv('../data/QA/contexts.csv')\n",
    "contexts.head()"
   ]
  },
  {
   "cell_type": "code",
   "execution_count": 22,
   "metadata": {},
   "outputs": [
    {
     "data": {
      "text/html": [
       "<div>\n",
       "<style scoped>\n",
       "    .dataframe tbody tr th:only-of-type {\n",
       "        vertical-align: middle;\n",
       "    }\n",
       "\n",
       "    .dataframe tbody tr th {\n",
       "        vertical-align: top;\n",
       "    }\n",
       "\n",
       "    .dataframe thead th {\n",
       "        text-align: right;\n",
       "    }\n",
       "</style>\n",
       "<table border=\"1\" class=\"dataframe\">\n",
       "  <thead>\n",
       "    <tr style=\"text-align: right;\">\n",
       "      <th></th>\n",
       "      <th>text</th>\n",
       "    </tr>\n",
       "  </thead>\n",
       "  <tbody>\n",
       "    <tr>\n",
       "      <th>0</th>\n",
       "      <td>Both 7SL genes and Alu elements are transcribed by RNA polymerase III, and we show here that the internal 7SL promoter lies within the Alu-like part of the 7SL gene</td>\n",
       "    </tr>\n",
       "    <tr>\n",
       "      <th>1</th>\n",
       "      <td>We performed a comparative analysis in vitro and in vivo of the antitumor effects of three different antibodies targeting different epitopes of ErbB2: Herceptin (trastuzumab), 2C4 (pertuzumab) and Erb-hcAb (human anti-ErbB2-compact antibody), a novel fully human compact antibody produced in our laboratory. Herein, we demonstrate that the growth of both androgen-dependent and independent prostate cancer cells was efficiently inhibited by Erb-hcAb. The antitumor effects induced by Erb-hcAb on ...</td>\n",
       "    </tr>\n",
       "    <tr>\n",
       "      <th>2</th>\n",
       "      <td>The weight-reducing property of molindone, a recently introduced antipsychotic drug, was tested in 9 hospitalized chronic schizophrenic patients. There was an average weight loss of 7.6 kg after 3 months on molindone; most of the loss occurred during the first month.</td>\n",
       "    </tr>\n",
       "    <tr>\n",
       "      <th>3</th>\n",
       "      <td>Our study identifies a unique heterochromatin state marked by the presence of both H3.3 and H3K9me3, and establishes an important role for H3.3 in control of ERV retrotransposition in embryonic stem cells.</td>\n",
       "    </tr>\n",
       "    <tr>\n",
       "      <th>4</th>\n",
       "      <td>Polyneuropathy, organomegaly, endocrinopathy, monoclonal gammopathy, and skin changes (POEMS) syndrome is an uncommon condition related to a paraneoplastic syndrome secondary to an underlying plasma cell disorder.</td>\n",
       "    </tr>\n",
       "  </tbody>\n",
       "</table>\n",
       "</div>"
      ],
      "text/plain": [
       "                                                                                                                                                                                                                                                                                                                                                                                                                                                                                                                  text\n",
       "0                                                                                                                                                                                                                                                                                                                                                 Both 7SL genes and Alu elements are transcribed by RNA polymerase III, and we show here that the internal 7SL promoter lies within the Alu-like part of the 7SL gene\n",
       "1  We performed a comparative analysis in vitro and in vivo of the antitumor effects of three different antibodies targeting different epitopes of ErbB2: Herceptin (trastuzumab), 2C4 (pertuzumab) and Erb-hcAb (human anti-ErbB2-compact antibody), a novel fully human compact antibody produced in our laboratory. Herein, we demonstrate that the growth of both androgen-dependent and independent prostate cancer cells was efficiently inhibited by Erb-hcAb. The antitumor effects induced by Erb-hcAb on ...\n",
       "2                                                                                                                                                                                                                                          The weight-reducing property of molindone, a recently introduced antipsychotic drug, was tested in 9 hospitalized chronic schizophrenic patients. There was an average weight loss of 7.6 kg after 3 months on molindone; most of the loss occurred during the first month.\n",
       "3                                                                                                                                                                                                                                                                                                        Our study identifies a unique heterochromatin state marked by the presence of both H3.3 and H3K9me3, and establishes an important role for H3.3 in control of ERV retrotransposition in embryonic stem cells.\n",
       "4                                                                                                                                                                                                                                                                                                Polyneuropathy, organomegaly, endocrinopathy, monoclonal gammopathy, and skin changes (POEMS) syndrome is an uncommon condition related to a paraneoplastic syndrome secondary to an underlying plasma cell disorder."
      ]
     },
     "execution_count": 22,
     "metadata": {},
     "output_type": "execute_result"
    }
   ],
   "source": [
    "embedding_model = TextEmbedding(\"BAAI/bge-base-en-v1.5\")\n",
    "qdrant_client = QdrantClient(\":memory:\") # spin up a local instance if you require more advanced features\n",
    "# qdrant_client = QdrantClient(\"http://localhost:6333\") # uncomment if you want to use your local instance \n",
    "qdrant_client.recreate_collection('rag_contexts',vectors_config=models.VectorParams(size=768, distance=models.Distance.COSINE))\n",
    "# Create and upload points to Qdrant\n",
    "points = []\n",
    "# contexts_sample = contexts.sample(100)\n",
    "for idx, row in tqdm(contexts.iterrows(),total=contexts.shape[0]):\n",
    "    point = models.PointStruct(\n",
    "        id=idx,  # Use the dataframe index as the point ID\n",
    "        vector=list(embedding_model.embed(row['text']))[0],  # Convert the embedding to a list\n",
    "        payload={'id': idx , \"text\":row['text']}  # Use the label_text as the payload\n",
    "    )\n",
    "    points.append(point)\n",
    "qdrant_client.upload_points(collection_name='rag_contexts', points=points)"
   ]
  },
  {
   "cell_type": "markdown",
   "metadata": {},
   "source": [
    "### Custom Retriever that searchs the contexts from Qdrant Vector Store. "
   ]
  },
  {
   "cell_type": "code",
   "execution_count": 23,
   "metadata": {},
   "outputs": [
    {
     "data": {
      "application/vnd.jupyter.widget-view+json": {
       "model_id": "d1a86c799ae04e759d32d8e38ee54716",
       "version_major": 2,
       "version_minor": 0
      },
      "text/plain": [
       "Fetching 8 files:   0%|          | 0/8 [00:00<?, ?it/s]"
      ]
     },
     "metadata": {},
     "output_type": "display_data"
    }
   ],
   "source": [
    "# use any embedding model \n",
    "def generate_embeddings(text):\n",
    "    return list(embedding_model.embed(text))[0]\n",
    "\n",
    "\n",
    "class QdrantRetriever(dspy.Retrieve):\n",
    "    def __init__(self,qdrant_collection_name,qdrant_client,k=10):\n",
    "        super().__init__(k=k)\n",
    "        self.client = qdrant_client\n",
    "        self.collection_name = qdrant_collection_name\n",
    "\n",
    "    def forward(self, query,k:Optional[int]=10):\n",
    "        # Generate embedding for the query\n",
    "        query_embedding = generate_embeddings(query)\n",
    "        search_results = self.client.search(\n",
    "            collection_name=self.collection_name,\n",
    "            query_vector=query_embedding,\n",
    "            limit=k if k else self.k\n",
    "        )\n",
    "        passages = [result.payload['text'] for result in search_results]\n",
    "        passages = [dotdict({\"long_text\": passage}) for passage in passages]\n",
    "        return passages"
   ]
  },
  {
   "cell_type": "code",
   "execution_count": 25,
   "metadata": {},
   "outputs": [],
   "source": [
    "turbo = dspy.OpenAI(model=\"gpt-3.5-turbo-0125\",api_key=openai_api_key,max_tokens=1000)\n",
    "qdrant_client = QdrantClient(url=\"http://localhost:6333\")\n",
    "\n",
    "rm = QdrantRetriever(\"rag_contexts\",qdrant_client)\n",
    "\n",
    "# configure dspy with a RM Model and and LM Model\n",
    "dspy.settings.configure(lm=turbo,rm=rm)\n"
   ]
  },
  {
   "cell_type": "code",
   "execution_count": 26,
   "metadata": {},
   "outputs": [
    {
     "data": {
      "text/plain": [
       "['Two proprotein convertase subtilisin/kexin type 9 (PCSK9) inhibitors, evolocumab and alirocumab, have recently been approved by both the Food and Drug Administration (FDA) and the European Medicines Agency (EMA) for the treatment of hypercholesterolemia.',\n",
       " 'Food and Drug Administration approved the first two proprotein convertase subtilisin/kexin type 9 (PCSK9) inhibitors, alirocumab (Praluent®; Sanofi/ Regeneron) and evolocumab (Repatha®; Amgen), for use in patients with heterozygous and homozygous familial hypercholesterolemia and for patients intolerant of statins or those with a major risk of cardiovascular disease (CVD) but unable to lower their LDL cholesterol (LDL-C) to optimal levels with statins and ezetimibe.',\n",
       " 'In 2015 the U.S. Food and Drug Administration approved the first two proprotein convertase subtilisin/kexin type 9 (PCSK9) inhibitors, alirocumab (Praluent®; Sanofi/ Regeneron) and evolocumab (Repatha®; Amgen), for use in patients with heterozygous and homozygous familial hypercholesterolemia and for patients intolerant of statins or those with a major risk of cardiovascular disease (CVD) but unable to lower their LDL cholesterol (LDL-C) to optimal levels with statins and ezetimibe.',\n",
       " 'Proprotein convertase subtilisin kexin type 9 (PCSK9) is gaining attention as a key regulator of serum LDL-cholesterol (LDLC).',\n",
       " 'We report here the development of sdAbs targeting human PCSK9 (proprotein convertase subtilisin/kexin type 9) as an alternative to anti-PCSK9 mAbs.',\n",
       " 'Proprotein convertase subtilisin/kexin type 9 (PCSK9) is a regulator of LDL-cholesterol receptor homeostasis and emerges as a therapeutic target in the prevention of cardiovascular (CV) disease.',\n",
       " 'Very recent clinical trials have proven overwhelmingly the effectiveness and safety of PCSK9 inhibitors for lowering LDL-C. Both alirocumab and evolocumab have now been approved by the US FDA and there are some initial favorable outcomes data.',\n",
       " 'The 2 or 4‑week subcutaneous therapy with the recently approved antibodies alirocumab and evolocumab for inhibition of proprotein convertase subtilisin-kexin type 9 (PCSK9) reduces low-density lipoprotein cholesterol (LDL-C) in addition to statins and ezetimibe by 50-60\\u2009%.',\n",
       " 'Monoclonal antibodies that inhibit proprotein convertase subtilisin/ kexin type 9 (PCSK9), which degrades the LDL receptor, like alirocumab and evolocumab, are in phase 3 trials.',\n",
       " 'Proprotein convertase subtilisin/kexin type 9 (PCSK9), which binds the low-density lipoprotein receptor and targets it for degradation, has emerged as an important regulator of serum cholesterol levels and cardiovascular disease risk']"
      ]
     },
     "execution_count": 26,
     "metadata": {},
     "output_type": "execute_result"
    }
   ],
   "source": [
    "sample = test_data['question'].iloc[0]\n",
    "dspy.Retrieve(k=10)(sample).passages"
   ]
  },
  {
   "cell_type": "markdown",
   "metadata": {},
   "source": [
    "### Signature Defination for Q/A System"
   ]
  },
  {
   "cell_type": "code",
   "execution_count": null,
   "metadata": {},
   "outputs": [],
   "source": [
    "# Define Signatire for the QA system\n",
    "class GenerateAnswer(dspy.Signature):\n",
    "    \"\"\"Answer questions based on the context.\"\"\"\n",
    "    \n",
    "    context = dspy.InputField(desc=\"may contain relevant facts\")\n",
    "    question = dspy.InputField()\n",
    "    answer = dspy.OutputField()"
   ]
  },
  {
   "cell_type": "markdown",
   "metadata": {},
   "source": [
    "### RM(Retrieval Model) Pipeline Creation"
   ]
  },
  {
   "cell_type": "code",
   "execution_count": 27,
   "metadata": {},
   "outputs": [],
   "source": [
    "\n",
    "# Define a Custom RAG Pipeline\n",
    "class RAG(dspy.Module):\n",
    "    def __init__(self, collection_name= \"rag_contexts\",num_passages=10):\n",
    "        super().__init__()\n",
    "        self.retrieve = dspy.Retrieve(k=num_passages)\n",
    "        self.generate_answer = dspy.ChainOfThought(GenerateAnswer)\n",
    "\n",
    "\n",
    "    def forward(self, question):\n",
    "        context = self.retrieve(question).passages\n",
    "        prediction = self.generate_answer(context=context, question=question)\n",
    "        return dspy.Prediction(context=context, answer=prediction.answer)\n",
    "\n"
   ]
  },
  {
   "cell_type": "code",
   "execution_count": 28,
   "metadata": {},
   "outputs": [],
   "source": [
    "uncompiled_rag = RAG()"
   ]
  },
  {
   "cell_type": "code",
   "execution_count": null,
   "metadata": {},
   "outputs": [],
   "source": [
    "uncompiled_rag(sample)"
   ]
  },
  {
   "cell_type": "code",
   "execution_count": 16,
   "metadata": {},
   "outputs": [
    {
     "name": "stdout",
     "output_type": "stream",
     "text": [
      "\n",
      "\n",
      "\n",
      "\n",
      "Answer questions based on the context.\n",
      "\n",
      "---\n",
      "\n",
      "Follow the following format.\n",
      "\n",
      "Context: may contain relevant facts\n",
      "\n",
      "Question: ${question}\n",
      "\n",
      "Reasoning: Let's think step by step in order to ${produce the answer}. We ...\n",
      "\n",
      "Answer: ${answer}\n",
      "\n",
      "---\n",
      "\n",
      "Context:\n",
      "[1] «Two proprotein convertase subtilisin/kexin type 9 (PCSK9) inhibitors, evolocumab and alirocumab, have recently been approved by both the Food and Drug Administration (FDA) and the European Medicines Agency (EMA) for the treatment of hypercholesterolemia.»\n",
      "[2] «Food and Drug Administration approved the first two proprotein convertase subtilisin/kexin type 9 (PCSK9) inhibitors, alirocumab (Praluent®; Sanofi/ Regeneron) and evolocumab (Repatha®; Amgen), for use in patients with heterozygous and homozygous familial hypercholesterolemia and for patients intolerant of statins or those with a major risk of cardiovascular disease (CVD) but unable to lower their LDL cholesterol (LDL-C) to optimal levels with statins and ezetimibe.»\n",
      "[3] «In 2015 the U.S. Food and Drug Administration approved the first two proprotein convertase subtilisin/kexin type 9 (PCSK9) inhibitors, alirocumab (Praluent®; Sanofi/ Regeneron) and evolocumab (Repatha®; Amgen), for use in patients with heterozygous and homozygous familial hypercholesterolemia and for patients intolerant of statins or those with a major risk of cardiovascular disease (CVD) but unable to lower their LDL cholesterol (LDL-C) to optimal levels with statins and ezetimibe.»\n",
      "[4] «Proprotein convertase subtilisin kexin type 9 (PCSK9) is gaining attention as a key regulator of serum LDL-cholesterol (LDLC).»\n",
      "[5] «We report here the development of sdAbs targeting human PCSK9 (proprotein convertase subtilisin/kexin type 9) as an alternative to anti-PCSK9 mAbs.»\n",
      "[6] «Proprotein convertase subtilisin/kexin type 9 (PCSK9) is a regulator of LDL-cholesterol receptor homeostasis and emerges as a therapeutic target in the prevention of cardiovascular (CV) disease.»\n",
      "[7] «Very recent clinical trials have proven overwhelmingly the effectiveness and safety of PCSK9 inhibitors for lowering LDL-C. Both alirocumab and evolocumab have now been approved by the US FDA and there are some initial favorable outcomes data.»\n",
      "[8] «The 2 or 4‑week subcutaneous therapy with the recently approved antibodies alirocumab and evolocumab for inhibition of proprotein convertase subtilisin-kexin type 9 (PCSK9) reduces low-density lipoprotein cholesterol (LDL-C) in addition to statins and ezetimibe by 50-60 %.»\n",
      "[9] «Monoclonal antibodies that inhibit proprotein convertase subtilisin/ kexin type 9 (PCSK9), which degrades the LDL receptor, like alirocumab and evolocumab, are in phase 3 trials.»\n",
      "[10] «Proprotein convertase subtilisin/kexin type 9 (PCSK9), which binds the low-density lipoprotein receptor and targets it for degradation, has emerged as an important regulator of serum cholesterol levels and cardiovascular disease risk»\n",
      "\n",
      "Question: Which are the Proprotein Convertase Subtilisin Kexin 9 (PCSK9) inhibitors that are FDA approved?\n",
      "\n",
      "Reasoning: Let's think step by step in order to\u001b[32m identify the PCSK9 inhibitors that are FDA approved. The context mentions that the FDA has approved two PCSK9 inhibitors. These are mentioned in the first and second sentences of the context.\n",
      "\n",
      "Answer: The Proprotein Convertase Subtilisin Kexin 9 (PCSK9) inhibitors that are FDA approved are evolocumab and alirocumab.\u001b[0m\n",
      "\n",
      "\n",
      "\n"
     ]
    }
   ],
   "source": [
    "turbo.inspect_history(n=1)"
   ]
  },
  {
   "cell_type": "markdown",
   "metadata": {},
   "source": [
    "### Metrics Defination and Assesment Signatures  "
   ]
  },
  {
   "cell_type": "code",
   "execution_count": 17,
   "metadata": {},
   "outputs": [],
   "source": [
    "metricLM = dspy.OpenAI(model='gpt-4',api_key=openai_api_key,max_tokens=1000, model_type='chat')\n",
    "\n",
    "# Signature for LLM assessments.\n",
    "class Assess(dspy.Signature):\n",
    "    \"\"\"Assess the quality of an answer to a question.\"\"\"\n",
    "    context = dspy.InputField(desc=\"The context for answering the question.\")\n",
    "    assessed_question = dspy.InputField(desc=\"The evaluation criterion.\")\n",
    "    assessed_answer = dspy.InputField(desc=\"The answer to the question.\")\n",
    "    correct_answer = dspy.InputField(desc=\"The correct answer to the question.\")\n",
    "    assessment_answer = dspy.OutputField(desc=\"A rating between 1 and 5. Only output the rating and nothing else.\")\n",
    "\n",
    "def llm_metric(gold, pred, trace=None):\n",
    "    predicted_answer = pred.answer\n",
    "    gold_question = gold.question\n",
    "    gold_answer = gold.answer\n",
    "\n",
    "    detail = \"Is the assessed answer detailed?\"\n",
    "    faithful = \"Is the assessed text grounded in the context? Say no if it includes significant facts not in the context.\"\n",
    "    correctness = f\"Compare the given {predicted_answer} and {gold_answer} and assess how correct the answer is\"\n",
    "\n",
    "    with dspy.context(lm=metricLM):\n",
    "        context = dspy.Retrieve(k=10)(gold_question).passages\n",
    "        detail = dspy.ChainOfThought(Assess)(context=\"N/A\", assessed_question=detail, assessed_answer=predicted_answer,correct_answer=gold_answer)\n",
    "        faithful = dspy.ChainOfThought(Assess)(context=context, assessed_question=faithful, assessed_answer=predicted_answer,correct_answer=gold_answer)\n",
    "        correctness = dspy.ChainOfThought(Assess)(context=context,assessed_question=correctness, assessed_answer=predicted_answer,correct_answer=gold_answer)\n",
    "\n",
    "    print(f\"Faithful: {faithful.assessment_answer}\")\n",
    "    print(f\"Detail: {detail.assessment_answer}\")\n",
    "    print(f\"Correctness: {correctness.assessment_answer}\")\n",
    "    \n",
    "    total = float(detail.assessment_answer) + float(faithful.assessment_answer) + float(correctness.assessment_answer)\n",
    "    return total / 5.0\n",
    "    "
   ]
  },
  {
   "cell_type": "markdown",
   "metadata": {},
   "source": [
    "Reference for the above is taken from below cited sources \n",
    "- [Reference_1](https://dspy-docs.vercel.app/docs/building-blocks/metrics#intermediate-using-ai-feedback-for-your-metric)\n",
    "- [Reference_2](https://github.com/weaviate/recipes/blob/main/integrations/dspy/1.Getting-Started-with-RAG-in-DSPy.ipynb)"
   ]
  },
  {
   "cell_type": "markdown",
   "metadata": {},
   "source": [
    "Let's format the data in a specific way how the DSPY modules are expecting and then use some of the data for training and evaluation. "
   ]
  },
  {
   "cell_type": "code",
   "execution_count": 18,
   "metadata": {},
   "outputs": [],
   "source": [
    "trainset_dspy = train_data.sample(frac=0.8)\n",
    "valset_dspy = train_data.drop(trainset_dspy.index)"
   ]
  },
  {
   "cell_type": "code",
   "execution_count": 19,
   "metadata": {},
   "outputs": [],
   "source": [
    "from ast import literal_eval\n",
    "import dspy\n",
    "\n",
    "def read_list_from_string(s):\n",
    "    try:\n",
    "        return literal_eval(s)\n",
    "    except (ValueError, SyntaxError):\n",
    "        return s.split() if isinstance(s, str) else []\n",
    "\n",
    "def stringify_list_elements(lst):\n",
    "    lst = read_list_from_string(lst)\n",
    "    return \" \".join(str(e) for e in lst)\n",
    "\n",
    "trainset = [dspy.Example(question=row['question'],\n",
    "                        #  contexts=stringify_list_elements(row['contexts']),\n",
    "                         answer=stringify_list_elements(row['ground_truth']))\n",
    "            .with_inputs(\"question\") for i, row in trainset_dspy.iterrows()]\n",
    "\n",
    "valset = [dspy.Example(question=row['question'],\n",
    "                        # contexts=stringify_list_elements(row['contexts']),\n",
    "                        answer=stringify_list_elements(row['ground_truth']))\n",
    "           .with_inputs(\"question\") for i, row in valset_dspy.iterrows()]"
   ]
  },
  {
   "cell_type": "code",
   "execution_count": 20,
   "metadata": {},
   "outputs": [],
   "source": [
    "# For the purpose of demonstration let's keep it to 20. Remeber to use it wisely as the evaluation / training is all tied to API calls\n",
    "devset = valset[:20]"
   ]
  },
  {
   "cell_type": "code",
   "execution_count": null,
   "metadata": {},
   "outputs": [],
   "source": [
    "from dspy.evaluate.evaluate import Evaluate\n",
    "\n",
    "evaluate = Evaluate(devset=devset, num_threads=8, display_progress=True, display_table=5)\n",
    "uncompile_k_10 = RAG(num_passages=10) \n",
    "uncompiled_10_metrics = evaluate(uncompile_k_10, metric=llm_metric,return_all_scores=True,\n",
    "        return_outputs=True)"
   ]
  },
  {
   "cell_type": "code",
   "execution_count": 50,
   "metadata": {},
   "outputs": [],
   "source": [
    "def create_score_dataframe(eval_output):\n",
    "    # Extract questions and answers from the examples\n",
    "    questions = [ex[0].question for ex in eval_output]\n",
    "    answers = [ex[1].answer for ex in eval_output]\n",
    "    scores = [ex[2] for ex in eval_output]\n",
    "    # Create a DataFrame with questions, answers, and scores\n",
    "    score_dataframe = pd.DataFrame({'question': questions, 'predicted_answer': answers, 'score': scores})\n",
    "    return score_dataframe\n"
   ]
  },
  {
   "cell_type": "code",
   "execution_count": 55,
   "metadata": {},
   "outputs": [
    {
     "name": "stdout",
     "output_type": "stream",
     "text": [
      "Mean Score for the devset is 2.0\n"
     ]
    },
    {
     "data": {
      "text/html": [
       "<div>\n",
       "<style scoped>\n",
       "    .dataframe tbody tr th:only-of-type {\n",
       "        vertical-align: middle;\n",
       "    }\n",
       "\n",
       "    .dataframe tbody tr th {\n",
       "        vertical-align: top;\n",
       "    }\n",
       "\n",
       "    .dataframe thead th {\n",
       "        text-align: right;\n",
       "    }\n",
       "</style>\n",
       "<table border=\"1\" class=\"dataframe\">\n",
       "  <thead>\n",
       "    <tr style=\"text-align: right;\">\n",
       "      <th></th>\n",
       "      <th>question</th>\n",
       "      <th>predicted_answer</th>\n",
       "      <th>score</th>\n",
       "    </tr>\n",
       "  </thead>\n",
       "  <tbody>\n",
       "    <tr>\n",
       "      <th>0</th>\n",
       "      <td>Can protein coding exons originate from ALU sequences?</td>\n",
       "      <td>Yes</td>\n",
       "      <td>2.2</td>\n",
       "    </tr>\n",
       "    <tr>\n",
       "      <th>1</th>\n",
       "      <td>List metalloenzyme inhibitors.</td>\n",
       "      <td>VT-1129, VT-1161, hydroxamic acid, carboxylate, hydroxypyridinonate, thiol, N-hydroxyurea, BB-3497, 8-halo-4-(3-chloro-4-fluoro-phenylamino)-6-[(1H-[1,2,3]triazol-4-ylmethyl)-amino]-quinoline-3-carbonitriles, 2,2'-dipyridylamine (DPA), triazacyclononane (TACN), 8-hydroxyquinoline, thapsigargin.</td>\n",
       "      <td>1.8</td>\n",
       "    </tr>\n",
       "    <tr>\n",
       "      <th>2</th>\n",
       "      <td>Are long non coding RNAs as conserved in sequence as protein coding genes?</td>\n",
       "      <td>No, long noncoding RNAs are not as conserved in sequence as protein-coding genes.</td>\n",
       "      <td>2.4</td>\n",
       "    </tr>\n",
       "    <tr>\n",
       "      <th>3</th>\n",
       "      <td>Is Fibroblast Growth Factor 23 a phosphaturic hormone?</td>\n",
       "      <td>Yes</td>\n",
       "      <td>2.0</td>\n",
       "    </tr>\n",
       "    <tr>\n",
       "      <th>4</th>\n",
       "      <td>Do Conserved noncoding elements act as enhancers?</td>\n",
       "      <td>Yes, conserved noncoding elements act as enhancers.</td>\n",
       "      <td>2.2</td>\n",
       "    </tr>\n",
       "    <tr>\n",
       "      <th>5</th>\n",
       "      <td>What is the name of the stem loop present in the 3' end of genes encoding for selenoproteins?</td>\n",
       "      <td>The name of the stem loop present in the 3' end of genes encoding for selenoproteins is the Sec insertion sequence (SECIS) element or selenocysteine incorporating sequence (SECIS).</td>\n",
       "      <td>3.0</td>\n",
       "    </tr>\n",
       "    <tr>\n",
       "      <th>6</th>\n",
       "      <td>Are ultraconserved elements often transcribed?</td>\n",
       "      <td>Yes</td>\n",
       "      <td>1.8</td>\n",
       "    </tr>\n",
       "    <tr>\n",
       "      <th>7</th>\n",
       "      <td>What is being measured with an accelerometer in back pain patients</td>\n",
       "      <td>The accelerometer is used to measure overall physical activity, time spent in different static trunk postures, standing time, lying time, nighttime activity data, daily activities by measuring body movement, time spent upright (standing or walking), time standing, time walking, and step count in patients with chronic lower back pain.</td>\n",
       "      <td>3.0</td>\n",
       "    </tr>\n",
       "    <tr>\n",
       "      <th>8</th>\n",
       "      <td>Can NXY-059 be used for treatment of acute ischemic stroke patients?</td>\n",
       "      <td>NXY-059 has shown some potential for the treatment of acute ischemic stroke patients, but it is not conclusively effective and additional research is needed.</td>\n",
       "      <td>2.2</td>\n",
       "    </tr>\n",
       "    <tr>\n",
       "      <th>9</th>\n",
       "      <td>Which proteins control the degradation of cryptic unstable transcripts (CUTs) in yeast?</td>\n",
       "      <td>The proteins that control the degradation of cryptic unstable transcripts (CUTs) in yeast are Nrd1, Nab3, and the TRAMP complex.</td>\n",
       "      <td>2.2</td>\n",
       "    </tr>\n",
       "    <tr>\n",
       "      <th>10</th>\n",
       "      <td>What are prions?</td>\n",
       "      <td>Prions are self-propagating infectious protein isoforms most commonly associated with fatal neurodegenerative diseases in mammals. They are units of propagation of an altered state of a protein or proteins and can propagate from organism to organism. They become infectious by a different folding.</td>\n",
       "      <td>2.4</td>\n",
       "    </tr>\n",
       "    <tr>\n",
       "      <th>11</th>\n",
       "      <td>Are there Conserved Noncoding Elements (CNEs) in plant genomes?</td>\n",
       "      <td>Yes</td>\n",
       "      <td>1.4</td>\n",
       "    </tr>\n",
       "    <tr>\n",
       "      <th>12</th>\n",
       "      <td>Is CD99 encoded by MIC2 gene?</td>\n",
       "      <td>Yes</td>\n",
       "      <td>1.4</td>\n",
       "    </tr>\n",
       "    <tr>\n",
       "      <th>13</th>\n",
       "      <td>Does HuR bind to the untranslated regions (UTRs) of mRNAs?</td>\n",
       "      <td>Yes</td>\n",
       "      <td>2.2</td>\n",
       "    </tr>\n",
       "    <tr>\n",
       "      <th>14</th>\n",
       "      <td>Is there any software for automated analysis of FISH images?</td>\n",
       "      <td>Yes, there is a software called FISH Finder for automated analysis of FISH images.</td>\n",
       "      <td>2.0</td>\n",
       "    </tr>\n",
       "    <tr>\n",
       "      <th>15</th>\n",
       "      <td>The antibodies MK-3475 and CT-011 have shown promising results in treating malignancies. Which protein are they targeting?</td>\n",
       "      <td>PD-1 protein.</td>\n",
       "      <td>1.0</td>\n",
       "    </tr>\n",
       "    <tr>\n",
       "      <th>16</th>\n",
       "      <td>What enzyme is inhibied by Opicapone?</td>\n",
       "      <td>Catechol-O-methyltransferase (COMT)</td>\n",
       "      <td>1.0</td>\n",
       "    </tr>\n",
       "    <tr>\n",
       "      <th>17</th>\n",
       "      <td>Is amantadine effective for treatment of disorders conciousness?</td>\n",
       "      <td>Yes</td>\n",
       "      <td>1.4</td>\n",
       "    </tr>\n",
       "    <tr>\n",
       "      <th>18</th>\n",
       "      <td>Which are the mains risk factors of metabolic syndrome?</td>\n",
       "      <td>The main risk factors of metabolic syndrome are insulin resistance, dyslipidemia, essential hypertension, glucose dysregulation, central obesity, raised blood pressure, elevated triglycerides, low levels of high-density lipoprotein cholesterol, elevated plasma glucose level, prothrombotic and proinflammatory states, abdominal obesity, and hyperglycemia.</td>\n",
       "      <td>2.6</td>\n",
       "    </tr>\n",
       "    <tr>\n",
       "      <th>19</th>\n",
       "      <td>How does benralizumab's mechanism differ from other IL-5 biotherapeutics for severe asthma?</td>\n",
       "      <td>Benralizumab's mechanism differs from other IL-5 biotherapeutics for severe asthma in that it targets the interleukin-5 receptor α (IL-5Rα) itself, rather than the IL-5 ligand.</td>\n",
       "      <td>1.8</td>\n",
       "    </tr>\n",
       "  </tbody>\n",
       "</table>\n",
       "</div>"
      ],
      "text/plain": [
       "                                                                                                                      question  \\\n",
       "0                                                                       Can protein coding exons originate from ALU sequences?   \n",
       "1                                                                                               List metalloenzyme inhibitors.   \n",
       "2                                                   Are long non coding RNAs as conserved in sequence as protein coding genes?   \n",
       "3                                                                       Is Fibroblast Growth Factor 23 a phosphaturic hormone?   \n",
       "4                                                                            Do Conserved noncoding elements act as enhancers?   \n",
       "5                                What is the name of the stem loop present in the 3' end of genes encoding for selenoproteins?   \n",
       "6                                                                               Are ultraconserved elements often transcribed?   \n",
       "7                                                           What is being measured with an accelerometer in back pain patients   \n",
       "8                                                         Can NXY-059 be used for treatment of acute ischemic stroke patients?   \n",
       "9                                      Which proteins control the degradation of cryptic unstable transcripts (CUTs) in yeast?   \n",
       "10                                                                                                            What are prions?   \n",
       "11                                                             Are there Conserved Noncoding Elements (CNEs) in plant genomes?   \n",
       "12                                                                                               Is CD99 encoded by MIC2 gene?   \n",
       "13                                                                  Does HuR bind to the untranslated regions (UTRs) of mRNAs?   \n",
       "14                                                                Is there any software for automated analysis of FISH images?   \n",
       "15  The antibodies MK-3475 and CT-011 have shown promising results in treating malignancies. Which protein are they targeting?   \n",
       "16                                                                                       What enzyme is inhibied by Opicapone?   \n",
       "17                                                            Is amantadine effective for treatment of disorders conciousness?   \n",
       "18                                                                     Which are the mains risk factors of metabolic syndrome?   \n",
       "19                                 How does benralizumab's mechanism differ from other IL-5 biotherapeutics for severe asthma?   \n",
       "\n",
       "                                                                                                                                                                                                                                                                                                                                                       predicted_answer  score  \n",
       "0                                                                                                                                                                                                                                                                                                                                                                   Yes    2.2  \n",
       "1                                                               VT-1129, VT-1161, hydroxamic acid, carboxylate, hydroxypyridinonate, thiol, N-hydroxyurea, BB-3497, 8-halo-4-(3-chloro-4-fluoro-phenylamino)-6-[(1H-[1,2,3]triazol-4-ylmethyl)-amino]-quinoline-3-carbonitriles, 2,2'-dipyridylamine (DPA), triazacyclononane (TACN), 8-hydroxyquinoline, thapsigargin.    1.8  \n",
       "2                                                                                                                                                                                                                                                                                     No, long noncoding RNAs are not as conserved in sequence as protein-coding genes.    2.4  \n",
       "3                                                                                                                                                                                                                                                                                                                                                                   Yes    2.0  \n",
       "4                                                                                                                                                                                                                                                                                                                   Yes, conserved noncoding elements act as enhancers.    2.2  \n",
       "5                                                                                                                                                                                  The name of the stem loop present in the 3' end of genes encoding for selenoproteins is the Sec insertion sequence (SECIS) element or selenocysteine incorporating sequence (SECIS).    3.0  \n",
       "6                                                                                                                                                                                                                                                                                                                                                                   Yes    1.8  \n",
       "7                       The accelerometer is used to measure overall physical activity, time spent in different static trunk postures, standing time, lying time, nighttime activity data, daily activities by measuring body movement, time spent upright (standing or walking), time standing, time walking, and step count in patients with chronic lower back pain.    3.0  \n",
       "8                                                                                                                                                                                                         NXY-059 has shown some potential for the treatment of acute ischemic stroke patients, but it is not conclusively effective and additional research is needed.    2.2  \n",
       "9                                                                                                                                                                                                                                      The proteins that control the degradation of cryptic unstable transcripts (CUTs) in yeast are Nrd1, Nab3, and the TRAMP complex.    2.2  \n",
       "10                                                            Prions are self-propagating infectious protein isoforms most commonly associated with fatal neurodegenerative diseases in mammals. They are units of propagation of an altered state of a protein or proteins and can propagate from organism to organism. They become infectious by a different folding.    2.4  \n",
       "11                                                                                                                                                                                                                                                                                                                                                                  Yes    1.4  \n",
       "12                                                                                                                                                                                                                                                                                                                                                                  Yes    1.4  \n",
       "13                                                                                                                                                                                                                                                                                                                                                                  Yes    2.2  \n",
       "14                                                                                                                                                                                                                                                                                   Yes, there is a software called FISH Finder for automated analysis of FISH images.    2.0  \n",
       "15                                                                                                                                                                                                                                                                                                                                                        PD-1 protein.    1.0  \n",
       "16                                                                                                                                                                                                                                                                                                                                  Catechol-O-methyltransferase (COMT)    1.0  \n",
       "17                                                                                                                                                                                                                                                                                                                                                                  Yes    1.4  \n",
       "18  The main risk factors of metabolic syndrome are insulin resistance, dyslipidemia, essential hypertension, glucose dysregulation, central obesity, raised blood pressure, elevated triglycerides, low levels of high-density lipoprotein cholesterol, elevated plasma glucose level, prothrombotic and proinflammatory states, abdominal obesity, and hyperglycemia.    2.6  \n",
       "19                                                                                                                                                                                     Benralizumab's mechanism differs from other IL-5 biotherapeutics for severe asthma in that it targets the interleukin-5 receptor α (IL-5Rα) itself, rather than the IL-5 ligand.    1.8  "
      ]
     },
     "execution_count": 55,
     "metadata": {},
     "output_type": "execute_result"
    }
   ],
   "source": [
    "pd.set_option('display.max_colwidth', 500)\n",
    "pd.set_option('display.max_rows', 500)\n",
    "eval_outs = uncompiled_10_metrics[1]\n",
    "eval_outs_df = create_score_dataframe(eval_outs)\n",
    "print(f\"Mean Score for the devset is {eval_outs_df['score'].mean()}\")\n",
    "eval_outs_df"
   ]
  },
  {
   "cell_type": "markdown",
   "metadata": {},
   "source": [
    "The Mean Score of the Uncompiled RAG is 2.0. The Maximum Score possible is 3.0. Since we scaled the total score by 5. "
   ]
  },
  {
   "cell_type": "markdown",
   "metadata": {},
   "source": [
    "### Prompt from the Uncompiled Model"
   ]
  },
  {
   "cell_type": "code",
   "execution_count": 56,
   "metadata": {},
   "outputs": [
    {
     "name": "stdout",
     "output_type": "stream",
     "text": [
      "\n",
      "\n",
      "\n",
      "\n",
      "Answer questions based on the context.\n",
      "\n",
      "---\n",
      "\n",
      "Follow the following format.\n",
      "\n",
      "Context: may contain relevant facts\n",
      "\n",
      "Question: ${question}\n",
      "\n",
      "Reasoning: Let's think step by step in order to ${produce the answer}. We ...\n",
      "\n",
      "Answer: ${answer}\n",
      "\n",
      "---\n",
      "\n",
      "Context:\n",
      "[1] «The metabolic syndrome is a complex association of several risk factors including insulin resistance, dyslipidemia, and essential hypertension.»\n",
      "[2] «The metabolic syndrome is a constellation of risk factors including glucose dysregulation, central obesity, dyslipidemia, and hypertension.»\n",
      "[3] «The metabolic syndrome is a clustering of risk factors which predispose an individual to cardiovascular morbidity and mortality. There is general consensus regarding the main components of the syndrome (glucose intolerance, obesity, raised blood pressure and dyslipidaemia [elevated triglycerides, low levels of high-density lipoprotein cholesterol])»\n",
      "[4] «Metabolic syndrome is a constellation of interrelated risk factors of metabolic origin including abdominal obesity, atherogenic dyslipidemia, elevated blood pressure, elevated plasma glucose level, and prothrombotic and proinflammatory states that promote atherosclerotic CVD and increase the risk of type 2 diabetes mellitus.»\n",
      "[5] «\"The metabolic syndrome\" is the name for a clustering of risk factors for cardiovascular disease and type 2 diabetes that are of metabolic origin. These risk factors consist of atherogenic dyslipidemia, elevated blood pressure, elevated plasma glucose, a prothrombotic state, and a proinflammatory state.»\n",
      "[6] «Metabolic syndrome, defined as a cluster of obesity, hypertension, dyslipidemia, and insulin resistance/glucose intolerance, has been identified as a major risk factor for coronary heart disease in women.»\n",
      "[7] «metabolic syndrome, produced by genetic, hormonal and lifestyle factors such as obesity, physical inactivity and certain nutrient excesses. This disease is characterized by the clustering of insulin resistance and hyperinsulinemia, and is often associated with dyslipidemia (atherogenic plasma lipid profile), essential hypertension, abdominal (visceral) obesity, glucose intolerance or noninsulin-dependent diabetes mellitus and an increased risk of cardiovascular events»\n",
      "[8] «The metabolic syndrome (MetS) is characterized by a cluster of risk factors including central obesity, hypertension, dyslipidemia and insulin resistance, The MetS is associated with an increased risk for cardiovascular disease (CVD) and type 2 diabetes mellitus (T2DM).»\n",
      "[9] «Metabolic syndrome (MS) refers to the clustering of cardiometabolic risk factors - including abdominal obesity, hyperglycaemia, dyslipidaemia and elevated blood pressure»\n",
      "[10] «The metabolic syndrome has 5 criteria: central obesity, hypertriglyceridemia, low high-density lipoprotein (HDL) levels, fasting hyperglycemia, and hypertension.»\n",
      "\n",
      "Question: Which are the mains risk factors of metabolic syndrome?\n",
      "\n",
      "Reasoning: Let's think step by step in order to\u001b[32m identify the main risk factors of metabolic syndrome. We can see from the context that the main risk factors are mentioned multiple times across different sentences. These include insulin resistance, dyslipidemia, essential hypertension, glucose dysregulation, central obesity, raised blood pressure, elevated triglycerides, low levels of high-density lipoprotein cholesterol, elevated plasma glucose level, prothrombotic and proinflammatory states, abdominal obesity, and hyperglycemia.\n",
      "\n",
      "Answer: The main risk factors of metabolic syndrome are insulin resistance, dyslipidemia, essential hypertension, glucose dysregulation, central obesity, raised blood pressure, elevated triglycerides, low levels of high-density lipoprotein cholesterol, elevated plasma glucose level, prothrombotic and proinflammatory states, abdominal obesity, and hyperglycemia.\u001b[0m\n",
      "\n",
      "\n",
      "\n"
     ]
    }
   ],
   "source": [
    "turbo.inspect_history(n=1)"
   ]
  },
  {
   "cell_type": "code",
   "execution_count": 57,
   "metadata": {},
   "outputs": [
    {
     "name": "stdout",
     "output_type": "stream",
     "text": [
      "\n",
      "\n",
      "\n",
      "\n",
      "Assess the quality of an answer to a question.\n",
      "\n",
      "---\n",
      "\n",
      "Follow the following format.\n",
      "\n",
      "Context: The context for answering the question.\n",
      "\n",
      "Assessed Question: The evaluation criterion.\n",
      "\n",
      "Assessed Answer: The answer to the question.\n",
      "\n",
      "Correct Answer: The correct answer to the question.\n",
      "\n",
      "Reasoning: Let's think step by step in order to ${produce the assessment_answer}. We ...\n",
      "\n",
      "Assessment Answer: A rating between 1 and 5. Only output the rating and nothing else.\n",
      "\n",
      "---\n",
      "\n",
      "Context:\n",
      "[1] «The metabolic syndrome is a complex association of several risk factors including insulin resistance, dyslipidemia, and essential hypertension.»\n",
      "[2] «The metabolic syndrome is a constellation of risk factors including glucose dysregulation, central obesity, dyslipidemia, and hypertension.»\n",
      "[3] «The metabolic syndrome is a clustering of risk factors which predispose an individual to cardiovascular morbidity and mortality. There is general consensus regarding the main components of the syndrome (glucose intolerance, obesity, raised blood pressure and dyslipidaemia [elevated triglycerides, low levels of high-density lipoprotein cholesterol])»\n",
      "[4] «Metabolic syndrome is a constellation of interrelated risk factors of metabolic origin including abdominal obesity, atherogenic dyslipidemia, elevated blood pressure, elevated plasma glucose level, and prothrombotic and proinflammatory states that promote atherosclerotic CVD and increase the risk of type 2 diabetes mellitus.»\n",
      "[5] «\"The metabolic syndrome\" is the name for a clustering of risk factors for cardiovascular disease and type 2 diabetes that are of metabolic origin. These risk factors consist of atherogenic dyslipidemia, elevated blood pressure, elevated plasma glucose, a prothrombotic state, and a proinflammatory state.»\n",
      "[6] «Metabolic syndrome, defined as a cluster of obesity, hypertension, dyslipidemia, and insulin resistance/glucose intolerance, has been identified as a major risk factor for coronary heart disease in women.»\n",
      "[7] «metabolic syndrome, produced by genetic, hormonal and lifestyle factors such as obesity, physical inactivity and certain nutrient excesses. This disease is characterized by the clustering of insulin resistance and hyperinsulinemia, and is often associated with dyslipidemia (atherogenic plasma lipid profile), essential hypertension, abdominal (visceral) obesity, glucose intolerance or noninsulin-dependent diabetes mellitus and an increased risk of cardiovascular events»\n",
      "[8] «The metabolic syndrome (MetS) is characterized by a cluster of risk factors including central obesity, hypertension, dyslipidemia and insulin resistance, The MetS is associated with an increased risk for cardiovascular disease (CVD) and type 2 diabetes mellitus (T2DM).»\n",
      "[9] «Metabolic syndrome (MS) refers to the clustering of cardiometabolic risk factors - including abdominal obesity, hyperglycaemia, dyslipidaemia and elevated blood pressure»\n",
      "[10] «The metabolic syndrome has 5 criteria: central obesity, hypertriglyceridemia, low high-density lipoprotein (HDL) levels, fasting hyperglycemia, and hypertension.»\n",
      "\n",
      "Assessed Question: Is the assessed text grounded in the context? Say no if it includes significant facts not in the context.\n",
      "\n",
      "Assessed Answer: The main risk factors of metabolic syndrome are insulin resistance, dyslipidemia, essential hypertension, glucose dysregulation, central obesity, raised blood pressure, elevated triglycerides, low levels of high-density lipoprotein cholesterol, elevated plasma glucose level, prothrombotic and proinflammatory states, abdominal obesity, and hyperglycemia.\n",
      "\n",
      "Correct Answer: Metabolic syndrome is a disorder of energy utilization and storage, diagnosed by a co-occurrence of three out of five of the following medical conditions: abdominal (central) obesity, elevated blood pressure, elevated fasting plasma glucose, high serum triglycerides, and low high-density cholesterol (HDL) levels. Metabolic syndrome increases the risk of developing cardiovascular disease, particularly heart failure, and diabetes.\n",
      "\n",
      "Reasoning: Let's think step by step in order to\u001b[32m produce the assessment answer. We can see that the assessed answer is indeed grounded in the context. The context mentions all the risk factors listed in the assessed answer, including insulin resistance, dyslipidemia, essential hypertension, glucose dysregulation, central obesity, raised blood pressure, elevated triglycerides, low levels of high-density lipoprotein cholesterol, elevated plasma glucose level, prothrombotic and proinflammatory states, abdominal obesity, and hyperglycemia. Therefore, the assessed answer is accurate and does not include significant facts not in the context.\n",
      "\n",
      "Assessment Answer: 5\u001b[0m\n",
      "\n",
      "\n",
      "\n",
      "\n",
      "\n",
      "\n",
      "\n",
      "Assess the quality of an answer to a question.\n",
      "\n",
      "---\n",
      "\n",
      "Follow the following format.\n",
      "\n",
      "Context: The context for answering the question.\n",
      "\n",
      "Assessed Question: The evaluation criterion.\n",
      "\n",
      "Assessed Answer: The answer to the question.\n",
      "\n",
      "Correct Answer: The correct answer to the question.\n",
      "\n",
      "Reasoning: Let's think step by step in order to ${produce the assessment_answer}. We ...\n",
      "\n",
      "Assessment Answer: A rating between 1 and 5. Only output the rating and nothing else.\n",
      "\n",
      "---\n",
      "\n",
      "Context:\n",
      "[1] «The metabolic syndrome is a complex association of several risk factors including insulin resistance, dyslipidemia, and essential hypertension.»\n",
      "[2] «The metabolic syndrome is a constellation of risk factors including glucose dysregulation, central obesity, dyslipidemia, and hypertension.»\n",
      "[3] «The metabolic syndrome is a clustering of risk factors which predispose an individual to cardiovascular morbidity and mortality. There is general consensus regarding the main components of the syndrome (glucose intolerance, obesity, raised blood pressure and dyslipidaemia [elevated triglycerides, low levels of high-density lipoprotein cholesterol])»\n",
      "[4] «Metabolic syndrome is a constellation of interrelated risk factors of metabolic origin including abdominal obesity, atherogenic dyslipidemia, elevated blood pressure, elevated plasma glucose level, and prothrombotic and proinflammatory states that promote atherosclerotic CVD and increase the risk of type 2 diabetes mellitus.»\n",
      "[5] «\"The metabolic syndrome\" is the name for a clustering of risk factors for cardiovascular disease and type 2 diabetes that are of metabolic origin. These risk factors consist of atherogenic dyslipidemia, elevated blood pressure, elevated plasma glucose, a prothrombotic state, and a proinflammatory state.»\n",
      "[6] «Metabolic syndrome, defined as a cluster of obesity, hypertension, dyslipidemia, and insulin resistance/glucose intolerance, has been identified as a major risk factor for coronary heart disease in women.»\n",
      "[7] «metabolic syndrome, produced by genetic, hormonal and lifestyle factors such as obesity, physical inactivity and certain nutrient excesses. This disease is characterized by the clustering of insulin resistance and hyperinsulinemia, and is often associated with dyslipidemia (atherogenic plasma lipid profile), essential hypertension, abdominal (visceral) obesity, glucose intolerance or noninsulin-dependent diabetes mellitus and an increased risk of cardiovascular events»\n",
      "[8] «The metabolic syndrome (MetS) is characterized by a cluster of risk factors including central obesity, hypertension, dyslipidemia and insulin resistance, The MetS is associated with an increased risk for cardiovascular disease (CVD) and type 2 diabetes mellitus (T2DM).»\n",
      "[9] «Metabolic syndrome (MS) refers to the clustering of cardiometabolic risk factors - including abdominal obesity, hyperglycaemia, dyslipidaemia and elevated blood pressure»\n",
      "[10] «The metabolic syndrome has 5 criteria: central obesity, hypertriglyceridemia, low high-density lipoprotein (HDL) levels, fasting hyperglycemia, and hypertension.»\n",
      "\n",
      "Assessed Question: Compare the given The main risk factors of metabolic syndrome are insulin resistance, dyslipidemia, essential hypertension, glucose dysregulation, central obesity, raised blood pressure, elevated triglycerides, low levels of high-density lipoprotein cholesterol, elevated plasma glucose level, prothrombotic and proinflammatory states, abdominal obesity, and hyperglycemia. and Metabolic syndrome is a disorder of energy utilization and storage, diagnosed by a co-occurrence of three out of five of the following medical conditions: abdominal (central) obesity, elevated blood pressure, elevated fasting plasma glucose, high serum triglycerides, and low high-density cholesterol (HDL) levels. Metabolic syndrome increases the risk of developing cardiovascular disease, particularly heart failure, and diabetes. and assess how correct the answer is\n",
      "\n",
      "Assessed Answer: The main risk factors of metabolic syndrome are insulin resistance, dyslipidemia, essential hypertension, glucose dysregulation, central obesity, raised blood pressure, elevated triglycerides, low levels of high-density lipoprotein cholesterol, elevated plasma glucose level, prothrombotic and proinflammatory states, abdominal obesity, and hyperglycemia.\n",
      "\n",
      "Correct Answer: Metabolic syndrome is a disorder of energy utilization and storage, diagnosed by a co-occurrence of three out of five of the following medical conditions: abdominal (central) obesity, elevated blood pressure, elevated fasting plasma glucose, high serum triglycerides, and low high-density cholesterol (HDL) levels. Metabolic syndrome increases the risk of developing cardiovascular disease, particularly heart failure, and diabetes.\n",
      "\n",
      "Reasoning: Let's think step by step in order to\u001b[32m produce the assessment answer. We can see that the assessed answer lists out the main risk factors of metabolic syndrome accurately as per the context provided. However, it does not mention that metabolic syndrome is a disorder of energy utilization and storage, diagnosed by a co-occurrence of three out of five of the following medical conditions: abdominal (central) obesity, elevated blood pressure, elevated fasting plasma glucose, high serum triglycerides, and low high-density cholesterol (HDL) levels. It also does not mention that metabolic syndrome increases the risk of developing cardiovascular disease, particularly heart failure, and diabetes. Therefore, while the assessed answer is partially correct, it is not fully correct as it does not include all the information provided in the correct answer.\n",
      "\n",
      "Assessment Answer: 3\u001b[0m\n",
      "\n",
      "\n",
      "\n",
      "\n",
      "\n",
      "\n",
      "\n",
      "Assess the quality of an answer to a question.\n",
      "\n",
      "---\n",
      "\n",
      "Follow the following format.\n",
      "\n",
      "Context: The context for answering the question.\n",
      "\n",
      "Assessed Question: The evaluation criterion.\n",
      "\n",
      "Assessed Answer: The answer to the question.\n",
      "\n",
      "Correct Answer: The correct answer to the question.\n",
      "\n",
      "Reasoning: Let's think step by step in order to ${produce the assessment_answer}. We ...\n",
      "\n",
      "Assessment Answer: A rating between 1 and 5. Only output the rating and nothing else.\n",
      "\n",
      "---\n",
      "\n",
      "Context:\n",
      "[1] «BACKGROUND Benralizumab is an anti-eosinophilic, anti-interleukin-5 receptor α monoclonal antibody that has been shown to significantly reduce asthma exacerbations and improve lung function for patients with severe, uncontrolled asthma.»\n",
      "[2] «Benralizumab--a humanized mAb to IL-5Rα with enhanced antibody-dependent cell-mediated cytotoxicity--a novel approach for the treatment of asthma.»\n",
      "[3] «BACKGROUND: Benralizumab is a humanised, anti-interleukin 5 receptor α monoclonal antibody that directly and rapidly depletes eosinophils, reduces asthma exacerbations, and improves lung function for patients with severe eosinophilic asthma.»\n",
      "[4] «We assessed the safety and efficacy of benralizumab, a monoclonal antibody against interleukin-5 receptor α that depletes eosinophils by antibody-dependent cell-mediated cytotoxicity, for patients with severe, uncontrolled asthma with eosinophilia.»\n",
      "[5] «Benralizumab is a monoclonal antibody that targets interleukin-5 receptor α to deplete blood eosinophils and improve the clinical outcomes of allergic asthma.»\n",
      "[6] «In a phase 2b dose-ranging study, we aimed to assess the efficacy and safety of benralizumab, an anti-interleukin 5 receptor α monoclonal antibody that depletes blood and airway eosinophils, in adults with uncontrolled eosinophilic asthma.»\n",
      "[7] «We investigated whether benralizumab, a monoclonal antibody directed against the alpha subunit of the interleukin-5 receptor that significantly reduces the incidence of asthma exacerbations, was also effective as an oral glucocorticoid-sparing therapy in patients relying on oral glucocorticoids to manage severe asthma associated with eosinophilia.»\n",
      "[8] «While previous monoclonal antibodies against the IL-5 ligand resulted in inconsistent improvements in asthma outcomes, benralizumab has shown promise.»\n",
      "[9] «Expert opinion: Benralizumab has the advantage over other anti-IL-5 therapies to target the IL-5Rα itself.»\n",
      "[10] «. We investigated whether benralizumab, a monoclonal antibody directed against the alpha subunit of the interleukin-5 receptor that significantly reduces the incidence of asthma exacerbations, was also effective as an oral glucocorticoid-sparing therapy in patients relying on oral glucocorticoids to manage severe asthma associated with eosinophilia.»\n",
      "\n",
      "Assessed Question: Compare the given Benralizumab's mechanism differs from other IL-5 biotherapeutics for severe asthma in that it targets the interleukin-5 receptor α (IL-5Rα) itself, rather than the IL-5 ligand. and Benralizumab's mechanism differs from other IL-5 biotherapeutics for severe asthma in that it directly and rapidly depletes eosinophils through antibody-dependent cell-mediated cytotoxicity, reduces asthma exacerbations, and improves lung function for patients with severe eosinophilic asthma. and assess how correct the answer is\n",
      "\n",
      "Assessed Answer: Benralizumab's mechanism differs from other IL-5 biotherapeutics for severe asthma in that it targets the interleukin-5 receptor α (IL-5Rα) itself, rather than the IL-5 ligand.\n",
      "\n",
      "Correct Answer: Benralizumab's mechanism differs from other IL-5 biotherapeutics for severe asthma in that it directly and rapidly depletes eosinophils through antibody-dependent cell-mediated cytotoxicity, reduces asthma exacerbations, and improves lung function for patients with severe eosinophilic asthma.\n",
      "\n",
      "Reasoning: Let's think step by step in order to\u001b[32m produce the assessment answer. We can see from the context that Benralizumab is a monoclonal antibody that targets the interleukin-5 receptor α (IL-5Rα) itself, rather than the IL-5 ligand. This is stated in the assessed answer. However, the correct answer also includes the fact that Benralizumab directly and rapidly depletes eosinophils through antibody-dependent cell-mediated cytotoxicity, reduces asthma exacerbations, and improves lung function for patients with severe eosinophilic asthma. This information is also provided in the context but is missing from the assessed answer. Therefore, the assessed answer is partially correct but lacks important details.\n",
      "\n",
      "Assessment Answer: 3\u001b[0m\n",
      "\n",
      "\n",
      "\n"
     ]
    }
   ],
   "source": [
    "# Lets check the Metrics LLM Prompt as well\n",
    "metricLM.inspect_history(n=3)"
   ]
  },
  {
   "cell_type": "code",
   "execution_count": 64,
   "metadata": {},
   "outputs": [
    {
     "data": {
      "text/plain": [
       "26"
      ]
     },
     "execution_count": 64,
     "metadata": {},
     "output_type": "execute_result"
    }
   ],
   "source": [
    "# Since 'trainset' is a list and doesn't have a 'sample' method, we will define a function to sample from it\n",
    "def sample_from_list(lst, fraction):\n",
    "    sample_size = int(len(lst) * fraction)\n",
    "    return random.sample(lst, sample_size)\n",
    "\n",
    "# Now we use the function to sample 2% if the dataset\n",
    "trainset_truncated = sample_from_list(trainset, 0.02)\n",
    "len(trainset_truncated)"
   ]
  },
  {
   "cell_type": "markdown",
   "metadata": {},
   "source": [
    "### Optimizer : Bootstrap Random Search Optimization"
   ]
  },
  {
   "cell_type": "code",
   "execution_count": 65,
   "metadata": {},
   "outputs": [
    {
     "name": "stdout",
     "output_type": "stream",
     "text": [
      "Going to sample between 1 and 2 traces per predictor.\n",
      "Will attempt to train 2 candidate sets.\n"
     ]
    },
    {
     "name": "stderr",
     "output_type": "stream",
     "text": [
      "Average Metric: 4.0 / 2  (200.0):   8%|▊         | 2/26 [00:28<04:42, 11.77s/it]"
     ]
    },
    {
     "name": "stdout",
     "output_type": "stream",
     "text": [
      "Faithful: 5\n",
      "Detail: 1\n",
      "Correctness: 5\n",
      "Faithful: 5\n",
      "Detail: 2\n",
      "Correctness: 2\n"
     ]
    },
    {
     "name": "stderr",
     "output_type": "stream",
     "text": [
      "Average Metric: 6.7 / 3  (223.3):  12%|█▏        | 3/26 [00:29<02:33,  6.68s/it]"
     ]
    },
    {
     "name": "stdout",
     "output_type": "stream",
     "text": [
      "Faithful: 5\n",
      "Detail: 4\n",
      "Correctness: 4.5\n"
     ]
    },
    {
     "name": "stderr",
     "output_type": "stream",
     "text": [
      "Average Metric: 8.7 / 4  (217.5):  15%|█▌        | 4/26 [00:30<01:40,  4.55s/it]"
     ]
    },
    {
     "name": "stdout",
     "output_type": "stream",
     "text": [
      "Faithful: 5\n",
      "Detail: 2\n",
      "Correctness: 3\n"
     ]
    },
    {
     "name": "stderr",
     "output_type": "stream",
     "text": [
      "Average Metric: 10.899999999999999 / 5  (218.0):  19%|█▉        | 5/26 [00:30<01:03,  3.00s/it]"
     ]
    },
    {
     "name": "stdout",
     "output_type": "stream",
     "text": [
      "Faithful: 4\n",
      "Detail: 3\n",
      "Correctness: 4\n"
     ]
    },
    {
     "name": "stderr",
     "output_type": "stream",
     "text": [
      "Average Metric: 12.7 / 6  (211.7):  23%|██▎       | 6/26 [00:31<00:44,  2.24s/it]              "
     ]
    },
    {
     "name": "stdout",
     "output_type": "stream",
     "text": [
      "Faithful: 5\n",
      "Detail: 3\n",
      "Correctness: 1\n"
     ]
    },
    {
     "name": "stderr",
     "output_type": "stream",
     "text": [
      "Average Metric: 14.899999999999999 / 7  (212.9):  27%|██▋       | 7/26 [00:37<01:08,  3.62s/it]"
     ]
    },
    {
     "name": "stdout",
     "output_type": "stream",
     "text": [
      "Faithful: 5\n",
      "Detail: 3\n",
      "Correctness: 3\n"
     ]
    },
    {
     "name": "stderr",
     "output_type": "stream",
     "text": [
      "Average Metric: 16.299999999999997 / 8  (203.7):  31%|███       | 8/26 [00:38<00:46,  2.56s/it]"
     ]
    },
    {
     "name": "stdout",
     "output_type": "stream",
     "text": [
      "Faithful: 5\n",
      "Detail: 1\n",
      "Correctness: 1\n"
     ]
    },
    {
     "name": "stderr",
     "output_type": "stream",
     "text": [
      "Average Metric: 20.099999999999998 / 10  (201.0):  38%|███▊      | 10/26 [00:51<01:03,  4.00s/it]"
     ]
    },
    {
     "name": "stdout",
     "output_type": "stream",
     "text": [
      "Faithful: 5\n",
      "Detail: 3\n",
      "Correctness: 3\n",
      "Faithful: 5\n",
      "Detail: 1\n",
      "Correctness: 2\n"
     ]
    },
    {
     "name": "stderr",
     "output_type": "stream",
     "text": [
      "Average Metric: 21.9 / 11  (199.1):  42%|████▏     | 11/26 [00:55<01:02,  4.13s/it]              "
     ]
    },
    {
     "name": "stdout",
     "output_type": "stream",
     "text": [
      "Faithful: 5\n",
      "Detail: 1\n",
      "Correctness: 3\n"
     ]
    },
    {
     "name": "stderr",
     "output_type": "stream",
     "text": [
      "Average Metric: 24.299999999999997 / 12  (202.5):  46%|████▌     | 12/26 [00:56<00:44,  3.17s/it]"
     ]
    },
    {
     "name": "stdout",
     "output_type": "stream",
     "text": [
      "Faithful: 5\n",
      "Detail: 3\n",
      "Correctness: 4\n"
     ]
    },
    {
     "name": "stderr",
     "output_type": "stream",
     "text": [
      "Average Metric: 26.699999999999996 / 13  (205.4):  50%|█████     | 13/26 [00:57<00:31,  2.42s/it]"
     ]
    },
    {
     "name": "stdout",
     "output_type": "stream",
     "text": [
      "Faithful: 5\n",
      "Detail: 3\n",
      "Correctness: 4\n"
     ]
    },
    {
     "name": "stderr",
     "output_type": "stream",
     "text": [
      "Average Metric: 28.099999999999994 / 14  (200.7):  54%|█████▍    | 14/26 [00:59<00:29,  2.49s/it]"
     ]
    },
    {
     "name": "stdout",
     "output_type": "stream",
     "text": [
      "Faithful: 3\n",
      "Detail: 2\n",
      "Correctness: 2\n"
     ]
    },
    {
     "name": "stderr",
     "output_type": "stream",
     "text": [
      "Average Metric: 30.299999999999994 / 15  (202.0):  58%|█████▊    | 15/26 [01:02<00:28,  2.63s/it]"
     ]
    },
    {
     "name": "stdout",
     "output_type": "stream",
     "text": [
      "Faithful: 5\n",
      "Detail: 3\n",
      "Correctness: 3\n"
     ]
    },
    {
     "name": "stderr",
     "output_type": "stream",
     "text": [
      "Average Metric: 33.3 / 16  (208.1):  62%|██████▏   | 16/26 [01:02<00:19,  1.92s/it]              "
     ]
    },
    {
     "name": "stdout",
     "output_type": "stream",
     "text": [
      "Faithful: 5\n",
      "Detail: 5\n",
      "Correctness: 5\n"
     ]
    },
    {
     "name": "stderr",
     "output_type": "stream",
     "text": [
      "Average Metric: 35.3 / 17  (207.6):  65%|██████▌   | 17/26 [01:05<00:18,  2.07s/it]"
     ]
    },
    {
     "name": "stdout",
     "output_type": "stream",
     "text": [
      "Faithful: 5\n",
      "Detail: 2\n",
      "Correctness: 3\n"
     ]
    },
    {
     "name": "stderr",
     "output_type": "stream",
     "text": [
      "Average Metric: 36.099999999999994 / 18  (200.6):  69%|██████▉   | 18/26 [01:16<00:38,  4.75s/it]"
     ]
    },
    {
     "name": "stdout",
     "output_type": "stream",
     "text": [
      "Faithful: 2\n",
      "Detail: 1\n",
      "Correctness: 1\n"
     ]
    },
    {
     "name": "stderr",
     "output_type": "stream",
     "text": [
      "Average Metric: 38.99999999999999 / 19  (205.3):  73%|███████▎  | 19/26 [01:17<00:26,  3.73s/it] "
     ]
    },
    {
     "name": "stdout",
     "output_type": "stream",
     "text": [
      "Faithful: 5\n",
      "Detail: 5\n",
      "Correctness: 4.5\n"
     ]
    },
    {
     "name": "stderr",
     "output_type": "stream",
     "text": [
      "Average Metric: 41.39999999999999 / 20  (207.0):  77%|███████▋  | 20/26 [01:22<00:24,  4.01s/it]"
     ]
    },
    {
     "name": "stdout",
     "output_type": "stream",
     "text": [
      "Faithful: 2\n",
      "Detail: 5\n",
      "Correctness: 5\n"
     ]
    },
    {
     "name": "stderr",
     "output_type": "stream",
     "text": [
      "Average Metric: 42.599999999999994 / 21  (202.9):  81%|████████  | 21/26 [01:24<00:16,  3.32s/it]"
     ]
    },
    {
     "name": "stdout",
     "output_type": "stream",
     "text": [
      "Faithful: 3\n",
      "Detail: 2\n",
      "Correctness: 1\n"
     ]
    },
    {
     "name": "stderr",
     "output_type": "stream",
     "text": [
      "Average Metric: 44.599999999999994 / 22  (202.7):  85%|████████▍ | 22/26 [01:25<00:10,  2.75s/it]"
     ]
    },
    {
     "name": "stdout",
     "output_type": "stream",
     "text": [
      "Faithful: 5\n",
      "Detail: 2\n",
      "Correctness: 3\n"
     ]
    },
    {
     "name": "stderr",
     "output_type": "stream",
     "text": [
      "Average Metric: 45.39999999999999 / 23  (197.4):  88%|████████▊ | 23/26 [01:30<00:10,  3.34s/it] "
     ]
    },
    {
     "name": "stdout",
     "output_type": "stream",
     "text": [
      "Faithful: 2\n",
      "Detail: 1\n",
      "Correctness: 1\n"
     ]
    },
    {
     "name": "stderr",
     "output_type": "stream",
     "text": [
      "Average Metric: 47.39999999999999 / 24  (197.5):  92%|█████████▏| 24/26 [01:31<00:05,  2.78s/it]"
     ]
    },
    {
     "name": "stdout",
     "output_type": "stream",
     "text": [
      "Faithful: 4\n",
      "Detail: 3\n",
      "Correctness: 3\n"
     ]
    },
    {
     "name": "stderr",
     "output_type": "stream",
     "text": [
      "Average Metric: 49.599999999999994 / 25  (198.4):  96%|█████████▌| 25/26 [01:36<00:03,  3.30s/it]"
     ]
    },
    {
     "name": "stdout",
     "output_type": "stream",
     "text": [
      "Faithful: 5\n",
      "Detail: 1\n",
      "Correctness: 5\n"
     ]
    },
    {
     "name": "stderr",
     "output_type": "stream",
     "text": [
      "Average Metric: 50.39999999999999 / 26  (193.8): 100%|██████████| 26/26 [01:44<00:00,  4.01s/it] \n"
     ]
    },
    {
     "name": "stdout",
     "output_type": "stream",
     "text": [
      "Faithful: 2\n",
      "Detail: 1\n",
      "Correctness: 1\n",
      "Average Metric: 50.39999999999999 / 26  (193.8%)\n",
      "Score: 193.85 for set: [0]\n",
      "New best score: 193.85 for seed -3\n",
      "Scores so far: [193.85]\n",
      "Best score: 193.85\n"
     ]
    },
    {
     "name": "stderr",
     "output_type": "stream",
     "text": [
      "Average Metric: 2.2 / 1  (220.0):   4%|▍         | 1/26 [00:05<02:14,  5.36s/it]"
     ]
    },
    {
     "name": "stdout",
     "output_type": "stream",
     "text": [
      "Faithful: 4\n",
      "Detail: 3\n",
      "Correctness: 4\n"
     ]
    },
    {
     "name": "stderr",
     "output_type": "stream",
     "text": [
      "Average Metric: 4.0 / 2  (200.0):   8%|▊         | 2/26 [00:06<01:14,  3.10s/it]"
     ]
    },
    {
     "name": "stdout",
     "output_type": "stream",
     "text": [
      "Faithful: 5\n",
      "Detail: 3\n",
      "Correctness: 1\n"
     ]
    },
    {
     "name": "stderr",
     "output_type": "stream",
     "text": [
      "Average Metric: 6.0 / 3  (200.0):  12%|█▏        | 3/26 [00:11<01:24,  3.66s/it]"
     ]
    },
    {
     "name": "stdout",
     "output_type": "stream",
     "text": [
      "Faithful: 5\n",
      "Detail: 2\n",
      "Correctness: 3\n"
     ]
    },
    {
     "name": "stderr",
     "output_type": "stream",
     "text": [
      "Average Metric: 8.4 / 4  (210.0):  15%|█▌        | 4/26 [00:11<00:53,  2.43s/it]"
     ]
    },
    {
     "name": "stdout",
     "output_type": "stream",
     "text": [
      "Faithful: 5\n",
      "Detail: 3\n",
      "Correctness: 4\n"
     ]
    },
    {
     "name": "stderr",
     "output_type": "stream",
     "text": [
      "Average Metric: 10.600000000000001 / 5  (212.0):  19%|█▉        | 5/26 [00:29<02:46,  7.93s/it]"
     ]
    },
    {
     "name": "stdout",
     "output_type": "stream",
     "text": [
      "Faithful: 5\n",
      "Detail: 3\n",
      "Correctness: 3\n"
     ]
    },
    {
     "name": "stderr",
     "output_type": "stream",
     "text": [
      "Average Metric: 13.600000000000001 / 6  (226.7):  23%|██▎       | 6/26 [00:31<01:59,  5.97s/it]"
     ]
    },
    {
     "name": "stdout",
     "output_type": "stream",
     "text": [
      "Faithful: 5\n",
      "Detail: 5\n",
      "Correctness: 5\n"
     ]
    },
    {
     "name": "stderr",
     "output_type": "stream",
     "text": [
      "Average Metric: 16.0 / 7  (228.6):  27%|██▋       | 7/26 [00:34<01:35,  5.04s/it]              "
     ]
    },
    {
     "name": "stdout",
     "output_type": "stream",
     "text": [
      "Faithful: 5\n",
      "Detail: 4\n",
      "Correctness: 3\n"
     ]
    },
    {
     "name": "stderr",
     "output_type": "stream",
     "text": [
      "Average Metric: 18.2 / 8  (227.5):  31%|███       | 8/26 [00:35<01:07,  3.74s/it]"
     ]
    },
    {
     "name": "stdout",
     "output_type": "stream",
     "text": [
      "Faithful: 3\n",
      "Detail: 5\n",
      "Correctness: 3\n"
     ]
    },
    {
     "name": "stderr",
     "output_type": "stream",
     "text": [
      "Average Metric: 19.4 / 9  (215.6):  35%|███▍      | 9/26 [00:39<01:03,  3.71s/it]"
     ]
    },
    {
     "name": "stdout",
     "output_type": "stream",
     "text": [
      "Faithful: 3\n",
      "Detail: 1\n",
      "Correctness: 2\n"
     ]
    },
    {
     "name": "stderr",
     "output_type": "stream",
     "text": [
      "Average Metric: 22.299999999999997 / 10  (223.0):  38%|███▊      | 10/26 [00:39<00:42,  2.68s/it]"
     ]
    },
    {
     "name": "stdout",
     "output_type": "stream",
     "text": [
      "Faithful: 5\n",
      "Detail: 5\n",
      "Correctness: 4.5\n"
     ]
    },
    {
     "name": "stderr",
     "output_type": "stream",
     "text": [
      "Average Metric: 24.699999999999996 / 11  (224.5):  42%|████▏     | 11/26 [00:43<00:46,  3.13s/it]"
     ]
    },
    {
     "name": "stdout",
     "output_type": "stream",
     "text": [
      "Faithful: 5\n",
      "Detail: 3\n",
      "Correctness: 4\n"
     ]
    },
    {
     "name": "stderr",
     "output_type": "stream",
     "text": [
      "Average Metric: 27.099999999999994 / 12  (225.8):  46%|████▌     | 12/26 [00:44<00:32,  2.34s/it]"
     ]
    },
    {
     "name": "stdout",
     "output_type": "stream",
     "text": [
      "Faithful: 5\n",
      "Detail: 3\n",
      "Correctness: 4\n"
     ]
    },
    {
     "name": "stderr",
     "output_type": "stream",
     "text": [
      "Average Metric: 29.499999999999993 / 13  (226.9):  50%|█████     | 13/26 [00:46<00:27,  2.15s/it]"
     ]
    },
    {
     "name": "stdout",
     "output_type": "stream",
     "text": [
      "Faithful: 5\n",
      "Detail: 4\n",
      "Correctness: 3\n"
     ]
    },
    {
     "name": "stderr",
     "output_type": "stream",
     "text": [
      "Average Metric: 31.89999999999999 / 14  (227.9):  54%|█████▍    | 14/26 [00:54<00:48,  4.00s/it] "
     ]
    },
    {
     "name": "stdout",
     "output_type": "stream",
     "text": [
      "Faithful: 5\n",
      "Detail: 2\n",
      "Correctness: 5\n"
     ]
    },
    {
     "name": "stderr",
     "output_type": "stream",
     "text": [
      "Average Metric: 34.29999999999999 / 15  (228.7):  58%|█████▊    | 15/26 [00:58<00:44,  4.02s/it]"
     ]
    },
    {
     "name": "stdout",
     "output_type": "stream",
     "text": [
      "Faithful: 5\n",
      "Detail: 4\n",
      "Correctness: 3\n"
     ]
    },
    {
     "name": "stderr",
     "output_type": "stream",
     "text": [
      "Average Metric: 36.69999999999999 / 16  (229.4):  62%|██████▏   | 16/26 [01:01<00:37,  3.78s/it]"
     ]
    },
    {
     "name": "stdout",
     "output_type": "stream",
     "text": [
      "Faithful: 5\n",
      "Detail: 3\n",
      "Correctness: 4\n"
     ]
    },
    {
     "name": "stderr",
     "output_type": "stream",
     "text": [
      "Average Metric: 38.69999999999999 / 17  (227.6):  65%|██████▌   | 17/26 [01:04<00:30,  3.36s/it]"
     ]
    },
    {
     "name": "stdout",
     "output_type": "stream",
     "text": [
      "Faithful: 5\n",
      "Detail: 2\n",
      "Correctness: 3\n"
     ]
    },
    {
     "name": "stderr",
     "output_type": "stream",
     "text": [
      "Average Metric: 40.89999999999999 / 18  (227.2):  69%|██████▉   | 18/26 [01:06<00:24,  3.00s/it]"
     ]
    },
    {
     "name": "stdout",
     "output_type": "stream",
     "text": [
      "Faithful: 5\n",
      "Detail: 1\n",
      "Correctness: 5\n"
     ]
    },
    {
     "name": "stderr",
     "output_type": "stream",
     "text": [
      "Average Metric: 43.89999999999999 / 19  (231.1):  73%|███████▎  | 19/26 [01:06<00:15,  2.22s/it]"
     ]
    },
    {
     "name": "stdout",
     "output_type": "stream",
     "text": [
      "Faithful: 5\n",
      "Detail: 5\n",
      "Correctness: 5\n"
     ]
    },
    {
     "name": "stderr",
     "output_type": "stream",
     "text": [
      "Average Metric: 45.69999999999999 / 20  (228.5):  77%|███████▋  | 20/26 [01:14<00:23,  3.84s/it]"
     ]
    },
    {
     "name": "stdout",
     "output_type": "stream",
     "text": [
      "Faithful: 4\n",
      "Detail: 2\n",
      "Correctness: 3\n"
     ]
    },
    {
     "name": "stderr",
     "output_type": "stream",
     "text": [
      "Average Metric: 48.29999999999999 / 21  (230.0):  81%|████████  | 21/26 [01:14<00:14,  2.92s/it]"
     ]
    },
    {
     "name": "stdout",
     "output_type": "stream",
     "text": [
      "Faithful: 4\n",
      "Detail: 5\n",
      "Correctness: 4\n"
     ]
    },
    {
     "name": "stderr",
     "output_type": "stream",
     "text": [
      "Average Metric: 50.49999999999999 / 22  (229.5):  85%|████████▍ | 22/26 [01:21<00:15,  3.94s/it]"
     ]
    },
    {
     "name": "stdout",
     "output_type": "stream",
     "text": [
      "Faithful: 5\n",
      "Detail: 3\n",
      "Correctness: 3\n"
     ]
    },
    {
     "name": "stderr",
     "output_type": "stream",
     "text": [
      "Average Metric: 52.699999999999996 / 23  (229.1):  88%|████████▊ | 23/26 [01:24<00:11,  3.70s/it]"
     ]
    },
    {
     "name": "stdout",
     "output_type": "stream",
     "text": [
      "Faithful: 5\n",
      "Detail: 4\n",
      "Correctness: 2\n"
     ]
    },
    {
     "name": "stderr",
     "output_type": "stream",
     "text": [
      "Average Metric: 54.699999999999996 / 24  (227.9):  92%|█████████▏| 24/26 [01:25<00:05,  2.75s/it]"
     ]
    },
    {
     "name": "stdout",
     "output_type": "stream",
     "text": [
      "Faithful: 4\n",
      "Detail: 3\n",
      "Correctness: 3\n"
     ]
    },
    {
     "name": "stderr",
     "output_type": "stream",
     "text": [
      "Average Metric: 56.699999999999996 / 25  (226.8):  96%|█████████▌| 25/26 [01:26<00:02,  2.40s/it]"
     ]
    },
    {
     "name": "stdout",
     "output_type": "stream",
     "text": [
      "Faithful: 5\n",
      "Detail: 2\n",
      "Correctness: 3\n"
     ]
    },
    {
     "name": "stderr",
     "output_type": "stream",
     "text": [
      "Average Metric: 59.3 / 26  (228.1): 100%|██████████| 26/26 [01:42<00:00,  3.93s/it]              \n"
     ]
    },
    {
     "name": "stdout",
     "output_type": "stream",
     "text": [
      "Faithful: 5\n",
      "Detail: 3\n",
      "Correctness: 5\n",
      "Average Metric: 59.3 / 26  (228.1%)\n",
      "Score: 228.08 for set: [4]\n",
      "New best score: 228.08 for seed -2\n",
      "Scores so far: [193.85, 228.08]\n",
      "Best score: 228.08\n"
     ]
    },
    {
     "name": "stderr",
     "output_type": "stream",
     "text": [
      "  4%|▍         | 1/26 [00:00<00:09,  2.68it/s]"
     ]
    },
    {
     "name": "stdout",
     "output_type": "stream",
     "text": [
      "Faithful: 3\n",
      "Detail: 5\n",
      "Correctness: 3\n"
     ]
    },
    {
     "name": "stderr",
     "output_type": "stream",
     "text": [
      "  8%|▊         | 2/26 [00:06<01:21,  3.39s/it]\n"
     ]
    },
    {
     "name": "stdout",
     "output_type": "stream",
     "text": [
      "Faithful: 5\n",
      "Detail: 3\n",
      "Correctness: 1\n",
      "Bootstrapped 2 full traces after 3 examples in round 0.\n"
     ]
    },
    {
     "name": "stderr",
     "output_type": "stream",
     "text": [
      "Average Metric: 1.8 / 1  (180.0):   4%|▍         | 1/26 [00:06<02:54,  7.00s/it]"
     ]
    },
    {
     "name": "stdout",
     "output_type": "stream",
     "text": [
      "Faithful: 5\n",
      "Detail: 3\n",
      "Correctness: 1\n"
     ]
    },
    {
     "name": "stderr",
     "output_type": "stream",
     "text": [
      "Average Metric: 3.8 / 2  (190.0):   8%|▊         | 2/26 [00:09<01:41,  4.23s/it]"
     ]
    },
    {
     "name": "stdout",
     "output_type": "stream",
     "text": [
      "Faithful: 5\n",
      "Detail: 2\n",
      "Correctness: 3\n"
     ]
    },
    {
     "name": "stderr",
     "output_type": "stream",
     "text": [
      "Average Metric: 6.8 / 3  (226.7):  12%|█▏        | 3/26 [00:10<01:08,  2.96s/it]"
     ]
    },
    {
     "name": "stdout",
     "output_type": "stream",
     "text": [
      "Faithful: 5\n",
      "Detail: 5\n",
      "Correctness: 5\n"
     ]
    },
    {
     "name": "stderr",
     "output_type": "stream",
     "text": [
      "Average Metric: 9.0 / 4  (225.0):  15%|█▌        | 4/26 [00:13<01:00,  2.74s/it]"
     ]
    },
    {
     "name": "stdout",
     "output_type": "stream",
     "text": [
      "Faithful: 3\n",
      "Detail: 5\n",
      "Correctness: 3\n"
     ]
    },
    {
     "name": "stderr",
     "output_type": "stream",
     "text": [
      "Average Metric: 11.4 / 5  (228.0):  19%|█▉        | 5/26 [00:20<01:30,  4.31s/it]"
     ]
    },
    {
     "name": "stdout",
     "output_type": "stream",
     "text": [
      "Faithful: 5\n",
      "Detail: 3\n",
      "Correctness: 4\n"
     ]
    },
    {
     "name": "stderr",
     "output_type": "stream",
     "text": [
      "Average Metric: 13.4 / 6  (223.3):  23%|██▎       | 6/26 [00:23<01:16,  3.81s/it]"
     ]
    },
    {
     "name": "stdout",
     "output_type": "stream",
     "text": [
      "Faithful: 4\n",
      "Detail: 3\n",
      "Correctness: 3\n"
     ]
    },
    {
     "name": "stderr",
     "output_type": "stream",
     "text": [
      "Average Metric: 15.8 / 7  (225.7):  27%|██▋       | 7/26 [00:24<00:54,  2.89s/it]"
     ]
    },
    {
     "name": "stdout",
     "output_type": "stream",
     "text": [
      "Faithful: 5\n",
      "Detail: 3\n",
      "Correctness: 4\n"
     ]
    },
    {
     "name": "stderr",
     "output_type": "stream",
     "text": [
      "Average Metric: 18.400000000000002 / 8  (230.0):  31%|███       | 8/26 [00:26<00:51,  2.84s/it]"
     ]
    },
    {
     "name": "stdout",
     "output_type": "stream",
     "text": [
      "Faithful: 5\n",
      "Detail: 5\n",
      "Correctness: 3\n"
     ]
    },
    {
     "name": "stderr",
     "output_type": "stream",
     "text": [
      "Average Metric: 21.000000000000004 / 9  (233.3):  35%|███▍      | 9/26 [00:30<00:52,  3.09s/it]"
     ]
    },
    {
     "name": "stdout",
     "output_type": "stream",
     "text": [
      "Faithful: 5\n",
      "Detail: 4\n",
      "Correctness: 4\n"
     ]
    },
    {
     "name": "stderr",
     "output_type": "stream",
     "text": [
      "Average Metric: 23.400000000000002 / 10  (234.0):  38%|███▊      | 10/26 [00:31<00:37,  2.32s/it]"
     ]
    },
    {
     "name": "stdout",
     "output_type": "stream",
     "text": [
      "Faithful: 5\n",
      "Detail: 3\n",
      "Correctness: 4\n"
     ]
    },
    {
     "name": "stderr",
     "output_type": "stream",
     "text": [
      "Average Metric: 25.6 / 11  (232.7):  42%|████▏     | 11/26 [00:33<00:35,  2.35s/it]              "
     ]
    },
    {
     "name": "stdout",
     "output_type": "stream",
     "text": [
      "Faithful: 5\n",
      "Detail: 3\n",
      "Correctness: 3\n"
     ]
    },
    {
     "name": "stderr",
     "output_type": "stream",
     "text": [
      "Average Metric: 28.0 / 12  (233.3):  46%|████▌     | 12/26 [00:36<00:37,  2.67s/it]"
     ]
    },
    {
     "name": "stdout",
     "output_type": "stream",
     "text": [
      "Faithful: 5\n",
      "Detail: 3\n",
      "Correctness: 4\n"
     ]
    },
    {
     "name": "stderr",
     "output_type": "stream",
     "text": [
      "Average Metric: 32.0 / 14  (228.6):  54%|█████▍    | 14/26 [00:39<00:21,  1.78s/it]"
     ]
    },
    {
     "name": "stdout",
     "output_type": "stream",
     "text": [
      "Faithful: 5\n",
      "Detail: 3\n",
      "Correctness: 3\n",
      "Faithful: 4\n",
      "Detail: 2\n",
      "Correctness: 3\n"
     ]
    },
    {
     "name": "stderr",
     "output_type": "stream",
     "text": [
      "Average Metric: 34.8 / 15  (232.0):  58%|█████▊    | 15/26 [00:42<00:26,  2.42s/it]"
     ]
    },
    {
     "name": "stdout",
     "output_type": "stream",
     "text": [
      "Faithful: 5\n",
      "Detail: 4\n",
      "Correctness: 5\n"
     ]
    },
    {
     "name": "stderr",
     "output_type": "stream",
     "text": [
      "Average Metric: 37.199999999999996 / 16  (232.5):  62%|██████▏   | 16/26 [00:46<00:26,  2.66s/it]"
     ]
    },
    {
     "name": "stdout",
     "output_type": "stream",
     "text": [
      "Faithful: 2\n",
      "Detail: 5\n",
      "Correctness: 5\n"
     ]
    },
    {
     "name": "stderr",
     "output_type": "stream",
     "text": [
      "Average Metric: 38.599999999999994 / 17  (227.1):  65%|██████▌   | 17/26 [00:46<00:18,  2.06s/it]"
     ]
    },
    {
     "name": "stdout",
     "output_type": "stream",
     "text": [
      "Faithful: 3\n",
      "Detail: 2\n",
      "Correctness: 2\n"
     ]
    },
    {
     "name": "stderr",
     "output_type": "stream",
     "text": [
      "Average Metric: 40.599999999999994 / 18  (225.6):  69%|██████▉   | 18/26 [00:48<00:15,  1.99s/it]"
     ]
    },
    {
     "name": "stdout",
     "output_type": "stream",
     "text": [
      "Faithful: 5\n",
      "Detail: 2\n",
      "Correctness: 3\n"
     ]
    },
    {
     "name": "stderr",
     "output_type": "stream",
     "text": [
      "Average Metric: 42.99999999999999 / 19  (226.3):  73%|███████▎  | 19/26 [00:50<00:12,  1.85s/it] "
     ]
    },
    {
     "name": "stdout",
     "output_type": "stream",
     "text": [
      "Faithful: 5\n",
      "Detail: 4\n",
      "Correctness: 3\n"
     ]
    },
    {
     "name": "stderr",
     "output_type": "stream",
     "text": [
      "Average Metric: 44.99999999999999 / 20  (225.0):  77%|███████▋  | 20/26 [00:50<00:08,  1.43s/it]"
     ]
    },
    {
     "name": "stdout",
     "output_type": "stream",
     "text": [
      "Faithful: 5\n",
      "Detail: 2\n",
      "Correctness: 3\n"
     ]
    },
    {
     "name": "stderr",
     "output_type": "stream",
     "text": [
      "Average Metric: 46.599999999999994 / 21  (221.9):  81%|████████  | 21/26 [00:55<00:11,  2.40s/it]"
     ]
    },
    {
     "name": "stdout",
     "output_type": "stream",
     "text": [
      "Faithful: 3\n",
      "Detail: 2\n",
      "Correctness: 3\n"
     ]
    },
    {
     "name": "stderr",
     "output_type": "stream",
     "text": [
      "Average Metric: 49.599999999999994 / 22  (225.5):  85%|████████▍ | 22/26 [00:57<00:09,  2.36s/it]"
     ]
    },
    {
     "name": "stdout",
     "output_type": "stream",
     "text": [
      "Faithful: 5\n",
      "Detail: 5\n",
      "Correctness: 5\n"
     ]
    },
    {
     "name": "stderr",
     "output_type": "stream",
     "text": [
      "Average Metric: 52.599999999999994 / 23  (228.7):  88%|████████▊ | 23/26 [01:07<00:13,  4.49s/it]"
     ]
    },
    {
     "name": "stdout",
     "output_type": "stream",
     "text": [
      "Faithful: 5\n",
      "Detail: 5\n",
      "Correctness: 5\n"
     ]
    },
    {
     "name": "stderr",
     "output_type": "stream",
     "text": [
      "Average Metric: 54.8 / 24  (228.3):  92%|█████████▏| 24/26 [01:08<00:07,  3.54s/it]              "
     ]
    },
    {
     "name": "stdout",
     "output_type": "stream",
     "text": [
      "Faithful: 5\n",
      "Detail: 3\n",
      "Correctness: 3\n"
     ]
    },
    {
     "name": "stderr",
     "output_type": "stream",
     "text": [
      "Average Metric: 57.4 / 25  (229.6):  96%|█████████▌| 25/26 [01:11<00:03,  3.37s/it]"
     ]
    },
    {
     "name": "stdout",
     "output_type": "stream",
     "text": [
      "Faithful: 5\n",
      "Detail: 3\n",
      "Correctness: 5\n"
     ]
    },
    {
     "name": "stderr",
     "output_type": "stream",
     "text": [
      "Average Metric: 59.4 / 26  (228.5): 100%|██████████| 26/26 [01:23<00:00,  3.21s/it]\n"
     ]
    },
    {
     "name": "stdout",
     "output_type": "stream",
     "text": [
      "Faithful: 5\n",
      "Detail: 2\n",
      "Correctness: 3\n",
      "Average Metric: 59.4 / 26  (228.5%)\n",
      "Score: 228.46 for set: [4]\n",
      "New best score: 228.46 for seed -1\n",
      "Scores so far: [193.85, 228.08, 228.46]\n",
      "Best score: 228.46\n",
      "Average of max per entry across top 1 scores: 2.2846153846153845\n",
      "Average of max per entry across top 2 scores: 2.519230769230769\n",
      "Average of max per entry across top 3 scores: 2.5576923076923075\n",
      "Average of max per entry across top 5 scores: 2.5576923076923075\n",
      "Average of max per entry across top 8 scores: 2.5576923076923075\n",
      "Average of max per entry across top 9999 scores: 2.5576923076923075\n"
     ]
    },
    {
     "name": "stderr",
     "output_type": "stream",
     "text": [
      "  4%|▍         | 1/26 [00:05<02:20,  5.63s/it]"
     ]
    },
    {
     "name": "stdout",
     "output_type": "stream",
     "text": [
      "Faithful: 5\n",
      "Detail: 3\n",
      "Correctness: 4\n"
     ]
    },
    {
     "name": "stderr",
     "output_type": "stream",
     "text": [
      "  8%|▊         | 2/26 [00:34<06:52, 17.17s/it]\n"
     ]
    },
    {
     "name": "stdout",
     "output_type": "stream",
     "text": [
      "Faithful: 3\n",
      "Detail: 2\n",
      "Correctness: 3\n",
      "Bootstrapped 2 full traces after 3 examples in round 0.\n"
     ]
    },
    {
     "name": "stderr",
     "output_type": "stream",
     "text": [
      "Average Metric: 2.0 / 1  (200.0):   4%|▍         | 1/26 [00:08<03:38,  8.75s/it]"
     ]
    },
    {
     "name": "stdout",
     "output_type": "stream",
     "text": [
      "Faithful: 5\n",
      "Detail: 2\n",
      "Correctness: 3\n"
     ]
    },
    {
     "name": "stderr",
     "output_type": "stream",
     "text": [
      "Average Metric: 4.2 / 2  (210.0):   8%|▊         | 2/26 [00:09<01:33,  3.88s/it]"
     ]
    },
    {
     "name": "stdout",
     "output_type": "stream",
     "text": [
      "Faithful: 4\n",
      "Detail: 3\n",
      "Correctness: 4\n"
     ]
    },
    {
     "name": "stderr",
     "output_type": "stream",
     "text": [
      "Average Metric: 5.800000000000001 / 3  (193.3):  12%|█▏        | 3/26 [00:10<01:06,  2.90s/it]"
     ]
    },
    {
     "name": "stdout",
     "output_type": "stream",
     "text": [
      "Faithful: 3\n",
      "Detail: 2\n",
      "Correctness: 3\n"
     ]
    },
    {
     "name": "stderr",
     "output_type": "stream",
     "text": [
      "Average Metric: 8.200000000000001 / 4  (205.0):  15%|█▌        | 4/26 [00:20<02:01,  5.50s/it]"
     ]
    },
    {
     "name": "stdout",
     "output_type": "stream",
     "text": [
      "Faithful: 5\n",
      "Detail: 3\n",
      "Correctness: 4\n"
     ]
    },
    {
     "name": "stderr",
     "output_type": "stream",
     "text": [
      "Average Metric: 10.600000000000001 / 5  (212.0):  19%|█▉        | 5/26 [00:22<01:26,  4.14s/it]"
     ]
    },
    {
     "name": "stdout",
     "output_type": "stream",
     "text": [
      "Faithful: 5\n",
      "Detail: 3\n",
      "Correctness: 4\n"
     ]
    },
    {
     "name": "stderr",
     "output_type": "stream",
     "text": [
      "Average Metric: 13.200000000000001 / 6  (220.0):  23%|██▎       | 6/26 [00:23<01:05,  3.30s/it]"
     ]
    },
    {
     "name": "stdout",
     "output_type": "stream",
     "text": [
      "Faithful: 5\n",
      "Detail: 3\n",
      "Correctness: 5\n"
     ]
    },
    {
     "name": "stderr",
     "output_type": "stream",
     "text": [
      "Average Metric: 14.4 / 7  (205.7):  27%|██▋       | 7/26 [00:26<00:59,  3.16s/it]              "
     ]
    },
    {
     "name": "stdout",
     "output_type": "stream",
     "text": [
      "Faithful: 3\n",
      "Detail: 1\n",
      "Correctness: 2\n"
     ]
    },
    {
     "name": "stderr",
     "output_type": "stream",
     "text": [
      "Average Metric: 16.8 / 8  (210.0):  31%|███       | 8/26 [00:28<00:46,  2.61s/it]"
     ]
    },
    {
     "name": "stdout",
     "output_type": "stream",
     "text": [
      "Faithful: 5\n",
      "Detail: 3\n",
      "Correctness: 4\n"
     ]
    },
    {
     "name": "stderr",
     "output_type": "stream",
     "text": [
      "Average Metric: 18.8 / 9  (208.9):  35%|███▍      | 9/26 [00:28<00:32,  1.92s/it]"
     ]
    },
    {
     "name": "stdout",
     "output_type": "stream",
     "text": [
      "Faithful: 5\n",
      "Detail: 2\n",
      "Correctness: 3\n"
     ]
    },
    {
     "name": "stderr",
     "output_type": "stream",
     "text": [
      "Average Metric: 21.8 / 10  (218.0):  38%|███▊      | 10/26 [00:29<00:25,  1.59s/it]"
     ]
    },
    {
     "name": "stdout",
     "output_type": "stream",
     "text": [
      "Faithful: 5\n",
      "Detail: 5\n",
      "Correctness: 5\n"
     ]
    },
    {
     "name": "stderr",
     "output_type": "stream",
     "text": [
      "Average Metric: 24.0 / 11  (218.2):  42%|████▏     | 11/26 [00:32<00:28,  1.92s/it]"
     ]
    },
    {
     "name": "stdout",
     "output_type": "stream",
     "text": [
      "Faithful: 5\n",
      "Detail: 3\n",
      "Correctness: 3\n"
     ]
    },
    {
     "name": "stderr",
     "output_type": "stream",
     "text": [
      "Average Metric: 26.4 / 12  (220.0):  46%|████▌     | 12/26 [00:33<00:24,  1.72s/it]"
     ]
    },
    {
     "name": "stdout",
     "output_type": "stream",
     "text": [
      "Faithful: 5\n",
      "Detail: 3\n",
      "Correctness: 4\n"
     ]
    },
    {
     "name": "stderr",
     "output_type": "stream",
     "text": [
      "Average Metric: 29.4 / 13  (226.2):  50%|█████     | 13/26 [00:34<00:18,  1.45s/it]"
     ]
    },
    {
     "name": "stdout",
     "output_type": "stream",
     "text": [
      "Faithful: 5\n",
      "Detail: 5\n",
      "Correctness: 5\n"
     ]
    },
    {
     "name": "stderr",
     "output_type": "stream",
     "text": [
      "Average Metric: 31.799999999999997 / 14  (227.1):  54%|█████▍    | 14/26 [00:35<00:15,  1.32s/it]"
     ]
    },
    {
     "name": "stdout",
     "output_type": "stream",
     "text": [
      "Faithful: 5\n",
      "Detail: 3\n",
      "Correctness: 4\n"
     ]
    },
    {
     "name": "stderr",
     "output_type": "stream",
     "text": [
      "Average Metric: 35.8 / 16  (223.7):  62%|██████▏   | 16/26 [00:38<00:14,  1.41s/it]              "
     ]
    },
    {
     "name": "stdout",
     "output_type": "stream",
     "text": [
      "Faithful: 4\n",
      "Detail: 2\n",
      "Correctness: 3\n",
      "Faithful: 5\n",
      "Detail: 3\n",
      "Correctness: 3\n"
     ]
    },
    {
     "name": "stderr",
     "output_type": "stream",
     "text": [
      "Average Metric: 38.199999999999996 / 17  (224.7):  65%|██████▌   | 17/26 [00:43<00:22,  2.53s/it]"
     ]
    },
    {
     "name": "stdout",
     "output_type": "stream",
     "text": [
      "Faithful: 5\n",
      "Detail: 3\n",
      "Correctness: 4\n"
     ]
    },
    {
     "name": "stderr",
     "output_type": "stream",
     "text": [
      "Average Metric: 40.199999999999996 / 18  (223.3):  69%|██████▉   | 18/26 [00:48<00:24,  3.02s/it]"
     ]
    },
    {
     "name": "stdout",
     "output_type": "stream",
     "text": [
      "Faithful: 5\n",
      "Detail: 2\n",
      "Correctness: 3\n"
     ]
    },
    {
     "name": "stderr",
     "output_type": "stream",
     "text": [
      "Average Metric: 42.8 / 19  (225.3):  73%|███████▎  | 19/26 [00:54<00:29,  4.20s/it]              "
     ]
    },
    {
     "name": "stdout",
     "output_type": "stream",
     "text": [
      "Faithful: 5\n",
      "Detail: 3\n",
      "Correctness: 5\n"
     ]
    },
    {
     "name": "stderr",
     "output_type": "stream",
     "text": [
      "Average Metric: 45.0 / 20  (225.0):  77%|███████▋  | 20/26 [00:56<00:20,  3.36s/it]"
     ]
    },
    {
     "name": "stdout",
     "output_type": "stream",
     "text": [
      "Faithful: 5\n",
      "Detail: 1\n",
      "Correctness: 5\n"
     ]
    },
    {
     "name": "stderr",
     "output_type": "stream",
     "text": [
      "Average Metric: 46.6 / 21  (221.9):  81%|████████  | 21/26 [00:56<00:12,  2.45s/it]"
     ]
    },
    {
     "name": "stdout",
     "output_type": "stream",
     "text": [
      "Faithful: 3\n",
      "Detail: 2\n",
      "Correctness: 3\n"
     ]
    },
    {
     "name": "stderr",
     "output_type": "stream",
     "text": [
      "Average Metric: 48.6 / 22  (220.9):  85%|████████▍ | 22/26 [01:00<00:10,  2.73s/it]"
     ]
    },
    {
     "name": "stdout",
     "output_type": "stream",
     "text": [
      "Faithful: 5\n",
      "Detail: 2\n",
      "Correctness: 3\n"
     ]
    },
    {
     "name": "stderr",
     "output_type": "stream",
     "text": [
      "Average Metric: 51.2 / 23  (222.6):  88%|████████▊ | 23/26 [01:00<00:06,  2.07s/it]"
     ]
    },
    {
     "name": "stdout",
     "output_type": "stream",
     "text": [
      "Faithful: 4\n",
      "Detail: 5\n",
      "Correctness: 4\n"
     ]
    },
    {
     "name": "stderr",
     "output_type": "stream",
     "text": [
      "Average Metric: 53.2 / 24  (221.7):  92%|█████████▏| 24/26 [01:02<00:03,  2.00s/it]"
     ]
    },
    {
     "name": "stdout",
     "output_type": "stream",
     "text": [
      "Faithful: 5\n",
      "Detail: 2\n",
      "Correctness: 3\n"
     ]
    },
    {
     "name": "stderr",
     "output_type": "stream",
     "text": [
      "Average Metric: 56.2 / 25  (224.8):  96%|█████████▌| 25/26 [01:02<00:01,  1.50s/it]"
     ]
    },
    {
     "name": "stdout",
     "output_type": "stream",
     "text": [
      "Faithful: 5\n",
      "Detail: 5\n",
      "Correctness: 5\n"
     ]
    },
    {
     "name": "stderr",
     "output_type": "stream",
     "text": [
      "Average Metric: 58.2 / 26  (223.8): 100%|██████████| 26/26 [01:08<00:00,  2.62s/it]\n"
     ]
    },
    {
     "name": "stdout",
     "output_type": "stream",
     "text": [
      "Faithful: 4\n",
      "Detail: 3\n",
      "Correctness: 3\n",
      "Average Metric: 58.2 / 26  (223.8%)\n",
      "Score: 223.85 for set: [4]\n",
      "Scores so far: [193.85, 228.08, 228.46, 223.85]\n",
      "Best score: 228.46\n",
      "Average of max per entry across top 1 scores: 2.2846153846153845\n",
      "Average of max per entry across top 2 scores: 2.519230769230769\n",
      "Average of max per entry across top 3 scores: 2.5923076923076924\n",
      "Average of max per entry across top 5 scores: 2.6230769230769226\n",
      "Average of max per entry across top 8 scores: 2.6230769230769226\n",
      "Average of max per entry across top 9999 scores: 2.6230769230769226\n"
     ]
    },
    {
     "name": "stderr",
     "output_type": "stream",
     "text": [
      "  4%|▍         | 1/26 [00:04<01:58,  4.76s/it]\n"
     ]
    },
    {
     "name": "stdout",
     "output_type": "stream",
     "text": [
      "Faithful: 5\n",
      "Detail: 1\n",
      "Correctness: 5\n",
      "Bootstrapped 1 full traces after 2 examples in round 0.\n"
     ]
    },
    {
     "name": "stderr",
     "output_type": "stream",
     "text": [
      "Average Metric: 2.2 / 1  (220.0):   4%|▍         | 1/26 [00:05<02:22,  5.69s/it]"
     ]
    },
    {
     "name": "stdout",
     "output_type": "stream",
     "text": [
      "Faithful: 4\n",
      "Detail: 3\n",
      "Correctness: 4\n"
     ]
    },
    {
     "name": "stderr",
     "output_type": "stream",
     "text": [
      "Average Metric: 4.0 / 2  (200.0):   8%|▊         | 2/26 [00:06<01:13,  3.05s/it]"
     ]
    },
    {
     "name": "stdout",
     "output_type": "stream",
     "text": [
      "Faithful: 5\n",
      "Detail: 3\n",
      "Correctness: 1\n"
     ]
    },
    {
     "name": "stderr",
     "output_type": "stream",
     "text": [
      "Average Metric: 6.0 / 3  (200.0):  12%|█▏        | 3/26 [00:08<00:58,  2.55s/it]"
     ]
    },
    {
     "name": "stdout",
     "output_type": "stream",
     "text": [
      "Faithful: 5\n",
      "Detail: 2\n",
      "Correctness: 3\n"
     ]
    },
    {
     "name": "stderr",
     "output_type": "stream",
     "text": [
      "Average Metric: 8.4 / 4  (210.0):  15%|█▌        | 4/26 [00:15<01:35,  4.35s/it]"
     ]
    },
    {
     "name": "stdout",
     "output_type": "stream",
     "text": [
      "Faithful: 5\n",
      "Detail: 3\n",
      "Correctness: 4\n"
     ]
    },
    {
     "name": "stderr",
     "output_type": "stream",
     "text": [
      "Average Metric: 10.600000000000001 / 5  (212.0):  19%|█▉        | 5/26 [00:25<02:08,  6.11s/it]"
     ]
    },
    {
     "name": "stdout",
     "output_type": "stream",
     "text": [
      "Faithful: 5\n",
      "Detail: 3\n",
      "Correctness: 3\n"
     ]
    },
    {
     "name": "stderr",
     "output_type": "stream",
     "text": [
      "Average Metric: 16.6 / 7  (237.1):  27%|██▋       | 7/26 [00:28<01:04,  3.40s/it]              "
     ]
    },
    {
     "name": "stdout",
     "output_type": "stream",
     "text": [
      "Faithful: 5\n",
      "Detail: 5\n",
      "Correctness: 5\n",
      "Faithful: 5\n",
      "Detail: 5\n",
      "Correctness: 5\n"
     ]
    },
    {
     "name": "stderr",
     "output_type": "stream",
     "text": [
      "Average Metric: 19.6 / 8  (245.0):  31%|███       | 8/26 [00:31<01:02,  3.48s/it]"
     ]
    },
    {
     "name": "stdout",
     "output_type": "stream",
     "text": [
      "Faithful: 5\n",
      "Detail: 5\n",
      "Correctness: 5\n"
     ]
    },
    {
     "name": "stderr",
     "output_type": "stream",
     "text": [
      "Average Metric: 22.6 / 9  (251.1):  35%|███▍      | 9/26 [00:34<00:54,  3.18s/it]"
     ]
    },
    {
     "name": "stdout",
     "output_type": "stream",
     "text": [
      "Faithful: 5\n",
      "Detail: 5\n",
      "Correctness: 5\n"
     ]
    },
    {
     "name": "stderr",
     "output_type": "stream",
     "text": [
      "Average Metric: 25.0 / 10  (250.0):  38%|███▊      | 10/26 [00:34<00:38,  2.39s/it]"
     ]
    },
    {
     "name": "stdout",
     "output_type": "stream",
     "text": [
      "Faithful: 5\n",
      "Detail: 3\n",
      "Correctness: 4\n"
     ]
    },
    {
     "name": "stderr",
     "output_type": "stream",
     "text": [
      "Average Metric: 27.6 / 11  (250.9):  42%|████▏     | 11/26 [00:35<00:27,  1.83s/it]"
     ]
    },
    {
     "name": "stdout",
     "output_type": "stream",
     "text": [
      "Faithful: 5\n",
      "Detail: 4\n",
      "Correctness: 4\n"
     ]
    },
    {
     "name": "stderr",
     "output_type": "stream",
     "text": [
      "Average Metric: 29.400000000000002 / 12  (245.0):  46%|████▌     | 12/26 [00:38<00:32,  2.34s/it]"
     ]
    },
    {
     "name": "stdout",
     "output_type": "stream",
     "text": [
      "Faithful: 4\n",
      "Detail: 2\n",
      "Correctness: 3\n"
     ]
    },
    {
     "name": "stderr",
     "output_type": "stream",
     "text": [
      "Average Metric: 31.8 / 13  (244.6):  50%|█████     | 13/26 [00:40<00:25,  1.98s/it]              "
     ]
    },
    {
     "name": "stdout",
     "output_type": "stream",
     "text": [
      "Faithful: 5\n",
      "Detail: 4\n",
      "Correctness: 3\n"
     ]
    },
    {
     "name": "stderr",
     "output_type": "stream",
     "text": [
      "Average Metric: 34.2 / 14  (244.3):  54%|█████▍    | 14/26 [00:40<00:17,  1.47s/it]"
     ]
    },
    {
     "name": "stdout",
     "output_type": "stream",
     "text": [
      "Faithful: 5\n",
      "Detail: 3\n",
      "Correctness: 4\n"
     ]
    },
    {
     "name": "stderr",
     "output_type": "stream",
     "text": [
      "Average Metric: 36.0 / 15  (240.0):  58%|█████▊    | 15/26 [00:47<00:34,  3.12s/it]"
     ]
    },
    {
     "name": "stdout",
     "output_type": "stream",
     "text": [
      "Faithful: 4\n",
      "Detail: 2\n",
      "Correctness: 3\n"
     ]
    },
    {
     "name": "stderr",
     "output_type": "stream",
     "text": [
      "Average Metric: 39.0 / 16  (243.8):  62%|██████▏   | 16/26 [00:47<00:23,  2.32s/it]"
     ]
    },
    {
     "name": "stdout",
     "output_type": "stream",
     "text": [
      "Faithful: 5\n",
      "Detail: 5\n",
      "Correctness: 5\n"
     ]
    },
    {
     "name": "stderr",
     "output_type": "stream",
     "text": [
      "Average Metric: 41.4 / 17  (243.5):  65%|██████▌   | 17/26 [00:51<00:23,  2.66s/it]"
     ]
    },
    {
     "name": "stdout",
     "output_type": "stream",
     "text": [
      "Faithful: 5\n",
      "Detail: 4\n",
      "Correctness: 3\n"
     ]
    },
    {
     "name": "stderr",
     "output_type": "stream",
     "text": [
      "Average Metric: 43.4 / 18  (241.1):  69%|██████▉   | 18/26 [00:51<00:15,  1.97s/it]"
     ]
    },
    {
     "name": "stdout",
     "output_type": "stream",
     "text": [
      "Faithful: 5\n",
      "Detail: 2\n",
      "Correctness: 3\n"
     ]
    },
    {
     "name": "stderr",
     "output_type": "stream",
     "text": [
      "Average Metric: 45.6 / 19  (240.0):  73%|███████▎  | 19/26 [00:52<00:11,  1.59s/it]"
     ]
    },
    {
     "name": "stdout",
     "output_type": "stream",
     "text": [
      "Faithful: 5\n",
      "Detail: 1\n",
      "Correctness: 5\n"
     ]
    },
    {
     "name": "stderr",
     "output_type": "stream",
     "text": [
      "Average Metric: 47.6 / 20  (238.0):  77%|███████▋  | 20/26 [00:54<00:10,  1.76s/it]"
     ]
    },
    {
     "name": "stdout",
     "output_type": "stream",
     "text": [
      "Faithful: 5\n",
      "Detail: 2\n",
      "Correctness: 3\n"
     ]
    },
    {
     "name": "stderr",
     "output_type": "stream",
     "text": [
      "Average Metric: 52.6 / 22  (239.1):  81%|████████  | 21/26 [01:01<00:16,  3.34s/it]"
     ]
    },
    {
     "name": "stdout",
     "output_type": "stream",
     "text": [
      "Faithful: 5\n",
      "Detail: 5\n",
      "Correctness: 5\n",
      "Faithful: 5\n",
      "Detail: 2\n",
      "Correctness: 3\n"
     ]
    },
    {
     "name": "stderr",
     "output_type": "stream",
     "text": [
      "Average Metric: 57.800000000000004 / 24  (240.8):  92%|█████████▏| 24/26 [01:06<00:04,  2.20s/it]"
     ]
    },
    {
     "name": "stdout",
     "output_type": "stream",
     "text": [
      "Faithful: 5\n",
      "Detail: 3\n",
      "Correctness: 3\n",
      "Faithful: 5\n",
      "Detail: 5\n",
      "Correctness: 5\n"
     ]
    },
    {
     "name": "stderr",
     "output_type": "stream",
     "text": [
      "Average Metric: 62.400000000000006 / 26  (240.0): 100%|██████████| 26/26 [01:14<00:00,  2.87s/it]"
     ]
    },
    {
     "name": "stdout",
     "output_type": "stream",
     "text": [
      "Faithful: 4\n",
      "Detail: 4\n",
      "Correctness: 3\n",
      "Faithful: 5\n",
      "Detail: 3\n",
      "Correctness: 4\n",
      "Average Metric: 62.400000000000006 / 26  (240.0%)\n",
      "Score: 240.0 for set: [4]\n",
      "New best score: 240.0 for seed 1\n",
      "Scores so far: [193.85, 228.08, 228.46, 223.85, 240.0]\n",
      "Best score: 240.0\n",
      "Average of max per entry across top 1 scores: 2.4000000000000004\n",
      "Average of max per entry across top 2 scores: 2.6076923076923078\n",
      "Average of max per entry across top 3 scores: 2.665384615384615\n",
      "Average of max per entry across top 5 scores: 2.730769230769231\n",
      "Average of max per entry across top 8 scores: 2.730769230769231\n",
      "Average of max per entry across top 9999 scores: 2.730769230769231\n",
      "5 candidate programs found.\n"
     ]
    },
    {
     "name": "stderr",
     "output_type": "stream",
     "text": [
      "\n"
     ]
    }
   ],
   "source": [
    "from dspy.teleprompt import BootstrapFewShotWithRandomSearch\n",
    "teleprompter = BootstrapFewShotWithRandomSearch(metric=llm_metric, \n",
    "                                                max_bootstrapped_demos=2,\n",
    "                                                max_labeled_demos=4, \n",
    "                                                max_rounds=1,\n",
    "                                                num_candidate_programs=2,\n",
    "                                                num_threads=8)\n",
    "\n",
    "few_shot_bootstrap_compiled_rag = teleprompter.compile(uncompile_k_10, trainset=trainset_truncated)"
   ]
  },
  {
   "cell_type": "code",
   "execution_count": 66,
   "metadata": {},
   "outputs": [
    {
     "name": "stdout",
     "output_type": "stream",
     "text": [
      "\n",
      "\n",
      "\n",
      "\n",
      "Answer questions based on the context.\n",
      "\n",
      "---\n",
      "\n",
      "Question: Are CD44 variants (CD44v) associated with poor prognosis of metastasis?\n",
      "Answer: Yes, several isoforms (obtained by by usage of ten variant exons in various combinations) have been causally related to metastasis.\n",
      "\n",
      "Question: Does triiodothyronine stimulate red blood cell sodium potassium pump?\n",
      "Answer: An inverse correlation between this enzymatic action and free triiodothyronine (FT3) levels. The effect of triiodothyronine (T3) on Na+,K(+)-ATPase activity in red blood cells may be different in vivo and in vitro.\n",
      "\n",
      "Question: What systems have been developed for the numbering of antibody residues?\n",
      "Answer: The most prevalent antibody numbering systems are the Kabat system, the Chothia system as well as the IMGT numbering system.\n",
      "\n",
      "---\n",
      "\n",
      "Follow the following format.\n",
      "\n",
      "Context: may contain relevant facts\n",
      "\n",
      "Question: ${question}\n",
      "\n",
      "Reasoning: Let's think step by step in order to ${produce the answer}. We ...\n",
      "\n",
      "Answer: ${answer}\n",
      "\n",
      "---\n",
      "\n",
      "Context:\n",
      "[1] «Another class of thyroid hormone analogs, the thyronamines»\n",
      "[2] «thyroid hormone analogs 3,5-diiodothyropropionic acid and CGS 23425»\n",
      "[3] «synthetic thyroid analogs (3,5,3'-L-triiodothyronine, 3,5,3'-D-triiodothyronine, 3,3',5'-L- triiodothyronine , 3,5,3'-L-triiodothyroacetic acid and 3,5-L-diiodothyronine)»\n",
      "[4] «several thyroid hormone analogs, including T4(3,3',5,5'-tetraiodo-L-thyronine), rT3(3,3',5'-triiodo-L-thyronine), D-T3(3,3',5-triiodo-D-thyronine), 3,5-T2(3,5-diiodo-L-thyronine), DIT (3,5-diiodo-L-tyrosine), MIT (3-monoiodo-L-tyrosine), tetrac (3,3',5,5'-tetraiodo-thyroacetic acid), triac (3, 3',5-triiodo-thyroacetic acid),»\n",
      "[5] «The thyroid hormone analogs DITPA, T(4), and T(4)-agarose,»\n",
      "[6] «The relative binding affinity of the receptor for thyroid hormone analogs was in the order TRIAC greater than L-T3 greater than D-T3 greater than L-T4 in both cell lines»\n",
      "[7] «Diiodothyropropionic acid (DITPA) and GC-1, a noniodinated thyroid hormone analog,»\n",
      "[8] «wo thyroid hormone analogs, 3,5-diidodothyropropionic acid (DITPA) and CGS 23425»\n",
      "[9] «In the present study, we characterized the interactions of the synthetic triiodo L-thyronine analogs and thyroid hormone nuclear receptor TRβ-selective agonists GC-1 and GC-24 with the wild type and V30M variant of human transthyretin (TTR).»\n",
      "[10] «,5-diiodothyropropionic acid (DITPA), a thyroid hormone analog»\n",
      "\n",
      "Question: Which are the thyroid hormone analogs utilized in human studies?\n",
      "\n",
      "Reasoning: Let's think step by step in order to produce the answer. We can see from the context that several thyroid hormone analogs are mentioned. However, the context does not specify which of these analogs are utilized in human studies.\n",
      "\n",
      "Answer: The context does not provide information on which thyroid hormone analogs are utilized in human studies.\n",
      "\n",
      "---\n",
      "\n",
      "Context:\n",
      "[1] «CADASIL is caused mostly by missense mutations in the NOTCH3 gene, invariably involving a cysteine residue.»\n",
      "[2] «missense mutations and small deletions in the NOTCH3 gene, not involving cysteine residues, have been described in patients considered to be affected by paucisymptomatic CADASIL. However, the significance of such molecular variants is still unclear»\n",
      "[3] «Cerebral autosomal dominant arteriopathy with subcortical infarcts and leukoencephalopathy (CADASIL) is an inherited cerebrovascular disease due to mutations involving loss or gain of a cysteine residue in the NOTCH3 gene. A cluster of mutations around exons 3 and 4 was originally reported»\n",
      "[4] «The authors report a family with CADASIL carrying a deletion in the Notch3 gene that did not involve a cysteine residue»\n",
      "[5] «We identified a patient with DCM and EFE, having a mutation in MLP with the residue lysine 69 substituted by arginine (K69R).»\n",
      "[6] «Optic atrophy and a Leigh-like syndrome due to mutations in the c12orf65 gene: report of a novel mutation and review of the literature.»\n",
      "[7] «(CADASIL) is caused by mutations in the NOTCH3 gene and is clinically characterized by recurrent stroke, cognitive decline, psychiatric disturbances and migraine»\n",
      "[8] «(CADASIL) is a vascular dementing disease caused by mutations in the NOTCH3 gene, most which are missense mutations leading to an uneven number of cysteine residues in epidermal growth factor-like repeats in the extracellular domain of Notch3 receptor (N3ECD).»\n",
      "[9] «There are several genetically and clinically distinct forms of this disease, and one of them, episodic ataxia type 6, is caused by mutations in the gene encoding a glial glutamate transporter, the excitatory amino acid transporter-1. So far, reduced glutamate uptake by mutant excitatory amino acid transporter-1 has been thought to be the main pathophysiological process in episodic ataxia type 6.»\n",
      "[10] «The 65 exons of FBN1 were amplified by polymerase chain reaction and screened for mutations by a combination of denaturing high-performance liquid chromatography analysis and direct DNA sequencing.A mutation, c.184C-->T in exon 2 of FBN1, which results in substitution of arginine by cysteine at position 62 of the fibrillin-1 protein (p.R62C) in all affected family members but in none of the unaffected individuals.A recurrent mutation of FBN1 gene resulted in an arginine-to-cysteine residue (p.R62C), is responsible for the patients with isolated ectopia lentis in a Chinese family»\n",
      "\n",
      "Question: Which amino acid residue appears mutated in most of the cases reported with cadasil syndrome?\n",
      "\n",
      "Reasoning: Let's think step by step in order to\u001b[32m produce the answer. We can see from the context that CADASIL is mentioned multiple times in relation to mutations in the NOTCH3 gene. Specifically, these mutations often involve a cysteine residue. This is mentioned in the first, second, third, and eighth sentences of the context.\n",
      "\n",
      "Answer: In most of the cases reported with CADASIL syndrome, a cysteine residue appears mutated.\u001b[0m\n",
      "\n",
      "\n",
      "\n"
     ]
    }
   ],
   "source": [
    "# Let's check the prompt for this compiled model\n",
    "turbo.inspect_history(n=1)"
   ]
  },
  {
   "cell_type": "markdown",
   "metadata": {},
   "source": [
    "You can notice how the prompt has somewhat become more specific in handling the examples and have also added extra instructions. Let's now evaluate on the `devset` we created and see how the model performs. "
   ]
  },
  {
   "cell_type": "code",
   "execution_count": 70,
   "metadata": {},
   "outputs": [
    {
     "name": "stderr",
     "output_type": "stream",
     "text": [
      "  0%|          | 0/20 [00:00<?, ?it/s]"
     ]
    },
    {
     "name": "stderr",
     "output_type": "stream",
     "text": [
      "Average Metric: 2.2 / 1  (220.0):   5%|▌         | 1/20 [00:13<04:23, 13.85s/it]"
     ]
    },
    {
     "name": "stdout",
     "output_type": "stream",
     "text": [
      "Faithful: 5\n",
      "Detail: 3\n",
      "Correctness: 3\n"
     ]
    },
    {
     "name": "stderr",
     "output_type": "stream",
     "text": [
      "Average Metric: 5.2 / 2  (260.0):  10%|█         | 2/20 [00:14<01:45,  5.88s/it]"
     ]
    },
    {
     "name": "stdout",
     "output_type": "stream",
     "text": [
      "Faithful: 5\n",
      "Detail: 5\n",
      "Correctness: 5\n"
     ]
    },
    {
     "name": "stderr",
     "output_type": "stream",
     "text": [
      "Average Metric: 9.6 / 4  (240.0):  15%|█▌        | 3/20 [00:14<00:56,  3.35s/it]"
     ]
    },
    {
     "name": "stdout",
     "output_type": "stream",
     "text": [
      "Faithful: 5Faithful: 3\n",
      "Detail: 4\n",
      "Correctness: 3\n",
      "\n",
      "Detail: 3\n",
      "Correctness: 4\n"
     ]
    },
    {
     "name": "stderr",
     "output_type": "stream",
     "text": [
      "Average Metric: 14.7 / 6  (245.0):  25%|██▌       | 5/20 [00:14<00:23,  1.54s/it]"
     ]
    },
    {
     "name": "stdout",
     "output_type": "stream",
     "text": [
      "Faithful: 5Faithful: 5\n",
      "Detail: 5\n",
      "Correctness: 4.5\n",
      "\n",
      "Detail: 3\n",
      "Correctness: 3\n"
     ]
    },
    {
     "name": "stderr",
     "output_type": "stream",
     "text": [
      "Average Metric: 19.299999999999997 / 8  (241.2):  35%|███▌      | 7/20 [00:15<00:12,  1.06it/s]"
     ]
    },
    {
     "name": "stdout",
     "output_type": "stream",
     "text": [
      "Faithful: 5Faithful: 5\n",
      "Detail: 3\n",
      "Correctness: 4\n",
      "\n",
      "Detail: 3\n",
      "Correctness: 3\n"
     ]
    },
    {
     "name": "stderr",
     "output_type": "stream",
     "text": [
      "Average Metric: 22.899999999999995 / 10  (229.0):  45%|████▌     | 9/20 [00:20<00:18,  1.65s/it]"
     ]
    },
    {
     "name": "stdout",
     "output_type": "stream",
     "text": [
      "Faithful: 5Faithful: 1\n",
      "Detail: 2\n",
      "Correctness: 3\n",
      "\n",
      "Detail: 3\n",
      "Correctness: 4\n"
     ]
    },
    {
     "name": "stderr",
     "output_type": "stream",
     "text": [
      "Average Metric: 27.899999999999995 / 12  (232.5):  60%|██████    | 12/20 [00:21<00:08,  1.02s/it]"
     ]
    },
    {
     "name": "stdout",
     "output_type": "stream",
     "text": [
      "Faithful: 5\n",
      "Detail: 3\n",
      "Correctness: 4\n",
      "Faithful: 5\n",
      "Detail: 4\n",
      "Correctness: 4\n"
     ]
    },
    {
     "name": "stderr",
     "output_type": "stream",
     "text": [
      "Average Metric: 34.5 / 15  (230.0):  70%|███████   | 14/20 [00:22<00:04,  1.49it/s]              "
     ]
    },
    {
     "name": "stdout",
     "output_type": "stream",
     "text": [
      "Faithful: 5\n",
      "Detail: 4\n",
      "Correctness: 3\n",
      "Faithful: 5\n",
      "Detail: 2\n",
      "Correctness: 3\n",
      "Faithful: 4\n",
      "Detail: 3\n",
      "Correctness: 4\n"
     ]
    },
    {
     "name": "stderr",
     "output_type": "stream",
     "text": [
      "Average Metric: 36.9 / 16  (230.6):  80%|████████  | 16/20 [00:22<00:01,  2.27it/s]"
     ]
    },
    {
     "name": "stdout",
     "output_type": "stream",
     "text": [
      "Faithful: 5\n",
      "Detail: 4\n",
      "Correctness: 3\n"
     ]
    },
    {
     "name": "stderr",
     "output_type": "stream",
     "text": [
      "Average Metric: 39.3 / 17  (231.2):  85%|████████▌ | 17/20 [00:23<00:01,  1.70it/s]"
     ]
    },
    {
     "name": "stdout",
     "output_type": "stream",
     "text": [
      "Faithful: 5\n",
      "Detail: 3\n",
      "Correctness: 4\n"
     ]
    },
    {
     "name": "stderr",
     "output_type": "stream",
     "text": [
      "Average Metric: 45.3 / 20  (226.5): 100%|██████████| 20/20 [00:24<00:00,  1.21s/it]"
     ]
    },
    {
     "name": "stdout",
     "output_type": "stream",
     "text": [
      "Faithful: 5\n",
      "Detail: 2\n",
      "Correctness: 3\n",
      "Faithful: 5\n",
      "Detail: 2\n",
      "Correctness: 3\n",
      "Faithful: 5\n",
      "Detail: 2\n",
      "Correctness: 3\n",
      "Average Metric: 45.3 / 20  (226.5%)\n"
     ]
    },
    {
     "name": "stderr",
     "output_type": "stream",
     "text": [
      "\n",
      "/Users/aarishalam/.pyenv/versions/3.11.0/envs/learn_ai_eng/lib/python3.11/site-packages/dspy/evaluate/evaluate.py:266: FutureWarning: Setting an item of incompatible dtype is deprecated and will raise in a future error of pandas. Value '['2.2' '2.0' '2.4' '2.2' '2.4']' has dtype incompatible with float64, please explicitly cast to a compatible dtype first.\n",
      "  df.loc[:, metric_name] = df[metric_name].apply(\n"
     ]
    },
    {
     "data": {
      "text/html": [
       "<style type=\"text/css\">\n",
       "#T_f959e th {\n",
       "  text-align: left;\n",
       "}\n",
       "#T_f959e td {\n",
       "  text-align: left;\n",
       "}\n",
       "#T_f959e_row0_col0, #T_f959e_row0_col1, #T_f959e_row0_col2, #T_f959e_row0_col3, #T_f959e_row0_col4, #T_f959e_row1_col0, #T_f959e_row1_col1, #T_f959e_row1_col2, #T_f959e_row1_col3, #T_f959e_row1_col4, #T_f959e_row2_col0, #T_f959e_row2_col1, #T_f959e_row2_col2, #T_f959e_row2_col3, #T_f959e_row2_col4, #T_f959e_row3_col0, #T_f959e_row3_col1, #T_f959e_row3_col2, #T_f959e_row3_col3, #T_f959e_row3_col4, #T_f959e_row4_col0, #T_f959e_row4_col1, #T_f959e_row4_col2, #T_f959e_row4_col3, #T_f959e_row4_col4 {\n",
       "  text-align: left;\n",
       "  white-space: pre-wrap;\n",
       "  word-wrap: break-word;\n",
       "  max-width: 400px;\n",
       "}\n",
       "</style>\n",
       "<table id=\"T_f959e\">\n",
       "  <thead>\n",
       "    <tr>\n",
       "      <th class=\"blank level0\" >&nbsp;</th>\n",
       "      <th id=\"T_f959e_level0_col0\" class=\"col_heading level0 col0\" >question</th>\n",
       "      <th id=\"T_f959e_level0_col1\" class=\"col_heading level0 col1\" >example_answer</th>\n",
       "      <th id=\"T_f959e_level0_col2\" class=\"col_heading level0 col2\" >context</th>\n",
       "      <th id=\"T_f959e_level0_col3\" class=\"col_heading level0 col3\" >pred_answer</th>\n",
       "      <th id=\"T_f959e_level0_col4\" class=\"col_heading level0 col4\" >llm_metric</th>\n",
       "    </tr>\n",
       "  </thead>\n",
       "  <tbody>\n",
       "    <tr>\n",
       "      <th id=\"T_f959e_level0_row0\" class=\"row_heading level0 row0\" >0</th>\n",
       "      <td id=\"T_f959e_row0_col0\" class=\"data row0 col0\" >Are ultraconserved elements often transcribed?</td>\n",
       "      <td id=\"T_f959e_row0_col1\" class=\"data row0 col1\" >Yes.  Especially, a large fraction of non-exonic UCEs is transcribed across all developmental stages examined from only one DNA strand.</td>\n",
       "      <td id=\"T_f959e_row0_col2\" class=\"data row0 col2\" >['Ultraconserved elements in insect genomes', 'ultraconserved elements in plants tend to occur in clusters and locate at noncoding regions', 'Transcribed ultraconserved region in human cancers.',...</td>\n",
       "      <td id=\"T_f959e_row0_col3\" class=\"data row0 col3\" >Yes, some ultraconserved elements, specifically a subset known as transcribed ultraconserved regions (T-UCRs), are often transcribed.</td>\n",
       "      <td id=\"T_f959e_row0_col4\" class=\"data row0 col4\" >2.2</td>\n",
       "    </tr>\n",
       "    <tr>\n",
       "      <th id=\"T_f959e_level0_row1\" class=\"row_heading level0 row1\" >1</th>\n",
       "      <td id=\"T_f959e_row1_col0\" class=\"data row1 col0\" >List metalloenzyme inhibitors.</td>\n",
       "      <td id=\"T_f959e_row1_col1\" class=\"data row1 col1\" >Foscarnet\n",
       "VT-1129\n",
       "VT-1161 \n",
       "BB-3497\n",
       "hydroxamate molecules\n",
       "siderophores</td>\n",
       "      <td id=\"T_f959e_row1_col2\" class=\"data row1 col2\" >['the metalloenzyme inhibitors VT-1129 and VT-1161 (both Viamet Pharmaceuticals)', 'Clinically approved inhibitors were selected as well as several other reported metalloprotein inhibitors in order to...</td>\n",
       "      <td id=\"T_f959e_row1_col3\" class=\"data row1 col3\" >The metalloenzyme inhibitors mentioned in the context are VT-1129, VT-1161, the N-formyl-hydroxylamine derivative BB-3497, 8-halo-4-(3-chloro-4-fluoro-phenylamino)-6-[(1H-[1,2,3]triazol-4-ylmethyl)-amino]-quinoline-3-carbonitriles, 2,2'-dipyridylamine (DPA), triazacyclononane (TACN), and the 8-hydroxyquinoline.</td>\n",
       "      <td id=\"T_f959e_row1_col4\" class=\"data row1 col4\" >2.0</td>\n",
       "    </tr>\n",
       "    <tr>\n",
       "      <th id=\"T_f959e_level0_row2\" class=\"row_heading level0 row2\" >2</th>\n",
       "      <td id=\"T_f959e_row2_col0\" class=\"data row2 col0\" >Which proteins control the degradation of cryptic unstable transcripts (CUTs) in yeast?</td>\n",
       "      <td id=\"T_f959e_row2_col1\" class=\"data row2 col1\" >Termination of cryptic unstable transcripts is directed by yeast RNA-binding proteins Nrd1 and Nab3. These cryptic unstable transcripts (CUTs) are rapidly degraded by the nuclear...</td>\n",
       "      <td id=\"T_f959e_row2_col2\" class=\"data row2 col2\" >['Cryptic unstable transcripts (CUTs) were recently described as a principal class of RNA polymerase II transcripts in Saccharomyces cerevisiae', 'Cryptic unstable transcripts (CUTs) were recently...</td>\n",
       "      <td id=\"T_f959e_row2_col3\" class=\"data row2 col3\" >The proteins that control the degradation of cryptic unstable transcripts (CUTs) in yeast are the Nrd1-exosome-TRAMP complexes, the RNA-binding proteins Nrd1 and Nab3, and the...</td>\n",
       "      <td id=\"T_f959e_row2_col4\" class=\"data row2 col4\" >2.4</td>\n",
       "    </tr>\n",
       "    <tr>\n",
       "      <th id=\"T_f959e_level0_row3\" class=\"row_heading level0 row3\" >3</th>\n",
       "      <td id=\"T_f959e_row3_col0\" class=\"data row3 col0\" >Can protein coding exons originate from ALU sequences?</td>\n",
       "      <td id=\"T_f959e_row3_col1\" class=\"data row3 col1\" >Yes. Intronic ALUs can evolve into exons by the activation of splice signals residing within the ALU sequence. While most ALU exons do not add...</td>\n",
       "      <td id=\"T_f959e_row3_col2\" class=\"data row3 col2\" >['Transcribed Alu sequences can alter splicing patterns by generating new exons', 'Transcribed Alu sequences can alter splicing patterns by generating new exons, but other impacts...</td>\n",
       "      <td id=\"T_f959e_row3_col3\" class=\"data row3 col3\" >Yes, protein coding exons can originate from ALU sequences.</td>\n",
       "      <td id=\"T_f959e_row3_col4\" class=\"data row3 col4\" >2.2</td>\n",
       "    </tr>\n",
       "    <tr>\n",
       "      <th id=\"T_f959e_level0_row4\" class=\"row_heading level0 row4\" >4</th>\n",
       "      <td id=\"T_f959e_row4_col0\" class=\"data row4 col0\" >Is Fibroblast Growth Factor 23 a phosphaturic hormone?</td>\n",
       "      <td id=\"T_f959e_row4_col1\" class=\"data row4 col1\" >Yes, fbroblast growth factor 23 (FGF23) is a phosphaturic hormone.</td>\n",
       "      <td id=\"T_f959e_row4_col2\" class=\"data row4 col2\" >['fibroblast growth factor-23 (FGF23), a bone-derived phosphaturic hormone.', 'serum levels of a phosphaturic hormone, fibroblast growth factor 23 (Fgf23),', 'circulating phosphaturic hormone fibroblast growth factor-23...</td>\n",
       "      <td id=\"T_f959e_row4_col3\" class=\"data row4 col3\" >Yes, Fibroblast Growth Factor 23 is a phosphaturic hormone.</td>\n",
       "      <td id=\"T_f959e_row4_col4\" class=\"data row4 col4\" >2.4</td>\n",
       "    </tr>\n",
       "  </tbody>\n",
       "</table>\n"
      ],
      "text/plain": [
       "<pandas.io.formats.style.Styler at 0x1788a3790>"
      ]
     },
     "metadata": {},
     "output_type": "display_data"
    },
    {
     "data": {
      "text/html": [
       "\n",
       "                <div style='\n",
       "                    text-align: center;\n",
       "                    font-size: 16px;\n",
       "                    font-weight: bold;\n",
       "                    color: #555;\n",
       "                    margin: 10px 0;'>\n",
       "                    ... 15 more rows not displayed ...\n",
       "                </div>\n",
       "                "
      ],
      "text/plain": [
       "<IPython.core.display.HTML object>"
      ]
     },
     "metadata": {},
     "output_type": "display_data"
    }
   ],
   "source": [
    "few_shot_bootstrap_compiled_rag_evals = evaluate(few_shot_bootstrap_compiled_rag, metric=llm_metric, return_all_scores=True, return_outputs=True)"
   ]
  },
  {
   "cell_type": "code",
   "execution_count": 75,
   "metadata": {},
   "outputs": [
    {
     "name": "stdout",
     "output_type": "stream",
     "text": [
      "2.265\n"
     ]
    },
    {
     "data": {
      "text/html": [
       "<div>\n",
       "<style scoped>\n",
       "    .dataframe tbody tr th:only-of-type {\n",
       "        vertical-align: middle;\n",
       "    }\n",
       "\n",
       "    .dataframe tbody tr th {\n",
       "        vertical-align: top;\n",
       "    }\n",
       "\n",
       "    .dataframe thead th {\n",
       "        text-align: right;\n",
       "    }\n",
       "</style>\n",
       "<table border=\"1\" class=\"dataframe\">\n",
       "  <thead>\n",
       "    <tr style=\"text-align: right;\">\n",
       "      <th></th>\n",
       "      <th>question</th>\n",
       "      <th>predicted_answer</th>\n",
       "      <th>score</th>\n",
       "    </tr>\n",
       "  </thead>\n",
       "  <tbody>\n",
       "    <tr>\n",
       "      <th>0</th>\n",
       "      <td>Can protein coding exons originate from ALU sequences?</td>\n",
       "      <td>Yes, protein coding exons can originate from ALU sequences.</td>\n",
       "      <td>2.2</td>\n",
       "    </tr>\n",
       "    <tr>\n",
       "      <th>1</th>\n",
       "      <td>What is the name of the stem loop present in the 3' end of genes encoding for selenoproteins?</td>\n",
       "      <td>The stem loop present in the 3' end of genes encoding for selenoproteins is called the Sec insertion sequence (SECIS) element.</td>\n",
       "      <td>3.0</td>\n",
       "    </tr>\n",
       "    <tr>\n",
       "      <th>2</th>\n",
       "      <td>List metalloenzyme inhibitors.</td>\n",
       "      <td>The metalloenzyme inhibitors mentioned in the context are VT-1129, VT-1161, the N-formyl-hydroxylamine derivative BB-3497, 8-halo-4-(3-chloro-4-fluoro-phenylamino)-6-[(1H-[1,2,3]triazol-4-ylmethyl)-amino]-quinoline-3-carbonitriles, 2,2'-dipyridylamine (DPA), triazacyclononane (TACN), and the 8-hydroxyquinoline.</td>\n",
       "      <td>2.0</td>\n",
       "    </tr>\n",
       "    <tr>\n",
       "      <th>3</th>\n",
       "      <td>Which proteins control the degradation of cryptic unstable transcripts (CUTs) in yeast?</td>\n",
       "      <td>The proteins that control the degradation of cryptic unstable transcripts (CUTs) in yeast are the Nrd1-exosome-TRAMP complexes, the RNA-binding proteins Nrd1 and Nab3, and the Trf4/5-Air1/2-Mtr4 polyadenylation (TRAMP) complex.</td>\n",
       "      <td>2.4</td>\n",
       "    </tr>\n",
       "    <tr>\n",
       "      <th>4</th>\n",
       "      <td>What is being measured with an accelerometer in back pain patients</td>\n",
       "      <td>An accelerometer is used to measure overall physical activity, time spent in different static trunk postures, standing time, lying time, time upright, time walking, step count, and the number of constant postures in back pain patients.</td>\n",
       "      <td>2.9</td>\n",
       "    </tr>\n",
       "    <tr>\n",
       "      <th>5</th>\n",
       "      <td>Are ultraconserved elements often transcribed?</td>\n",
       "      <td>Yes, some ultraconserved elements, specifically a subset known as transcribed ultraconserved regions (T-UCRs), are often transcribed.</td>\n",
       "      <td>2.2</td>\n",
       "    </tr>\n",
       "    <tr>\n",
       "      <th>6</th>\n",
       "      <td>Is Fibroblast Growth Factor 23 a phosphaturic hormone?</td>\n",
       "      <td>Yes, Fibroblast Growth Factor 23 is a phosphaturic hormone.</td>\n",
       "      <td>2.4</td>\n",
       "    </tr>\n",
       "    <tr>\n",
       "      <th>7</th>\n",
       "      <td>Can NXY-059 be used for treatment of acute ischemic stroke patients?</td>\n",
       "      <td>NXY-059 has been tested and shown some promise in the treatment of acute ischemic stroke, but its effectiveness is not definitively confirmed and additional research is needed.</td>\n",
       "      <td>2.2</td>\n",
       "    </tr>\n",
       "    <tr>\n",
       "      <th>8</th>\n",
       "      <td>Are there Conserved Noncoding Elements (CNEs) in plant genomes?</td>\n",
       "      <td>Yes, there are Conserved Noncoding Elements (CNEs) in plant genomes.</td>\n",
       "      <td>1.2</td>\n",
       "    </tr>\n",
       "    <tr>\n",
       "      <th>9</th>\n",
       "      <td>Are long non coding RNAs as conserved in sequence as protein coding genes?</td>\n",
       "      <td>No, long noncoding RNAs are not as conserved in sequence as protein-coding genes.</td>\n",
       "      <td>2.4</td>\n",
       "    </tr>\n",
       "    <tr>\n",
       "      <th>10</th>\n",
       "      <td>What enzyme is inhibied by Opicapone?</td>\n",
       "      <td>The enzyme inhibited by Opicapone is catechol-O-methyltransferase (COMT).</td>\n",
       "      <td>2.4</td>\n",
       "    </tr>\n",
       "    <tr>\n",
       "      <th>11</th>\n",
       "      <td>How does benralizumab's mechanism differ from other IL-5 biotherapeutics for severe asthma?</td>\n",
       "      <td>Benralizumab differs from other IL-5 biotherapeutics for severe asthma in that it targets the interleukin-5 receptor α (IL-5Rα), not the IL-5 ligand. It depletes eosinophils by antibody-dependent cell-mediated cytotoxicity, reduces asthma exacerbations, and improves lung function.</td>\n",
       "      <td>2.6</td>\n",
       "    </tr>\n",
       "    <tr>\n",
       "      <th>12</th>\n",
       "      <td>Which are the mains risk factors of metabolic syndrome?</td>\n",
       "      <td>The main risk factors of metabolic syndrome are insulin resistance, dyslipidemia, essential hypertension, glucose intolerance, obesity, raised blood pressure, elevated plasma glucose level, prothrombotic and proinflammatory states, and abdominal obesity.</td>\n",
       "      <td>2.4</td>\n",
       "    </tr>\n",
       "    <tr>\n",
       "      <th>13</th>\n",
       "      <td>Is CD99 encoded by MIC2 gene?</td>\n",
       "      <td>Yes, CD99 is encoded by the MIC2 gene.</td>\n",
       "      <td>2.0</td>\n",
       "    </tr>\n",
       "    <tr>\n",
       "      <th>14</th>\n",
       "      <td>Do Conserved noncoding elements act as enhancers?</td>\n",
       "      <td>Yes, conserved noncoding elements (CNEs) often act as enhancers.</td>\n",
       "      <td>2.2</td>\n",
       "    </tr>\n",
       "    <tr>\n",
       "      <th>15</th>\n",
       "      <td>What are prions?</td>\n",
       "      <td>Prions are proteins that are most commonly associated with fatal neurodegenerative diseases in mammals. They are units of propagation of an altered state of a protein or proteins and can propagate from organism to organism. Prions are self-propagating infectious protein isoforms that become infectious by a different folding.</td>\n",
       "      <td>2.4</td>\n",
       "    </tr>\n",
       "    <tr>\n",
       "      <th>16</th>\n",
       "      <td>Does HuR bind to the untranslated regions (UTRs) of mRNAs?</td>\n",
       "      <td>Yes, HuR does bind to the untranslated regions (UTRs) of mRNAs.</td>\n",
       "      <td>2.4</td>\n",
       "    </tr>\n",
       "    <tr>\n",
       "      <th>17</th>\n",
       "      <td>Is amantadine effective for treatment of disorders conciousness?</td>\n",
       "      <td>Yes, the context suggests that amantadine is effective for the treatment of disorders of consciousness.</td>\n",
       "      <td>2.0</td>\n",
       "    </tr>\n",
       "    <tr>\n",
       "      <th>18</th>\n",
       "      <td>Is there any software for automated analysis of FISH images?</td>\n",
       "      <td>Yes, a software tool called FISH Finder is used for automated analysis of FISH images.</td>\n",
       "      <td>2.0</td>\n",
       "    </tr>\n",
       "    <tr>\n",
       "      <th>19</th>\n",
       "      <td>The antibodies MK-3475 and CT-011 have shown promising results in treating malignancies. Which protein are they targeting?</td>\n",
       "      <td>The antibodies MK-3475 and CT-011 are targeting the PD-1 protein.</td>\n",
       "      <td>2.0</td>\n",
       "    </tr>\n",
       "  </tbody>\n",
       "</table>\n",
       "</div>"
      ],
      "text/plain": [
       "                                                                                                                      question  \\\n",
       "0                                                                       Can protein coding exons originate from ALU sequences?   \n",
       "1                                What is the name of the stem loop present in the 3' end of genes encoding for selenoproteins?   \n",
       "2                                                                                               List metalloenzyme inhibitors.   \n",
       "3                                      Which proteins control the degradation of cryptic unstable transcripts (CUTs) in yeast?   \n",
       "4                                                           What is being measured with an accelerometer in back pain patients   \n",
       "5                                                                               Are ultraconserved elements often transcribed?   \n",
       "6                                                                       Is Fibroblast Growth Factor 23 a phosphaturic hormone?   \n",
       "7                                                         Can NXY-059 be used for treatment of acute ischemic stroke patients?   \n",
       "8                                                              Are there Conserved Noncoding Elements (CNEs) in plant genomes?   \n",
       "9                                                   Are long non coding RNAs as conserved in sequence as protein coding genes?   \n",
       "10                                                                                       What enzyme is inhibied by Opicapone?   \n",
       "11                                 How does benralizumab's mechanism differ from other IL-5 biotherapeutics for severe asthma?   \n",
       "12                                                                     Which are the mains risk factors of metabolic syndrome?   \n",
       "13                                                                                               Is CD99 encoded by MIC2 gene?   \n",
       "14                                                                           Do Conserved noncoding elements act as enhancers?   \n",
       "15                                                                                                            What are prions?   \n",
       "16                                                                  Does HuR bind to the untranslated regions (UTRs) of mRNAs?   \n",
       "17                                                            Is amantadine effective for treatment of disorders conciousness?   \n",
       "18                                                                Is there any software for automated analysis of FISH images?   \n",
       "19  The antibodies MK-3475 and CT-011 have shown promising results in treating malignancies. Which protein are they targeting?   \n",
       "\n",
       "                                                                                                                                                                                                                                                                                                                          predicted_answer  score  \n",
       "0                                                                                                                                                                                                                                                                              Yes, protein coding exons can originate from ALU sequences.    2.2  \n",
       "1                                                                                                                                                                                                           The stem loop present in the 3' end of genes encoding for selenoproteins is called the Sec insertion sequence (SECIS) element.    3.0  \n",
       "2                 The metalloenzyme inhibitors mentioned in the context are VT-1129, VT-1161, the N-formyl-hydroxylamine derivative BB-3497, 8-halo-4-(3-chloro-4-fluoro-phenylamino)-6-[(1H-[1,2,3]triazol-4-ylmethyl)-amino]-quinoline-3-carbonitriles, 2,2'-dipyridylamine (DPA), triazacyclononane (TACN), and the 8-hydroxyquinoline.    2.0  \n",
       "3                                                                                                      The proteins that control the degradation of cryptic unstable transcripts (CUTs) in yeast are the Nrd1-exosome-TRAMP complexes, the RNA-binding proteins Nrd1 and Nab3, and the Trf4/5-Air1/2-Mtr4 polyadenylation (TRAMP) complex.    2.4  \n",
       "4                                                                                              An accelerometer is used to measure overall physical activity, time spent in different static trunk postures, standing time, lying time, time upright, time walking, step count, and the number of constant postures in back pain patients.    2.9  \n",
       "5                                                                                                                                                                                                    Yes, some ultraconserved elements, specifically a subset known as transcribed ultraconserved regions (T-UCRs), are often transcribed.    2.2  \n",
       "6                                                                                                                                                                                                                                                                              Yes, Fibroblast Growth Factor 23 is a phosphaturic hormone.    2.4  \n",
       "7                                                                                                                                                         NXY-059 has been tested and shown some promise in the treatment of acute ischemic stroke, but its effectiveness is not definitively confirmed and additional research is needed.    2.2  \n",
       "8                                                                                                                                                                                                                                                                     Yes, there are Conserved Noncoding Elements (CNEs) in plant genomes.    1.2  \n",
       "9                                                                                                                                                                                                                                                        No, long noncoding RNAs are not as conserved in sequence as protein-coding genes.    2.4  \n",
       "10                                                                                                                                                                                                                                                               The enzyme inhibited by Opicapone is catechol-O-methyltransferase (COMT).    2.4  \n",
       "11                                               Benralizumab differs from other IL-5 biotherapeutics for severe asthma in that it targets the interleukin-5 receptor α (IL-5Rα), not the IL-5 ligand. It depletes eosinophils by antibody-dependent cell-mediated cytotoxicity, reduces asthma exacerbations, and improves lung function.    2.6  \n",
       "12                                                                          The main risk factors of metabolic syndrome are insulin resistance, dyslipidemia, essential hypertension, glucose intolerance, obesity, raised blood pressure, elevated plasma glucose level, prothrombotic and proinflammatory states, and abdominal obesity.    2.4  \n",
       "13                                                                                                                                                                                                                                                                                                  Yes, CD99 is encoded by the MIC2 gene.    2.0  \n",
       "14                                                                                                                                                                                                                                                                        Yes, conserved noncoding elements (CNEs) often act as enhancers.    2.2  \n",
       "15  Prions are proteins that are most commonly associated with fatal neurodegenerative diseases in mammals. They are units of propagation of an altered state of a protein or proteins and can propagate from organism to organism. Prions are self-propagating infectious protein isoforms that become infectious by a different folding.    2.4  \n",
       "16                                                                                                                                                                                                                                                                         Yes, HuR does bind to the untranslated regions (UTRs) of mRNAs.    2.4  \n",
       "17                                                                                                                                                                                                                                 Yes, the context suggests that amantadine is effective for the treatment of disorders of consciousness.    2.0  \n",
       "18                                                                                                                                                                                                                                                  Yes, a software tool called FISH Finder is used for automated analysis of FISH images.    2.0  \n",
       "19                                                                                                                                                                                                                                                                       The antibodies MK-3475 and CT-011 are targeting the PD-1 protein.    2.0  "
      ]
     },
     "execution_count": 75,
     "metadata": {},
     "output_type": "execute_result"
    }
   ],
   "source": [
    "pd.set_option('display.max_colwidth', 500)\n",
    "pd.set_option('display.max_rows', 500)\n",
    "evals_outs_df = create_score_dataframe(few_shot_bootstrap_compiled_rag_evals[1])\n",
    "print(evals_outs_df['score'].mean())\n",
    "evals_outs_df"
   ]
  },
  {
   "cell_type": "markdown",
   "metadata": {},
   "source": [
    "Notice How the Mean Score has increased to 2.265 from 2.0. So, the model is performing better on the devset now after being optimized. "
   ]
  },
  {
   "cell_type": "code",
   "execution_count": 76,
   "metadata": {},
   "outputs": [
    {
     "data": {
      "text/plain": [
       "Prediction(\n",
       "    context=['Two proprotein convertase subtilisin/kexin type 9 (PCSK9) inhibitors, evolocumab and alirocumab, have recently been approved by both the Food and Drug Administration (FDA) and the European Medicines Agency (EMA) for the treatment of hypercholesterolemia.', 'Food and Drug Administration approved the first two proprotein convertase subtilisin/kexin type 9 (PCSK9) inhibitors, alirocumab (Praluent®; Sanofi/ Regeneron) and evolocumab (Repatha®; Amgen), for use in patients with heterozygous and homozygous familial hypercholesterolemia and for patients intolerant of statins or those with a major risk of cardiovascular disease (CVD) but unable to lower their LDL cholesterol (LDL-C) to optimal levels with statins and ezetimibe.', 'In 2015 the U.S. Food and Drug Administration approved the first two proprotein convertase subtilisin/kexin type 9 (PCSK9) inhibitors, alirocumab (Praluent®; Sanofi/ Regeneron) and evolocumab (Repatha®; Amgen), for use in patients with heterozygous and homozygous familial hypercholesterolemia and for patients intolerant of statins or those with a major risk of cardiovascular disease (CVD) but unable to lower their LDL cholesterol (LDL-C) to optimal levels with statins and ezetimibe.', 'Proprotein convertase subtilisin kexin type 9 (PCSK9) is gaining attention as a key regulator of serum LDL-cholesterol (LDLC).', 'We report here the development of sdAbs targeting human PCSK9 (proprotein convertase subtilisin/kexin type 9) as an alternative to anti-PCSK9 mAbs.', 'Proprotein convertase subtilisin/kexin type 9 (PCSK9) is a regulator of LDL-cholesterol receptor homeostasis and emerges as a therapeutic target in the prevention of cardiovascular (CV) disease.', 'Very recent clinical trials have proven overwhelmingly the effectiveness and safety of PCSK9 inhibitors for lowering LDL-C. Both alirocumab and evolocumab have now been approved by the US FDA and there are some initial favorable outcomes data.', 'The 2 or 4‑week subcutaneous therapy with the recently approved antibodies alirocumab and evolocumab for inhibition of proprotein convertase subtilisin-kexin type 9 (PCSK9) reduces low-density lipoprotein cholesterol (LDL-C) in addition to statins and ezetimibe by 50-60\\u2009%.', 'Monoclonal antibodies that inhibit proprotein convertase subtilisin/ kexin type 9 (PCSK9), which degrades the LDL receptor, like alirocumab and evolocumab, are in phase 3 trials.', 'Proprotein convertase subtilisin/kexin type 9 (PCSK9), which binds the low-density lipoprotein receptor and targets it for degradation, has emerged as an important regulator of serum cholesterol levels and cardiovascular disease risk'],\n",
       "    answer='The FDA approved Proprotein Convertase Subtilisin Kexin 9 (PCSK9) inhibitors are evolocumab and alirocumab.'\n",
       ")"
      ]
     },
     "execution_count": 76,
     "metadata": {},
     "output_type": "execute_result"
    }
   ],
   "source": [
    "few_shot_bootstrap_compiled_rag(sample)"
   ]
  },
  {
   "cell_type": "markdown",
   "metadata": {},
   "source": [
    "### Signature Optmiizer"
   ]
  },
  {
   "cell_type": "markdown",
   "metadata": {},
   "source": [
    "Optimizing Signature is also a way you can try to improve the performance of your model. You can either plug the above bootstrapped compiled model to this or you can even use the uncompiled model."
   ]
  },
  {
   "cell_type": "code",
   "execution_count": 77,
   "metadata": {},
   "outputs": [
    {
     "name": "stdout",
     "output_type": "stream",
     "text": [
      "\u001b[31m[WARNING] BayesianSignatureOptimizer has been deprecated and replaced with MIPRO.  BayesianSignatureOptimizer will be removed in a future release. \u001b[31m\n",
      "\u001b[93m\u001b[1mWARNING: Projected Language Model (LM) Calls\u001b[0m\n",
      "\n",
      "Please be advised that based on the parameters you have set, the maximum number of LM calls is projected as follows:\n",
      "\n",
      "\u001b[93m- Task Model: \u001b[94m\u001b[1m26\u001b[0m\u001b[93m examples in dev set * \u001b[94m\u001b[1m3\u001b[0m\u001b[93m trials * \u001b[94m\u001b[1m# of LM calls in your program\u001b[0m\u001b[93m = (\u001b[94m\u001b[1m78 * # of LM calls in your program\u001b[0m\u001b[93m) task model calls\u001b[0m\n",
      "\u001b[93m- Prompt Model: # data summarizer calls (max \u001b[94m\u001b[1m10\u001b[0m\u001b[93m) + \u001b[94m\u001b[1m5\u001b[0m\u001b[93m * \u001b[94m\u001b[1m1\u001b[0m\u001b[93m lm calls in program = \u001b[94m\u001b[1m15\u001b[0m\u001b[93m prompt model calls\u001b[0m\n",
      "\n",
      "\u001b[93m\u001b[1mEstimated Cost Calculation:\u001b[0m\n",
      "\n",
      "\u001b[93mTotal Cost = (Number of calls to task model * (Avg Input Token Length per Call * Task Model Price per Input Token + Avg Output Token Length per Call * Task Model Price per Output Token) \n",
      "            + (Number of calls to prompt model * (Avg Input Token Length per Call * Task Prompt Price per Input Token + Avg Output Token Length per Call * Prompt Model Price per Output Token).\u001b[0m\n",
      "\n",
      "For a preliminary estimate of potential costs, we recommend you perform your own calculations based on the task\n",
      "and prompt models you intend to use. If the projected costs exceed your budget or expectations, you may consider:\n",
      "\n",
      "\u001b[93m- Reducing the number of trials (`num_trials`), the size of the trainset, or the number of LM calls in your program.\u001b[0m\n",
      "\u001b[93m- Using a cheaper task model to optimize the prompt.\u001b[0m\n"
     ]
    },
    {
     "name": "stderr",
     "output_type": "stream",
     "text": [
      "  0%|          | 0/26 [00:00<?, ?it/s]"
     ]
    },
    {
     "name": "stderr",
     "output_type": "stream",
     "text": [
      "  4%|▍         | 1/26 [00:01<00:32,  1.28s/it]"
     ]
    },
    {
     "name": "stdout",
     "output_type": "stream",
     "text": [
      "Faithful: 5\n",
      "Detail: 1\n",
      "Correctness: 5\n"
     ]
    },
    {
     "name": "stderr",
     "output_type": "stream",
     "text": [
      "  8%|▊         | 2/26 [00:05<01:08,  2.86s/it]"
     ]
    },
    {
     "name": "stdout",
     "output_type": "stream",
     "text": [
      "Faithful: 5\n",
      "Detail: 2\n",
      "Correctness: 3\n"
     ]
    },
    {
     "name": "stderr",
     "output_type": "stream",
     "text": [
      " 12%|█▏        | 3/26 [00:11<01:43,  4.50s/it]"
     ]
    },
    {
     "name": "stdout",
     "output_type": "stream",
     "text": [
      "Faithful: 3\n",
      "Detail: 2\n",
      "Correctness: 2\n"
     ]
    },
    {
     "name": "stderr",
     "output_type": "stream",
     "text": [
      " 15%|█▌        | 4/26 [00:21<01:56,  5.30s/it]\n"
     ]
    },
    {
     "name": "stdout",
     "output_type": "stream",
     "text": [
      "Faithful: 5\n",
      "Detail: 3\n",
      "Correctness: 4\n",
      "Bootstrapped 4 full traces after 5 examples in round 0.\n"
     ]
    },
    {
     "name": "stderr",
     "output_type": "stream",
     "text": [
      "  4%|▍         | 1/26 [00:04<01:54,  4.57s/it]"
     ]
    },
    {
     "name": "stdout",
     "output_type": "stream",
     "text": [
      "Faithful: 4\n",
      "Detail: 3\n",
      "Correctness: 4\n"
     ]
    },
    {
     "name": "stderr",
     "output_type": "stream",
     "text": [
      "  8%|▊         | 2/26 [00:33<07:35, 18.97s/it]"
     ]
    },
    {
     "name": "stdout",
     "output_type": "stream",
     "text": [
      "Faithful: 5\n",
      "Detail: 5\n",
      "Correctness: 5\n"
     ]
    },
    {
     "name": "stderr",
     "output_type": "stream",
     "text": [
      " 12%|█▏        | 3/26 [01:02<08:56, 23.32s/it]"
     ]
    },
    {
     "name": "stdout",
     "output_type": "stream",
     "text": [
      "Faithful: 5\n",
      "Detail: 4\n",
      "Correctness: 4.5\n"
     ]
    },
    {
     "name": "stderr",
     "output_type": "stream",
     "text": [
      " 15%|█▌        | 4/26 [01:09<06:22, 17.41s/it]\n"
     ]
    },
    {
     "name": "stdout",
     "output_type": "stream",
     "text": [
      "Faithful: 5\n",
      "Detail: 2\n",
      "Correctness: 3\n",
      "Bootstrapped 4 full traces after 5 examples in round 0.\n"
     ]
    },
    {
     "name": "stderr",
     "output_type": "stream",
     "text": [
      "  4%|▍         | 1/26 [00:10<04:13, 10.14s/it]"
     ]
    },
    {
     "name": "stdout",
     "output_type": "stream",
     "text": [
      "Faithful: 5\n",
      "Detail: 5\n",
      "Correctness: 5\n"
     ]
    },
    {
     "name": "stderr",
     "output_type": "stream",
     "text": [
      "  8%|▊         | 2/26 [00:18<03:41,  9.22s/it]"
     ]
    },
    {
     "name": "stdout",
     "output_type": "stream",
     "text": [
      "Faithful: 5\n",
      "Detail: 3\n",
      "Correctness: 4\n"
     ]
    },
    {
     "name": "stderr",
     "output_type": "stream",
     "text": [
      " 12%|█▏        | 3/26 [00:24<02:50,  7.43s/it]"
     ]
    },
    {
     "name": "stdout",
     "output_type": "stream",
     "text": [
      "Faithful: 5\n",
      "Detail: 1\n",
      "Correctness: 5\n"
     ]
    },
    {
     "name": "stderr",
     "output_type": "stream",
     "text": [
      " 15%|█▌        | 4/26 [00:31<02:50,  7.77s/it]\n"
     ]
    },
    {
     "name": "stdout",
     "output_type": "stream",
     "text": [
      "Faithful: 5\n",
      "Detail: 3\n",
      "Correctness: 4\n",
      "Bootstrapped 4 full traces after 5 examples in round 0.\n"
     ]
    },
    {
     "name": "stderr",
     "output_type": "stream",
     "text": [
      "  4%|▍         | 1/26 [00:28<11:56, 28.66s/it]"
     ]
    },
    {
     "name": "stdout",
     "output_type": "stream",
     "text": [
      "Faithful: 4\n",
      "Detail: 3\n",
      "Correctness: 3\n"
     ]
    },
    {
     "name": "stderr",
     "output_type": "stream",
     "text": [
      "  8%|▊         | 2/26 [00:36<06:28, 16.19s/it]"
     ]
    },
    {
     "name": "stdout",
     "output_type": "stream",
     "text": [
      "Faithful: 3\n",
      "Detail: 1\n",
      "Correctness: 2\n"
     ]
    },
    {
     "name": "stderr",
     "output_type": "stream",
     "text": [
      " 12%|█▏        | 3/26 [00:41<04:20, 11.31s/it]"
     ]
    },
    {
     "name": "stdout",
     "output_type": "stream",
     "text": [
      "Faithful: 2\n",
      "Detail: 1\n",
      "Correctness: 1\n"
     ]
    },
    {
     "name": "stderr",
     "output_type": "stream",
     "text": [
      " 15%|█▌        | 4/26 [00:45<04:09, 11.33s/it]"
     ]
    },
    {
     "name": "stdout",
     "output_type": "stream",
     "text": [
      "Faithful: 4\n",
      "Detail: 2\n",
      "Correctness: 3\n",
      "Bootstrapped 4 full traces after 5 examples in round 0.\n"
     ]
    },
    {
     "name": "stderr",
     "output_type": "stream",
     "text": [
      "\n",
      "[I 2024-04-30 01:02:24,785] A new study created in memory with name: no-name-acca11e2-8e9a-41ab-8437-ad50b2e5f5e0\n"
     ]
    },
    {
     "name": "stdout",
     "output_type": "stream",
     "text": [
      "Starting trial #0\n"
     ]
    },
    {
     "name": "stderr",
     "output_type": "stream",
     "text": [
      "Average Metric: 2.2 / 1  (220.0):   4%|▍         | 1/26 [00:10<04:17, 10.31s/it]"
     ]
    },
    {
     "name": "stdout",
     "output_type": "stream",
     "text": [
      "Faithful: 4\n",
      "Detail: 3\n",
      "Correctness: 4\n"
     ]
    },
    {
     "name": "stderr",
     "output_type": "stream",
     "text": [
      "Average Metric: 4.2 / 2  (210.0):   8%|▊         | 2/26 [00:11<01:58,  4.93s/it]"
     ]
    },
    {
     "name": "stdout",
     "output_type": "stream",
     "text": [
      "Faithful: 5\n",
      "Detail: 2\n",
      "Correctness: 3\n"
     ]
    },
    {
     "name": "stderr",
     "output_type": "stream",
     "text": [
      "Average Metric: 7.2 / 3  (240.0):  12%|█▏        | 3/26 [00:12<01:12,  3.17s/it]"
     ]
    },
    {
     "name": "stdout",
     "output_type": "stream",
     "text": [
      "Faithful: 5\n",
      "Detail: 5\n",
      "Correctness: 5\n"
     ]
    },
    {
     "name": "stderr",
     "output_type": "stream",
     "text": [
      "Average Metric: 9.6 / 4  (240.0):  15%|█▌        | 4/26 [00:18<01:36,  4.39s/it]"
     ]
    },
    {
     "name": "stdout",
     "output_type": "stream",
     "text": [
      "Faithful: 5\n",
      "Detail: 3\n",
      "Correctness: 4\n"
     ]
    },
    {
     "name": "stderr",
     "output_type": "stream",
     "text": [
      "Average Metric: 12.0 / 5  (240.0):  19%|█▉        | 5/26 [00:21<01:22,  3.94s/it]"
     ]
    },
    {
     "name": "stdout",
     "output_type": "stream",
     "text": [
      "Faithful: 5\n",
      "Detail: 3\n",
      "Correctness: 4\n"
     ]
    },
    {
     "name": "stderr",
     "output_type": "stream",
     "text": [
      "Average Metric: 17.6 / 7  (251.4):  27%|██▋       | 7/26 [00:31<01:16,  4.04s/it]"
     ]
    },
    {
     "name": "stdout",
     "output_type": "stream",
     "text": [
      "Faithful: 5\n",
      "Detail: 5\n",
      "Correctness: 4\n",
      "Faithful: 5\n",
      "Detail: 5\n",
      "Correctness: 4\n"
     ]
    },
    {
     "name": "stderr",
     "output_type": "stream",
     "text": [
      "Average Metric: 20.6 / 8  (257.5):  31%|███       | 8/26 [00:36<01:14,  4.12s/it]"
     ]
    },
    {
     "name": "stdout",
     "output_type": "stream",
     "text": [
      "Faithful: 5\n",
      "Detail: 5\n",
      "Correctness: 5\n"
     ]
    },
    {
     "name": "stderr",
     "output_type": "stream",
     "text": [
      "Average Metric: 23.0 / 9  (255.6):  35%|███▍      | 9/26 [00:38<01:02,  3.69s/it]"
     ]
    },
    {
     "name": "stdout",
     "output_type": "stream",
     "text": [
      "Faithful: 5\n",
      "Detail: 3\n",
      "Correctness: 4\n"
     ]
    },
    {
     "name": "stderr",
     "output_type": "stream",
     "text": [
      "Average Metric: 24.6 / 10  (246.0):  38%|███▊      | 10/26 [00:39<00:44,  2.75s/it]"
     ]
    },
    {
     "name": "stdout",
     "output_type": "stream",
     "text": [
      "Faithful: 3\n",
      "Detail: 4\n",
      "Correctness: 1\n"
     ]
    },
    {
     "name": "stderr",
     "output_type": "stream",
     "text": [
      "Average Metric: 26.8 / 11  (243.6):  42%|████▏     | 11/26 [00:41<00:36,  2.46s/it]"
     ]
    },
    {
     "name": "stdout",
     "output_type": "stream",
     "text": [
      "Faithful: 5\n",
      "Detail: 3\n",
      "Correctness: 3\n"
     ]
    },
    {
     "name": "stderr",
     "output_type": "stream",
     "text": [
      "Average Metric: 28.8 / 12  (240.0):  46%|████▌     | 12/26 [00:43<00:31,  2.27s/it]"
     ]
    },
    {
     "name": "stdout",
     "output_type": "stream",
     "text": [
      "Faithful: 5\n",
      "Detail: 2\n",
      "Correctness: 3\n"
     ]
    },
    {
     "name": "stderr",
     "output_type": "stream",
     "text": [
      "Average Metric: 31.0 / 13  (238.5):  50%|█████     | 13/26 [00:43<00:22,  1.72s/it]"
     ]
    },
    {
     "name": "stdout",
     "output_type": "stream",
     "text": [
      "Faithful: 5\n",
      "Detail: 3\n",
      "Correctness: 3\n"
     ]
    },
    {
     "name": "stderr",
     "output_type": "stream",
     "text": [
      "Average Metric: 33.4 / 14  (238.6):  54%|█████▍    | 14/26 [00:44<00:16,  1.34s/it]"
     ]
    },
    {
     "name": "stdout",
     "output_type": "stream",
     "text": [
      "Faithful: 5\n",
      "Detail: 4\n",
      "Correctness: 3\n"
     ]
    },
    {
     "name": "stderr",
     "output_type": "stream",
     "text": [
      "Average Metric: 35.8 / 15  (238.7):  58%|█████▊    | 15/26 [00:47<00:21,  1.97s/it]"
     ]
    },
    {
     "name": "stdout",
     "output_type": "stream",
     "text": [
      "Faithful: 5\n",
      "Detail: 3\n",
      "Correctness: 4\n"
     ]
    },
    {
     "name": "stderr",
     "output_type": "stream",
     "text": [
      "Average Metric: 38.5 / 16  (240.6):  62%|██████▏   | 16/26 [00:48<00:15,  1.56s/it]"
     ]
    },
    {
     "name": "stdout",
     "output_type": "stream",
     "text": [
      "Faithful: 5\n",
      "Detail: 4\n",
      "Correctness: 4.5\n"
     ]
    },
    {
     "name": "stderr",
     "output_type": "stream",
     "text": [
      "Average Metric: 40.7 / 17  (239.4):  65%|██████▌   | 17/26 [00:48<00:11,  1.30s/it]"
     ]
    },
    {
     "name": "stdout",
     "output_type": "stream",
     "text": [
      "Faithful: 4\n",
      "Detail: 4\n",
      "Correctness: 3\n"
     ]
    },
    {
     "name": "stderr",
     "output_type": "stream",
     "text": [
      "Average Metric: 42.7 / 18  (237.2):  69%|██████▉   | 18/26 [00:52<00:15,  1.92s/it]"
     ]
    },
    {
     "name": "stdout",
     "output_type": "stream",
     "text": [
      "Faithful: 5\n",
      "Detail: 2\n",
      "Correctness: 3\n"
     ]
    },
    {
     "name": "stderr",
     "output_type": "stream",
     "text": [
      "Average Metric: 45.7 / 19  (240.5):  73%|███████▎  | 19/26 [00:54<00:14,  2.03s/it]"
     ]
    },
    {
     "name": "stdout",
     "output_type": "stream",
     "text": [
      "Faithful: 5\n",
      "Detail: 5\n",
      "Correctness: 5\n"
     ]
    },
    {
     "name": "stderr",
     "output_type": "stream",
     "text": [
      "Average Metric: 48.300000000000004 / 20  (241.5):  77%|███████▋  | 20/26 [00:59<00:16,  2.78s/it]"
     ]
    },
    {
     "name": "stdout",
     "output_type": "stream",
     "text": [
      "Faithful: 5\n",
      "Detail: 3\n",
      "Correctness: 5\n"
     ]
    },
    {
     "name": "stderr",
     "output_type": "stream",
     "text": [
      "Average Metric: 49.7 / 21  (236.7):  81%|████████  | 21/26 [01:11<00:28,  5.73s/it]              "
     ]
    },
    {
     "name": "stdout",
     "output_type": "stream",
     "text": [
      "Faithful: 3\n",
      "Detail: 1\n",
      "Correctness: 3\n"
     ]
    },
    {
     "name": "stderr",
     "output_type": "stream",
     "text": [
      "Average Metric: 51.7 / 22  (235.0):  85%|████████▍ | 22/26 [01:14<00:19,  4.93s/it]"
     ]
    },
    {
     "name": "stdout",
     "output_type": "stream",
     "text": [
      "Faithful: 4\n",
      "Detail: 3\n",
      "Correctness: 3\n"
     ]
    },
    {
     "name": "stderr",
     "output_type": "stream",
     "text": [
      "Average Metric: 53.900000000000006 / 23  (234.3):  88%|████████▊ | 23/26 [01:15<00:11,  3.83s/it]"
     ]
    },
    {
     "name": "stdout",
     "output_type": "stream",
     "text": [
      "Faithful: 5\n",
      "Detail: 3\n",
      "Correctness: 3\n"
     ]
    },
    {
     "name": "stderr",
     "output_type": "stream",
     "text": [
      "Average Metric: 55.300000000000004 / 24  (230.4):  92%|█████████▏| 24/26 [01:19<00:07,  3.58s/it]"
     ]
    },
    {
     "name": "stdout",
     "output_type": "stream",
     "text": [
      "Faithful: 3\n",
      "Detail: 2\n",
      "Correctness: 2\n"
     ]
    },
    {
     "name": "stderr",
     "output_type": "stream",
     "text": [
      "Average Metric: 57.7 / 25  (230.8):  96%|█████████▌| 25/26 [01:19<00:02,  2.71s/it]              "
     ]
    },
    {
     "name": "stdout",
     "output_type": "stream",
     "text": [
      "Faithful: 5\n",
      "Detail: 4\n",
      "Correctness: 3\n"
     ]
    },
    {
     "name": "stderr",
     "output_type": "stream",
     "text": [
      "Average Metric: 59.7 / 26  (229.6): 100%|██████████| 26/26 [01:45<00:00,  4.06s/it]\n",
      "[I 2024-04-30 01:04:10,553] Trial 0 finished with value: 229.62 and parameters: {'6311971984_predictor_instruction': 1, '6311971984_predictor_demos': 2}. Best is trial 0 with value: 229.62.\n"
     ]
    },
    {
     "name": "stdout",
     "output_type": "stream",
     "text": [
      "Faithful: 4\n",
      "Detail: 5\n",
      "Correctness: 1\n",
      "Average Metric: 59.7 / 26  (229.6%)\n",
      "Starting trial #1\n"
     ]
    },
    {
     "name": "stderr",
     "output_type": "stream",
     "text": [
      "Average Metric: 4.0 / 2  (200.0):   4%|▍         | 1/26 [00:00<00:15,  1.66it/s]"
     ]
    },
    {
     "name": "stdout",
     "output_type": "stream",
     "text": [
      "Faithful: 3\n",
      "Detail: 4\n",
      "Correctness: 1\n",
      "Faithful: 5\n",
      "Detail: 4\n",
      "Correctness: 3\n"
     ]
    },
    {
     "name": "stderr",
     "output_type": "stream",
     "text": [
      "Average Metric: 8.600000000000001 / 4  (215.0):  15%|█▌        | 4/26 [00:01<00:04,  4.63it/s]"
     ]
    },
    {
     "name": "stdout",
     "output_type": "stream",
     "text": [
      "Faithful: 5\n",
      "Detail: 3\n",
      "Correctness: 4\n",
      "Faithful: 5\n",
      "Detail: 3\n",
      "Correctness: 3\n"
     ]
    },
    {
     "name": "stderr",
     "output_type": "stream",
     "text": [
      "Average Metric: 10.8 / 5  (216.0):  19%|█▉        | 5/26 [00:01<00:04,  4.53it/s]             "
     ]
    },
    {
     "name": "stdout",
     "output_type": "stream",
     "text": [
      "Faithful: 4\n",
      "Detail: 3\n",
      "Correctness: 4\n"
     ]
    },
    {
     "name": "stderr",
     "output_type": "stream",
     "text": [
      "Average Metric: 16.6 / 7  (237.1):  23%|██▎       | 6/26 [00:02<00:11,  1.80it/s]              "
     ]
    },
    {
     "name": "stdout",
     "output_type": "stream",
     "text": [
      "Faithful: 5\n",
      "Detail: 5\n",
      "Correctness: 4\n",
      "Faithful: 5\n",
      "Detail: 5\n",
      "Correctness: 5\n"
     ]
    },
    {
     "name": "stderr",
     "output_type": "stream",
     "text": [
      "Average Metric: 18.8 / 8  (235.0):  31%|███       | 8/26 [00:04<00:12,  1.49it/s]"
     ]
    },
    {
     "name": "stdout",
     "output_type": "stream",
     "text": [
      "Faithful: 4\n",
      "Detail: 4\n",
      "Correctness: 3\n"
     ]
    },
    {
     "name": "stderr",
     "output_type": "stream",
     "text": [
      "Average Metric: 24.2 / 10  (242.0):  35%|███▍      | 9/26 [00:05<00:14,  1.15it/s]"
     ]
    },
    {
     "name": "stdout",
     "output_type": "stream",
     "text": [
      "Faithful: 5\n",
      "Detail: 3\n",
      "Correctness: 4\n",
      "Faithful: 5\n",
      "Detail: 5\n",
      "Correctness: 5\n",
      "Faithful: 5\n",
      "Detail: 2\n",
      "Correctness: 3\n"
     ]
    },
    {
     "name": "stderr",
     "output_type": "stream",
     "text": [
      "Average Metric: 28.2 / 12  (235.0):  46%|████▌     | 12/26 [00:06<00:07,  1.93it/s]"
     ]
    },
    {
     "name": "stdout",
     "output_type": "stream",
     "text": [
      "Faithful: 5\n",
      "Detail: 2\n",
      "Correctness: 3\n"
     ]
    },
    {
     "name": "stderr",
     "output_type": "stream",
     "text": [
      "Average Metric: 33.3 / 14  (237.9):  50%|█████     | 13/26 [00:06<00:06,  2.14it/s]"
     ]
    },
    {
     "name": "stdout",
     "output_type": "stream",
     "text": [
      "Faithful: 5\n",
      "Detail: 4\n",
      "Correctness: 4.5\n",
      "Faithful: 5\n",
      "Detail: 3\n",
      "Correctness: 4\n"
     ]
    },
    {
     "name": "stderr",
     "output_type": "stream",
     "text": [
      "Average Metric: 41.099999999999994 / 17  (241.8):  62%|██████▏   | 16/26 [00:08<00:05,  1.68it/s]"
     ]
    },
    {
     "name": "stdout",
     "output_type": "stream",
     "text": [
      "Faithful: 5\n",
      "Detail: 5\n",
      "Correctness: 4\n",
      "Faithful: 4\n",
      "Detail: 3\n",
      "Correctness: 3\n",
      "Faithful: 5\n",
      "Detail: 5\n",
      "Correctness: 5\n"
     ]
    },
    {
     "name": "stderr",
     "output_type": "stream",
     "text": [
      "Average Metric: 44.89999999999999 / 19  (236.3):  69%|██████▉   | 18/26 [00:09<00:03,  2.38it/s] "
     ]
    },
    {
     "name": "stdout",
     "output_type": "stream",
     "text": [
      "Faithful: 3\n",
      "Detail: 1\n",
      "Correctness: 3\n",
      "Faithful: 5\n",
      "Detail: 3\n",
      "Correctness: 4\n"
     ]
    },
    {
     "name": "stderr",
     "output_type": "stream",
     "text": [
      "Average Metric: 49.29999999999999 / 21  (234.8):  81%|████████  | 21/26 [00:09<00:01,  3.09it/s]"
     ]
    },
    {
     "name": "stdout",
     "output_type": "stream",
     "text": [
      "Faithful: 5\n",
      "Detail: 4\n",
      "Correctness: 3\n",
      "Faithful: 4\n",
      "Detail: 5\n",
      "Correctness: 1\n"
     ]
    },
    {
     "name": "stderr",
     "output_type": "stream",
     "text": [
      "Average Metric: 52.69999999999999 / 23  (229.1):  85%|████████▍ | 22/26 [00:09<00:01,  3.62it/s]"
     ]
    },
    {
     "name": "stdout",
     "output_type": "stream",
     "text": [
      "Faithful: 5\n",
      "Detail: 2\n",
      "Correctness: 3\n",
      "Faithful: 3\n",
      "Detail: 2\n",
      "Correctness: 2\n"
     ]
    },
    {
     "name": "stderr",
     "output_type": "stream",
     "text": [
      "Average Metric: 59.699999999999996 / 26  (229.6): 100%|██████████| 26/26 [00:10<00:00,  2.40it/s]\n",
      "[I 2024-04-30 01:04:21,408] Trial 1 finished with value: 229.62 and parameters: {'6311971984_predictor_instruction': 1, '6311971984_predictor_demos': 2}. Best is trial 0 with value: 229.62.\n"
     ]
    },
    {
     "name": "stdout",
     "output_type": "stream",
     "text": [
      "Faithful: 5\n",
      "Detail: 3\n",
      "Correctness: 3\n",
      "Faithful: 5\n",
      "Detail: 3\n",
      "Correctness: 3\n",
      "Faithful: 5\n",
      "Detail: 3\n",
      "Correctness: 5\n",
      "Average Metric: 59.699999999999996 / 26  (229.6%)\n",
      "Starting trial #2\n"
     ]
    },
    {
     "name": "stderr",
     "output_type": "stream",
     "text": [
      "Average Metric: 4.0 / 2  (200.0):   4%|▍         | 1/26 [00:00<00:09,  2.53it/s]"
     ]
    },
    {
     "name": "stdout",
     "output_type": "stream",
     "text": [
      "Faithful: 5Faithful: 4\n",
      "Detail: 3\n",
      "Correctness: 4\n",
      "\n",
      "Detail: 3\n",
      "Correctness: 1\n"
     ]
    },
    {
     "name": "stderr",
     "output_type": "stream",
     "text": [
      "Average Metric: 6.2 / 3  (206.7):  12%|█▏        | 3/26 [00:01<00:12,  1.84it/s]"
     ]
    },
    {
     "name": "stdout",
     "output_type": "stream",
     "text": [
      "Faithful: 5\n",
      "Detail: 3\n",
      "Correctness: 3\n"
     ]
    },
    {
     "name": "stderr",
     "output_type": "stream",
     "text": [
      "Average Metric: 8.0 / 4  (200.0):  15%|█▌        | 4/26 [00:03<00:22,  1.01s/it]"
     ]
    },
    {
     "name": "stdout",
     "output_type": "stream",
     "text": [
      "Faithful: 5\n",
      "Detail: 2\n",
      "Correctness: 2\n"
     ]
    },
    {
     "name": "stderr",
     "output_type": "stream",
     "text": [
      "Average Metric: 10.4 / 5  (208.0):  19%|█▉        | 5/26 [00:04<00:18,  1.11it/s]"
     ]
    },
    {
     "name": "stdout",
     "output_type": "stream",
     "text": [
      "Faithful: 5\n",
      "Detail: 3\n",
      "Correctness: 4\n"
     ]
    },
    {
     "name": "stderr",
     "output_type": "stream",
     "text": [
      "Average Metric: 11.8 / 6  (196.7):  23%|██▎       | 6/26 [00:05<00:23,  1.16s/it]"
     ]
    },
    {
     "name": "stdout",
     "output_type": "stream",
     "text": [
      "Faithful: 3\n",
      "Detail: 2\n",
      "Correctness: 2\n"
     ]
    },
    {
     "name": "stderr",
     "output_type": "stream",
     "text": [
      "Average Metric: 14.200000000000001 / 7  (202.9):  27%|██▋       | 7/26 [00:06<00:19,  1.02s/it]"
     ]
    },
    {
     "name": "stdout",
     "output_type": "stream",
     "text": [
      "Faithful: 5\n",
      "Detail: 3\n",
      "Correctness: 4\n"
     ]
    },
    {
     "name": "stderr",
     "output_type": "stream",
     "text": [
      "Average Metric: 16.200000000000003 / 8  (202.5):  31%|███       | 8/26 [00:07<00:15,  1.19it/s]"
     ]
    },
    {
     "name": "stdout",
     "output_type": "stream",
     "text": [
      "Faithful: 5\n",
      "Detail: 2\n",
      "Correctness: 3\n"
     ]
    },
    {
     "name": "stderr",
     "output_type": "stream",
     "text": [
      "Average Metric: 22.8 / 11  (207.3):  42%|████▏     | 11/26 [00:07<00:05,  2.53it/s]            "
     ]
    },
    {
     "name": "stdout",
     "output_type": "stream",
     "text": [
      "Faithful: 5\n",
      "Detail: 3\n",
      "Correctness: 3\n",
      "Faithful: 5\n",
      "Detail: 3\n",
      "Correctness: 3\n",
      "Faithful: 5\n",
      "Detail: 1\n",
      "Correctness: 5\n"
     ]
    },
    {
     "name": "stderr",
     "output_type": "stream",
     "text": [
      "Average Metric: 24.2 / 12  (201.7):  46%|████▌     | 12/26 [00:07<00:05,  2.45it/s]"
     ]
    },
    {
     "name": "stdout",
     "output_type": "stream",
     "text": [
      "Faithful: 5\n",
      "Detail: 1\n",
      "Correctness: 1\n"
     ]
    },
    {
     "name": "stderr",
     "output_type": "stream",
     "text": [
      "Average Metric: 27.2 / 13  (209.2):  50%|█████     | 13/26 [00:08<00:06,  1.98it/s]"
     ]
    },
    {
     "name": "stdout",
     "output_type": "stream",
     "text": [
      "Faithful: 5\n",
      "Detail: 5\n",
      "Correctness: 5\n"
     ]
    },
    {
     "name": "stderr",
     "output_type": "stream",
     "text": [
      "Average Metric: 29.2 / 14  (208.6):  54%|█████▍    | 14/26 [00:09<00:07,  1.52it/s]"
     ]
    },
    {
     "name": "stdout",
     "output_type": "stream",
     "text": [
      "Faithful: 5\n",
      "Detail: 2\n",
      "Correctness: 3\n"
     ]
    },
    {
     "name": "stderr",
     "output_type": "stream",
     "text": [
      "Average Metric: 35.699999999999996 / 17  (210.0):  62%|██████▏   | 16/26 [00:11<00:08,  1.19it/s]"
     ]
    },
    {
     "name": "stdout",
     "output_type": "stream",
     "text": [
      "Faithful: 4\n",
      "Detail: 3\n",
      "Correctness: 3\n",
      "Faithful: 5\n",
      "Detail: 4\n",
      "Correctness: 4.5\n",
      "Faithful: 5\n",
      "Detail: 1\n",
      "Correctness: 3\n"
     ]
    },
    {
     "name": "stderr",
     "output_type": "stream",
     "text": [
      "Average Metric: 39.69999999999999 / 20  (198.5):  73%|███████▎  | 19/26 [00:12<00:03,  1.78it/s] "
     ]
    },
    {
     "name": "stdout",
     "output_type": "stream",
     "text": [
      "Faithful: 2\n",
      "Detail: 1\n",
      "Correctness: 1\n",
      "Faithful: 2\n",
      "Detail: 5\n",
      "Correctness: 5\n",
      "Faithful: 2\n",
      "Detail: 1\n",
      "Correctness: 1\n"
     ]
    },
    {
     "name": "stderr",
     "output_type": "stream",
     "text": [
      "Average Metric: 47.99999999999999 / 24  (200.0):  88%|████████▊ | 23/26 [00:13<00:01,  1.91it/s]"
     ]
    },
    {
     "name": "stdout",
     "output_type": "stream",
     "text": [
      "Faithful: 5Faithful: 3\n",
      "Detail: 2\n",
      "Correctness: 1\n",
      "\n",
      "Detail: 2\n",
      "Correctness: 3\n",
      "Faithful: 5\n",
      "Detail: 5\n",
      "Correctness: 4.5\n",
      "Faithful: 5\n",
      "Detail: 1\n",
      "Correctness: 5\n"
     ]
    },
    {
     "name": "stderr",
     "output_type": "stream",
     "text": [
      "Average Metric: 50.39999999999999 / 26  (193.8): 100%|██████████| 26/26 [00:13<00:00,  1.86it/s] "
     ]
    },
    {
     "name": "stdout",
     "output_type": "stream",
     "text": [
      "Faithful: 5\n",
      "Detail: 1\n",
      "Correctness: 2\n",
      "Faithful: 2\n",
      "Detail: 1\n",
      "Correctness: 1\n",
      "Average Metric: 50.39999999999999 / 26  (193.8%)\n"
     ]
    },
    {
     "name": "stderr",
     "output_type": "stream",
     "text": [
      "\n",
      "[I 2024-04-30 01:04:35,641] Trial 2 finished with value: 193.84999999999997 and parameters: {'6311971984_predictor_instruction': 0, '6311971984_predictor_demos': 0}. Best is trial 0 with value: 229.62.\n"
     ]
    },
    {
     "name": "stdout",
     "output_type": "stream",
     "text": [
      "Returning generate_answer = ChainOfThought(GenerateAnswer(context, question -> answer\n",
      "    instructions='Answer questions based on the context.'\n",
      "    context = Field(annotation=str required=True json_schema_extra={'desc': 'may contain relevant facts', '__dspy_field_type': 'input', 'prefix': 'Context:'})\n",
      "    question = Field(annotation=str required=True json_schema_extra={'__dspy_field_type': 'input', 'prefix': 'Question:', 'desc': '${question}'})\n",
      "    answer = Field(annotation=str required=True json_schema_extra={'__dspy_field_type': 'output', 'prefix': 'Answer:', 'desc': '${answer}'})\n",
      ")) from continue_program\n"
     ]
    }
   ],
   "source": [
    "\n",
    "from dspy.teleprompt import BayesianSignatureOptimizer\n",
    "\n",
    "llm_prompter = dspy.OpenAI(model='gpt-4', max_tokens=2000, model_type='chat')\n",
    "\n",
    "teleprompter = BayesianSignatureOptimizer(task_model=dspy.settings.lm,\n",
    "                                          metric=llm_metric,\n",
    "                                          prompt_model=llm_prompter,\n",
    "                                          n=5,\n",
    "                                          verbose=False)\n",
    "kwargs = dict(num_threads=8, display_progress=True, display_table=0)\n",
    "signature_compiled_rag = teleprompter.compile(uncompile_k_10, devset=trainset_truncated,\n",
    "                                         optuna_trials_num=3,\n",
    "                                         max_bootstrapped_demos=4,\n",
    "                                         max_labeled_demos=4,\n",
    "                                         eval_kwargs=kwargs)"
   ]
  },
  {
   "cell_type": "code",
   "execution_count": 79,
   "metadata": {},
   "outputs": [
    {
     "name": "stderr",
     "output_type": "stream",
     "text": []
    },
    {
     "name": "stderr",
     "output_type": "stream",
     "text": []
    },
    {
     "name": "stdout",
     "output_type": "stream",
     "text": [
      "Faithful: 5\n",
      "Detail: 5\n",
      "Correctness: 5\n"
     ]
    },
    {
     "name": "stderr",
     "output_type": "stream",
     "text": [
      "\n",
      "Average Metric: 15.2 / 6  (253.3):  30%|███       | 6/20 [00:01<00:02,  6.31it/s]"
     ]
    },
    {
     "name": "stdout",
     "output_type": "stream",
     "text": [
      "Faithful: 5\n",
      "Detail: 5\n",
      "Correctness: 5\n",
      "Faithful: 5\n",
      "Detail: 2\n",
      "Correctness: 4\n",
      "Faithful: 5\n",
      "Detail: 3\n",
      "Correctness: 3\n",
      "Faithful: 5\n",
      "Detail: 3\n",
      "Correctness: 4\n",
      "Faithful: 5\n",
      "Detail: 3\n",
      "Correctness: 4\n",
      "Faithful: 4\n",
      "Detail: 3\n",
      "Correctness: 3\n"
     ]
    },
    {
     "name": "stderr",
     "output_type": "stream",
     "text": [
      "\u001b[A\n"
     ]
    },
    {
     "name": "stdout",
     "output_type": "stream",
     "text": [
      "Faithful: 5\n",
      "Detail: 5\n",
      "Correctness: 5\n",
      "Faithful: 5\n",
      "Detail: 4\n",
      "Correctness: 3\n",
      "Faithful: 5\n",
      "Detail: 3\n",
      "Correctness: 3\n"
     ]
    },
    {
     "name": "stderr",
     "output_type": "stream",
     "text": [
      "Average Metric: 24.799999999999997 / 10  (248.0):  45%|████▌     | 9/20 [00:01<00:01,  8.04it/s]\u001b[A"
     ]
    },
    {
     "name": "stdout",
     "output_type": "stream",
     "text": [
      "Faithful: 5\n",
      "Detail: 5\n",
      "Correctness: 4\n"
     ]
    },
    {
     "name": "stderr",
     "output_type": "stream",
     "text": []
    },
    {
     "name": "stdout",
     "output_type": "stream",
     "text": [
      "Faithful: 5\n",
      "Detail: 2\n",
      "Correctness: 3\n"
     ]
    },
    {
     "name": "stderr",
     "output_type": "stream",
     "text": []
    },
    {
     "name": "stdout",
     "output_type": "stream",
     "text": [
      "Faithful: 5\n",
      "Detail: 3\n",
      "Correctness: 4\n",
      "Faithful: 5\n",
      "Detail: 2\n",
      "Correctness: 3\n",
      "Faithful: 5\n",
      "Detail: 2\n",
      "Correctness: 3\n"
     ]
    },
    {
     "name": "stderr",
     "output_type": "stream",
     "text": []
    },
    {
     "name": "stdout",
     "output_type": "stream",
     "text": [
      "Faithful: 5\n",
      "Detail: 2\n",
      "Correctness: 3\n",
      "Faithful: 4\n",
      "Detail: 4\n",
      "Correctness: 3\n",
      "Faithful: 5\n",
      "Detail: 4\n",
      "Correctness: 3\n"
     ]
    },
    {
     "name": "stderr",
     "output_type": "stream",
     "text": [
      "Average Metric: 46.2 / 20  (231.0): 100%|██████████| 20/20 [00:04<00:00,  4.15it/s]"
     ]
    },
    {
     "name": "stdout",
     "output_type": "stream",
     "text": [
      "Faithful: 5\n",
      "Detail: 3\n",
      "Correctness: 4\n",
      "Faithful: 1\n",
      "Detail: 2\n",
      "Correctness: 3\n",
      "Average Metric: 46.2 / 20  (231.0%)\n"
     ]
    },
    {
     "name": "stderr",
     "output_type": "stream",
     "text": [
      "\n",
      "/Users/aarishalam/.pyenv/versions/3.11.0/envs/learn_ai_eng/lib/python3.11/site-packages/dspy/evaluate/evaluate.py:266: FutureWarning: Setting an item of incompatible dtype is deprecated and will raise in a future error of pandas. Value '['2.2' '3.0' '2.2' '2.0' '2.4']' has dtype incompatible with float64, please explicitly cast to a compatible dtype first.\n",
      "  df.loc[:, metric_name] = df[metric_name].apply(\n"
     ]
    },
    {
     "data": {
      "text/html": [
       "<style type=\"text/css\">\n",
       "#T_657e5 th {\n",
       "  text-align: left;\n",
       "}\n",
       "#T_657e5 td {\n",
       "  text-align: left;\n",
       "}\n",
       "#T_657e5_row0_col0, #T_657e5_row0_col1, #T_657e5_row0_col2, #T_657e5_row0_col3, #T_657e5_row0_col4, #T_657e5_row1_col0, #T_657e5_row1_col1, #T_657e5_row1_col2, #T_657e5_row1_col3, #T_657e5_row1_col4, #T_657e5_row2_col0, #T_657e5_row2_col1, #T_657e5_row2_col2, #T_657e5_row2_col3, #T_657e5_row2_col4, #T_657e5_row3_col0, #T_657e5_row3_col1, #T_657e5_row3_col2, #T_657e5_row3_col3, #T_657e5_row3_col4, #T_657e5_row4_col0, #T_657e5_row4_col1, #T_657e5_row4_col2, #T_657e5_row4_col3, #T_657e5_row4_col4 {\n",
       "  text-align: left;\n",
       "  white-space: pre-wrap;\n",
       "  word-wrap: break-word;\n",
       "  max-width: 400px;\n",
       "}\n",
       "</style>\n",
       "<table id=\"T_657e5\">\n",
       "  <thead>\n",
       "    <tr>\n",
       "      <th class=\"blank level0\" >&nbsp;</th>\n",
       "      <th id=\"T_657e5_level0_col0\" class=\"col_heading level0 col0\" >question</th>\n",
       "      <th id=\"T_657e5_level0_col1\" class=\"col_heading level0 col1\" >example_answer</th>\n",
       "      <th id=\"T_657e5_level0_col2\" class=\"col_heading level0 col2\" >context</th>\n",
       "      <th id=\"T_657e5_level0_col3\" class=\"col_heading level0 col3\" >pred_answer</th>\n",
       "      <th id=\"T_657e5_level0_col4\" class=\"col_heading level0 col4\" >llm_metric</th>\n",
       "    </tr>\n",
       "  </thead>\n",
       "  <tbody>\n",
       "    <tr>\n",
       "      <th id=\"T_657e5_level0_row0\" class=\"row_heading level0 row0\" >0</th>\n",
       "      <td id=\"T_657e5_row0_col0\" class=\"data row0 col0\" >Are ultraconserved elements often transcribed?</td>\n",
       "      <td id=\"T_657e5_row0_col1\" class=\"data row0 col1\" >Yes.  Especially, a large fraction of non-exonic UCEs is transcribed across all developmental stages examined from only one DNA strand.</td>\n",
       "      <td id=\"T_657e5_row0_col2\" class=\"data row0 col2\" >['Ultraconserved elements in insect genomes', 'ultraconserved elements in plants tend to occur in clusters and locate at noncoding regions', 'Transcribed ultraconserved region in human cancers.',...</td>\n",
       "      <td id=\"T_657e5_row0_col3\" class=\"data row0 col3\" >Yes, ultraconserved elements are often transcribed.</td>\n",
       "      <td id=\"T_657e5_row0_col4\" class=\"data row0 col4\" >2.2</td>\n",
       "    </tr>\n",
       "    <tr>\n",
       "      <th id=\"T_657e5_level0_row1\" class=\"row_heading level0 row1\" >1</th>\n",
       "      <td id=\"T_657e5_row1_col0\" class=\"data row1 col0\" >List metalloenzyme inhibitors.</td>\n",
       "      <td id=\"T_657e5_row1_col1\" class=\"data row1 col1\" >Foscarnet\n",
       "VT-1129\n",
       "VT-1161 \n",
       "BB-3497\n",
       "hydroxamate molecules\n",
       "siderophores</td>\n",
       "      <td id=\"T_657e5_row1_col2\" class=\"data row1 col2\" >['the metalloenzyme inhibitors VT-1129 and VT-1161 (both Viamet Pharmaceuticals)', 'Clinically approved inhibitors were selected as well as several other reported metalloprotein inhibitors in order to...</td>\n",
       "      <td id=\"T_657e5_row1_col3\" class=\"data row1 col3\" >Metalloenzyme inhibitors include VT-1129, VT-1161, hydroxamate molecules, siderophores, the N-formyl-hydroxylamine derivative BB-3497, tissue inhibitor of metalloproteinases-1 (Timp-1), 8-halo-4-(3-chloro-4-fluoro-phenylamino)-6-[(1H-[1,2,3]triazol-4-ylmethyl)-amino]-quinoline-3-carbonitriles, 2,2'-dipyridylamine (DPA), triazacyclononane (TACN), 8-hydroxyquinoline, and the...</td>\n",
       "      <td id=\"T_657e5_row1_col4\" class=\"data row1 col4\" >3.0</td>\n",
       "    </tr>\n",
       "    <tr>\n",
       "      <th id=\"T_657e5_level0_row2\" class=\"row_heading level0 row2\" >2</th>\n",
       "      <td id=\"T_657e5_row2_col0\" class=\"data row2 col0\" >Which proteins control the degradation of cryptic unstable transcripts (CUTs) in yeast?</td>\n",
       "      <td id=\"T_657e5_row2_col1\" class=\"data row2 col1\" >Termination of cryptic unstable transcripts is directed by yeast RNA-binding proteins Nrd1 and Nab3. These cryptic unstable transcripts (CUTs) are rapidly degraded by the nuclear...</td>\n",
       "      <td id=\"T_657e5_row2_col2\" class=\"data row2 col2\" >['Cryptic unstable transcripts (CUTs) were recently described as a principal class of RNA polymerase II transcripts in Saccharomyces cerevisiae', 'Cryptic unstable transcripts (CUTs) were recently...</td>\n",
       "      <td id=\"T_657e5_row2_col3\" class=\"data row2 col3\" >The proteins that control the degradation of cryptic unstable transcripts (CUTs) in yeast are Nrd1, Nab3, and the TRAMP complex.</td>\n",
       "      <td id=\"T_657e5_row2_col4\" class=\"data row2 col4\" >2.2</td>\n",
       "    </tr>\n",
       "    <tr>\n",
       "      <th id=\"T_657e5_level0_row3\" class=\"row_heading level0 row3\" >3</th>\n",
       "      <td id=\"T_657e5_row3_col0\" class=\"data row3 col0\" >Can protein coding exons originate from ALU sequences?</td>\n",
       "      <td id=\"T_657e5_row3_col1\" class=\"data row3 col1\" >Yes. Intronic ALUs can evolve into exons by the activation of splice signals residing within the ALU sequence. While most ALU exons do not add...</td>\n",
       "      <td id=\"T_657e5_row3_col2\" class=\"data row3 col2\" >['Transcribed Alu sequences can alter splicing patterns by generating new exons', 'Transcribed Alu sequences can alter splicing patterns by generating new exons, but other impacts...</td>\n",
       "      <td id=\"T_657e5_row3_col3\" class=\"data row3 col3\" >Yes, protein coding exons can originate from Alu sequences.</td>\n",
       "      <td id=\"T_657e5_row3_col4\" class=\"data row3 col4\" >2.0</td>\n",
       "    </tr>\n",
       "    <tr>\n",
       "      <th id=\"T_657e5_level0_row4\" class=\"row_heading level0 row4\" >4</th>\n",
       "      <td id=\"T_657e5_row4_col0\" class=\"data row4 col0\" >Is Fibroblast Growth Factor 23 a phosphaturic hormone?</td>\n",
       "      <td id=\"T_657e5_row4_col1\" class=\"data row4 col1\" >Yes, fbroblast growth factor 23 (FGF23) is a phosphaturic hormone.</td>\n",
       "      <td id=\"T_657e5_row4_col2\" class=\"data row4 col2\" >['fibroblast growth factor-23 (FGF23), a bone-derived phosphaturic hormone.', 'serum levels of a phosphaturic hormone, fibroblast growth factor 23 (Fgf23),', 'circulating phosphaturic hormone fibroblast growth factor-23...</td>\n",
       "      <td id=\"T_657e5_row4_col3\" class=\"data row4 col3\" >Yes, Fibroblast Growth Factor 23 is a phosphaturic hormone.</td>\n",
       "      <td id=\"T_657e5_row4_col4\" class=\"data row4 col4\" >2.4</td>\n",
       "    </tr>\n",
       "  </tbody>\n",
       "</table>\n"
      ],
      "text/plain": [
       "<pandas.io.formats.style.Styler at 0x179837ad0>"
      ]
     },
     "metadata": {},
     "output_type": "display_data"
    },
    {
     "data": {
      "text/html": [
       "\n",
       "                <div style='\n",
       "                    text-align: center;\n",
       "                    font-size: 16px;\n",
       "                    font-weight: bold;\n",
       "                    color: #555;\n",
       "                    margin: 10px 0;'>\n",
       "                    ... 15 more rows not displayed ...\n",
       "                </div>\n",
       "                "
      ],
      "text/plain": [
       "<IPython.core.display.HTML object>"
      ]
     },
     "metadata": {},
     "output_type": "display_data"
    }
   ],
   "source": [
    "signature_compiled_rag_eval = evaluate(signature_compiled_rag, metric=llm_metric,return_all_scores=True, return_outputs=True)"
   ]
  },
  {
   "cell_type": "code",
   "execution_count": 82,
   "metadata": {},
   "outputs": [
    {
     "name": "stdout",
     "output_type": "stream",
     "text": [
      "2.31\n"
     ]
    },
    {
     "data": {
      "text/html": [
       "<div>\n",
       "<style scoped>\n",
       "    .dataframe tbody tr th:only-of-type {\n",
       "        vertical-align: middle;\n",
       "    }\n",
       "\n",
       "    .dataframe tbody tr th {\n",
       "        vertical-align: top;\n",
       "    }\n",
       "\n",
       "    .dataframe thead th {\n",
       "        text-align: right;\n",
       "    }\n",
       "</style>\n",
       "<table border=\"1\" class=\"dataframe\">\n",
       "  <thead>\n",
       "    <tr style=\"text-align: right;\">\n",
       "      <th></th>\n",
       "      <th>question</th>\n",
       "      <th>predicted_answer</th>\n",
       "      <th>score</th>\n",
       "    </tr>\n",
       "  </thead>\n",
       "  <tbody>\n",
       "    <tr>\n",
       "      <th>0</th>\n",
       "      <td>List metalloenzyme inhibitors.</td>\n",
       "      <td>Metalloenzyme inhibitors include VT-1129, VT-1161, hydroxamate molecules, siderophores, the N-formyl-hydroxylamine derivative BB-3497, tissue inhibitor of metalloproteinases-1 (Timp-1), 8-halo-4-(3-chloro-4-fluoro-phenylamino)-6-[(1H-[1,2,3]triazol-4-ylmethyl)-amino]-quinoline-3-carbonitriles, 2,2'-dipyridylamine (DPA), triazacyclononane (TACN), 8-hydroxyquinoline, and the sarcoplasmic/endoplasmic Ca(2+)-ATPase (SERCA) inhibitor thapsigargin.</td>\n",
       "      <td>3.0</td>\n",
       "    </tr>\n",
       "    <tr>\n",
       "      <th>1</th>\n",
       "      <td>What is being measured with an accelerometer in back pain patients</td>\n",
       "      <td>In back pain patients, an accelerometer is used to measure various aspects of physical activity, including overall physical activity levels, time spent in different static trunk postures, time spent upright, standing, or walking, and step count.</td>\n",
       "      <td>3.0</td>\n",
       "    </tr>\n",
       "    <tr>\n",
       "      <th>2</th>\n",
       "      <td>Which proteins control the degradation of cryptic unstable transcripts (CUTs) in yeast?</td>\n",
       "      <td>The proteins that control the degradation of cryptic unstable transcripts (CUTs) in yeast are Nrd1, Nab3, and the TRAMP complex.</td>\n",
       "      <td>2.2</td>\n",
       "    </tr>\n",
       "    <tr>\n",
       "      <th>3</th>\n",
       "      <td>Are ultraconserved elements often transcribed?</td>\n",
       "      <td>Yes, ultraconserved elements are often transcribed.</td>\n",
       "      <td>2.2</td>\n",
       "    </tr>\n",
       "    <tr>\n",
       "      <th>4</th>\n",
       "      <td>Is Fibroblast Growth Factor 23 a phosphaturic hormone?</td>\n",
       "      <td>Yes, Fibroblast Growth Factor 23 is a phosphaturic hormone.</td>\n",
       "      <td>2.4</td>\n",
       "    </tr>\n",
       "    <tr>\n",
       "      <th>5</th>\n",
       "      <td>Are long non coding RNAs as conserved in sequence as protein coding genes?</td>\n",
       "      <td>No, long noncoding RNAs are not as conserved in sequence as protein-coding genes.</td>\n",
       "      <td>2.4</td>\n",
       "    </tr>\n",
       "    <tr>\n",
       "      <th>6</th>\n",
       "      <td>Can protein coding exons originate from ALU sequences?</td>\n",
       "      <td>Yes, protein coding exons can originate from Alu sequences.</td>\n",
       "      <td>2.0</td>\n",
       "    </tr>\n",
       "    <tr>\n",
       "      <th>7</th>\n",
       "      <td>What is the name of the stem loop present in the 3' end of genes encoding for selenoproteins?</td>\n",
       "      <td>The stem-loop present in the 3' end of genes encoding for selenoproteins is called the Sec insertion sequence (SECIS) or selenocysteine insertion sequence (SECIS).</td>\n",
       "      <td>3.0</td>\n",
       "    </tr>\n",
       "    <tr>\n",
       "      <th>8</th>\n",
       "      <td>What are prions?</td>\n",
       "      <td>Prions are proteins that can exist in a misfolded form, which is capable of converting normally folded proteins into the misfolded state. These misfolded proteins form aggregates and are associated with fatal neurodegenerative diseases in mammals. Prions are self-propagating infectious protein isoforms.</td>\n",
       "      <td>2.4</td>\n",
       "    </tr>\n",
       "    <tr>\n",
       "      <th>9</th>\n",
       "      <td>Do Conserved noncoding elements act as enhancers?</td>\n",
       "      <td>Yes, Conserved noncoding elements (CNEs) do act as enhancers.</td>\n",
       "      <td>2.2</td>\n",
       "    </tr>\n",
       "    <tr>\n",
       "      <th>10</th>\n",
       "      <td>Can NXY-059 be used for treatment of acute ischemic stroke patients?</td>\n",
       "      <td>NXY-059 has been tested for the treatment of acute ischemic stroke and has shown some promise in reducing disability and infarct size in some studies. However, its effectiveness is not definitively established as it did not significantly improve all outcome measures in some trials, and it was found to be ineffective for treatment within 6 hours after the onset of symptoms in one study. Therefore, while NXY-059 has potential, additional research is needed to confirm its effectiveness in treat...</td>\n",
       "      <td>2.8</td>\n",
       "    </tr>\n",
       "    <tr>\n",
       "      <th>11</th>\n",
       "      <td>Is there any software for automated analysis of FISH images?</td>\n",
       "      <td>Yes, there is a software tool called FISH Finder for automated analysis of FISH images.</td>\n",
       "      <td>2.0</td>\n",
       "    </tr>\n",
       "    <tr>\n",
       "      <th>12</th>\n",
       "      <td>What enzyme is inhibied by Opicapone?</td>\n",
       "      <td>Opicapone inhibits the enzyme catechol-O-methyltransferase (COMT).</td>\n",
       "      <td>2.4</td>\n",
       "    </tr>\n",
       "    <tr>\n",
       "      <th>13</th>\n",
       "      <td>Is amantadine effective for treatment of disorders conciousness?</td>\n",
       "      <td>Yes, amantadine is effective for the treatment of disorders of consciousness.</td>\n",
       "      <td>2.0</td>\n",
       "    </tr>\n",
       "    <tr>\n",
       "      <th>14</th>\n",
       "      <td>The antibodies MK-3475 and CT-011 have shown promising results in treating malignancies. Which protein are they targeting?</td>\n",
       "      <td>The antibodies MK-3475 and CT-011 target the PD-1 protein.</td>\n",
       "      <td>2.0</td>\n",
       "    </tr>\n",
       "    <tr>\n",
       "      <th>15</th>\n",
       "      <td>Is CD99 encoded by MIC2 gene?</td>\n",
       "      <td>Yes, CD99 is encoded by the MIC2 gene.</td>\n",
       "      <td>2.0</td>\n",
       "    </tr>\n",
       "    <tr>\n",
       "      <th>16</th>\n",
       "      <td>How does benralizumab's mechanism differ from other IL-5 biotherapeutics for severe asthma?</td>\n",
       "      <td>Benralizumab's mechanism differs from other IL-5 biotherapeutics for severe asthma in that it targets the interleukin-5 receptor α (IL-5Rα), rather than the IL-5 ligand. This allows benralizumab to directly and rapidly deplete eosinophils, reducing asthma exacerbations and improving lung function.</td>\n",
       "      <td>2.2</td>\n",
       "    </tr>\n",
       "    <tr>\n",
       "      <th>17</th>\n",
       "      <td>Which are the mains risk factors of metabolic syndrome?</td>\n",
       "      <td>The main risk factors of metabolic syndrome are insulin resistance or glucose intolerance, dyslipidemia or abnormal lipid levels, hypertension or elevated blood pressure, and obesity, particularly central or abdominal obesity.</td>\n",
       "      <td>2.4</td>\n",
       "    </tr>\n",
       "    <tr>\n",
       "      <th>18</th>\n",
       "      <td>Does HuR bind to the untranslated regions (UTRs) of mRNAs?</td>\n",
       "      <td>Yes, HuR does bind to the untranslated regions (UTRs) of mRNAs.</td>\n",
       "      <td>2.4</td>\n",
       "    </tr>\n",
       "    <tr>\n",
       "      <th>19</th>\n",
       "      <td>Are there Conserved Noncoding Elements (CNEs) in plant genomes?</td>\n",
       "      <td>Yes, there are Conserved Noncoding Elements (CNEs) in plant genomes.</td>\n",
       "      <td>1.2</td>\n",
       "    </tr>\n",
       "  </tbody>\n",
       "</table>\n",
       "</div>"
      ],
      "text/plain": [
       "                                                                                                                      question  \\\n",
       "0                                                                                               List metalloenzyme inhibitors.   \n",
       "1                                                           What is being measured with an accelerometer in back pain patients   \n",
       "2                                      Which proteins control the degradation of cryptic unstable transcripts (CUTs) in yeast?   \n",
       "3                                                                               Are ultraconserved elements often transcribed?   \n",
       "4                                                                       Is Fibroblast Growth Factor 23 a phosphaturic hormone?   \n",
       "5                                                   Are long non coding RNAs as conserved in sequence as protein coding genes?   \n",
       "6                                                                       Can protein coding exons originate from ALU sequences?   \n",
       "7                                What is the name of the stem loop present in the 3' end of genes encoding for selenoproteins?   \n",
       "8                                                                                                             What are prions?   \n",
       "9                                                                            Do Conserved noncoding elements act as enhancers?   \n",
       "10                                                        Can NXY-059 be used for treatment of acute ischemic stroke patients?   \n",
       "11                                                                Is there any software for automated analysis of FISH images?   \n",
       "12                                                                                       What enzyme is inhibied by Opicapone?   \n",
       "13                                                            Is amantadine effective for treatment of disorders conciousness?   \n",
       "14  The antibodies MK-3475 and CT-011 have shown promising results in treating malignancies. Which protein are they targeting?   \n",
       "15                                                                                               Is CD99 encoded by MIC2 gene?   \n",
       "16                                 How does benralizumab's mechanism differ from other IL-5 biotherapeutics for severe asthma?   \n",
       "17                                                                     Which are the mains risk factors of metabolic syndrome?   \n",
       "18                                                                  Does HuR bind to the untranslated regions (UTRs) of mRNAs?   \n",
       "19                                                             Are there Conserved Noncoding Elements (CNEs) in plant genomes?   \n",
       "\n",
       "                                                                                                                                                                                                                                                                                                                                                                                                                                                                                                       predicted_answer  \\\n",
       "0                                                        Metalloenzyme inhibitors include VT-1129, VT-1161, hydroxamate molecules, siderophores, the N-formyl-hydroxylamine derivative BB-3497, tissue inhibitor of metalloproteinases-1 (Timp-1), 8-halo-4-(3-chloro-4-fluoro-phenylamino)-6-[(1H-[1,2,3]triazol-4-ylmethyl)-amino]-quinoline-3-carbonitriles, 2,2'-dipyridylamine (DPA), triazacyclononane (TACN), 8-hydroxyquinoline, and the sarcoplasmic/endoplasmic Ca(2+)-ATPase (SERCA) inhibitor thapsigargin.   \n",
       "1                                                                                                                                                                                                                                                                 In back pain patients, an accelerometer is used to measure various aspects of physical activity, including overall physical activity levels, time spent in different static trunk postures, time spent upright, standing, or walking, and step count.   \n",
       "2                                                                                                                                                                                                                                                                                                                                                                                      The proteins that control the degradation of cryptic unstable transcripts (CUTs) in yeast are Nrd1, Nab3, and the TRAMP complex.   \n",
       "3                                                                                                                                                                                                                                                                                                                                                                                                                                                                   Yes, ultraconserved elements are often transcribed.   \n",
       "4                                                                                                                                                                                                                                                                                                                                                                                                                                                           Yes, Fibroblast Growth Factor 23 is a phosphaturic hormone.   \n",
       "5                                                                                                                                                                                                                                                                                                                                                                                                                                     No, long noncoding RNAs are not as conserved in sequence as protein-coding genes.   \n",
       "6                                                                                                                                                                                                                                                                                                                                                                                                                                                           Yes, protein coding exons can originate from Alu sequences.   \n",
       "7                                                                                                                                                                                                                                                                                                                                                   The stem-loop present in the 3' end of genes encoding for selenoproteins is called the Sec insertion sequence (SECIS) or selenocysteine insertion sequence (SECIS).   \n",
       "8                                                                                                                                                                                                      Prions are proteins that can exist in a misfolded form, which is capable of converting normally folded proteins into the misfolded state. These misfolded proteins form aggregates and are associated with fatal neurodegenerative diseases in mammals. Prions are self-propagating infectious protein isoforms.   \n",
       "9                                                                                                                                                                                                                                                                                                                                                                                                                                                         Yes, Conserved noncoding elements (CNEs) do act as enhancers.   \n",
       "10  NXY-059 has been tested for the treatment of acute ischemic stroke and has shown some promise in reducing disability and infarct size in some studies. However, its effectiveness is not definitively established as it did not significantly improve all outcome measures in some trials, and it was found to be ineffective for treatment within 6 hours after the onset of symptoms in one study. Therefore, while NXY-059 has potential, additional research is needed to confirm its effectiveness in treat...   \n",
       "11                                                                                                                                                                                                                                                                                                                                                                                                                              Yes, there is a software tool called FISH Finder for automated analysis of FISH images.   \n",
       "12                                                                                                                                                                                                                                                                                                                                                                                                                                                   Opicapone inhibits the enzyme catechol-O-methyltransferase (COMT).   \n",
       "13                                                                                                                                                                                                                                                                                                                                                                                                                                        Yes, amantadine is effective for the treatment of disorders of consciousness.   \n",
       "14                                                                                                                                                                                                                                                                                                                                                                                                                                                           The antibodies MK-3475 and CT-011 target the PD-1 protein.   \n",
       "15                                                                                                                                                                                                                                                                                                                                                                                                                                                                               Yes, CD99 is encoded by the MIC2 gene.   \n",
       "16                                                                                                                                                                                                           Benralizumab's mechanism differs from other IL-5 biotherapeutics for severe asthma in that it targets the interleukin-5 receptor α (IL-5Rα), rather than the IL-5 ligand. This allows benralizumab to directly and rapidly deplete eosinophils, reducing asthma exacerbations and improving lung function.   \n",
       "17                                                                                                                                                                                                                                                                                   The main risk factors of metabolic syndrome are insulin resistance or glucose intolerance, dyslipidemia or abnormal lipid levels, hypertension or elevated blood pressure, and obesity, particularly central or abdominal obesity.   \n",
       "18                                                                                                                                                                                                                                                                                                                                                                                                                                                      Yes, HuR does bind to the untranslated regions (UTRs) of mRNAs.   \n",
       "19                                                                                                                                                                                                                                                                                                                                                                                                                                                 Yes, there are Conserved Noncoding Elements (CNEs) in plant genomes.   \n",
       "\n",
       "    score  \n",
       "0     3.0  \n",
       "1     3.0  \n",
       "2     2.2  \n",
       "3     2.2  \n",
       "4     2.4  \n",
       "5     2.4  \n",
       "6     2.0  \n",
       "7     3.0  \n",
       "8     2.4  \n",
       "9     2.2  \n",
       "10    2.8  \n",
       "11    2.0  \n",
       "12    2.4  \n",
       "13    2.0  \n",
       "14    2.0  \n",
       "15    2.0  \n",
       "16    2.2  \n",
       "17    2.4  \n",
       "18    2.4  \n",
       "19    1.2  "
      ]
     },
     "execution_count": 82,
     "metadata": {},
     "output_type": "execute_result"
    }
   ],
   "source": [
    "pd.set_option('display.max_colwidth', 500)\n",
    "pd.set_option('display.max_rows', 500)\n",
    "\n",
    "signature_compiled_rag_eval_evals_df = create_score_dataframe(signature_compiled_rag_eval[1])\n",
    "print(signature_compiled_rag_eval_evals_df['score'].mean())\n",
    "signature_compiled_rag_eval_evals_df"
   ]
  },
  {
   "cell_type": "markdown",
   "metadata": {},
   "source": [
    "In comparision to the Uncompiled model the mean accuracy on the devset has increased to 2.3 from 2.0. "
   ]
  }
 ],
 "metadata": {
  "kernelspec": {
   "display_name": "qdrant_client",
   "language": "python",
   "name": "python3"
  },
  "language_info": {
   "codemirror_mode": {
    "name": "ipython",
    "version": 3
   },
   "file_extension": ".py",
   "mimetype": "text/x-python",
   "name": "python",
   "nbconvert_exporter": "python",
   "pygments_lexer": "ipython3",
   "version": "3.11.0"
  }
 },
 "nbformat": 4,
 "nbformat_minor": 2
}
