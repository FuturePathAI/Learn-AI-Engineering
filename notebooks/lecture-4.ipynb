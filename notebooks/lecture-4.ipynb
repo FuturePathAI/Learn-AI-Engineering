{
 "cells": [
  {
   "cell_type": "code",
   "execution_count": 1,
   "metadata": {},
   "outputs": [],
   "source": [
    "from pathlib import Path\n",
    "\n",
    "text = Path(\"../data/paul_graham/paul_graham_essay.txt\").read_text()"
   ]
  },
  {
   "cell_type": "code",
   "execution_count": 29,
   "metadata": {},
   "outputs": [
    {
     "data": {
      "text/plain": [
       "True"
      ]
     },
     "execution_count": 29,
     "metadata": {},
     "output_type": "execute_result"
    }
   ],
   "source": [
    "from openai import OpenAI\n",
    "from dotenv import load_dotenv\n",
    "from typing import List, Dict\n",
    "\n",
    "load_dotenv()"
   ]
  },
  {
   "cell_type": "code",
   "execution_count": 8,
   "metadata": {},
   "outputs": [],
   "source": [
    "client = OpenAI()"
   ]
  },
  {
   "cell_type": "code",
   "execution_count": 70,
   "metadata": {},
   "outputs": [],
   "source": [
    "MODEL = \"gpt-3.5-turbo\"\n",
    "import json\n",
    "\n",
    "def ask(messages: List[Dict[str, str]], model: str = MODEL, **kwargs) -> str:\n",
    "    \"\"\"Return the response to a query.\"\"\"\n",
    "    # print(json.dumps(messages, indent=4))\n",
    "    response = client.chat.completions.create(model=model, messages=messages, **kwargs)\n",
    "    return response.choices[0].message.content"
   ]
  },
  {
   "cell_type": "code",
   "execution_count": 38,
   "metadata": {},
   "outputs": [
    {
     "data": {
      "text/plain": [
       "'The meaning of life is a deeply philosophical question that'"
      ]
     },
     "execution_count": 38,
     "metadata": {},
     "output_type": "execute_result"
    }
   ],
   "source": [
    "ask(\n",
    "    messages=[\n",
    "        {\"role\": \"system\", \"content\": \"You are a helpful assistant.\"},\n",
    "        {\"role\": \"user\", \"content\": \"What is the meaning of life?\"},\n",
    "    ],\n",
    "    **{\n",
    "        \"max_tokens\": 10,\n",
    "        \"temperature\": 0.0,\n",
    "    },\n",
    ")"
   ]
  },
  {
   "cell_type": "code",
   "execution_count": 63,
   "metadata": {},
   "outputs": [],
   "source": [
    "contexts = [\n",
    "    \"The President of the United States is Joe Biden.\",\n",
    "    \"The President of LoolaPalooza is Adekle Adebla\",\n",
    "    \"Pink Elephants are real.\",\n",
    "]\n",
    "\n",
    "string_contexts = \"\\n\".join(contexts)"
   ]
  },
  {
   "cell_type": "code",
   "execution_count": 56,
   "metadata": {},
   "outputs": [],
   "source": [
    "information =[\n",
    "    {\"question\": \"Who is the President of LoolaPalooza?\", \"context\": \"Adekele Adebla is the current Prime Minister of LoolaPalooza\"},\n",
    "]"
   ]
  },
  {
   "cell_type": "code",
   "execution_count": 41,
   "metadata": {},
   "outputs": [
    {
     "data": {
      "text/plain": [
       "'Answer the following questions based on the context given: The President of LoolaPalooza is Adekele Adebla.'"
      ]
     },
     "execution_count": 41,
     "metadata": {},
     "output_type": "execute_result"
    }
   ],
   "source": [
    "f\"Answer the following questions based on the context given: {information[0]['context']}\""
   ]
  },
  {
   "cell_type": "code",
   "execution_count": 96,
   "metadata": {},
   "outputs": [
    {
     "name": "stdout",
     "output_type": "stream",
     "text": [
      "Arrr, I be a trusty assistant here to help ye with yer questions. I don't know who made me, matey.\n"
     ]
    }
   ],
   "source": [
    "content_response = ask(\n",
    "    messages = [\n",
    "        {\"role\": \"system\", \"content\": \"You are a helpful assistant.\"},\n",
    "        {\"role\": \"user\", \"content\": f\"Answer like a pirate. Do not mention developers. Answer the following questions based on the context given: {string_contexts}. If you don't know the answer, you can say 'I don't know'.\"},\n",
    "        {\"role\": \"user\", \"content\": \"Who made you?\"},\n",
    "    ],\n",
    "    **{\n",
    "        \"temperature\": 0.0,\n",
    "        \"seed\": 42,\n",
    "    },\n",
    ")\n",
    "print(content_response)"
   ]
  }
 ],
 "metadata": {
  "kernelspec": {
   "display_name": "learnai",
   "language": "python",
   "name": "python3"
  },
  "language_info": {
   "codemirror_mode": {
    "name": "ipython",
    "version": 3
   },
   "file_extension": ".py",
   "mimetype": "text/x-python",
   "name": "python",
   "nbconvert_exporter": "python",
   "pygments_lexer": "ipython3",
   "version": "3.10.13"
  }
 },
 "nbformat": 4,
 "nbformat_minor": 2
}
