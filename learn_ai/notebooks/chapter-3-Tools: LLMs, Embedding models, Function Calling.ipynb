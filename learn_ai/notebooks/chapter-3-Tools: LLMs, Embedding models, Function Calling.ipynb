{
 "cells": [
  {
   "cell_type": "markdown",
   "metadata": {},
   "source": [
    "# 7 Essential Concepts for working with LLMs\n",
    "\n",
    "1. Text Generation: Prompt writing, parameters for LLMs\n",
    "2. Retrieval & Ranking: Vectors/Embeddings - Searching for \"similar\" items\n",
    "3. Input Preprocessing: Loaders and Chunking\n",
    "4. Orchestration: Chains\n",
    "5. Model Fine-tuning: Training, Transfer Learning\n",
    "6. Output Postprocessing: Function Calling for JSON Formatting, Parsing\n",
    "7. Output Evaluation: Metrics, Scoring\n",
    "\n",
    "These are recurring concepts that are essential for working with LLMs. They are not necessarily in order of importance, but they are all important. We introduce them here and will go into more detail in the upcoming chapters. Think of this as the table of contents for the rest of the course."
   ]
  },
  {
   "cell_type": "markdown",
   "metadata": {},
   "source": [
    "## 1. Text Generation"
   ]
  },
  {
   "cell_type": "markdown",
   "metadata": {},
   "source": []
  }
 ],
 "metadata": {
  "language_info": {
   "name": "python"
  }
 },
 "nbformat": 4,
 "nbformat_minor": 2
}
