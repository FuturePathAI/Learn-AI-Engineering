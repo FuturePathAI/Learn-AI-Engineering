{
 "cells": [
  {
   "cell_type": "code",
   "execution_count": 1,
   "id": "fdcc1fec-51e2-4d7d-8fdb-7447fee9e09c",
   "metadata": {},
   "outputs": [],
   "source": [
    "from learn_ai.scripts.utils import chat_completion_request"
   ]
  },
  {
   "cell_type": "markdown",
   "id": "86d6d42f-4b18-496c-af16-c1a4fe158222",
   "metadata": {},
   "source": [
    "# Lesson 1: Zero Shot Prompting\n",
    "\n",
    "- The word \"shot\" is synonymous with \"example\"\n",
    "- Zero-shot prompting can be likened to requesting someone to undertake a task they have no prior experience in, without providing any examples or guidelines.\n",
    "- Consider the scenario where you ask a friend, who has never engaged in cooking, to bake a cake. You don't provide a recipe or any demonstrations; they must depend entirely on their existing knowledge or assumptions about baking.\n",
    "- In the realm of artificial intelligence, zero-shot prompting operates in a comparable manner. Here, the AI employs its inherent knowledge, acquired during its training phase, to attempt a task for which it hasn't been explicitly prepared or shown specific examples.\n",
    "- This approach tests the AI's ability to apply its general understanding to new and unseen challenges."
   ]
  },
  {
   "cell_type": "code",
   "execution_count": 2,
   "id": "f3332064-e89b-4cb5-bc3d-9ca71e95c3e4",
   "metadata": {},
   "outputs": [
    {
     "name": "stderr",
     "output_type": "stream",
     "text": [
      "INFO:HTTP Request: POST https://api.openai.com/v1/chat/completions \"HTTP/1.1 200 OK\"\n"
     ]
    },
    {
     "name": "stdout",
     "output_type": "stream",
     "text": [
      "- Emily Johnson [Educator]\n",
      "- Michael Smith [Tech Innovator]\n",
      "- John Doe [Pastry Chef]\n",
      "- Jane Smith [Architect]\n"
     ]
    }
   ],
   "source": [
    "# Zero-shot example for extracting names and occupations\n",
    "zero_shot_messages = [\n",
    "    {\n",
    "        \"role\": \"system\",\n",
    "        \"content\": \"You are a model that extracts names and occupations from text.\"\n",
    "    },\n",
    "    {\n",
    "        \"role\": \"user\",\n",
    "        \"content\": \"Read the following article and list the names and occupations in the format 'First Last [OCCUPATION]': \\\n",
    "                    'In today's town news, we celebrate Emily Johnson, who has dedicated over two decades to enlightening young \\\n",
    "                    minds in our local schools, being named Educator of the Year. Meanwhile, a visionary in the tech world, Michael Smith, \\\n",
    "                    is spearheading an innovative venture in sustainable technology. Also in the news, renowned pastry chef John Doe is set \\\n",
    "                    to host a baking masterclass, while Jane Smith, known for her architectural prowess, has unveiled plans for a new city park.'\"\n",
    "    }\n",
    "]\n",
    "\n",
    "# Call the function with zero-shot prompting\n",
    "zero_shot_response = chat_completion_request(messages=zero_shot_messages)\n",
    "print(zero_shot_response)"
   ]
  },
  {
   "cell_type": "markdown",
   "id": "2615c2d1-6e4a-46f8-b439-8e7b31bf2cd4",
   "metadata": {},
   "source": [
    "# Lesson 2: Few Shot Prompting\n",
    "\n",
    "- Few-shot prompting is akin to asking someone to perform a task with the aid of a few examples.\n",
    "- The AI is presented with a small number of examples before tackling a new task. These examples serve as a learning aid, enabling the AI to grasp the task's context and desired output.\n",
    "- This method enhances the AI's ability to adapt its pre-existing knowledge to tasks it was not explicitly trained for, using the provided examples as a learning reference."
   ]
  },
  {
   "cell_type": "code",
   "execution_count": 3,
   "id": "27c64560-930f-434f-a35b-545bfb3abcf3",
   "metadata": {},
   "outputs": [
    {
     "name": "stderr",
     "output_type": "stream",
     "text": [
      "INFO:HTTP Request: POST https://api.openai.com/v1/chat/completions \"HTTP/1.1 200 OK\"\n"
     ]
    },
    {
     "name": "stdout",
     "output_type": "stream",
     "text": [
      "Emily Johnson [EDUCATOR]\n",
      "Michael Smith [TECH ENTREPRENEUR]\n",
      "John Doe [PASTRY CHEF]\n",
      "Jane Smith [ARCHITECT]\n"
     ]
    }
   ],
   "source": [
    "# Few-shot example for extracting names and occupations\n",
    "few_shot_messages = [\n",
    "    {\n",
    "        \"role\": \"system\",\n",
    "        \"content\": \"You are a model that extracts names and occupations from text.\"\n",
    "    },\n",
    "    {\n",
    "        \"role\": \"user\",\n",
    "        \"content\": \"Example: Article text: 'John Doe, renowned for his exquisite pastries, has won numerous awards.' Output: John Doe [PASTRY CHEF]\"\n",
    "    },\n",
    "    {\n",
    "        \"role\": \"user\",\n",
    "        \"content\": \"Example: Article text: 'Architect Jane Smith received acclaim for her innovative building designs.' Output: Jane Smith [ARCHITECT]\"\n",
    "    },\n",
    "    {\n",
    "        \"role\": \"user\",\n",
    "        \"content\": \"Read the following article and list the names and occupations in the format 'First Last [OCCUPATION]': 'In today's town news, we celebrate Emily Johnson, who has dedicated over two decades to enlightening young minds in our local schools, being named Educator of the Year. Meanwhile, a visionary in the tech world, Michael Smith, is spearheading an innovative venture in sustainable technology. Also in the news, renowned pastry chef John Doe is set to host a baking masterclass, while Jane Smith, known for her architectural prowess, has unveiled plans for a new city park.'\"\n",
    "    }\n",
    "]\n",
    "\n",
    "# Call the function with few-shot prompting\n",
    "few_shot_response = chat_completion_request(messages=few_shot_messages)\n",
    "print(few_shot_response)"
   ]
  },
  {
   "cell_type": "markdown",
   "id": "816065f4-2258-4f85-9106-d7677f5a4794",
   "metadata": {},
   "source": [
    "## Limitations of Few Shot Prompting"
   ]
  },
  {
   "cell_type": "code",
   "execution_count": 4,
   "id": "8b541551-812b-46ac-9ea4-87a8af54fa53",
   "metadata": {},
   "outputs": [
    {
     "name": "stderr",
     "output_type": "stream",
     "text": [
      "INFO:HTTP Request: POST https://api.openai.com/v1/chat/completions \"HTTP/1.1 200 OK\"\n"
     ]
    },
    {
     "name": "stdout",
     "output_type": "stream",
     "text": [
      "Let's first calculate the sum of odd numbers in the group:\n",
      "\n",
      "15 + 5 + 13 + 39 + 67 + 7 + 1 = 147\n",
      "\n",
      "Now, let's calculate twice the sum of even numbers in the group:\n",
      "\n",
      "2*(32 + 82 + 48 + 26) = 2*(188) = 376\n",
      "\n",
      "Finally, let's subtract twice the sum of even numbers from the sum of odd numbers:\n",
      "\n",
      "147 - 376 = -229\n",
      "\n",
      "The result is -229, which is an odd number. Therefore, the answer is True.\n"
     ]
    }
   ],
   "source": [
    "# Enhanced few-shot example for a more complex reasoning task\n",
    "few_shot_messages_complex_reasoning = [\n",
    "    {\n",
    "        \"role\": \"system\",\n",
    "        \"content\": \"You are a model that solves complex numerical reasoning problems.\"\n",
    "    },\n",
    "    {\n",
    "        \"role\": \"user\",\n",
    "        \"content\": \"The sum of odd numbers in this group minus the sum of even numbers results in an odd number: 4, 8, 9, 15, 12, 2, 1. The answer is False.\"\n",
    "    },\n",
    "    {\n",
    "        \"role\": \"user\",\n",
    "        \"content\": \"The sum of odd numbers in this group minus the sum of even numbers results in an odd number: 17, 10, 19, 4, 8, 12, 24. The answer is True.\"\n",
    "    },\n",
    "    {\n",
    "        \"role\": \"user\",\n",
    "        \"content\": \"The sum of odd numbers in this group minus twice the sum of even numbers results in an odd number: 15, 32, 5, 13, 82, 39, 67, 7, 1, 48, 26. The answer is?\"\n",
    "    }\n",
    "]\n",
    "\n",
    "# Call the function with few-shot prompting for complex reasoning\n",
    "few_shot_response_complex_reasoning = chat_completion_request(messages=few_shot_messages_complex_reasoning)\n",
    "print(few_shot_response_complex_reasoning)"
   ]
  },
  {
   "cell_type": "markdown",
   "id": "8137bb32-d297-4c81-b25c-91b7c681f1b9",
   "metadata": {},
   "source": [
    "## Tips for Effective Few-Shot Prompting\n"
   ]
  },
  {
   "cell_type": "markdown",
   "id": "11055e6d-f4d4-4e3b-a88e-641308e5ff1d",
   "metadata": {},
   "source": [
    "### Distribution of Input Examples"
   ]
  },
  {
   "cell_type": "code",
   "execution_count": 5,
   "id": "f5270b55-daad-4929-9253-f49d1c4ebba6",
   "metadata": {},
   "outputs": [
    {
     "name": "stderr",
     "output_type": "stream",
     "text": [
      "INFO:HTTP Request: POST https://api.openai.com/v1/chat/completions \"HTTP/1.1 200 OK\"\n"
     ]
    },
    {
     "name": "stdout",
     "output_type": "stream",
     "text": [
      "Hippopotamus is a Mammal.\n"
     ]
    }
   ],
   "source": [
    "# few-shot example with two categories\n",
    "few_shot_messages = [\n",
    "    {\"role\": \"system\",\"content\": \"You are a model that classifies animals into categories: Mammal or Bird.\"},\n",
    "    \n",
    "    {\"role\": \"user\",\"content\": \"Classify the following animal: Kangaroo.\"},\n",
    "    {\"role\": \"assistant\",\"content\": \"Kangaroo is a Mammal.\"},\n",
    "    \n",
    "    {\"role\": \"user\",\"content\": \"Classify the following animal: Elephant.\"},\n",
    "    {\"role\": \"assistant\",\"content\": \"Elephant is a Mammal.\"},\n",
    "    \n",
    "    {\"role\": \"user\",\"content\": \"Classify the following animal: Penguin.\"},\n",
    "    {\"role\": \"assistant\",\"content\": \"Penguin is a Bird.\"},\n",
    "    \n",
    "    {\"role\": \"user\",\"content\": \"Classify the following animal: Eagle.\"},\n",
    "    {\"role\": \"assistant\",\"content\": \"Eagle is a Bird.\"},\n",
    "    \n",
    "    {\"role\": \"user\",\"content\": \"Classify the following animal: Hippopotomus.\"}\n",
    "]\n",
    "\n",
    "# Call the function with revised few-shot prompting for two categories\n",
    "category = chat_completion_request(messages=few_shot_messages)\n",
    "print(category)"
   ]
  },
  {
   "cell_type": "markdown",
   "id": "7e31af65-d97b-4761-b042-f8836659da5b",
   "metadata": {},
   "source": [
    "### Consistentcy in format"
   ]
  },
  {
   "cell_type": "code",
   "execution_count": 6,
   "id": "d1ebafd3-208c-476d-ba2c-ed240cbc576f",
   "metadata": {},
   "outputs": [
    {
     "name": "stderr",
     "output_type": "stream",
     "text": [
      "INFO:HTTP Request: POST https://api.openai.com/v1/chat/completions \"HTTP/1.1 200 OK\"\n"
     ]
    },
    {
     "name": "stdout",
     "output_type": "stream",
     "text": [
      "C'est une belle journée.\n"
     ]
    }
   ],
   "source": [
    "# Few-shot example with consistent format for translation\n",
    "consistent_format_messages = [\n",
    "    {\"role\": \"system\", \"content\": \"You are a model that translates English sentences to French.\"},\n",
    "    \n",
    "    {\"role\": \"user\", \"content\": \"Translate: 'Hello, how are you?'\"},\n",
    "    {\"role\": \"assistant\", \"content\": \"Bonjour, comment ça va?\"},\n",
    "    \n",
    "    {\"role\": \"user\", \"content\": \"Translate: 'What is your name?'\"},\n",
    "    {\"role\": \"assistant\", \"content\": \"Comment vous appelez-vous?\"},\n",
    "    \n",
    "    {\"role\": \"user\", \"content\": \"Translate: 'I am learning French.'\"},\n",
    "    {\"role\": \"assistant\", \"content\": \"J'apprends le français.\"},\n",
    "    \n",
    "    {\"role\": \"user\", \"content\": \"Translate: 'This is a beautiful day.'\"}\n",
    "]\n",
    "\n",
    "# Call the function with consistent format for translation\n",
    "consistent_translation = chat_completion_request(messages=consistent_format_messages)\n",
    "print(consistent_translation)"
   ]
  },
  {
   "cell_type": "code",
   "execution_count": 7,
   "id": "d8a9678e-a727-4723-bb5a-a00437887e3c",
   "metadata": {},
   "outputs": [
    {
     "name": "stderr",
     "output_type": "stream",
     "text": [
      "INFO:HTTP Request: POST https://api.openai.com/v1/chat/completions \"HTTP/1.1 200 OK\"\n"
     ]
    },
    {
     "name": "stdout",
     "output_type": "stream",
     "text": [
      "Où est la station la plus proche ?\n"
     ]
    }
   ],
   "source": [
    "# Few-shot example with inconsistent format for translation\n",
    "inconsistent_format_messages = [\n",
    "    {\"role\": \"system\", \"content\": \"You are a model that translates English sentences to French.\"},\n",
    "    \n",
    "    {\"role\": \"user\", \"content\": \"How do you say in French: 'Good morning'?\"},\n",
    "    {\"role\": \"assistant\", \"content\": \"Bonjour.\"},\n",
    "    \n",
    "    {\"role\": \"user\", \"content\": \"Translate this: 'I like to travel.'\"},\n",
    "    {\"role\": \"assistant\", \"content\": \"J'aime voyager.\"},\n",
    "    \n",
    "    {\"role\": \"user\", \"content\": \"'It's raining today' in French is?\"},\n",
    "    {\"role\": \"assistant\", \"content\": \"Il pleut aujourd'hui.\"},\n",
    "    \n",
    "    {\"role\": \"user\", \"content\": \"How would you translate 'Where is the nearest station?' to French?\"}\n",
    "]\n",
    "\n",
    "# Call the function with inconsistent format for translation\n",
    "inconsistent_translation = chat_completion_request(messages=inconsistent_format_messages)\n",
    "print(inconsistent_translation)"
   ]
  },
  {
   "cell_type": "markdown",
   "id": "28fffd9e-b06e-4d5a-85f6-5ba002472791",
   "metadata": {},
   "source": [
    "### True Distribution of Labels"
   ]
  },
  {
   "cell_type": "code",
   "execution_count": 8,
   "id": "c825d4c5-68b0-49de-b6ec-8f883efd1cc6",
   "metadata": {},
   "outputs": [
    {
     "name": "stderr",
     "output_type": "stream",
     "text": [
      "INFO:HTTP Request: POST https://api.openai.com/v1/chat/completions \"HTTP/1.1 200 OK\"\n"
     ]
    },
    {
     "name": "stdout",
     "output_type": "stream",
     "text": [
      "Technology\n"
     ]
    }
   ],
   "source": [
    "# Final example with true distribution of labels for categorizing news articles\n",
    "distribution_messages = [\n",
    "    {\"role\": \"system\", \"content\": \"You are a model that categorizes news articles into topics: Politics, Sports, Technology, or Entertainment.\"},\n",
    "    \n",
    "    # 40% Politics\n",
    "    {\"role\": \"user\", \"content\": \"Categorize this article: 'Government announces new environmental policy.'\"},\n",
    "    {\"role\": \"assistant\", \"content\": \"Politics\"},\n",
    "    {\"role\": \"user\", \"content\": \"Categorize this article: 'Elections results show surprising turn of events.'\"},\n",
    "    {\"role\": \"assistant\", \"content\": \"Politics\"},\n",
    "    \n",
    "    # 30% Sports\n",
    "    {\"role\": \"user\", \"content\": \"Categorize this article: 'Local team wins championship after dramatic final.'\"},\n",
    "    {\"role\": \"assistant\", \"content\": \"Sports\"},\n",
    "    \n",
    "    # 20% Technology\n",
    "    {\"role\": \"user\", \"content\": \"Categorize this article: 'New smartphone model features the latest in AI technology.'\"},\n",
    "    {\"role\": \"assistant\", \"content\": \"Technology\"},\n",
    "    \n",
    "    # 10% Entertainment\n",
    "    {\"role\": \"user\", \"content\": \"Categorize this article: 'Famous actor stars in a new blockbuster movie.'\"},\n",
    "    {\"role\": \"assistant\", \"content\": \"Entertainment\"},\n",
    "    \n",
    "    # New article to categorize\n",
    "    {\"role\": \"user\", \"content\": \"Categorize this article: 'Breakthrough in Renewable Energy Technology Unveiled at Global Conference.'\"}\n",
    "]\n",
    "\n",
    "# Call the function with final distribution of labels for categorizing news articles\n",
    "categorization = chat_completion_request(messages=distribution_messages)\n",
    "print(categorization)"
   ]
  },
  {
   "cell_type": "markdown",
   "id": "7b25e5a7-8d03-4ba4-9376-50fe2bfa41b1",
   "metadata": {},
   "source": [
    "# Lesson 3: Lost in the Middle\n",
    "\n",
    "- is a phenomenon where the model pays more attention to the beginning and end of a text, while important details in the middle may be overlooked or given less emphasis.\n",
    "- typically occurs in long texts or complex prompts, leading to incomplete or inaccurate processing of the full content\n",
    "- somewhat similar to a person skimming through a long article and mainly remembering the introduction and conclusion, while missing key points in the middle\n",
    "- To counter this, breaking down tasks into smaller and add more context"
   ]
  },
  {
   "cell_type": "code",
   "execution_count": 9,
   "id": "b57a25bf-835f-4f48-b4f2-8178e076a5b0",
   "metadata": {},
   "outputs": [
    {
     "name": "stderr",
     "output_type": "stream",
     "text": [
      "INFO:HTTP Request: POST https://api.openai.com/v1/chat/completions \"HTTP/1.1 200 OK\"\n"
     ]
    },
    {
     "name": "stdout",
     "output_type": "stream",
     "text": [
      "### Day 1: Tokyo\n",
      "**Accommodation:** Stay at a traditional ryokan like Sawanoya Ryokan in the Taito Ward.\n",
      "\n",
      "**Morning:** Visit Ueno Park for cherry blossom viewing (hanami) and explore Ueno Zoo.\n",
      "\n",
      "**Lunch:** Enjoy allergy-friendly sushi at Sushi Bun Hananomai in Asakusa.\n",
      "\n",
      "**Afternoon:** Visit Senso-ji Temple in Asakusa and explore Nakamise Shopping Street.\n",
      "\n",
      "**Dinner:** Try traditional Japanese curry at Sujata in Akihabara.\n",
      "\n",
      "**Evening:** Relax at a local onsen like Jakotsuyu in Asakusa.\n",
      "\n",
      "**Cultural Event:** Participate in a tea ceremony at Happo-en.\n",
      "\n",
      "**Transportation:** Use the Tokyo Metro for eco-friendly and cost-effective travel within the city.\n",
      "\n",
      "**Weather:** March in Tokyo is cool with temperatures ranging from 8°C to 15°C.\n",
      "\n",
      "**Language Tip:** Learn basic Japanese phrases like \"arigatou\" (thank you) and \"sumimasen\" (excuse me).\n",
      "\n",
      "**Cultural Etiquette:** Remember to bow when greeting people and take off your shoes when entering homes or traditional spaces.\n",
      "\n",
      "### Day 2: Tokyo\n",
      "**Morning:** Explore the historic district of Yanaka and visit Yanaka Cemetery.\n",
      "\n",
      "**Lunch:** Have allergy-friendly tempura at Tendon Tenya in Yanaka.\n",
      "\n",
      "**Afternoon:** Visit the Edo-Tokyo Museum to learn about Tokyo's history.\n",
      "\n",
      "**Dinner:** Try monjayaki at Tsukishima Monjya Street.\n",
      "\n",
      "**Evening:** Stroll around Odaiba and enjoy the night view of Rainbow Bridge.\n",
      "\n",
      "**Transportation:** Rent bicycles to explore Yanaka and use the water bus to reach Odaiba.\n",
      "\n",
      "**Weather:** Expect temperatures between 7°C to 14°C with occasional rain showers.\n",
      "\n",
      "**Family-Friendly Activity:** Visit Tokyo Disneyland or DisneySea for a magical experience.\n",
      "\n",
      "### Day 3: Kyoto\n",
      "**Accommodation:** Stay at a guesthouse like Guesthouse Soi in Kyoto.\n",
      "\n",
      "**Morning:** Visit Fushimi Inari Taisha Shrine and hike through the torii gates.\n",
      "\n",
      "**Lunch:** Enjoy allergy-friendly tofu dishes at Tousuiro in Gion.\n",
      "\n",
      "**Afternoon:** Explore the traditional streets of Higashiyama District and visit Kiyomizu-dera Temple.\n",
      "\n",
      "**Dinner:** Try kaiseki cuisine at Ganko Sushi in Gion.\n",
      "\n",
      "**Evening:** Attend a traditional tea ceremony at Camellia Tea Ceremony.\n",
      "\n",
      "**Hidden Gem:** Visit the Philosopher's Path for a serene walk along the canal.\n",
      "\n",
      "**Transportation:** Take the Shinkansen from Tokyo to Kyoto for a fast and eco-friendly journey.\n",
      "\n",
      "**Weather:** Kyoto in March has temperatures ranging from 6°C to 15°C with cherry blossoms starting to bloom.\n",
      "\n",
      "**Language Tip:** Learn to say \"konnichiwa\" (hello) and \"arigatou gozaimasu\" (thank you very much).\n",
      "\n",
      "**Cultural Etiquette:** When visiting shrines, cleanse your hands and mouth at the temizuya before entering.\n",
      "\n",
      "### Day 4: Kyoto\n",
      "**Morning:** Visit Arashiyama Bamboo Grove and explore Tenryu-ji Temple.\n",
      "\n",
      "**Lunch:** Have allergy-friendly matcha desserts at Saryo Tsujiri in Arashiyama.\n",
      "\n",
      "**Afternoon:** Take a boat ride on the Hozugawa River and visit the Monkey Park.\n",
      "\n",
      "**Dinner:** Try yudofu (tofu hot pot) at Okutan in Arashiyama.\n",
      "\n",
      "**Evening:** Relax at a traditional ryokan with an onsen experience.\n",
      "\n",
      "**Cultural Event:** Participate in a traditional kimono-wearing experience.\n",
      "\n",
      "**Transportation:** Use Kyoto's efficient bus system to get around the city.\n",
      "\n",
      "**Weather:** Expect temperatures between 5°C to 14°C with occasional showers.\n",
      "\n",
      "**Family-Friendly Activity:** Visit the Kyoto International Manga Museum for a fun and educational experience.\n",
      "\n",
      "### Day 5: Osaka\n",
      "**Accommodation:** Stay at an eco-friendly hostel like Hostel Zoo in Osaka.\n",
      "\n",
      "**Morning:** Explore Osaka Castle and its surrounding park.\n",
      "\n",
      "**Lunch:** Enjoy allergy-friendly takoyaki at Wanaka in Dotonbori.\n",
      "\n",
      "**Afternoon:** Visit the Kuromon Ichiba Market for fresh seafood and local snacks.\n",
      "\n",
      "**Dinner:** Try okonomiyaki at Mizuno in Dotonbori.\n",
      "\n",
      "**Evening:** Explore the vibrant nightlife of Namba and Dotonbori.\n",
      "\n",
      "**Hidden Gem:** Visit Hozenji Yokocho for a traditional alleyway experience.\n",
      "\n",
      "**Transportation:** Take the train from Kyoto to Osaka for a quick and cost-effective journey.\n",
      "\n",
      "**Weather:** Osaka in March has temperatures ranging from 7°C to 16°C with cherry blossoms in bloom.\n",
      "\n",
      "**Language Tip:** Learn to say \"konnichiwa\" (hello) and \"kudasai\" (please).\n",
      "\n",
      "**Cultural Etiquette:** When dining, it's polite to say \"itadakimasu\" before eating and \"gochisousama deshita\" after finishing.\n",
      "\n",
      "### Day 6: Osaka\n",
      "**Morning:** Visit Sumiyoshi Taisha Shrine and explore the nearby Sumiyoshi Park.\n",
      "\n",
      "**Lunch:** Have allergy-friendly kushikatsu at Daruma in Shinsekai.\n",
      "\n",
      "**Afternoon:** Explore the retro vibes of Shinsekai and visit Tsutenkaku Tower.\n",
      "\n",
      "**Dinner:** Try fugu (blowfish) at Zuboraya in Dotonbori.\n",
      "\n",
      "**Evening:** Relax at Spa World for a unique onsen experience.\n",
      "\n",
      "**Cultural Event:** Attend a taiko drumming workshop for an interactive experience.\n",
      "\n",
      "**Transportation:** Use Osaka's subway system for convenient travel within the city.\n",
      "\n",
      "**Weather:** Expect temperatures between 8°C to 17°C with clear skies.\n",
      "\n",
      "**Family-Friendly Activity:** Visit Universal Studios Japan for a day of fun and excitement.\n",
      "\n",
      "### Day 7: Departure\n",
      "**Morning:** Visit a local park for a final cherry blossom viewing experience.\n",
      "\n",
      "**Lunch:** Enjoy a bento box picnic at the park.\n",
      "\n",
      "**Afternoon:** Explore the local neighborhood for souvenirs and last-minute shopping.\n",
      "\n",
      "**Transportation:** Take the train to Kansai International Airport for your departure.\n",
      "\n",
      "**Weather:** March in Osaka has temperatures ranging from 9°C to 18°C with sunny weather.\n",
      "\n",
      "**Language Tip:** Learn to say \"sayonara\" (goodbye) and \"arigatou gozaimashita\" (thank you for everything).\n",
      "\n",
      "**Cultural Etiquette:** When departing, bow as a sign of respect and gratitude for your hosts.\n",
      "\n",
      "This itinerary offers a mix of traditional experiences, hidden gems, and family-friendly activities while prioritizing eco-friendly transportation and budget-conscious options. Enjoy your week-long adventure in Japan!\n"
     ]
    }
   ],
   "source": [
    "# Example showing an overloaded task for creating a detailed travel itinerary\n",
    "overloaded_itinerary_request = [\n",
    "    {\"role\": \"system\", \"content\": \"You are a model that helps plan travel itineraries.\"},\n",
    "    {\"role\": \"user\", \"content\": (\n",
    "        \"Create a week-long travel itinerary for a trip to Japan, starting from March 1, 2024. \"\n",
    "        \"Include a day-by-day schedule covering Tokyo, Kyoto, and Osaka. \"\n",
    "        \"For each city, recommend unique, non-touristy restaurants and hidden gems, \"\n",
    "        \"specifying dishes that are both traditional and allergy-friendly. \"\n",
    "        \"Include cultural events happening during the week, particularly those that \"\n",
    "        \"allow for active participation. Suggest accommodations that are eco-friendly, \"\n",
    "        \"budget-conscious, and offer traditional experiences. Detail transportation options \"\n",
    "        \"between cities and within each city, prioritizing eco-friendly choices and cost-effectiveness. \"\n",
    "        \"Each day should have outdoor activities, historical sites, shopping in local markets, \"\n",
    "        \"and relaxation spots like onsens. Also, provide weather advice for each day, language tips, \"\n",
    "        \"and essential cultural etiquette to follow. Ensure the plan caters to a family with young children, \"\n",
    "        \"considering accessibility and family-friendly activities.\"\n",
    "    )}\n",
    "]\n",
    "\n",
    "# Call the function with the overloaded itinerary task\n",
    "overloaded_itinerary_response = chat_completion_request(messages=overloaded_itinerary_request)\n",
    "print(overloaded_itinerary_response)"
   ]
  },
  {
   "cell_type": "code",
   "execution_count": 10,
   "id": "87b0e4c1-a5f1-41d6-b2d1-abbd6cab9e86",
   "metadata": {},
   "outputs": [
    {
     "name": "stderr",
     "output_type": "stream",
     "text": [
      "INFO:HTTP Request: POST https://api.openai.com/v1/chat/completions \"HTTP/1.1 200 OK\"\n"
     ]
    },
    {
     "name": "stdout",
     "output_type": "stream",
     "text": [
      "**Title: The Impact of Climate Change on Global Agriculture**\n",
      "\n",
      "**Introduction:**\n",
      "Climate change is a pressing issue that is significantly impacting agriculture worldwide. The increasing frequency of extreme weather events, rising temperatures, changing precipitation patterns, and shifting growing seasons are posing significant challenges to farmers and threatening global food security. In this article, we will explore the effects of climate change on different types of crops, how farmers are adapting to these challenges, the role of technology in mitigating the impacts, and the importance of addressing these issues for the future of agriculture.\n",
      "\n",
      "**Effects on Different Types of Crops:**\n",
      "Climate change is affecting various types of crops in different ways. For example, rising temperatures and drought conditions are impacting staple crops like wheat, rice, and corn, leading to reduced yields and lower crop quality. Extreme weather events such as hurricanes, floods, and wildfires are causing crop damage and loss. Additionally, shifting climate patterns are affecting the geographical distribution of crops, forcing farmers to adapt to new growing conditions.\n",
      "\n",
      "**How Farmers are Adapting:**\n",
      "Farmers around the world are implementing various strategies to adapt to the challenges posed by climate change. These include changing planting dates, using drought-resistant crop varieties, improving irrigation systems, and practicing conservation agriculture to enhance soil health and water retention. Some farmers are also diversifying their crops and income sources to reduce risks associated with climate variability.\n",
      "\n",
      "**The Role of Technology in Addressing Challenges:**\n",
      "Technology plays a crucial role in helping farmers adapt to the impacts of climate change. Precision agriculture tools such as drones, sensors, and GPS technology enable farmers to monitor crop conditions, optimize resource use, and make informed decisions in real-time. Biotechnology and genetic engineering are being used to develop climate-resilient crop varieties that can withstand drought, pests, and diseases. Furthermore, digital platforms and data analytics are providing farmers with valuable insights and market information to improve productivity and profitability.\n",
      "\n",
      "**Conclusion:**\n",
      "Climate change is a significant threat to global agriculture, but with proactive measures and technological innovations, farmers can adapt to the changing conditions and ensure food security for future generations. It is essential for policymakers, researchers, and stakeholders to work together to develop sustainable agricultural practices, promote climate-smart technologies, and support farmers in building resilience to climate change. By addressing these challenges collectively, we can safeguard the future of agriculture and ensure a stable food supply for a growing global population.\n"
     ]
    }
   ],
   "source": [
    "# Bad Example: Asking for an Entire Article in One Prompt\n",
    "full_article_request = [\n",
    "    {\"role\": \"system\", \"content\": \"You are a model that helps write articles.\"},\n",
    "    {\"role\": \"user\", \"content\": (\n",
    "        \"Write a complete article about the impact of climate change on global agriculture. \"\n",
    "        \"Include an introduction, the effects on different types of crops, how farmers are adapting, \"\n",
    "        \"the role of technology in addressing these challenges, and a conclusion.\"\n",
    "    )}\n",
    "]\n",
    "\n",
    "# Call the function with the full article request\n",
    "full_article_response = chat_completion_request(messages=full_article_request)\n",
    "print(full_article_response)"
   ]
  },
  {
   "cell_type": "code",
   "execution_count": 11,
   "id": "664af572-9bcd-4c20-a776-401b11788fed",
   "metadata": {},
   "outputs": [
    {
     "name": "stderr",
     "output_type": "stream",
     "text": [
      "INFO:HTTP Request: POST https://api.openai.com/v1/chat/completions \"HTTP/1.1 200 OK\"\n"
     ]
    },
    {
     "name": "stdout",
     "output_type": "stream",
     "text": [
      "I. Introduction\n",
      "    A. Brief overview of climate change and its effects on agriculture\n",
      "    B. Importance of agriculture in the global economy and food security\n",
      "\n",
      "II. Climate Change and Agriculture\n",
      "    A. Rising temperatures\n",
      "        1. Effects on crop yields and quality\n",
      "        2. Changes in planting seasons and growing conditions\n",
      "    B. Extreme weather events\n",
      "        1. Increased frequency of droughts, floods, and storms\n",
      "        2. Damage to crops and livestock\n",
      "    C. Changes in precipitation patterns\n",
      "        1. Impact on water availability for irrigation\n",
      "        2. Risk of water scarcity and desertification\n",
      "\n",
      "III. Global Impact on Food Security\n",
      "    A. Disruption of food supply chains\n",
      "    B. Increase in food prices and scarcity\n",
      "    C. Vulnerability of small-scale farmers and developing countries\n",
      "    D. Potential for malnutrition and food insecurity\n",
      "\n",
      "IV. Adaptation and Mitigation Strategies\n",
      "    A. Sustainable agriculture practices\n",
      "        1. Conservation tillage and crop rotation\n",
      "        2. Agroforestry and soil conservation\n",
      "    B. Water management techniques\n",
      "        1. Efficient irrigation systems\n",
      "        2. Rainwater harvesting and storage\n",
      "    C. Genetic modification and crop breeding for resilience\n",
      "    D. Policy interventions and international cooperation\n",
      "\n",
      "V. Case Studies\n",
      "    A. Impact of climate change on agriculture in different regions\n",
      "    B. Success stories of adaptation and resilience\n",
      "    C. Lessons learned and best practices for sustainable agriculture\n",
      "\n",
      "VI. Conclusion\n",
      "    A. Recap of the main points discussed\n",
      "    B. Call to action for addressing climate change and supporting sustainable agriculture\n",
      "    C. Importance of global collaboration and policy initiatives\n"
     ]
    },
    {
     "name": "stderr",
     "output_type": "stream",
     "text": [
      "INFO:HTTP Request: POST https://api.openai.com/v1/chat/completions \"HTTP/1.1 200 OK\"\n"
     ]
    },
    {
     "name": "stdout",
     "output_type": "stream",
     "text": [
      "Introduction:\n",
      "In today's fast-paced world, the fashion industry continues to evolve, with new trends emerging constantly. As we navigate through the ever-changing landscape of style and design, it becomes essential to stay informed and up-to-date on the latest fashion trends. This article aims to explore the top fashion trends of the current season, providing insights and inspiration for fashion enthusiasts looking to elevate their wardrobe. From vibrant colors and bold patterns to sustainable fashion choices, we will delve into the key trends that are shaping the fashion scene this season. Join us on this fashion journey as we uncover the must-have styles and pieces that will keep you on-trend and fashion-forward.\n"
     ]
    },
    {
     "name": "stderr",
     "output_type": "stream",
     "text": [
      "INFO:HTTP Request: POST https://api.openai.com/v1/chat/completions \"HTTP/1.1 200 OK\"\n"
     ]
    },
    {
     "name": "stdout",
     "output_type": "stream",
     "text": [
      "I can definitely help with that! Please go ahead and provide the article you'd like me to refine.\n"
     ]
    }
   ],
   "source": [
    "# Good example: Breaking down the article writing process\n",
    "\n",
    "# Step 1: Asking for an outline\n",
    "outline_request = [\n",
    "    {\"role\": \"system\", \"content\": \"You are a model that helps write article outlines.\"},\n",
    "    {\"role\": \"user\", \"content\": \"Create an outline for an article about the impact of climate change on global agriculture.\"}\n",
    "]\n",
    "\n",
    "# Call the function for the outline\n",
    "outline_response = chat_completion_request(messages=outline_request)\n",
    "print(outline_response)\n",
    "\n",
    "# Assuming the outline is received, proceed with writing sections\n",
    "\n",
    "# Step 2: Writing individual sections (Example: Writing the introduction)\n",
    "introduction_request = [\n",
    "    {\"role\": \"system\", \"content\": \"You are a model that helps write article sections.\"},\n",
    "    {\"role\": \"user\", \"content\": \"Write the introduction for the article based on the provided outline.\"}\n",
    "]\n",
    "\n",
    "# Call the function for the introduction section\n",
    "introduction_response = chat_completion_request(messages=introduction_request)\n",
    "print(introduction_response)\n",
    "\n",
    "# Similarly, continue with other sections...\n",
    "\n",
    "# Step 3: Refining the entire article\n",
    "# This step is done after all sections are written\n",
    "article_refinement_request = [\n",
    "    {\"role\": \"system\", \"content\": \"You are a model that helps refine articles.\"},\n",
    "    {\"role\": \"user\", \"content\": \"Here is the complete article [insert the written article]. Can you suggest improvements?\"}\n",
    "]\n",
    "\n",
    "# Call the function for refining the article\n",
    "article_refinement_response = chat_completion_request(messages=article_refinement_request)\n",
    "print(article_refinement_response)\n"
   ]
  },
  {
   "cell_type": "markdown",
   "id": "f8d01abb-ba8a-47a5-b9f7-ec2e380f311b",
   "metadata": {},
   "source": [
    "# Lesson 4: Markdown Tricks\n",
    "\n",
    "- Markdown Basics: Markdown is a lightweight markup language that allows for easy text formatting using plain text syntax. It's widely used for creating formatted text on the web.\n",
    "\n",
    "- Simplicity and Readability: One of the key features of Markdown is its simplicity. The syntax is designed to be readable and straightforward, making it easy to write and read even in its raw form.\n",
    "\n",
    "## In short:\n",
    "- Use Markdown to create a clear and concise structure for your prompts.\n",
    "- Use Markdown to highlight important information in your prompts.\n"
   ]
  },
  {
   "cell_type": "code",
   "execution_count": 12,
   "id": "3c1932d9-b62c-49f3-839b-14a5987011d1",
   "metadata": {},
   "outputs": [],
   "source": [
    "# - Here are the markdown indicators for ChatGPT :\n",
    "#     1. # Heading 1\n",
    "#     2. ## Heading 2\n",
    "#     3. ### Heading 3\n",
    "#     4. *italic text*, **bold text**, __underlined text__\n",
    "#     5. [Hyperlink text](url)\n",
    "#     6. ![Image name](image url)"
   ]
  },
  {
   "cell_type": "code",
   "execution_count": 13,
   "id": "c87247ba-ad80-4faf-9b0d-320a22e14b72",
   "metadata": {},
   "outputs": [
    {
     "name": "stderr",
     "output_type": "stream",
     "text": [
      "INFO:HTTP Request: POST https://api.openai.com/v1/chat/completions \"HTTP/1.1 200 OK\"\n"
     ]
    },
    {
     "name": "stdout",
     "output_type": "stream",
     "text": [
      "### Task List:\n",
      "\n",
      "1. **Research Task**:\n",
      "   - Compile a list of the top 5 AI trends in 2024.\n",
      "   - **Due Date**: Next Monday\n",
      "\n",
      "2. **Writing Task**:\n",
      "   - Write a summary of each trend, emphasizing their impact on healthcare.\n",
      "   - **Ensure accuracy** in data.\n",
      "   - **Due Date**: Wednesday\n",
      "\n",
      "3. **Presentation Task**:\n",
      "   - Create a slide deck for the AI trends with appropriate visuals.\n",
      "   - Make it **engaging and informative**.\n",
      "   - **Due Date**: Friday\n",
      "\n",
      "4. **Feedback Session**:\n",
      "   - Organize a team meeting to discuss the slide deck.\n",
      "   - Invite all project members.\n",
      "   - **Due Date**: Next Friday\n",
      "\n",
      "### Priorities:\n",
      "- **Quality of Research**: Ensure thorough and accurate information is gathered for the trends.\n",
      "- **Clarity in Presentation**: Make sure the slide deck is clear, concise, and visually appealing.\n",
      "\n",
      "Please let me know if you need any further assistance or modifications to the task list.\n"
     ]
    }
   ],
   "source": [
    "# Example of multi-task instruction with emphasis and list organization using Markdown\n",
    "multi_task_instruction_request = [\n",
    "    {\"role\": \"system\", \"content\": \"You are a model that understands and organizes tasks using Markdown.\"},\n",
    "    {\"role\": \"user\", \"content\": (\n",
    "        \"Here's a list of tasks I need you to perform. Please pay **special attention** to the deadlines:\\n\\n\"\n",
    "        \"* **Research Task**: Compile a list of the top 5 AI trends in 2024. *Due: Next Monday*\\n\"\n",
    "        \"* **Writing Task**: Write a summary of each trend, emphasizing their impact on healthcare. **Ensure accuracy** in data. *Due: Wednesday*\\n\"\n",
    "        \"* **Presentation Task**: Create a slide deck for the AI trends with appropriate visuals. Remember to make it **engaging and informative**. *Due: Friday*\\n\"\n",
    "        \"* **Feedback Session**: Organize a team meeting to discuss the slide deck. Ensure to invite all project members. *Due: Next Friday*\\n\\n\"\n",
    "        \"__Note__: The quality of research and clarity in the presentation are crucial. Please prioritize these aspects.\"\n",
    "    )}\n",
    "]\n",
    "\n",
    "# Call the function to organize and emphasize the tasks\n",
    "multi_task_instruction_response = chat_completion_request(messages=multi_task_instruction_request)\n",
    "print(multi_task_instruction_response)\n"
   ]
  },
  {
   "cell_type": "code",
   "execution_count": 14,
   "id": "98b9e21f-0591-4902-a9c4-9324799ca960",
   "metadata": {},
   "outputs": [
    {
     "name": "stderr",
     "output_type": "stream",
     "text": [
      "INFO:HTTP Request: POST https://api.openai.com/v1/chat/completions \"HTTP/1.1 200 OK\"\n"
     ]
    },
    {
     "name": "stdout",
     "output_type": "stream",
     "text": [
      "```json\n",
      "{\n",
      "    \"selected_function\": \"get_order_status\"\n",
      "}\n",
      "```\n"
     ]
    }
   ],
   "source": [
    "# Example of selecting a function with Markdown organization and JSON response\n",
    "function_selection_request = [\n",
    "    {\"role\": \"system\", \"content\": \"You are a model that selects functions and formats responses in JSON.\"},\n",
    "    {\"role\": \"user\", \"content\": (\n",
    "        \"Below is a list of functions. Read the descriptions and select the most relevant function based on the user query. \"\n",
    "        \"Respond in JSON format. If the necessary information is not available, return an empty JSON response.\\n\\n\"\n",
    "        \n",
    "        \"### Available Functions:\\n\\n\"\n",
    "        \n",
    "        \"1. **get_order_status**: Retrieve order details including status and tracking information. \"\n",
    "        \"*Required Input*: Order ID, Email, or Phone Number.\\n\\n\"\n",
    "        \n",
    "        \"2. **manage_order_change_request**: Handle modifications to an existing order. \"\n",
    "        \"*Required Input*: Order ID, Email, or Phone Number.\\n\\n\"\n",
    "        \n",
    "        \"3. **get_public_info**: Access store-specific public information like policies and promotions. \"\n",
    "        \"*Required Input*: None\\n\\n\"\n",
    "        \n",
    "        \"### User Query: 'I want to know when my order will arrive.'\\n\\n\"\n",
    "        \"Based on the query, select the appropriate function and provide a JSON response.\"\n",
    "    )}\n",
    "]\n",
    "\n",
    "# Call the function to select and format the response\n",
    "function_selection_response = chat_completion_request(messages=function_selection_request)\n",
    "print(function_selection_response)\n"
   ]
  },
  {
   "cell_type": "markdown",
   "id": "1e21f26a-f761-43fc-83c8-5cbc7708baaa",
   "metadata": {},
   "source": [
    "# Lesson 5: Prompt Order Sensitivity\n",
    "\n",
    "- **Understand Prompt Order Sensitivity**: Recognize that the order in which examples are presented in a few-shot prompt can significantly impact an AI model's performance. Different orders can lead to varying levels of understanding and accuracy.\n",
    "\n",
    "- **Experiment with Different Orders**: To identify the most effective prompt order, experiment with rearranging your examples. This trial-and-error approach can reveal which sequence yields the best responses from the model.\n",
    "\n",
    "- **Start with Simple to Complex Examples**: When uncertain, a good rule of thumb is to arrange examples from the simplest to the most complex. This can help the model build its understanding progressively."
   ]
  },
  {
   "cell_type": "markdown",
   "id": "d3ad6e80-1498-4e48-9d83-35d316df6807",
   "metadata": {},
   "source": [
    "### LongContextReorder in LlamaIndex"
   ]
  },
  {
   "cell_type": "code",
   "execution_count": 15,
   "id": "b008a29a-bba1-41d6-a3a6-2922211da7ee",
   "metadata": {},
   "outputs": [
    {
     "name": "stderr",
     "output_type": "stream",
     "text": [
      "INFO:Note: NumExpr detected 10 cores but \"NUMEXPR_MAX_THREADS\" not set, so enforcing safe limit of 8.\n",
      "INFO:NumExpr defaulting to 8 threads.\n",
      "INFO:HTTP Request: POST https://api.openai.com/v1/embeddings \"HTTP/1.1 200 OK\"\n"
     ]
    },
    {
     "name": "stdout",
     "output_type": "stream",
     "text": [
      "Base Engine Response:\n"
     ]
    },
    {
     "name": "stderr",
     "output_type": "stream",
     "text": [
      "INFO:HTTP Request: POST https://api.openai.com/v1/embeddings \"HTTP/1.1 200 OK\"\n",
      "INFO:HTTP Request: POST https://api.openai.com/v1/completions \"HTTP/1.1 200 OK\"\n",
      "INFO:HTTP Request: POST https://api.openai.com/v1/completions \"HTTP/1.1 200 OK\"\n"
     ]
    },
    {
     "data": {
      "text/markdown": [
       "**`Final Response:`** Yes, the author met Sam Altman during the first batch of the Summer Founders Program, which included other notable individuals such as Justin Kan, Emmett Shear, Aaron Swartz, and Sam Altman, who would later become the second president of Y Combinator. This meeting was a result of the author's decision to start a summer program for undergraduates to start startups, which eventually led to the creation of Y Combinator."
      ],
      "text/plain": [
       "<IPython.core.display.Markdown object>"
      ]
     },
     "metadata": {},
     "output_type": "display_data"
    },
    {
     "name": "stdout",
     "output_type": "stream",
     "text": [
      "\n",
      "Reorder Engine Response:\n"
     ]
    },
    {
     "name": "stderr",
     "output_type": "stream",
     "text": [
      "INFO:HTTP Request: POST https://api.openai.com/v1/embeddings \"HTTP/1.1 200 OK\"\n",
      "INFO:HTTP Request: POST https://api.openai.com/v1/completions \"HTTP/1.1 200 OK\"\n",
      "INFO:HTTP Request: POST https://api.openai.com/v1/completions \"HTTP/1.1 200 OK\"\n"
     ]
    },
    {
     "data": {
      "text/markdown": [
       "**`Final Response:`** Yes, the author met Sam Altman during the first batch of startups funded by Y Combinator. Altman would later become the second president of YC. The author also mentions that Altman initially declined the offer to be president, but eventually agreed in October 2013. The author stepped down from running YC in March 2014 and focused on painting, but later returned to writing essays and working on Lisp."
      ],
      "text/plain": [
       "<IPython.core.display.Markdown object>"
      ]
     },
     "metadata": {},
     "output_type": "display_data"
    }
   ],
   "source": [
    "from learn_ai.scripts.rag_llama_index_reorder import LlamaIndexQueryEngine\n",
    "\n",
    "data_dir = \"../data/paul_graham\"\n",
    "query_engine = LlamaIndexQueryEngine(data_dir)\n",
    "\n",
    "query = \"Did the author meet Sam Altman?\"\n",
    "\n",
    "print(\"Base Engine Response:\")\n",
    "base_response = query_engine.query_base_engine(query)\n",
    "\n",
    "print(\"\\nReorder Engine Response:\")\n",
    "reorder_response = query_engine.query_reorder_engine(query)"
   ]
  },
  {
   "cell_type": "markdown",
   "id": "3a85a665-ceb4-42cf-82a3-a12eff17f2b3",
   "metadata": {},
   "source": [
    "### LongContextReorder in Langchain\n",
    "\n",
    "https://python.langchain.com/docs/modules/data_connection/retrievers/long_context_reorder"
   ]
  },
  {
   "cell_type": "code",
   "execution_count": 16,
   "id": "5fedfd6e-22d8-48dd-9e81-f32e0665ca67",
   "metadata": {},
   "outputs": [
    {
     "name": "stderr",
     "output_type": "stream",
     "text": [
      "100%|██████████| 1/1 [00:02<00:00,  2.54s/it]\n",
      "INFO:Anonymized telemetry enabled. See                     https://docs.trychroma.com/telemetry for more information.\n",
      "INFO:HTTP Request: POST https://api.openai.com/v1/embeddings \"HTTP/1.1 200 OK\"\n"
     ]
    },
    {
     "name": "stdout",
     "output_type": "stream",
     "text": [
      "Base Engine Response:\n"
     ]
    },
    {
     "name": "stderr",
     "output_type": "stream",
     "text": [
      "INFO:HTTP Request: POST https://api.openai.com/v1/embeddings \"HTTP/1.1 200 OK\"\n",
      "/Users/aarishalam/.pyenv/versions/3.11.0/envs/learn_ai_eng/lib/python3.11/site-packages/langchain_core/_api/deprecation.py:117: LangChainDeprecationWarning: The function `run` was deprecated in LangChain 0.1.0 and will be removed in 0.2.0. Use invoke instead.\n",
      "  warn_deprecated(\n",
      "INFO:HTTP Request: POST https://api.openai.com/v1/completions \"HTTP/1.1 200 OK\"\n"
     ]
    },
    {
     "name": "stdout",
     "output_type": "stream",
     "text": [
      "\n",
      "\n",
      "Yes, the author met Sam Altman.\n",
      "\n",
      "Reorder Engine Response:\n"
     ]
    },
    {
     "name": "stderr",
     "output_type": "stream",
     "text": [
      "INFO:HTTP Request: POST https://api.openai.com/v1/embeddings \"HTTP/1.1 200 OK\"\n",
      "INFO:HTTP Request: POST https://api.openai.com/v1/completions \"HTTP/1.1 200 OK\"\n"
     ]
    },
    {
     "name": "stdout",
     "output_type": "stream",
     "text": [
      "\n",
      "\n",
      "Yes, the author did meet Sam Altman.\n"
     ]
    }
   ],
   "source": [
    "from learn_ai.scripts.rag_langchain_reorder import LangChainQueryEngine\n",
    "\n",
    "data_dir = \"../data/paul_graham\"\n",
    "query_engine = LangChainQueryEngine(data_dir)\n",
    "\n",
    "query = \"Did the author meet Sam Altman?\"\n",
    "\n",
    "print(\"Base Engine Response:\")\n",
    "base_response = query_engine.run_query(query)\n",
    "print(base_response)\n",
    "\n",
    "print(\"\\nReorder Engine Response:\")\n",
    "reorder_response = query_engine.run_query(query, reordered=True)\n",
    "print(reorder_response)"
   ]
  }
 ],
 "metadata": {
  "kernelspec": {
   "display_name": "Python 3 (ipykernel)",
   "language": "python",
   "name": "python3"
  },
  "language_info": {
   "codemirror_mode": {
    "name": "ipython",
    "version": 3
   },
   "file_extension": ".py",
   "mimetype": "text/x-python",
   "name": "python",
   "nbconvert_exporter": "python",
   "pygments_lexer": "ipython3",
   "version": "3.11.0"
  }
 },
 "nbformat": 4,
 "nbformat_minor": 5
}
