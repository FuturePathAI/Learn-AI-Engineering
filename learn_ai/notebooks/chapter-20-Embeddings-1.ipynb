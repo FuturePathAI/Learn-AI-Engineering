{
 "cells": [
  {
   "cell_type": "code",
   "execution_count": 1,
   "id": "f997b979-8606-4e3d-9abb-9b0e049f8ef4",
   "metadata": {},
   "outputs": [],
   "source": [
    "# https://newsletter.theaiedge.io/p/the-aiedge-embeddings-the-superpower?utm_source=%2Fsearch%2Fembedding&utm_medium=reader2"
   ]
  },
  {
   "cell_type": "code",
   "execution_count": null,
   "id": "b4c74f5a-26b2-4a7c-9b0c-361b1f154d3f",
   "metadata": {},
   "outputs": [],
   "source": []
  }
 ],
 "metadata": {
  "kernelspec": {
   "display_name": "Python 3 (ipykernel)",
   "language": "python",
   "name": "python3"
  },
  "language_info": {
   "codemirror_mode": {
    "name": "ipython",
    "version": 3
   },
   "file_extension": ".py",
   "mimetype": "text/x-python",
   "name": "python",
   "nbconvert_exporter": "python",
   "pygments_lexer": "ipython3",
   "version": "3.10.10"
  }
 },
 "nbformat": 4,
 "nbformat_minor": 5
}
