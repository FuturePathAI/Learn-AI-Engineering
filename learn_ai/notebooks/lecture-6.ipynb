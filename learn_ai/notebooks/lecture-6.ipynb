{
 "cells": [
  {
   "cell_type": "code",
   "execution_count": 1,
   "metadata": {},
   "outputs": [],
   "source": [
    "import pandas as pd"
   ]
  },
  {
   "cell_type": "code",
   "execution_count": 2,
   "metadata": {},
   "outputs": [],
   "source": [
    "df = pd.read_csv(\"train.csv\")"
   ]
  },
  {
   "cell_type": "code",
   "execution_count": 3,
   "metadata": {},
   "outputs": [
    {
     "data": {
      "text/html": [
       "<div>\n",
       "<style scoped>\n",
       "    .dataframe tbody tr th:only-of-type {\n",
       "        vertical-align: middle;\n",
       "    }\n",
       "\n",
       "    .dataframe tbody tr th {\n",
       "        vertical-align: top;\n",
       "    }\n",
       "\n",
       "    .dataframe thead th {\n",
       "        text-align: right;\n",
       "    }\n",
       "</style>\n",
       "<table border=\"1\" class=\"dataframe\">\n",
       "  <thead>\n",
       "    <tr style=\"text-align: right;\">\n",
       "      <th></th>\n",
       "      <th>id</th>\n",
       "      <th>text</th>\n",
       "      <th>label_text</th>\n",
       "    </tr>\n",
       "  </thead>\n",
       "  <tbody>\n",
       "    <tr>\n",
       "      <th>0</th>\n",
       "      <td>1</td>\n",
       "      <td>what the time difference from here to ottawa</td>\n",
       "      <td>datetime_convert</td>\n",
       "    </tr>\n",
       "    <tr>\n",
       "      <th>1</th>\n",
       "      <td>2</td>\n",
       "      <td>start robot cleaner</td>\n",
       "      <td>iot</td>\n",
       "    </tr>\n",
       "    <tr>\n",
       "      <th>2</th>\n",
       "      <td>3</td>\n",
       "      <td>Okay, I found my card, can I put it back in th...</td>\n",
       "      <td>card_linking</td>\n",
       "    </tr>\n",
       "    <tr>\n",
       "      <th>3</th>\n",
       "      <td>4</td>\n",
       "      <td>My currency rate is inaccurate.</td>\n",
       "      <td>card_payment_wrong_exchange_rate</td>\n",
       "    </tr>\n",
       "    <tr>\n",
       "      <th>4</th>\n",
       "      <td>5</td>\n",
       "      <td>It seems that the rate I got is incorrect.</td>\n",
       "      <td>card_payment_wrong_exchange_rate</td>\n",
       "    </tr>\n",
       "  </tbody>\n",
       "</table>\n",
       "</div>"
      ],
      "text/plain": [
       "   id                                               text  \\\n",
       "0   1       what the time difference from here to ottawa   \n",
       "1   2                                start robot cleaner   \n",
       "2   3  Okay, I found my card, can I put it back in th...   \n",
       "3   4                    My currency rate is inaccurate.   \n",
       "4   5         It seems that the rate I got is incorrect.   \n",
       "\n",
       "                         label_text  \n",
       "0                  datetime_convert  \n",
       "1                               iot  \n",
       "2                      card_linking  \n",
       "3  card_payment_wrong_exchange_rate  \n",
       "4  card_payment_wrong_exchange_rate  "
      ]
     },
     "execution_count": 3,
     "metadata": {},
     "output_type": "execute_result"
    }
   ],
   "source": [
    "df.head()"
   ]
  },
  {
   "cell_type": "code",
   "execution_count": 16,
   "metadata": {},
   "outputs": [],
   "source": [
    "pd.DataFrame(df[\"label_text\"].value_counts()).to_csv(\"label_text_counts.csv\")\n",
    "# pd.set_option('display.max_colwidth', None)"
   ]
  },
  {
   "cell_type": "code",
   "execution_count": 4,
   "metadata": {},
   "outputs": [
    {
     "data": {
      "text/html": [
       "<div>\n",
       "<style scoped>\n",
       "    .dataframe tbody tr th:only-of-type {\n",
       "        vertical-align: middle;\n",
       "    }\n",
       "\n",
       "    .dataframe tbody tr th {\n",
       "        vertical-align: top;\n",
       "    }\n",
       "\n",
       "    .dataframe thead th {\n",
       "        text-align: right;\n",
       "    }\n",
       "</style>\n",
       "<table border=\"1\" class=\"dataframe\">\n",
       "  <thead>\n",
       "    <tr style=\"text-align: right;\">\n",
       "      <th></th>\n",
       "      <th>id</th>\n",
       "    </tr>\n",
       "  </thead>\n",
       "  <tbody>\n",
       "    <tr>\n",
       "      <th>count</th>\n",
       "      <td>3996.000000</td>\n",
       "    </tr>\n",
       "    <tr>\n",
       "      <th>mean</th>\n",
       "      <td>1998.500000</td>\n",
       "    </tr>\n",
       "    <tr>\n",
       "      <th>std</th>\n",
       "      <td>1153.690166</td>\n",
       "    </tr>\n",
       "    <tr>\n",
       "      <th>min</th>\n",
       "      <td>1.000000</td>\n",
       "    </tr>\n",
       "    <tr>\n",
       "      <th>25%</th>\n",
       "      <td>999.750000</td>\n",
       "    </tr>\n",
       "    <tr>\n",
       "      <th>50%</th>\n",
       "      <td>1998.500000</td>\n",
       "    </tr>\n",
       "    <tr>\n",
       "      <th>75%</th>\n",
       "      <td>2997.250000</td>\n",
       "    </tr>\n",
       "    <tr>\n",
       "      <th>max</th>\n",
       "      <td>3996.000000</td>\n",
       "    </tr>\n",
       "  </tbody>\n",
       "</table>\n",
       "</div>"
      ],
      "text/plain": [
       "                id\n",
       "count  3996.000000\n",
       "mean   1998.500000\n",
       "std    1153.690166\n",
       "min       1.000000\n",
       "25%     999.750000\n",
       "50%    1998.500000\n",
       "75%    2997.250000\n",
       "max    3996.000000"
      ]
     },
     "execution_count": 4,
     "metadata": {},
     "output_type": "execute_result"
    }
   ],
   "source": [
    "df.describe()"
   ]
  },
  {
   "cell_type": "code",
   "execution_count": 5,
   "metadata": {},
   "outputs": [],
   "source": [
    "df[\"length\"] = df[\"text\"].apply(len)"
   ]
  },
  {
   "cell_type": "code",
   "execution_count": 6,
   "metadata": {},
   "outputs": [
    {
     "data": {
      "text/html": [
       "<div>\n",
       "<style scoped>\n",
       "    .dataframe tbody tr th:only-of-type {\n",
       "        vertical-align: middle;\n",
       "    }\n",
       "\n",
       "    .dataframe tbody tr th {\n",
       "        vertical-align: top;\n",
       "    }\n",
       "\n",
       "    .dataframe thead th {\n",
       "        text-align: right;\n",
       "    }\n",
       "</style>\n",
       "<table border=\"1\" class=\"dataframe\">\n",
       "  <thead>\n",
       "    <tr style=\"text-align: right;\">\n",
       "      <th></th>\n",
       "      <th>id</th>\n",
       "      <th>length</th>\n",
       "    </tr>\n",
       "  </thead>\n",
       "  <tbody>\n",
       "    <tr>\n",
       "      <th>count</th>\n",
       "      <td>3996.000000</td>\n",
       "      <td>3996.000000</td>\n",
       "    </tr>\n",
       "    <tr>\n",
       "      <th>mean</th>\n",
       "      <td>1998.500000</td>\n",
       "      <td>103.993744</td>\n",
       "    </tr>\n",
       "    <tr>\n",
       "      <th>std</th>\n",
       "      <td>1153.690166</td>\n",
       "      <td>178.153409</td>\n",
       "    </tr>\n",
       "    <tr>\n",
       "      <th>min</th>\n",
       "      <td>1.000000</td>\n",
       "      <td>3.000000</td>\n",
       "    </tr>\n",
       "    <tr>\n",
       "      <th>25%</th>\n",
       "      <td>999.750000</td>\n",
       "      <td>27.000000</td>\n",
       "    </tr>\n",
       "    <tr>\n",
       "      <th>50%</th>\n",
       "      <td>1998.500000</td>\n",
       "      <td>40.000000</td>\n",
       "    </tr>\n",
       "    <tr>\n",
       "      <th>75%</th>\n",
       "      <td>2997.250000</td>\n",
       "      <td>70.000000</td>\n",
       "    </tr>\n",
       "    <tr>\n",
       "      <th>max</th>\n",
       "      <td>3996.000000</td>\n",
       "      <td>1000.000000</td>\n",
       "    </tr>\n",
       "  </tbody>\n",
       "</table>\n",
       "</div>"
      ],
      "text/plain": [
       "                id       length\n",
       "count  3996.000000  3996.000000\n",
       "mean   1998.500000   103.993744\n",
       "std    1153.690166   178.153409\n",
       "min       1.000000     3.000000\n",
       "25%     999.750000    27.000000\n",
       "50%    1998.500000    40.000000\n",
       "75%    2997.250000    70.000000\n",
       "max    3996.000000  1000.000000"
      ]
     },
     "execution_count": 6,
     "metadata": {},
     "output_type": "execute_result"
    }
   ],
   "source": [
    "df.describe()"
   ]
  },
  {
   "cell_type": "code",
   "execution_count": 10,
   "metadata": {},
   "outputs": [
    {
     "data": {
      "text/plain": [
       "label_text\n",
       "not toxic                           747\n",
       "toxic                                67\n",
       "card_payment_wrong_exchange_rate     38\n",
       "pending_cash_withdrawal              23\n",
       "extra_charge_on_statement            20\n",
       "card_linking                         14\n",
       "card_not_working                      9\n",
       "card_arrival                          9\n",
       "pin_blocked                           9\n",
       "pending_top_up                        8\n",
       "contactless_not_working               6\n",
       "lost_or_stolen_card                   6\n",
       "automatic_top_up                      6\n",
       "fiat_currency_support                 6\n",
       "play                                  4\n",
       "play_music                            4\n",
       "exchange_via_app                      3\n",
       "news_query                            3\n",
       "news                                  3\n",
       "datetime                              2\n",
       "music                                 2\n",
       "datetime_convert                      2\n",
       "card_delivery_estimate                2\n",
       "music_query                           2\n",
       "weather                               1\n",
       "weather_query                         1\n",
       "age_limit                             1\n",
       "Name: count, dtype: int64"
      ]
     },
     "execution_count": 10,
     "metadata": {},
     "output_type": "execute_result"
    }
   ],
   "source": [
    "df[df[\"length\"] > 70][\"label_text\"].value_counts()"
   ]
  },
  {
   "cell_type": "code",
   "execution_count": 26,
   "metadata": {},
   "outputs": [
    {
     "data": {
      "text/plain": [
       "True"
      ]
     },
     "execution_count": 26,
     "metadata": {},
     "output_type": "execute_result"
    }
   ],
   "source": [
    "import openai as OpenAI\n",
    "from dotenv import load_dotenv\n",
    "from typing import List\n",
    "\n",
    "load_dotenv()"
   ]
  },
  {
   "cell_type": "code",
   "execution_count": 19,
   "metadata": {},
   "outputs": [],
   "source": [
    "client = OpenAI.Client()"
   ]
  },
  {
   "cell_type": "code",
   "execution_count": 20,
   "metadata": {},
   "outputs": [
    {
     "data": {
      "text/plain": [
       "<openai.OpenAI at 0x3186dd240>"
      ]
     },
     "execution_count": 20,
     "metadata": {},
     "output_type": "execute_result"
    }
   ],
   "source": [
    "client"
   ]
  },
  {
   "cell_type": "code",
   "execution_count": 32,
   "metadata": {},
   "outputs": [],
   "source": [
    "label_text = df.label_text.unique().tolist()"
   ]
  },
  {
   "cell_type": "code",
   "execution_count": 56,
   "metadata": {},
   "outputs": [
    {
     "data": {
      "text/plain": [
       "['datetime_convert',\n",
       " 'iot',\n",
       " 'card_linking',\n",
       " 'card_payment_wrong_exchange_rate',\n",
       " 'news',\n",
       " 'play',\n",
       " 'weather',\n",
       " 'play_music',\n",
       " 'exchange_via_app',\n",
       " 'not toxic',\n",
       " 'iot_wemo_on',\n",
       " 'weather_query',\n",
       " 'fiat_currency_support',\n",
       " 'card_arrival',\n",
       " 'iot_hue_lightup',\n",
       " 'takeaway_order',\n",
       " 'datetime',\n",
       " 'toxic',\n",
       " 'news_query',\n",
       " 'exchange_rate',\n",
       " 'card_delivery_estimate',\n",
       " 'takeaway_query',\n",
       " 'top_up_by_bank_transfer_charge',\n",
       " 'music',\n",
       " 'audio',\n",
       " 'age_limit',\n",
       " 'takeaway',\n",
       " 'pending_top_up',\n",
       " 'music_likeness',\n",
       " 'pending_cash_withdrawal',\n",
       " 'automatic_top_up',\n",
       " 'audio_volume_up',\n",
       " 'card_not_working',\n",
       " 'iot_cleaning',\n",
       " 'iot_hue_lightchange',\n",
       " 'alarm_query',\n",
       " 'audio_volume_down',\n",
       " 'extra_charge_on_statement',\n",
       " 'music_settings',\n",
       " 'pin_blocked',\n",
       " 'datetime_query',\n",
       " 'general',\n",
       " 'alarm',\n",
       " 'music_query',\n",
       " 'audio_volume_mute',\n",
       " 'lost_or_stolen_card',\n",
       " 'iot_coffee',\n",
       " 'iot_hue_lightdim',\n",
       " 'audio_volume_other',\n",
       " 'iot_hue_lightoff',\n",
       " 'iot_hue_lighton',\n",
       " 'alarm_set',\n",
       " 'general_joke',\n",
       " 'iot_wemo_off',\n",
       " 'contactless_not_working',\n",
       " 'play_radio',\n",
       " 'calendar_query',\n",
       " 'general_greet',\n",
       " 'alarm_remove',\n",
       " 'general_quirky',\n",
       " 'music_dislikeness',\n",
       " 'qa_stock',\n",
       " 'qa',\n",
       " 'calendar']"
      ]
     },
     "execution_count": 56,
     "metadata": {},
     "output_type": "execute_result"
    }
   ],
   "source": [
    "label_text"
   ]
  },
  {
   "cell_type": "code",
   "execution_count": 57,
   "metadata": {},
   "outputs": [
    {
     "data": {
      "text/plain": [
       "'datetime_convert, iot, card_linking, card_payment_wrong_exchange_rate, news, play, weather, play_music, exchange_via_app, not toxic, iot_wemo_on, weather_query, fiat_currency_support, card_arrival, iot_hue_lightup, takeaway_order, datetime, toxic, news_query, exchange_rate, card_delivery_estimate, takeaway_query, top_up_by_bank_transfer_charge, music, audio, age_limit, takeaway, pending_top_up, music_likeness, pending_cash_withdrawal, automatic_top_up, audio_volume_up, card_not_working, iot_cleaning, iot_hue_lightchange, alarm_query, audio_volume_down, extra_charge_on_statement, music_settings, pin_blocked, datetime_query, general, alarm, music_query, audio_volume_mute, lost_or_stolen_card, iot_coffee, iot_hue_lightdim, audio_volume_other, iot_hue_lightoff, iot_hue_lighton, alarm_set, general_joke, iot_wemo_off, contactless_not_working, play_radio, calendar_query, general_greet, alarm_remove, general_quirky, music_dislikeness, qa_stock, qa, calendar'"
      ]
     },
     "execution_count": 57,
     "metadata": {},
     "output_type": "execute_result"
    }
   ],
   "source": [
    "labels"
   ]
  },
  {
   "cell_type": "code",
   "execution_count": 52,
   "metadata": {},
   "outputs": [
    {
     "name": "stdout",
     "output_type": "stream",
     "text": [
      "what the time difference from here to ottawa\n",
      "Predicted label:  datetime_query\n",
      "Actual label:  datetime_convert\n"
     ]
    }
   ],
   "source": [
    "def llm_ask(messages: List[str], model: str = \"gpt-3.5-turbo\", max_tokens: int = 100, **kwargs):\n",
    "    response = client.chat.completions.create(\n",
    "        messages=messages,\n",
    "        model=\"gpt-3.5-turbo\",\n",
    "        max_tokens=100,\n",
    "        **kwargs   \n",
    "    )\n",
    "    return response.choices[0].message.content\n",
    "\n",
    "\n",
    "labels = \", \".join(label_text)\n",
    "\n",
    "text = df['text'][0]\n",
    "print(text)\n",
    "\n",
    "actual_label = df['label_text'][0]\n",
    "prompt_instruction = f\"\"\"I can classify the following text as one of the following labels: {labels}? Return only the label. \n",
    "Here is the text to classify: {text} What is the label for this text: \"\"\"\n",
    "\n",
    "# print(prompt_instruction)\n",
    "\n",
    "predicted_label = llm_ask(\n",
    "    messages=[\n",
    "        {\n",
    "            \"role\": \"system\",\n",
    "            \"content\": \"You are a helpful assistant that helps classify text based on the options given.\",\n",
    "        },\n",
    "        {\"role\": \"user\", \"content\": prompt_instruction},\n",
    "    ],\n",
    "    model=\"gpt-3.5-turbo\",\n",
    "    temperature=0.0,\n",
    "    seed=37,\n",
    "    max_tokens=10,\n",
    ")\n",
    "\n",
    "print(\"Predicted label: \", predicted_label)\n",
    "print(\"Actual label: \", actual_label)"
   ]
  },
  {
   "cell_type": "code",
   "execution_count": 54,
   "metadata": {},
   "outputs": [
    {
     "data": {
      "text/plain": [
       "id                                                       1\n",
       "text          what the time difference from here to ottawa\n",
       "label_text                                datetime_convert\n",
       "length                                                  44\n",
       "Name: 0, dtype: object"
      ]
     },
     "execution_count": 54,
     "metadata": {},
     "output_type": "execute_result"
    }
   ],
   "source": [
    "df.iloc[0]"
   ]
  },
  {
   "cell_type": "markdown",
   "metadata": {},
   "source": [
    "## How to improve the accuracy for our model? \n",
    "\n",
    "### Ideas from the Lecture Discussion\n",
    "\n",
    "1. Add examples\n",
    "- One example per class\n",
    "\n",
    "2. Prompting Improvements\n",
    "- Change label order\n",
    "\n",
    "3. Re-ask\n",
    "- Make another LLM call and ask it to correct itself\n",
    "\n",
    "4. Label Batching\n",
    "- Reduce the number of classes to classify into\n",
    "- Classify into a smaller set of models vs \"I don't know\" each time and iterate through the labels in small batches\n",
    "\n",
    "5. Model Finetuning\n",
    "- Finetune the model on the training data"
   ]
  },
  {
   "cell_type": "markdown",
   "metadata": {},
   "source": []
  }
 ],
 "metadata": {
  "kernelspec": {
   "display_name": "learnai",
   "language": "python",
   "name": "python3"
  },
  "language_info": {
   "codemirror_mode": {
    "name": "ipython",
    "version": 3
   },
   "file_extension": ".py",
   "mimetype": "text/x-python",
   "name": "python",
   "nbconvert_exporter": "python",
   "pygments_lexer": "ipython3",
   "version": "3.10.13"
  }
 },
 "nbformat": 4,
 "nbformat_minor": 2
}
