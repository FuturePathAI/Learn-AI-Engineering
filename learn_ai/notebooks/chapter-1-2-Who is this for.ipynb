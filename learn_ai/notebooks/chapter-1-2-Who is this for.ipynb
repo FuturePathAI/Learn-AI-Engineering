{
 "cells": [
  {
   "cell_type": "markdown",
   "metadata": {},
   "source": [
    "# Who is this course useful for? \n",
    "\n",
    "Folks wanting to move left in this diagram:\n",
    "\n",
    "![](../assets/ai_engineer.jpeg)\n",
    "\n",
    "Figure from [Latent Space](https://www.latent.space/p/ai-engineer)"
   ]
  },
  {
   "cell_type": "markdown",
   "metadata": {},
   "source": [
    "## But why do we need a new term for this?\n",
    "\n",
    "The term \"AI Engineer\" may or may not go mainstream: What we definitely need are software engineers who can work with LLMs (large language models) and other related components of AI systems.\n",
    "\n",
    "While the software engineer focussed a lot more on code design, infrastructure and similar concerns -- the AI engineer focusses a lot more on data.\n",
    "\n",
    "![](../assets/data_first.png)\n",
    "\n",
    "From [Google's Search Engineering](https://t.co/DqRlUMKI9C)"
   ]
  },
  {
   "cell_type": "markdown",
   "metadata": {},
   "source": [
    "## What we assume you know\n",
    "This course is structured around the assumption that you are a proficient engineer first, which means you are able to reason about deterministic systems despite their complexity. We assume you're proficient in at least one of Python or JS and can deploy a simple GET with \"Hello World\" over REST in less than 10 minutes of effort. \n",
    "\n",
    "## What we focus on\n",
    "1. Experiential Teaching: Examples and use cases which we have seen ourselves but that is nowhere exhausted compared to what you might see on the job depending on your specialization. \n",
    "2. Text-first: We focus a lot more on text than vision, sound, audio or video at least at the moment. This is partially because most enterprise applications of Generative AI today are text first. "
   ]
  },
  {
   "cell_type": "markdown",
   "metadata": {},
   "source": [
    "## How mainstream is this?\n",
    "\n",
    "<blockquote class=\"twitter-tweet\"><p lang=\"en\" dir=\"ltr\">CMU now advertising their AI Engineering degrees in The Atlantic (?!) print media<br><br>how mainstream is this thing becoming. Feels bubbly. uh oh <a href=\"https://t.co/Y4XOvZumZq\">pic.twitter.com/Y4XOvZumZq</a></p>&mdash; swyx (@swyx) <a href=\"https://twitter.com/swyx/status/1745129994828067057?ref_src=twsrc%5Etfw\">January 10, 2024</a></blockquote> <script async src=\"https://platform.twitter.com/widgets.js\" charset=\"utf-8\"></script>\n"
   ]
  },
  {
   "cell_type": "markdown",
   "metadata": {},
   "source": [
    "## What skills are people looking for?\n",
    "\n",
    "<blockquote class=\"twitter-tweet\"><p lang=\"en\" dir=\"ltr\">Trying to write a JD to hire software engineers that build with LLMs.<br><br>Beyond making REST calls, what&#39;s essential? Some I can think of:<br><br>• Evals: Collect labels &amp; measure task performance<br>• Look at lots of data: Debugging prompts, error analysis<br>• Comfort with probabilistic…</p>&mdash; Eugene Yan (@eugeneyan) <a href=\"https://twitter.com/eugeneyan/status/1753445305545298314?ref_src=twsrc%5Etfw\">February 2, 2024</a></blockquote> <script async src=\"https://platform.twitter.com/widgets.js\" charset=\"utf-8\"></script>\n",
    "\n",
    "Eugene Yan is a Principal Engineer at Amazon."
   ]
  }
 ],
 "metadata": {
  "kernelspec": {
   "display_name": "fst",
   "language": "python",
   "name": "python3"
  },
  "language_info": {
   "codemirror_mode": {
    "name": "ipython",
    "version": 3
   },
   "file_extension": ".py",
   "mimetype": "text/x-python",
   "name": "python",
   "nbconvert_exporter": "python",
   "pygments_lexer": "ipython3",
   "version": "3.10.13"
  }
 },
 "nbformat": 4,
 "nbformat_minor": 2
}
