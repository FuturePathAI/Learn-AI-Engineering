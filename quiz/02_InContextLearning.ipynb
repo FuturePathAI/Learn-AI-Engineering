{
 "cells": [
  {
   "cell_type": "markdown",
   "metadata": {},
   "source": [
    "This notebook has the skeleton code for in-context learning using the OpenAI API. "
   ]
  },
  {
   "cell_type": "code",
   "execution_count": 2,
   "metadata": {},
   "outputs": [],
   "source": [
    "from openai import OpenAI\n",
    "from dotenv import load_dotenv\n",
    "\n",
    "MODEL = \"gpt-3.5-turbo-0125\"\n",
    "load_dotenv()\n",
    "client = OpenAI()"
   ]
  },
  {
   "cell_type": "markdown",
   "metadata": {},
   "source": [
    "Your mission, should you accept it -- is to answer the questions below based on the provided contexts. This is a small example of how in-context learning can be used to answer questions based on the context provided."
   ]
  },
  {
   "cell_type": "code",
   "execution_count": 9,
   "metadata": {},
   "outputs": [],
   "source": [
    "def ask(messages, model: str = MODEL, **kwargs) -> str:\n",
    "    \"\"\"Return the response to a query.\"\"\"\n",
    "    response = client.chat.completions.create(\n",
    "        model=model,\n",
    "        messages=messages,\n",
    "        **kwargs\n",
    "    )\n",
    "    return response.choices[0].message.content"
   ]
  },
  {
   "cell_type": "code",
   "execution_count": 8,
   "metadata": {},
   "outputs": [],
   "source": [
    "information = [\n",
    "    {\n",
    "        \"question\": \"What do the pink elephants like to drink?\",\n",
    "        \"context\": \"The pink elephants likes to drink silver and eat platinum.\",\n",
    "    },\n",
    "    {\n",
    "        \"question\": \"What awards did Oppenheimer win in 2024?\",\n",
    "        \"context\": \"Oppenheimer was nominated for the Physics Nobel Prize, but a movie of the same name won the Best Picture at the Oscars recently.\",\n",
    "    },\n",
    "    {\n",
    "        \"question\": \"Who eats platinum?\",\n",
    "        \"context\": \"The pink elephants likes to drink silver and eat platinum.\",\n",
    "    },\n",
    "]"
   ]
  },
  {
   "cell_type": "markdown",
   "metadata": {},
   "source": [
    "For each question, you have to provide the answer based on the context provided."
   ]
  }
 ],
 "metadata": {
  "kernelspec": {
   "display_name": "learnai",
   "language": "python",
   "name": "python3"
  },
  "language_info": {
   "codemirror_mode": {
    "name": "ipython",
    "version": 3
   },
   "file_extension": ".py",
   "mimetype": "text/x-python",
   "name": "python",
   "nbconvert_exporter": "python",
   "pygments_lexer": "ipython3",
   "version": "3.10.13"
  }
 },
 "nbformat": 4,
 "nbformat_minor": 2
}
