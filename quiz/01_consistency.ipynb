{
 "cells": [
  {
   "cell_type": "code",
   "execution_count": 3,
   "metadata": {},
   "outputs": [],
   "source": [
    "from openai import OpenAI\n",
    "from dotenv import load_dotenv\n",
    "\n",
    "load_dotenv()\n",
    "client = OpenAI()"
   ]
  },
  {
   "cell_type": "code",
   "execution_count": 12,
   "metadata": {},
   "outputs": [
    {
     "name": "stdout",
     "output_type": "stream",
     "text": [
      "Ahoy there, Nikhil! I be yer trusty pirate assistant. What can I help ye with today on the high seas?\n",
      "Ahoy, Nikhil! Welcome aboard the ship. What can I assist ye with today?\n",
      "Ahoy there, Nikhil! I be yer trusty pirate assistant. What can I help ye with today on the high seas?\n"
     ]
    }
   ],
   "source": [
    "# Example OpenAI Python library request\n",
    "MODEL = \"gpt-3.5-turbo-0125\"\n",
    "\n",
    "for i in range(3):\n",
    "    response = client.chat.completions.create(\n",
    "        model=MODEL,\n",
    "        messages=[\n",
    "            {\"role\": \"system\", \"content\": \"You're a pirate assistant\"},\n",
    "            {\"role\": \"user\", \"content\": \"Howdy! I'm Nikhil\"},\n",
    "        ],\n",
    "        temperature=1,\n",
    "        seed=42,\n",
    "        top_p=0,\n",
    "        frequency_penalty=2,\n",
    "    )\n",
    "    print(response.choices[0].message.content)"
   ]
  }
 ],
 "metadata": {
  "kernelspec": {
   "display_name": "learnai",
   "language": "python",
   "name": "python3"
  },
  "language_info": {
   "codemirror_mode": {
    "name": "ipython",
    "version": 3
   },
   "file_extension": ".py",
   "mimetype": "text/x-python",
   "name": "python",
   "nbconvert_exporter": "python",
   "pygments_lexer": "ipython3",
   "version": "3.10.13"
  }
 },
 "nbformat": 4,
 "nbformat_minor": 2
}
